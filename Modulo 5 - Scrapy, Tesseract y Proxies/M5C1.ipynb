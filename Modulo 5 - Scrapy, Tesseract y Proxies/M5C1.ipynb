{
 "cells": [],
 "metadata": {
  "kernelspec": {
   "display_name": "Python 3.10.4 ('entv': venv)",
   "language": "python",
   "name": "python3"
  },
  "language_info": {
   "codemirror_mode": {
    "name": "ipython",
    "version": 3
   },
   "file_extension": ".py",
   "mimetype": "text/x-python",
   "name": "python",
   "nbconvert_exporter": "python",
   "pygments_lexer": "ipython3",
   "version": "3.10.4"
  },
  "orig_nbformat": 4,
  "vscode": {
   "interpreter": {
    "hash": "3c9f14f62ae38687a43d3c4d4204d3209bda7dbcb4b892870ffb1d2057cbf93a"
   }
  }
 },
 "nbformat": 4,
 "nbformat_minor": 2
}
