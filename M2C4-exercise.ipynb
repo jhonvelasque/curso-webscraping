{
 "cells": [
  {
   "cell_type": "code",
   "execution_count": 1,
   "metadata": {},
   "outputs": [],
   "source": [
    "import requests\n",
    "from bs4 import BeautifulSoup"
   ]
  },
  {
   "cell_type": "code",
   "execution_count": 2,
   "metadata": {},
   "outputs": [],
   "source": [
    "link_seccion='https://www.pagina12.com.ar/secciones/el-pais'\n",
    "url = requests.get(link_seccion)\n",
    "url.status_code\n",
    "soup=BeautifulSoup(url.text, 'lxml')"
   ]
  },
  {
   "cell_type": "code",
   "execution_count": 3,
   "metadata": {},
   "outputs": [
    {
     "data": {
      "text/plain": [
       "['https://www.pagina12.com.ar/secciones/el-pais/495114-alberto-fernandez-la-adversidad-no-esta-entre-nosotros-es-la',\n",
       " 'https://www.pagina12.com.ar/secciones/el-pais/495107-con-un-acto-en-palermo-jose-luis-espert-lanzo-su-candidatura',\n",
       " 'https://www.pagina12.com.ar/secciones/el-pais/495103-las-frases-de-cfk-sobre-el-atentado-y-el-rol-de-la-justicia',\n",
       " 'https://www.pagina12.com.ar/secciones/el-pais/495096-el-gobierno-modifico-la-movilidad-jubilatoria-de-docentes-y-',\n",
       " 'https://www.pagina12.com.ar/secciones/el-pais/495092-mauricio-macri-convoco-a-una-cumbre-de-emergencia-para-frena',\n",
       " 'https://www.pagina12.com.ar/secciones/el-pais/495056-pueblos-originarios-se-presento-el-frente-indigena-de-argent',\n",
       " 'https://www.pagina12.com.ar/secciones/el-pais/495050-paro-y-movilizacion-de-los-trabajadores-portuarios',\n",
       " 'https://www.pagina12.com.ar/secciones/el-pais/495015-ejercicios-militares-en-un-sitio-de-memoria-de-cordoba',\n",
       " 'https://www.pagina12.com.ar/secciones/el-pais/494939-cecilia-moreau-recibio-al-vicepresidente-de-la-camara-de-rep',\n",
       " 'https://www.pagina12.com.ar/secciones/el-pais/494923-los-jueces-y-la-magnitud-del-mal']"
      ]
     },
     "execution_count": 3,
     "metadata": {},
     "output_type": "execute_result"
    }
   ],
   "source": [
    "lista_noticias=[]\n",
    "resto_noticias=soup.find('section', attrs={'class':'list-content'})\n",
    "for i in resto_noticias.find_all('div', attrs={'class':'article-item__header'}):\n",
    "    if i.a:\n",
    "        lista_noticias.append(link_seccion+i.a.get('href'))\n",
    "lista_noticias"
   ]
  },
  {
   "cell_type": "code",
   "execution_count": 4,
   "metadata": {},
   "outputs": [],
   "source": [
    "def obtener_noticias(soup):\n",
    "    lista_noticias=[]\n",
    "    #obtener noticias promocionados\n",
    "    noticias_promocionadas=soup.find('div', attrs={'class':'article-item__content'})\n",
    "    if noticias_promocionadas:\n",
    "        lista_noticias.append(link_seccion+noticias_promocionadas.a.get('href'))\n",
    "\n",
    "    #obtener resto de noticias\n",
    "    resto_noticias=soup.find('section', attrs={'class':'list-content'})\n",
    "    for i in resto_noticias.find_all('div', attrs={'class':'article-item__header'}):\n",
    "        if i.a:\n",
    "            lista_noticias.append(link_seccion+i.a.get('href'))\n",
    "    lista_noticias\n",
    "\n",
    "\n",
    "    return lista_noticias"
   ]
  },
  {
   "cell_type": "code",
   "execution_count": 5,
   "metadata": {},
   "outputs": [
    {
     "data": {
      "text/plain": [
       "['https://www.pagina12.com.ar/secciones/el-pais/495116-duplicar-la-apuesta',\n",
       " 'https://www.pagina12.com.ar/secciones/el-pais/495114-alberto-fernandez-la-adversidad-no-esta-entre-nosotros-es-la',\n",
       " 'https://www.pagina12.com.ar/secciones/el-pais/495107-con-un-acto-en-palermo-jose-luis-espert-lanzo-su-candidatura',\n",
       " 'https://www.pagina12.com.ar/secciones/el-pais/495103-las-frases-de-cfk-sobre-el-atentado-y-el-rol-de-la-justicia',\n",
       " 'https://www.pagina12.com.ar/secciones/el-pais/495096-el-gobierno-modifico-la-movilidad-jubilatoria-de-docentes-y-',\n",
       " 'https://www.pagina12.com.ar/secciones/el-pais/495092-mauricio-macri-convoco-a-una-cumbre-de-emergencia-para-frena',\n",
       " 'https://www.pagina12.com.ar/secciones/el-pais/495056-pueblos-originarios-se-presento-el-frente-indigena-de-argent',\n",
       " 'https://www.pagina12.com.ar/secciones/el-pais/495050-paro-y-movilizacion-de-los-trabajadores-portuarios',\n",
       " 'https://www.pagina12.com.ar/secciones/el-pais/495015-ejercicios-militares-en-un-sitio-de-memoria-de-cordoba',\n",
       " 'https://www.pagina12.com.ar/secciones/el-pais/494939-cecilia-moreau-recibio-al-vicepresidente-de-la-camara-de-rep',\n",
       " 'https://www.pagina12.com.ar/secciones/el-pais/494923-los-jueces-y-la-magnitud-del-mal']"
      ]
     },
     "execution_count": 5,
     "metadata": {},
     "output_type": "execute_result"
    }
   ],
   "source": [
    "lista_noticias = obtener_noticias(soup)\n",
    "lista_noticias"
   ]
  }
 ],
 "metadata": {
  "kernelspec": {
   "display_name": "Python 3.10.4 ('entv': venv)",
   "language": "python",
   "name": "python3"
  },
  "language_info": {
   "codemirror_mode": {
    "name": "ipython",
    "version": 3
   },
   "file_extension": ".py",
   "mimetype": "text/x-python",
   "name": "python",
   "nbconvert_exporter": "python",
   "pygments_lexer": "ipython3",
   "version": "3.10.4"
  },
  "orig_nbformat": 4,
  "vscode": {
   "interpreter": {
    "hash": "8491acde47aa26015fdf488fd68628541edd72931848a0305ddc7dd62f03120a"
   }
  }
 },
 "nbformat": 4,
 "nbformat_minor": 2
}
