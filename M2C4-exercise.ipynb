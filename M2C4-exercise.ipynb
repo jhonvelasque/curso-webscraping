{
 "cells": [
  {
   "cell_type": "code",
   "execution_count": 2,
   "metadata": {},
   "outputs": [],
   "source": [
    "import requests\n",
    "from bs4 import BeautifulSoup"
   ]
  },
  {
   "cell_type": "code",
   "execution_count": 17,
   "metadata": {},
   "outputs": [],
   "source": [
    "link_seccion='https://www.pagina12.com.ar/secciones/el-pais'\n",
    "url = requests.get(link_seccion)\n",
    "url.status_code\n",
    "soup=BeautifulSoup(url.text, 'lxml')"
   ]
  },
  {
   "cell_type": "code",
   "execution_count": 32,
   "metadata": {},
   "outputs": [],
   "source": [
    "def obtener_noticias(soup):\n",
    "    lista_noticias=[]\n",
    "    #obtener noticias promocionados\n",
    "    noticias_promocionadas=soup.find('div', attrs={'class':'article-item__content'})\n",
    "    if noticias_promocionadas:\n",
    "        lista_noticias.append(link_seccion+noticias_promocionadas.a.get('href'))\n",
    "\n",
    "    #obtener resto de noticias\n",
    "    resto_noticias=soup.find_all('div', attrs={'class':'article-list'})\n",
    "    for i in resto_noticias.find_all('article',attrs={'class':'article-item'}):\n",
    "        if i.a:\n",
    "            lista_noticias.append(link_seccion+i.a.get('href'))\n",
    "\n",
    "\n",
    "    return lista_noticias"
   ]
  },
  {
   "cell_type": "code",
   "execution_count": 33,
   "metadata": {},
   "outputs": [
    {
     "data": {
      "text/plain": [
       "['https://www.pagina12.com.ar/secciones/el-pais/494806-atentado-a-cfk-acusaciones-cruzadas-entre-los-militantes-de-']"
      ]
     },
     "execution_count": 33,
     "metadata": {},
     "output_type": "execute_result"
    }
   ],
   "source": [
    "lista_noticias = obtener_noticias(soup)\n",
    "lista_noticias"
   ]
  }
 ],
 "metadata": {
  "kernelspec": {
   "display_name": "Python 3.10.4 ('entv': venv)",
   "language": "python",
   "name": "python3"
  },
  "language_info": {
   "codemirror_mode": {
    "name": "ipython",
    "version": 3
   },
   "file_extension": ".py",
   "mimetype": "text/x-python",
   "name": "python",
   "nbconvert_exporter": "python",
   "pygments_lexer": "ipython3",
   "version": "3.10.4"
  },
  "orig_nbformat": 4,
  "vscode": {
   "interpreter": {
    "hash": "8491acde47aa26015fdf488fd68628541edd72931848a0305ddc7dd62f03120a"
   }
  }
 },
 "nbformat": 4,
 "nbformat_minor": 2
}
