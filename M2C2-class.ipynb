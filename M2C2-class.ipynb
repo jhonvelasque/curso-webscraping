{
 "cells": [
  {
   "cell_type": "markdown",
   "metadata": {},
   "source": [
    "### Parseando HTML con BeautifulSoup"
   ]
  },
  {
   "cell_type": "markdown",
   "metadata": {},
   "source": [
    " Primer ejercicio: obtener un listado de links a las distintas secciones del diario.\n",
    " DOM: estructura jerárquica, html\n",
    " Usar el inspector de elementos para ver dónde se encuentra la información. Ojo cuando la página es responsive"
   ]
  },
  {
   "cell_type": "code",
   "execution_count": 14,
   "metadata": {},
   "outputs": [],
   "source": [
    "#importamos librerias\n",
    "import requests\n",
    "from bs4 import BeautifulSoup"
   ]
  },
  {
   "cell_type": "code",
   "execution_count": 38,
   "metadata": {},
   "outputs": [],
   "source": [
    "# obtenemos la pagina web con el metodo requests.get\n",
    "link='https://www.pagina12.com.ar/'\n",
    "pagina= requests.get(link)"
   ]
  },
  {
   "cell_type": "code",
   "execution_count": 36,
   "metadata": {},
   "outputs": [],
   "source": [
    "# parseamos la pagina web\n",
    "soup = BeautifulSoup(pagina.text, 'lxml')"
   ]
  },
  {
   "cell_type": "code",
   "execution_count": 37,
   "metadata": {},
   "outputs": [
    {
     "name": "stdout",
     "output_type": "stream",
     "text": [
      "[<a class=\"p12-dropdown-item\" href=\"https://www.pagina12.com.ar/secciones/el-pais\">El país</a>, <a class=\"p12-dropdown-item\" href=\"https://www.pagina12.com.ar/secciones/economia\">Economía</a>, <a class=\"p12-dropdown-item\" href=\"https://www.pagina12.com.ar/secciones/sociedad\">Sociedad</a>, <a class=\"p12-dropdown-item\" href=\"https://www.pagina12.com.ar/suplementos/cultura-y-espectaculos\">Espectáculos</a>, <a class=\"p12-dropdown-item\" href=\"https://www.pagina12.com.ar/secciones/deportes\">Deportes</a>, <a class=\"p12-dropdown-item\" href=\"https://www.pagina12.com.ar/secciones/ciencia\">Ciencia</a>, <a class=\"p12-dropdown-item\" href=\"https://www.pagina12.com.ar/secciones/el-mundo\">El mundo</a>, <a class=\"p12-dropdown-item\" href=\"https://www.pagina12.com.ar/edicion-impresa\">Edición impresa</a>, <a class=\"p12-dropdown-item\" href=\"https://www.pagina12.com.ar/secciones/universidad-diario\">Universidad</a>, <a class=\"p12-dropdown-item\" href=\"https://www.pagina12.com.ar/secciones/ajedrez\">Ajedrez</a>, <a class=\"p12-dropdown-item\" href=\"https://www.pagina12.com.ar/secciones/cultura\">Cultura</a>, <a class=\"p12-dropdown-item\" href=\"https://www.pagina12.com.ar/secciones/dialogos\">Diálogos</a>, <a class=\"p12-dropdown-item\" href=\"https://www.pagina12.com.ar/secciones/plastica\">Plástica</a>, <a class=\"p12-dropdown-item\" href=\"https://www.pagina12.com.ar/secciones/psicologia\">Psicología</a>, <a class=\"p12-dropdown-item\" href=\"https://www.pagina12.com.ar/secciones/cartas-de-lectores\">Cartas de lectores</a>, <a class=\"p12-dropdown-item\" href=\"https://www.pagina12.com.ar/secciones/contratapa\">Contratapa</a>, <a class=\"p12-dropdown-item\" href=\"https://www.pagina12.com.ar/secciones/audiovisuales\">Audiovisuales</a>, <a class=\"p12-dropdown-item\" href=\"https://www.pagina12.com.ar/secciones/recordatorios\">Recordatorios</a>, <a class=\"p12-dropdown-item\" href=\"https://www.pagina12.com.ar/secciones/consumo\">Consumo</a>, <a class=\"p12-dropdown-item\" href=\"https://www.pagina12.com.ar/secciones/buenos-aires12\">Buenos Aires12</a>, <a class=\"p12-dropdown-item\" href=\"https://www.pagina12.com.ar/secciones/salta12\">Salta12</a>, <a class=\"p12-dropdown-item\" href=\"https://www.pagina12.com.ar/secciones/catamarca12\">Catamarca12</a>, <a class=\"p12-dropdown-item\" href=\"https://www.pagina12.com.ar/secciones/la-rioja12\">La Rioja12</a>, <a class=\"p12-dropdown-item\" href=\"https://www.pagina12.com.ar/secciones/podcasts\">Podcasts</a>, <a class=\"p12-dropdown-item\" href=\"https://www.pagina12.com.ar/secciones/soci@s\">Soci@s</a>, <a class=\"p12-dropdown-item\" href=\"https://www.pagina12.com.ar/secciones/la-ventana\">La ventana</a>]\n"
     ]
    }
   ],
   "source": [
    "# buscamos el primer elemento (find) div que corresponda a la clase -> p12-dropdown-column\n",
    "# una vez que encontramos, buscamos dentro del div todos los elementos (find_all) -> a\n",
    "secciones = soup.find('div',attrs={'class':'p12-dropdown-column'}).find_all('a')\n",
    "print(secciones)"
   ]
  }
 ],
 "metadata": {
  "kernelspec": {
   "display_name": "Python 3.10.4 ('entv': venv)",
   "language": "python",
   "name": "python3"
  },
  "language_info": {
   "codemirror_mode": {
    "name": "ipython",
    "version": 3
   },
   "file_extension": ".py",
   "mimetype": "text/x-python",
   "name": "python",
   "nbconvert_exporter": "python",
   "pygments_lexer": "ipython3",
   "version": "3.10.4"
  },
  "orig_nbformat": 4,
  "vscode": {
   "interpreter": {
    "hash": "8491acde47aa26015fdf488fd68628541edd72931848a0305ddc7dd62f03120a"
   }
  }
 },
 "nbformat": 4,
 "nbformat_minor": 2
}
