{
 "cells": [
  {
   "cell_type": "markdown",
   "metadata": {},
   "source": [
    "## RETO\n",
    "Obtener el resto de información de una nota:\n",
    "- Titulo\n",
    "- fecha\n",
    "- copete\n",
    "- volanta\n",
    "- cuerpo \n",
    "- autor\n"
   ]
  },
  {
   "cell_type": "code",
   "execution_count": 16,
   "metadata": {},
   "outputs": [],
   "source": [
    "import requests\n",
    "from bs4 import BeautifulSoup"
   ]
  },
  {
   "cell_type": "code",
   "execution_count": 17,
   "metadata": {},
   "outputs": [],
   "source": [
    "link_seccion='https://www.pagina12.com.ar/secciones/el-pais'\n",
    "url = requests.get(link_seccion)\n",
    "url.status_code\n",
    "soup=BeautifulSoup(url.text, 'lxml')"
   ]
  },
  {
   "cell_type": "code",
   "execution_count": 18,
   "metadata": {},
   "outputs": [],
   "source": [
    "def obtener_noticias(soup):\n",
    "    lista_noticias=[]\n",
    "    #obtener noticias promocionados\n",
    "    noticias_promocionadas=soup.find('div', attrs={'class':'article-item__content'})\n",
    "    if noticias_promocionadas:\n",
    "        lista_noticias.append('https://pagina12.com.ar'+noticias_promocionadas.a.get('href'))\n",
    "\n",
    "    #obtener resto de noticias\n",
    "    resto_noticias=soup.find('section', attrs={'class':'list-content'})\n",
    "    for i in resto_noticias.find_all('div', attrs={'class':'article-item__header'}):\n",
    "        if i.a:\n",
    "            lista_noticias.append('https://pagina12.com.ar'+i.a.get('href'))\n",
    "    lista_noticias\n",
    "\n",
    "\n",
    "    return lista_noticias"
   ]
  },
  {
   "cell_type": "code",
   "execution_count": 19,
   "metadata": {},
   "outputs": [
    {
     "data": {
      "text/plain": [
       "['https://pagina12.com.ar//495387-acabar-con-la-interna',\n",
       " 'https://pagina12.com.ar//495359-garantizar-que-la-derecha-no-vuelva-a-la-argentina-es-un-deb',\n",
       " 'https://pagina12.com.ar//495355-cordoba-en-un-confuso-episodio-hirieron-de-un-balazo-al-inte',\n",
       " 'https://pagina12.com.ar//495290-dejen-de-jugar-a-los-tristes-y-ofendidos',\n",
       " 'https://pagina12.com.ar//495221-mauricio-macri-quedo-en-el-centro-de-las-investigaciones-por',\n",
       " 'https://pagina12.com.ar//495236-lula-la-historia-comun-durante-20-anos',\n",
       " 'https://pagina12.com.ar//495267-ley-de-humedales-diputados-del-frente-de-todos-buscan-reflot',\n",
       " 'https://pagina12.com.ar//495269-atentado-a-cfk-el-poder-judicial-mira-para-otro-lado',\n",
       " 'https://pagina12.com.ar//495270-argentina-sera-sede-de-la-tercera-edicion-del-foro-mundial-d',\n",
       " 'https://pagina12.com.ar//495213-maximo-kirchner-en-el-congreso-del-pj',\n",
       " 'https://pagina12.com.ar//495179-larreta-critico-a-bullrich-sin-mencionarla']"
      ]
     },
     "execution_count": 19,
     "metadata": {},
     "output_type": "execute_result"
    }
   ],
   "source": [
    "lista_noticias = obtener_noticias(soup)\n",
    "lista_noticias"
   ]
  },
  {
   "cell_type": "code",
   "execution_count": 22,
   "metadata": {},
   "outputs": [
    {
     "name": "stdout",
     "output_type": "stream",
     "text": [
      "Acabar con la interna\n"
     ]
    }
   ],
   "source": [
    "link_nota= lista_noticias[0]\n",
    "try:\n",
    "    nota=requests.get(link_nota)\n",
    "    #verificamos la respuesta del servidor sea 200\n",
    "    if nota.status_code==200:\n",
    "        #parseamos nuestra pagina web para analizar\n",
    "        soup_nota=BeautifulSoup(nota.text, 'lxml')\n",
    "        #extraemos el titulo de la nota\n",
    "        titulo = soup_nota.find('h1')\n",
    "        print(titulo.text)\n",
    "        #extraemos la fecha de la nota\n",
    "\n",
    "except Exception as e:\n",
    "    print ('Error')\n",
    "    print (e)\n",
    "    print ('\\n')"
   ]
  }
 ],
 "metadata": {
  "kernelspec": {
   "display_name": "Python 3.10.4 ('entv': venv)",
   "language": "python",
   "name": "python3"
  },
  "language_info": {
   "codemirror_mode": {
    "name": "ipython",
    "version": 3
   },
   "file_extension": ".py",
   "mimetype": "text/x-python",
   "name": "python",
   "nbconvert_exporter": "python",
   "pygments_lexer": "ipython3",
   "version": "3.10.4"
  },
  "orig_nbformat": 4,
  "vscode": {
   "interpreter": {
    "hash": "8491acde47aa26015fdf488fd68628541edd72931848a0305ddc7dd62f03120a"
   }
  }
 },
 "nbformat": 4,
 "nbformat_minor": 2
}
