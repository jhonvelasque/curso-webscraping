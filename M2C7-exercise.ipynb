{
 "cells": [
  {
   "cell_type": "markdown",
   "metadata": {},
   "source": [
    "Unificando el scraper"
   ]
  },
  {
   "cell_type": "code",
   "execution_count": 9,
   "metadata": {},
   "outputs": [],
   "source": [
    "import requests\n",
    "from bs4 import BeautifulSoup\n",
    "from IPython.display import Image"
   ]
  },
  {
   "cell_type": "code",
   "execution_count": 10,
   "metadata": {},
   "outputs": [],
   "source": [
    "link_principal='https://www.pagina12.com.ar'\n",
    "r_web_principal=requests.get(link_principal)"
   ]
  },
  {
   "cell_type": "code",
   "execution_count": 11,
   "metadata": {},
   "outputs": [],
   "source": [
    "s_web_principal = BeautifulSoup(r_web_principal.text, 'lxml')"
   ]
  },
  {
   "cell_type": "code",
   "execution_count": 12,
   "metadata": {},
   "outputs": [
    {
     "data": {
      "text/plain": [
       "['https://www.pagina12.com.ar/secciones/el-pais',\n",
       " 'https://www.pagina12.com.ar/secciones/economia',\n",
       " 'https://www.pagina12.com.ar/secciones/sociedad',\n",
       " 'https://www.pagina12.com.ar/suplementos/cultura-y-espectaculos',\n",
       " 'https://www.pagina12.com.ar/secciones/deportes',\n",
       " 'https://www.pagina12.com.ar/secciones/ciencia',\n",
       " 'https://www.pagina12.com.ar/secciones/el-mundo',\n",
       " 'https://www.pagina12.com.ar/edicion-impresa',\n",
       " 'https://www.pagina12.com.ar/secciones/universidad-diario',\n",
       " 'https://www.pagina12.com.ar/secciones/ajedrez',\n",
       " 'https://www.pagina12.com.ar/secciones/cultura',\n",
       " 'https://www.pagina12.com.ar/secciones/dialogos',\n",
       " 'https://www.pagina12.com.ar/secciones/plastica',\n",
       " 'https://www.pagina12.com.ar/secciones/psicologia',\n",
       " 'https://www.pagina12.com.ar/secciones/cartas-de-lectores',\n",
       " 'https://www.pagina12.com.ar/secciones/contratapa',\n",
       " 'https://www.pagina12.com.ar/secciones/audiovisuales',\n",
       " 'https://www.pagina12.com.ar/secciones/recordatorios',\n",
       " 'https://www.pagina12.com.ar/secciones/consumo',\n",
       " 'https://www.pagina12.com.ar/secciones/buenos-aires12',\n",
       " 'https://www.pagina12.com.ar/secciones/salta12',\n",
       " 'https://www.pagina12.com.ar/secciones/catamarca12',\n",
       " 'https://www.pagina12.com.ar/secciones/la-rioja12',\n",
       " 'https://www.pagina12.com.ar/secciones/podcasts',\n",
       " 'https://www.pagina12.com.ar/secciones/soci@s',\n",
       " 'https://www.pagina12.com.ar/secciones/la-ventana']"
      ]
     },
     "execution_count": 12,
     "metadata": {},
     "output_type": "execute_result"
    }
   ],
   "source": [
    "secciones_web_principal = s_web_principal.find_all('div', attrs={'class':'p12-dropdown-column'})[0]\n",
    "link_secciones_web_principal = secciones_web_principal.find_all('a')\n",
    "#recorremos la lista de tag a\n",
    "URL_secciones=[]\n",
    "for i in link_secciones_web_principal:\n",
    "    if len(link_secciones_web_principal):\n",
    "        URL_secciones.append(i.get('href'))\n",
    "URL_secciones\n"
   ]
  },
  {
   "cell_type": "code",
   "execution_count": 13,
   "metadata": {},
   "outputs": [],
   "source": [
    "r_URL_secciones= requests.get(URL_secciones[0])\n",
    "s_seccion= BeautifulSoup(r_URL_secciones.text, 'lxml')\n",
    "lista_notas=[]\n",
    "def obtener_noticias(soup):\n",
    "    #obtener noticias promocionadas\n",
    "    noticias_promocionadas=soup.find('div', attrs={'class':'article-item__content'})\n",
    "    if noticias_promocionadas:\n",
    "        lista_notas.append(f'{link_principal}{noticias_promocionadas.a.get(\"href\")}')\n",
    "\n",
    "    #resto de noticias\n",
    "    resto_noticias=soup.find('section', attrs={'class':'list-content'})\n",
    "    for i in resto_noticias.find_all('div', attrs={'class':'article-item__header'}):\n",
    "        if i.a:\n",
    "            lista_notas.append(f'{link_principal}{i.a.get(\"href\")}')\n",
    "\n",
    "    return lista_notas\n"
   ]
  },
  {
   "cell_type": "code",
   "execution_count": 14,
   "metadata": {},
   "outputs": [
    {
     "data": {
      "text/plain": [
       "['https://www.pagina12.com.ar/495670-el-abrazo-entre-peron-y-balbin',\n",
       " 'https://www.pagina12.com.ar/495662-comenzo-el-juicio-por-la-apropiacion-de-victoria-donda',\n",
       " 'https://www.pagina12.com.ar/495640-cristina-kirchner-recibio-a-evo-morales',\n",
       " 'https://www.pagina12.com.ar/495637-ataque-al-intendente-de-san-francisco-el-movil-fue-un-tema-d',\n",
       " 'https://www.pagina12.com.ar/495636-primera-cumbre-de-gobernadoras-y-gobernadores-de-latinoameri',\n",
       " 'https://www.pagina12.com.ar/495590-cristina-kirchner-recomendo-en-sus-redes-sociales-una-nota-p',\n",
       " 'https://www.pagina12.com.ar/495588-otro-testigo-declaro-que-sabag-montiel-habria-atentado-contr',\n",
       " 'https://www.pagina12.com.ar/495551-crece-la-mesa-del-campo-que-alimenta',\n",
       " 'https://www.pagina12.com.ar/495546-reves-para-jaime-stiuso-no-podra-acceder-a-la-causa-por-el-a',\n",
       " 'https://www.pagina12.com.ar/495545-reconstruir-la-abogacia-publica',\n",
       " 'https://www.pagina12.com.ar/495533-atentado-a-cristina-kirchner-agustina-diaz-rompio-el-silenci']"
      ]
     },
     "execution_count": 14,
     "metadata": {},
     "output_type": "execute_result"
    }
   ],
   "source": [
    "obtener_noticias(s_seccion)"
   ]
  },
  {
   "cell_type": "code",
   "execution_count": 30,
   "metadata": {},
   "outputs": [],
   "source": [
    "# obtemos informacion de cada nota\n",
    "URL_nota=lista_notas[0]\n",
    "r_URL_nota= requests.get(URL_nota)\n",
    "s_nota=BeautifulSoup(r_URL_nota.text, 'lxml')\n",
    "\n",
    "def obtener_info(s_nota):\n",
    "    #creamos un diccionario vacio para guardar informacion de la notas\n",
    "    info_dic={}\n",
    "\n",
    "    #extraemos el titulo de la nota\n",
    "    titulo = s_nota.find('h1').text\n",
    "    if titulo:\n",
    "        info_dic['titulo']=titulo\n",
    "    else:\n",
    "        info_dic['titulo']=None\n",
    "\n",
    "    #extraemos la fecha de la nota\n",
    "    fecha = s_nota.find('time').get_text()\n",
    "    if fecha:\n",
    "        info_dic['fecha']=fecha\n",
    "    else:\n",
    "        info_dic['fecha']=None\n",
    "\n",
    "    #extraemos el copete\n",
    "    copete= s_nota.find('h4').get_text()\n",
    "    if copete:\n",
    "        info_dic['copete']=copete\n",
    "    else:\n",
    "        info_dic['copete']=None\n",
    "\n",
    "    #extraemos la volanta\n",
    "    volanta= s_nota.find('h3').get_text()\n",
    "    if volanta:\n",
    "        info_dic['volanta']=volanta\n",
    "    else:\n",
    "        info_dic['volanta']=None\n",
    "\n",
    "    #extraemos el cuerpo de la nota\n",
    "    cuerpo= s_nota.find('div', attrs={'class':'article-main-content article-text'}).find_all('p')\n",
    "    cu=[]\n",
    "    for i in cuerpo:\n",
    "        cu.append(i.get_text())\n",
    "    if cu:\n",
    "        info_dic['cuerpo']=cu\n",
    "    else:\n",
    "        info_dic['cuerpo']=None\n",
    "    \n",
    "    #extraemos el autor de la nota\n",
    "    autor= s_nota.find('div', attrs={'class':'author-name'})\n",
    "    if autor:\n",
    "        info_dic['autor']=autor.get_text()\n",
    "    else:\n",
    "        info_dic['autor']=None\n",
    "    \n",
    "    #extraemos la imagen\n",
    "    #parseamos el tag div que contiene la imagen de la nota\n",
    "    media = s_nota.find('div', attrs={'class':'article-main-media-image__container'})\n",
    "    if len(media):\n",
    "        imagen_src=media.img.get('src')\n",
    "        try:\n",
    "            r_img=requests.get(imagen_src)\n",
    "            if r_img.status_code== 200:\n",
    "                info_dic['imagen']=r_img.content\n",
    "            else:\n",
    "                info_dic['imagen']=None\n",
    "        except:\n",
    "            print('No se pudo obtener la imagen')\n",
    "    else:\n",
    "        print ('No se encontraron imagenes')\n",
    "\n",
    "    return  info_dic\n",
    "#obtiene todos los valores de un diccionario\n",
    "#print (dic.values())\n",
    "#obtener un valor de un diccionario, utilizamos la libreria de imagen de python para mostrar la img\n",
    "#Image(dic.get('imagen'))"
   ]
  }
 ],
 "metadata": {
  "kernelspec": {
   "display_name": "Python 3.10.4 ('entv': venv)",
   "language": "python",
   "name": "python3"
  },
  "language_info": {
   "codemirror_mode": {
    "name": "ipython",
    "version": 3
   },
   "file_extension": ".py",
   "mimetype": "text/x-python",
   "name": "python",
   "nbconvert_exporter": "python",
   "pygments_lexer": "ipython3",
   "version": "3.10.4"
  },
  "orig_nbformat": 4,
  "vscode": {
   "interpreter": {
    "hash": "8491acde47aa26015fdf488fd68628541edd72931848a0305ddc7dd62f03120a"
   }
  }
 },
 "nbformat": 4,
 "nbformat_minor": 2
}
