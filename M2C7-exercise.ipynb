{
 "cells": [
  {
   "cell_type": "markdown",
   "metadata": {},
   "source": [
    "Unificando el scraper"
   ]
  },
  {
   "cell_type": "code",
   "execution_count": 1,
   "metadata": {},
   "outputs": [],
   "source": [
    "import requests\n",
    "from bs4 import BeautifulSoup\n",
    "from IPython.display import Image\n",
    "import pandas as pd"
   ]
  },
  {
   "cell_type": "code",
   "execution_count": 2,
   "metadata": {},
   "outputs": [],
   "source": [
    "link_principal='https://www.pagina12.com.ar'\n",
    "### editando cabera para evitar el error 429 \n",
    "headers = {\"User-Agent\": \"Mozilla/5.0 (Windows NT 10.0; Win64; x64) AppleWebKit/537.36 (KHTML, like Gecko) Chrome/70.0.3538.110 Safari/537.36\"}\n",
    "###\n",
    "r_web_principal=requests.get(link_principal, headers=headers)\n",
    "s_web_principal = BeautifulSoup(r_web_principal.text, 'lxml')"
   ]
  },
  {
   "cell_type": "code",
   "execution_count": 3,
   "metadata": {},
   "outputs": [],
   "source": [
    "#seleccionamos el primer elemento de la lista de secciones\n",
    "secciones_web_principal = s_web_principal.find_all('div', attrs={'class':'p12-dropdown-column'})[0]\n",
    "link_secciones_web_principal = secciones_web_principal.find_all('a')\n",
    "#recorremos la lista de tag a\n",
    "URL_secciones=[]\n",
    "for i in link_secciones_web_principal:\n",
    "    if len(link_secciones_web_principal):\n",
    "        URL_secciones.append(i.get('href'))"
   ]
  },
  {
   "cell_type": "code",
   "execution_count": 4,
   "metadata": {},
   "outputs": [],
   "source": [
    "r_URL_secciones= requests.get(URL_secciones[0])\n",
    "s_seccion= BeautifulSoup(r_URL_secciones.text, 'lxml')\n",
    "def obtener_noticias(soup):\n",
    "    lista_notas=[]\n",
    "    #obtener noticias promocionadas\n",
    "    noticias_promocionadas=soup.find('div', attrs={'class':'article-item__content'})\n",
    "    if noticias_promocionadas:\n",
    "        lista_notas.append(f'{link_principal}{noticias_promocionadas.a.get(\"href\")}')\n",
    "\n",
    "    #resto de noticias\n",
    "    resto_noticias=soup.find('section', attrs={'class':'list-content'})\n",
    "    for i in resto_noticias.find_all('div', attrs={'class':'article-item__header'}):\n",
    "        if i.a:\n",
    "            lista_notas.append(f'{link_principal}{i.a.get(\"href\")}')\n",
    "\n",
    "    return lista_notas"
   ]
  },
  {
   "cell_type": "code",
   "execution_count": 5,
   "metadata": {},
   "outputs": [],
   "source": [
    "lista_notas=(obtener_noticias(s_seccion))"
   ]
  },
  {
   "cell_type": "code",
   "execution_count": 6,
   "metadata": {},
   "outputs": [],
   "source": [
    "# obtemos informacion de cada nota\n",
    "# seleccionamos la primera nota de nuestra lista de notas\n",
    "URL_nota=lista_notas[0]\n",
    "r_URL_nota= requests.get(URL_nota)\n",
    "s_nota=BeautifulSoup(r_URL_nota.text, 'lxml')\n",
    "\n",
    "def obtener_info(s_nota):\n",
    "    #creamos un diccionario vacio para guardar informacion de la notas\n",
    "    info_dic={}\n",
    "\n",
    "    #extraemos el titulo de la nota\n",
    "    titulo = s_nota.find('h1').text\n",
    "    if titulo:\n",
    "        info_dic['titulo']=titulo\n",
    "    else:\n",
    "        info_dic['titulo']=None\n",
    "\n",
    "    #extraemos la fecha de la nota\n",
    "    fecha = s_nota.find('time').get_text()\n",
    "    if fecha:\n",
    "        info_dic['fecha']=fecha\n",
    "    else:\n",
    "        info_dic['fecha']=None\n",
    "\n",
    "    #extraemos el copete\n",
    "    copete= s_nota.find('h4').get_text()\n",
    "    if copete:\n",
    "        info_dic['copete']=copete\n",
    "    else:\n",
    "        info_dic['copete']=None\n",
    "\n",
    "    #extraemos la volanta\n",
    "    volanta= s_nota.find('h3').get_text()\n",
    "    if volanta:\n",
    "        info_dic['volanta']=volanta\n",
    "    else:\n",
    "        info_dic['volanta']=None\n",
    "\n",
    "    #extraemos el cuerpo de la nota\n",
    "    cuerpo= s_nota.find('div', attrs={'class':'article-main-content article-text'}).find_all('p')\n",
    "    cu=[]\n",
    "    for i in cuerpo:\n",
    "        cu.append(i.get_text())\n",
    "    \n",
    "    #utilizamos el metodo join, para convertir una lista str a una cadena de texto\n",
    "    if cu:\n",
    "        info_dic['cuerpo']=\"\".join(map(str, cu))\n",
    "    else:\n",
    "        info_dic['cuerpo']=None\n",
    "    \n",
    "    #extraemos el autor de la nota\n",
    "    autor= s_nota.find('div', attrs={'class':'author-name'})\n",
    "    if autor:\n",
    "        info_dic['autor']=autor.get_text()\n",
    "    else:\n",
    "        info_dic['autor']=None\n",
    "    \n",
    "    #extraemos la imagen\n",
    "    #parseamos el tag div que contiene la imagen de la nota\n",
    "    media = s_nota.find('div', attrs={'class':'article-main-media-image__container'})\n",
    "    if len(media):\n",
    "        imagen_src=media.img.get('src')\n",
    "        try:\n",
    "            r_img=requests.get(imagen_src)\n",
    "            if r_img.status_code== 200:\n",
    "                info_dic['imagen']=r_img.content\n",
    "            else:\n",
    "                info_dic['imagen']=None\n",
    "        except:\n",
    "            print('No se pudo obtener la imagen')\n",
    "    else:\n",
    "        print ('No se encontraron imagenes')\n",
    "\n",
    "    return  info_dic\n",
    "#obtiene todos los valores de un diccionario\n",
    "#print (dic.values())\n",
    "#obtener un valor de un diccionario, utilizamos la libreria de imagen de python para mostrar la img\n",
    "#Image(dic.get('imagen'))"
   ]
  },
  {
   "cell_type": "code",
   "execution_count": 7,
   "metadata": {},
   "outputs": [],
   "source": [
    "# creamos nuestra funcion para recorrer cada noticia de las secciones\n",
    "# de esta manera poder obtener la informacion de cada noticia\n",
    "# y devolvemos un diccionario de todos los datos de la noticia\n",
    "def scrape_nota(url):\n",
    "    try:\n",
    "        headers = {\"User-Agent\": \"Mozilla/5.0 (Windows NT 10.0; Win64; x64) AppleWebKit/537.36 (KHTML, like Gecko) Chrome/70.0.3538.110 Safari/537.36\"} \n",
    "        r_nota=requests.get(url, headers=headers)\n",
    "    except Exception as e:\n",
    "        print ('Error scrapeando URL ->', url)\n",
    "        print (e)\n",
    "        return None\n",
    "    \n",
    "    if r_nota.status_code!= 200:\n",
    "        print(f'Error obteniendo nota {url}')\n",
    "        print(f'Status Code = {r_nota.status_code}')\n",
    "        return None\n",
    "    \n",
    "    s_nota=BeautifulSoup(r_nota.text, 'lxml')\n",
    "\n",
    "    dic_scrape=obtener_info(s_nota)\n",
    "    dic_scrape['url']=url\n",
    "\n",
    "    return dic_scrape"
   ]
  },
  {
   "cell_type": "code",
   "execution_count": 8,
   "metadata": {},
   "outputs": [
    {
     "data": {
      "text/plain": [
       "['https://www.pagina12.com.ar/secciones/el-pais',\n",
       " 'https://www.pagina12.com.ar/secciones/economia',\n",
       " 'https://www.pagina12.com.ar/secciones/sociedad',\n",
       " 'https://www.pagina12.com.ar/suplementos/cultura-y-espectaculos',\n",
       " 'https://www.pagina12.com.ar/secciones/deportes',\n",
       " 'https://www.pagina12.com.ar/secciones/ciencia',\n",
       " 'https://www.pagina12.com.ar/secciones/el-mundo',\n",
       " 'https://www.pagina12.com.ar/edicion-impresa',\n",
       " 'https://www.pagina12.com.ar/secciones/universidad-diario',\n",
       " 'https://www.pagina12.com.ar/secciones/ajedrez',\n",
       " 'https://www.pagina12.com.ar/secciones/cultura',\n",
       " 'https://www.pagina12.com.ar/secciones/dialogos',\n",
       " 'https://www.pagina12.com.ar/secciones/plastica',\n",
       " 'https://www.pagina12.com.ar/secciones/psicologia',\n",
       " 'https://www.pagina12.com.ar/secciones/cartas-de-lectores',\n",
       " 'https://www.pagina12.com.ar/secciones/contratapa',\n",
       " 'https://www.pagina12.com.ar/secciones/audiovisuales',\n",
       " 'https://www.pagina12.com.ar/secciones/recordatorios',\n",
       " 'https://www.pagina12.com.ar/secciones/consumo',\n",
       " 'https://www.pagina12.com.ar/secciones/buenos-aires12',\n",
       " 'https://www.pagina12.com.ar/secciones/salta12',\n",
       " 'https://www.pagina12.com.ar/secciones/catamarca12',\n",
       " 'https://www.pagina12.com.ar/secciones/la-rioja12',\n",
       " 'https://www.pagina12.com.ar/secciones/podcasts',\n",
       " 'https://www.pagina12.com.ar/secciones/soci@s',\n",
       " 'https://www.pagina12.com.ar/secciones/la-ventana']"
      ]
     },
     "execution_count": 8,
     "metadata": {},
     "output_type": "execute_result"
    }
   ],
   "source": [
    "URL_secciones"
   ]
  },
  {
   "cell_type": "code",
   "execution_count": 9,
   "metadata": {},
   "outputs": [
    {
     "name": "stdout",
     "output_type": "stream",
     "text": [
      "No se pudo obtener la seccion -> https://www.pagina12.com.ar/suplementos/cultura-y-espectaculos\n",
      "No se pudo obtener la seccion -> https://www.pagina12.com.ar/edicion-impresa\n"
     ]
    }
   ],
   "source": [
    "#obtenemos todos los link de la primera pagina de cada seccion \n",
    "notas_secciones=[]\n",
    "for link in URL_secciones:\n",
    "    try:\n",
    "        r_2_URL_secciones=requests.get(link)\n",
    "        if r_2_URL_secciones.status_code== 200:\n",
    "            #parseamos cada seccion \n",
    "            s_2_web_principal=BeautifulSoup(r_2_URL_secciones.text, 'lxml')\n",
    "            # enviamos el link de la seccion a nuestra funcion obtener notas \n",
    "            # y guaramos lo que retorna la funcion (diccionario) a nuestra lista de notas de secciones\n",
    "            notas_secciones.extend(obtener_noticias(s_2_web_principal))\n",
    "        else:\n",
    "            print ('No se pudo obtener la seccion ->', link)\n",
    "    except:\n",
    "        print ('No se pudo obtener la seccion ->', link)"
   ]
  },
  {
   "cell_type": "code",
   "execution_count": 10,
   "metadata": {},
   "outputs": [
    {
     "name": "stdout",
     "output_type": "stream",
     "text": [
      "['https://www.pagina12.com.ar/495725-nueva-audiencia-en-la-insolita-causa-del-memorandum', 'https://www.pagina12.com.ar/495524-la-justicia-en-modo-macri', 'https://www.pagina12.com.ar/495590-cristina-kirchner-recomendo-en-sus-redes-sociales-una-nota-p', 'https://www.pagina12.com.ar/495662-comenzo-el-juicio-por-la-apropiacion-de-victoria-donda', 'https://www.pagina12.com.ar/495670-el-abrazo-entre-peron-y-balbin', 'https://www.pagina12.com.ar/495708-la-familia-de-santiago-maldonado-ya-no-participara-en-la-cau', 'https://www.pagina12.com.ar/495709-sobre-el-presupuesto-educativo-en-caba', 'https://www.pagina12.com.ar/495710-martes-de-superaccion-en-juntos-por-el-cambio', 'https://www.pagina12.com.ar/495713-caba-la-crueldad-de-la-derecha-al-desnudo', 'https://www.pagina12.com.ar/495716-oscar-ojea-la-division-de-la-sociedad-es-motivo-de-escandalo', 'https://www.pagina12.com.ar/495735-pablo-moyano-a-kelly-olmos-es-bono-o-suma-fija-de-forma-urge', 'https://www.pagina12.com.ar/495736-los-coletazos-de-la-interna-en-el-frente-de-todos', 'https://www.pagina12.com.ar/495615-sale-precios-cuidados-entra-precios-justos', 'https://www.pagina12.com.ar/495663-freno-del-consumo-en-comercios-minoristas', 'https://www.pagina12.com.ar/495704-en-cuatro-anos-crecio-la-poblacion-que-se-atiende-en-hospita', 'https://www.pagina12.com.ar/495664-incendio-en-el-ministerio-de-economia', 'https://www.pagina12.com.ar/495700-dolar-una-hemorragia-preocupante', 'https://www.pagina12.com.ar/495720-los-barones-del-carbono', 'https://www.pagina12.com.ar/495561-la-afip-reglamento-los-cambios-en-el-impuesto-a-las-ganancia', 'https://www.pagina12.com.ar/495579-sergio-massa-anuncio-un-dolar-diferencial-y-creditos-para-la', 'https://www.pagina12.com.ar/495618-la-vision-correcta-de-economia', 'https://www.pagina12.com.ar/495621-aumento-de-las-ventas', 'https://www.pagina12.com.ar/495655-la-responsabilidad-de-los-multimillonarios-en-el-calentamien', 'https://www.pagina12.com.ar/495738-efemerides-de-hoy-que-paso-un-8-de-noviembre', 'https://www.pagina12.com.ar/495715-mercosur-impulsan-que-los-estados-legislen-sobre-el-derecho-', 'https://www.pagina12.com.ar/495650-orgullo-de-ser', 'https://www.pagina12.com.ar/495671-la-poblacion-mundial-llega-a-las-8-mil-millones-de-personas', 'https://www.pagina12.com.ar/495678-parque-ameghino-semaforazo-contra-el-memorial-para-las-victi', 'https://www.pagina12.com.ar/495681-caba-la-auditoria-general-detecto-irregularidades-en-los-sub', 'https://www.pagina12.com.ar/495690-la-justicia-francesa-investiga-por-abuso-a-11-obispos-o-ex-o', 'https://www.pagina12.com.ar/495706-entre-rios-nuevas-excavaciones-para-buscar-a-la-familia-gill', 'https://www.pagina12.com.ar/495711-el-derecho-al-cuidado-como-derecho-humano', 'https://www.pagina12.com.ar/495717-asesinaron-a-un-adolescente-por-defender-a-una-companera-de-', 'https://www.pagina12.com.ar/495594-el-polo-cultural-saldias-fue-distinguido-por-la-legislatura-', 'https://www.pagina12.com.ar/495603-roban-computadoras-y-tablets-de-una-escuela-del-barrio-de-pa', 'https://www.pagina12.com.ar/495658-barcelona-y-manchester-united-se-enfrentaran-por-la-europa-l', 'https://www.pagina12.com.ar/495484-segui-el-sorteo-de-los-octavos-de-final-de-la-champions-leag', 'https://www.pagina12.com.ar/495610-brasil-tiene-su-lista-mundialista-con-dani-alves-y-nueve-del', 'https://www.pagina12.com.ar/495611-gabriel-heinze-en-newells-no-fue-una-decision-dificil-de-tom', 'https://www.pagina12.com.ar/495612-messi-tendra-tres-dias-de-descanso-extra-antes-del-ultimo-pa', 'https://www.pagina12.com.ar/495613-martin-palermo-asume-un-nuevo-desafio-en-platense', 'https://www.pagina12.com.ar/495628-anibal-moreno-figura-de-racing-teniamos-la-espinita-de-ganar', 'https://www.pagina12.com.ar/495647-mundial-qatar-2022-arabia-saudita-confirmo-la-lesion-de-su-c', 'https://www.pagina12.com.ar/495660-seleccion-argentina-de-la-lista-de-32-scaloni-evalua-a-27-pa', 'https://www.pagina12.com.ar/495568-jorge-almiron-se-fue-del-elche-despues-de-cinco-partidos', 'https://www.pagina12.com.ar/495570-el-messi-que-queremos-y-necesitamos', 'https://www.pagina12.com.ar/494963-no-hay-dos-iguales-que-esconden-las-huellas-dactilares', 'https://www.pagina12.com.ar/493167-la-minoria-pelirroja-por-que-su-mutacion-genetica-los-convie', 'https://www.pagina12.com.ar/490891-entre-el-humor-y-la-curiosidad-la-ciencia-detras-de-los-reco', 'https://www.pagina12.com.ar/488766-elon-musk-presento-optimus-un-nuevo-robot-humanoide-que-podr', 'https://www.pagina12.com.ar/485032-jupiter-alcanzara-su-punto-mas-cercano-a-la-tierra-en-casi-6', 'https://www.pagina12.com.ar/485009-de-laika-a-balto-la-historia-de-los-perros-que-hicieron-hist', 'https://www.pagina12.com.ar/483815-cientificos-captaron-las-imagenes-mas-nitidas-de-los-anillos', 'https://www.pagina12.com.ar/482557-un-equipo-de-cientificos-argentinos-desarrolla-una-terapia-a', 'https://www.pagina12.com.ar/481742-santa-fe-hallan-restos-fosiles-de-un-gliptodonte-de-10-mil-a', 'https://www.pagina12.com.ar/477622-estudiar-la-vida-a-traves-de-la-muerte-le-donarias-tu-cuerpo', 'https://www.pagina12.com.ar/475569-el-deseo-incontrolable-de-comer-algo-dulce-por-la-noche-nece', 'https://www.pagina12.com.ar/495695-estados-unidos-biden-y-trump-ponen-todo-en-juego-en-las-elec', 'https://www.pagina12.com.ar/495667-estados-unidos-una-eleccion-legislativa-entre-dos-visiones-o', 'https://www.pagina12.com.ar/495656-el-papa-le-transmitio-su-cercania-con-el-pueblo-ucraniano-al', 'https://www.pagina12.com.ar/495649-italia-la-ultraderecha-expulsa-inmigrantes', 'https://www.pagina12.com.ar/495705-peru-una-comision-del-congreso-pide-que-castillo-sea-inhabil', 'https://www.pagina12.com.ar/495707-evo-morales-nuestro-pueblo-espera-que-dejen-el-calculo-polit', 'https://www.pagina12.com.ar/495285-tras-el-atentado-a-imhar-kahn-un-mar-de-sospechas', 'https://www.pagina12.com.ar/495291-brasil-bye-bye-jair-bolsonaro', 'https://www.pagina12.com.ar/495272-las-elecciones-mas-inclusivas-en-la-historia-de-estados-unid', 'https://www.pagina12.com.ar/495282-creo-que-el-papa-podra-visitarnos-nuevamente', 'https://www.pagina12.com.ar/495283-brasil-carla-zambelli-no-representa-a-la-democracia', 'https://www.pagina12.com.ar/487866-en-el-corazon-de-la-pandemia-simposio-internacional-de-medic', 'https://www.pagina12.com.ar/485653-cincuentenario-en-el-colegio-nacional-de-buenos-aires', 'https://www.pagina12.com.ar/485354-los-rankings-universitarios-y-sus-problemas', 'https://www.pagina12.com.ar/442031-ricardo-gelpi-asumio-como-rector-de-la-uba', 'https://www.pagina12.com.ar/433737-se-sanciono-ley-que-crea-la-universidad-provincial-de-formos', 'https://www.pagina12.com.ar/432062-la-uba-tiene-nuevo-rector-ricardo-gelpi-el-decano-de-medicin', 'https://www.pagina12.com.ar/430790-universidad-nacional-de-cuyo-la-eleccion-de-autoridades-qued', 'https://www.pagina12.com.ar/426579-universidad-de-cordoba-el-radicalismo-y-sus-aliados-se-impus', 'https://www.pagina12.com.ar/425167-elecciones-en-la-universidad-de-cordoba', 'https://www.pagina12.com.ar/419907-jornada-de-orientacion-y-visibilizacion-de-vih-y-salud-sexua', 'https://www.pagina12.com.ar/414968-pinas-patadas-y-clases-suspendidas-en-la-facultad-de-filosof', 'https://www.pagina12.com.ar/275696-ajedrez-un-campeon-que-se-dejo-ganar-para-hacer-justicia', 'https://www.pagina12.com.ar/35264-jugadas-que-vienen-por-cartas', 'https://www.pagina12.com.ar/22806-el-ajedrez-a-traves-del-tiempo', 'https://www.pagina12.com.ar/22807-hay-que-reforzar-el-concepto-de-club', 'https://www.pagina12.com.ar/6402-la-final-mas-dificil-que-jugue', 'https://www.pagina12.com.ar/6211-la-sorpresa-fue-el-camino-y-no-el-final', 'https://www.pagina12.com.ar/713-los-genios-locos-del-ajedrez', 'https://www.pagina12.com.ar/492955-el-poder-del-genoma-humano', 'https://www.pagina12.com.ar/491524-diego-valenzuela-y-un-logro-inedito-es-el-primer-intendente-', 'https://www.pagina12.com.ar/491476-las-atracciones-de-la-legislatura-para-la-noche-de-los-museo', 'https://www.pagina12.com.ar/490679-subastaran-un-ejemplar-del-manifiesto-surrealista-de-andre-b', 'https://www.pagina12.com.ar/490347-ponen-a-la-venta-el-mitico-departamento-de-bioy-casares-y-si', 'https://www.pagina12.com.ar/489761-the-crown-netflix-difundio-imagenes-de-la-quinta-temporada', 'https://www.pagina12.com.ar/489114-buscan-prohibir-el-recital-de-la-banda-del-indio-solari-en-l', 'https://www.pagina12.com.ar/488034-la-feria-arteba-exhibe-por-primera-vez-arte-en-nft', 'https://www.pagina12.com.ar/487199-daniel-barenboim-anuncio-que-padece-una-enfermedad-neurologi', 'https://www.pagina12.com.ar/486149-la-otra-cara-de-los-premios-nobel-el-sinfin-de-controversias', 'https://www.pagina12.com.ar/486166-el-film-argentina-1985-se-exhibira-gratis-en-el-espacio-inca', 'https://www.pagina12.com.ar/493596-lo-que-china-dice-a-traves-de-su-arquitectura-y-urbanismo', 'https://www.pagina12.com.ar/491919-boaventura-de-sousa-santos-hay-que-recordar-los-grandes-camb', 'https://www.pagina12.com.ar/472920-vandana-shiva-la-salud-del-suelo-la-de-las-plantas-y-la-nues', 'https://www.pagina12.com.ar/488423-gabriela-wiener-descolonizarse-es-un-proceso-que-no-cesa', 'https://www.pagina12.com.ar/486665-yanina-welp-sin-capacidad-de-integracion-se-pierde-la-disput', 'https://www.pagina12.com.ar/484924-gisele-sapiro-sobre-la-cultura-de-la-cancelacion', 'https://www.pagina12.com.ar/477107-los-comportamientos-sexuales-de-los-animales', 'https://www.pagina12.com.ar/475219-la-crisis-en-el-estrecho-de-taiwan', 'https://www.pagina12.com.ar/447697-jacques-alain-miller-lacan-anticipo-la-dominacion-del-capita', 'https://www.pagina12.com.ar/441513-como-funciona-la-dea-en-la-argentina', 'https://www.pagina12.com.ar/439590-lo-que-las-mujeres-escribieron-y-quedo-invisibilizado', 'https://www.pagina12.com.ar/495593-fotos-de-una-buenos-aires-monumental-y-oscura', 'https://www.pagina12.com.ar/494977-premio-dedicado-a-las-artes-performaticas', 'https://www.pagina12.com.ar/493849-visita-guiada-a-un-inframundo-distopico', 'https://www.pagina12.com.ar/488590-arte-hecho-de-dialogos-afectos-y-complicidades', 'https://www.pagina12.com.ar/488589-alrededor-de-la-trama-del-arte-constructivo', 'https://www.pagina12.com.ar/488585-la-practica-artistica-y-la-practica-politica', 'https://www.pagina12.com.ar/486896-el-viernes-abre-arteba-para-el-publico-general', 'https://www.pagina12.com.ar/485040-para-mi-la-pintura-es-accion-no-meditacion', 'https://www.pagina12.com.ar/485029-semana-del-arte-en-buenos-aires', 'https://www.pagina12.com.ar/483165-sobre-los-efectos-activos-y-luminosos-del-arte', 'https://www.pagina12.com.ar/481396-el-misterio-del-arte-a-fines-del-siglo-veinte', 'https://www.pagina12.com.ar/494327-lula-volver-a-los-77', 'https://www.pagina12.com.ar/494330-horizontes', 'https://www.pagina12.com.ar/494336-un-discurso-sin-palabras', 'https://www.pagina12.com.ar/492661-la-despedida-a-vicente-galli', 'https://www.pagina12.com.ar/492685-el-mundo-esta-loco', 'https://www.pagina12.com.ar/490944-la-realidad-un-rompecabezas', 'https://www.pagina12.com.ar/490945-sobre-aquellos-que-anhelan-ser-san-martin', 'https://www.pagina12.com.ar/376071-la-historia-olvidada-del-dia-del-psicologo', 'https://www.pagina12.com.ar/109397-hombre-de-papel-durmiendo', 'https://www.pagina12.com.ar/495657-homo-veterano', 'https://www.pagina12.com.ar/495245-en-las-venas-del-dragon', 'https://www.pagina12.com.ar/495055-nada-que-decir', 'https://www.pagina12.com.ar/494737-la-llegada-de-los-tartaros', 'https://www.pagina12.com.ar/494395-razon-de-la-preexistencia', 'https://www.pagina12.com.ar/494155-sobreactuar-para-vivir', 'https://www.pagina12.com.ar/493911-homo-paul', 'https://www.pagina12.com.ar/493698-wos-el-pibe-que-vuela', 'https://www.pagina12.com.ar/493383-torrico-y-ortigoza-a-la-secretaria-de-comercio', 'https://www.pagina12.com.ar/493296-feroz', 'https://www.pagina12.com.ar/492988-primera-toma-del-fascismo', 'https://www.pagina12.com.ar/494359-11-o-edicion-carton-festival-internacional-de-cortos-de-anim', 'https://www.pagina12.com.ar/494950-de-pronto-flash-la-chica-del-bikini-azul', 'https://www.pagina12.com.ar/493387-elecciones-brasil-2022-el-debate-entre-lula-da-silva-y-jair-', 'https://www.pagina12.com.ar/487705-tuny-kollmann-justicia-y-politica', 'https://www.pagina12.com.ar/485627-segundo-encuentro-del-ciclo-argentina-crisis-y-oportunidades', 'https://www.pagina12.com.ar/482559-emilce-moler-y-la-larga-noche-de-los-lapices', 'https://www.pagina12.com.ar/477678-primer-encuentro-del-ciclo-argentina-crisis-y-oportunidades', 'https://www.pagina12.com.ar/475935-evita-y-el-partido-peronista-femenino', 'https://www.pagina12.com.ar/392368-musica-esencial-ale-gallo-y-daniel-de-vita', 'https://www.pagina12.com.ar/392366-musica-esencial-jan-de-witte-y-matias-fraga', 'https://www.pagina12.com.ar/392364-musica-esencial-jeronimo-guiraud-y-olivia-houssay', 'https://www.pagina12.com.ar/284335-un-malbec-mendocino-fue-elegido-como-el-mejor-del-mundo-y-re', 'https://www.pagina12.com.ar/495222-desaparecidos-de-vesubio-y-puente-12', 'https://www.pagina12.com.ar/495008-ambrosio-de-marco-y-patricia-dellorto-mirta-manchiola-de-ota', 'https://www.pagina12.com.ar/494717-maria-teresa-barvich-lila-epelbaum-claudio-epelbaum-claudia-', 'https://www.pagina12.com.ar/494397-ricardo-hector-campari', 'https://www.pagina12.com.ar/493857-norma-ada-nunez-gerardo-perez-y-leonor-pierro-mario-gerardo-', 'https://www.pagina12.com.ar/493384-benjamin-isaac-dricas-alberto-marcelo-oro-moyano-maria-jose-', 'https://www.pagina12.com.ar/493199-alicia-cosaka-luis-enrique-latronica', 'https://www.pagina12.com.ar/492920-hector-jorge-dadin-elena-alicia-ferreiro-thiery-jose-alberto', 'https://www.pagina12.com.ar/492667-celso-pedro-cruces-patricia-mabel-gaitan-rodon-rodolfo-gonza', 'https://www.pagina12.com.ar/492364-avelino-bazan', 'https://www.pagina12.com.ar/492123-miguel-jacobo-brzostowski-ignacio-de-lezica-julio-di-gangi', 'https://www.pagina12.com.ar/311864-goodyear-y-los-neumaticos-mas-de-100-anos-de-una-historia-in', 'https://www.pagina12.com.ar/310999-se-lanzo-un-nuevo-modelo-de-aire-acondicionado-que-ahorra-ha', 'https://www.pagina12.com.ar/244746-reflota-el-proyecto-de-pickup-en-argentina', 'https://www.pagina12.com.ar/242792-marca-china-presenta-en-marzo-un-modelo-electrico-y-ratifica', 'https://www.pagina12.com.ar/240714-la-pick-up-con-seguridad-de-cuatro-estrellas', 'https://www.pagina12.com.ar/238199-un-mouse-para-disenadores', 'https://www.pagina12.com.ar/237440-ds-techeetah-presenta-su-modelo-para-el-abb-fia-formula-e', 'https://www.pagina12.com.ar/235741-la-firma-presento-su-nuevo-corolla', 'https://www.pagina12.com.ar/233133-se-exporto-la-pick-up-numero-10-000-de-produccion-argentina', 'https://www.pagina12.com.ar/231881-la-marca-alemana-amplia-las-versiones-de-su-serie-3', 'https://www.pagina12.com.ar/495714-la-rareza-de-un-empresario-ante-augusto-costa-no-es-momento-', 'https://www.pagina12.com.ar/495592-los-dirigentes-debemos-ser-parte-de-la-solucion-no-del-probl', 'https://www.pagina12.com.ar/495254-maximo-kirchner-miren-que-ellos-quieren-gobernar-eh', 'https://www.pagina12.com.ar/495228-de-los-campos-irlandeses', 'https://www.pagina12.com.ar/495131-para-este-fin-de-semana', 'https://www.pagina12.com.ar/495085-maximo-kirchner-sigue-la-ola-hablara-en-el-congreso-del-pj-e', 'https://www.pagina12.com.ar/494991-axel-kicillof-pretendieron-gobernar-la-provincia-con-un-joys', 'https://www.pagina12.com.ar/494962-una-institucion-bonaerense', 'https://www.pagina12.com.ar/494869-alberto-sileoni-la-pandemia-nos-dejo-dos-ensenanzas-la-neces', 'https://www.pagina12.com.ar/494765-axel-kicillof-sin-los-intendentes-seria-imposible-gobernar-b', 'https://www.pagina12.com.ar/494526-el-rol-de-la-reestructuracion-de-deuda-realizada-por-kicillo', 'https://www.pagina12.com.ar/495480-el-arzobispado-de-salta-oficializo-a-dos-exorcistas', 'https://www.pagina12.com.ar/495478-la-politica-del-afecto-en-la-muestra-estar-estando-del-museo', 'https://www.pagina12.com.ar/495476-violencia-policial-1388-denuncias-en-lo-que-de-va-de-2022', 'https://www.pagina12.com.ar/495479-salta-comienza-hoy-el-primer-congreso-de-educacion-intercult', 'https://www.pagina12.com.ar/495475-ecocidio-y-extractivismo-en-la-agenda-ambiental-saltena', 'https://www.pagina12.com.ar/495344-la-larga-despedida-de-gladys-porcel', 'https://www.pagina12.com.ar/495343-el-gauchito-paz-un-boxeador-peleandole-a-la-vida', 'https://www.pagina12.com.ar/495342-el-fuego-pone-en-peligro-a-comunidades-kollas-en-oran', 'https://www.pagina12.com.ar/495258-otro-femicidio-en-jujuy', 'https://www.pagina12.com.ar/495155-se-detectaron-650-casos-nuevos-de-tuberculosis-en-lo-que-va-', 'https://www.pagina12.com.ar/495154-todo-precio-es-politico-en-la-mesa-de-los-argentinos', 'https://www.pagina12.com.ar/495481-una-catamarquena-asumio-en-area-clave-para-asegurar-el-derec', 'https://www.pagina12.com.ar/495474-las-nuevas-boletas-de-energia-indicaran-el-nivel-de-segmenta', 'https://www.pagina12.com.ar/495284-el-mato-mulato-una-especie-escasa-en-el-mundo', 'https://www.pagina12.com.ar/495113-avanza-la-separacion-de-residuos-en-catamarca', 'https://www.pagina12.com.ar/494882-no-quiero-ser-un-numero-mas-y-terminar-muerta', 'https://www.pagina12.com.ar/494883-fue-uno-de-los-tantos-crimenes-de-la-comunidad-lgtbiq-que-nu', 'https://www.pagina12.com.ar/494881-el-gobierno-asegura-que-salud-recibio-mayores-incrementos-qu', 'https://www.pagina12.com.ar/494582-conflicto-salud-diputados-debatieron-10-horas-y-unificaron-c', 'https://www.pagina12.com.ar/494583-avanza-la-ley-para-el-acceso-seguro-al-cannabis-en-catamarca', 'https://www.pagina12.com.ar/494587-de-un-rincon-de-argentina-al-esquema-geopolitico-mundial', 'https://www.pagina12.com.ar/494257-sesion-especial-en-diputados-para-resolver-el-conflicto-con-', 'https://www.pagina12.com.ar/495473-gremio-de-docentes-denuncio-al-gobierno-de-intromision-en-la', 'https://www.pagina12.com.ar/495143-no-entiendo-la-poesia-como-un-genero-literario', 'https://www.pagina12.com.ar/495121-aprobaron-la-ley-de-alcohol-0-en-la-rioja', 'https://www.pagina12.com.ar/494585-la-rioja-cerro-por-decreto-el-aumento-salarial-a-docentes', 'https://www.pagina12.com.ar/494879-la-escuela-debe-ser-garantista-del-derecho-a-la-lectura', 'https://www.pagina12.com.ar/494584-un-hombre-debera-afrontar-un-juicio-por-violencia-economica', 'https://www.pagina12.com.ar/494258-en-la-rioja-hubo-30-focos-de-incendio-durante-el-fin-de-sema', 'https://www.pagina12.com.ar/494259-hay-que-fomentar-el-dialogo-y-cuidar-las-emociones', 'https://www.pagina12.com.ar/494042-el-tope-subsidiado-de-luz-se-elevo-a-650-kwh-para-el-norte-g', 'https://www.pagina12.com.ar/494041-una-joven-fue-golpeada-y-amenazada-de-muerte-cuando-tenia-16', 'https://www.pagina12.com.ar/493734-clubes-deberan-aplicar-protocolo-de-prevencion-de-violencias', 'https://www.pagina12.com.ar/240289-el-brindis-con-los-socios-de-pagina-12', 'https://www.pagina12.com.ar/240286-lo-mejor-de-argentina-piensa-parte-1', 'https://www.pagina12.com.ar/240283-un-nomade-llamado-gianluca', 'https://www.pagina12.com.ar/233616-la-vie-en-buenos-aires', 'https://www.pagina12.com.ar/233612-que-acuerdos-politicos-son-necesarios-para-la-argentina-que-', 'https://www.pagina12.com.ar/233609-alberto-fernandez-entrevista-completa', 'https://www.pagina12.com.ar/231220-miss-bolivia-y-el-feminismo-que-viene', 'https://www.pagina12.com.ar/231214-12-mujeres-armenias-en-buenos-aires-relatan-su-historia-a-tr', 'https://www.pagina12.com.ar/494103-alicia-entel-politica-y-creencia-el-giro-fascista', 'https://www.pagina12.com.ar/486905-charla-del-mes-maternidad-y-cannabis', 'https://www.pagina12.com.ar/484003-soci-s-presenta-tuny-kollmann-justicia-y-politica', 'https://www.pagina12.com.ar/481588-los-lapices-siguen-escribiendo-emilce-moler-conversa-con-sil', 'https://www.pagina12.com.ar/478270-mempo-giardinelli-la-literatura-le-da-sentido-a-la-vida', 'https://www.pagina12.com.ar/477342-mempo-giardinelli-esto-nunca-existio', 'https://www.pagina12.com.ar/475944-evita-y-el-partido-peronista-femenino-una-organizacion-polit', 'https://www.pagina12.com.ar/475365-trelew-y-yo-50-anos-despues', 'https://www.pagina12.com.ar/448110-mempo-giardinelli-conversa-con-karina-micheletto', 'https://www.pagina12.com.ar/446412-beneficios-exclusivos-para-soci-s-de-pagina-12', 'https://www.pagina12.com.ar/437984-alud-en-villa-huinid-accidente-natural-o-falla-humana-preven', 'https://www.pagina12.com.ar/495729-por-una-pedagogia-contra-la-desinformacion', 'https://www.pagina12.com.ar/495727-alegria-y-desafios', 'https://www.pagina12.com.ar/493906-huellas-de-la-memoria', 'https://www.pagina12.com.ar/493905-por-otros-50-anos-mas', 'https://www.pagina12.com.ar/492205-la-salida-es-colectiva', 'https://www.pagina12.com.ar/490616-prosumir-es-todavia-presumir-comunicacion', 'https://www.pagina12.com.ar/490615-de-argentina-1985-a-los-algoritmos', 'https://www.pagina12.com.ar/488701-la-comunicacion-en-la-trama-social', 'https://www.pagina12.com.ar/487013-la-matriz-odiante', 'https://www.pagina12.com.ar/487012-fusibles-quemados', 'https://www.pagina12.com.ar/485195-democracia-y-discursos-de-odio']\n"
     ]
    }
   ],
   "source": [
    "print(notas_secciones)"
   ]
  },
  {
   "cell_type": "code",
   "execution_count": 15,
   "metadata": {},
   "outputs": [
    {
     "name": "stdout",
     "output_type": "stream",
     "text": [
      "Scrapeando nota 0 / 86\n",
      "Scrapeando nota 1 / 60\n",
      "Scrapeando nota 2 / 95\n",
      "Scrapeando nota 3 / 89\n",
      "Scrapeando nota 4 / 65\n",
      "Scrapeando nota 5 / 95\n",
      "Scrapeando nota 6 / 73\n",
      "Scrapeando nota 7 / 80\n",
      "Scrapeando nota 8 / 76\n",
      "Scrapeando nota 9 / 95\n",
      "Scrapeando nota 10 / 95\n",
      "Scrapeando nota 11 / 84\n",
      "Scrapeando nota 12 / 77\n",
      "Scrapeando nota 13 / 76\n",
      "Scrapeando nota 14 / 95\n",
      "Scrapeando nota 15 / 72\n",
      "Scrapeando nota 16 / 67\n",
      "Scrapeando nota 17 / 58\n",
      "Scrapeando nota 18 / 95\n",
      "Scrapeando nota 19 / 95\n",
      "Scrapeando nota 20 / 65\n",
      "Scrapeando nota 21 / 56\n",
      "Scrapeando nota 22 / 95\n",
      "Scrapeando nota 23 / 79\n",
      "Scrapeando nota 24 / 95\n",
      "Scrapeando nota 25 / 49\n",
      "Scrapeando nota 26 / 94\n",
      "Scrapeando nota 27 / 95\n",
      "Scrapeando nota 28 / 95\n",
      "Scrapeando nota 29 / 95\n",
      "Scrapeando nota 30 / 95\n",
      "Scrapeando nota 31 / 76\n",
      "Scrapeando nota 32 / 95\n",
      "Scrapeando nota 33 / 95\n",
      "Scrapeando nota 34 / 95\n",
      "Scrapeando nota 35 / 95\n",
      "Scrapeando nota 36 / 95\n",
      "Scrapeando nota 37 / 95\n",
      "Scrapeando nota 38 / 95\n",
      "Scrapeando nota 39 / 95\n",
      "Scrapeando nota 40 / 84\n",
      "Scrapeando nota 41 / 95\n",
      "Scrapeando nota 42 / 95\n",
      "Scrapeando nota 43 / 95\n",
      "Scrapeando nota 44 / 91\n",
      "Scrapeando nota 45 / 70\n",
      "Scrapeando nota 46 / 89\n",
      "Scrapeando nota 47 / 95\n",
      "Scrapeando nota 48 / 95\n",
      "Scrapeando nota 49 / 95\n"
     ]
    }
   ],
   "source": [
    "# creamos nuestro data set de noticias de cada seccion\n",
    "data_set=[]\n",
    "# recorremos cada noticia de cada seccion\n",
    "# en cada noticia utilizamos el metodo scrape_nota que a su vez llama a obtener_info\n",
    "# con el resultado de obtener_info, vamos guardando en un diccionario -> data_set\n",
    "for posicion_nota,link_nota in enumerate(notas_secciones):\n",
    "    if posicion_nota<50:\n",
    "        print (f'Scrapeando nota {posicion_nota} / {len(link_nota)}')\n",
    "        data_set.append(scrape_nota(link_nota))"
   ]
  },
  {
   "cell_type": "code",
   "execution_count": 16,
   "metadata": {},
   "outputs": [],
   "source": [
    "# creamos nuestro data frame utilizando pandas data frame\n",
    "data_frame= pd.DataFrame(data_set)\n",
    "#podemos visualizar con las cabeceras\n",
    "data_frame.head()\n",
    "# pasamos nuestro conjunto de datos a un archivo csv\n",
    "data_frame.to_csv('Notas pagina12.csv')\n",
    "# pasamos nuestro conjunto de datos a un archivo excel\n",
    "data_frame.to_excel(\"Notas Paginas12.xlsx\", sheet_name=\"data frame\", index=True)"
   ]
  }
 ],
 "metadata": {
  "kernelspec": {
   "display_name": "Python 3.10.4 ('entv': venv)",
   "language": "python",
   "name": "python3"
  },
  "language_info": {
   "codemirror_mode": {
    "name": "ipython",
    "version": 3
   },
   "file_extension": ".py",
   "mimetype": "text/x-python",
   "name": "python",
   "nbconvert_exporter": "python",
   "pygments_lexer": "ipython3",
   "version": "3.10.4"
  },
  "orig_nbformat": 4,
  "vscode": {
   "interpreter": {
    "hash": "8491acde47aa26015fdf488fd68628541edd72931848a0305ddc7dd62f03120a"
   }
  }
 },
 "nbformat": 4,
 "nbformat_minor": 2
}
