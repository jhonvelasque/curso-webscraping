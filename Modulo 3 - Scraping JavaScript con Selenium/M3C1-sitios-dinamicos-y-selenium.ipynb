{
 "cells": [
  {
   "cell_type": "markdown",
   "metadata": {},
   "source": [
    "# Módulo 2: Scraping con Selenium\n",
    "## LATAM Airlines\n",
    "<a href=\"https://www.latam.com/es_ar/\"><img src=\"https://i.pinimg.com/originals/dd/52/74/dd5274702d1382d696caeb6e0f6980c5.png\"  width=\"420\"></img></a>\n",
    "<br>\n",
    "\n",
    "Vamos a scrapear el sitio de Latam para averiguar datos de vuelos en funcion el origen y destino, fecha y cabina. La información que esperamos obtener de cada vuelo es:\n",
    "- Precio(s) disponibles\n",
    "- Horas de salida y llegada (duración)\n",
    "- Información de las escalas\n",
    "\n",
    "**¡Empecemos!**\n",
    "Utilicemos lo aprendido hasta ahora para lograr el objetivo propuesto"
   ]
  },
  {
   "cell_type": "markdown",
   "metadata": {},
   "source": [
    "## Selenium"
   ]
  },
  {
   "cell_type": "markdown",
   "metadata": {},
   "source": [
    "Selenium es una herramienta que nos permitirá controlar un navegador y podremos utilizar las funcionalidades del motor de JavaScript para cargar el contenido que no viene en el HTML de la página. Para esto necesitamos el módulo `webdriver`."
   ]
  },
  {
   "cell_type": "code",
   "execution_count": 1,
   "metadata": {},
   "outputs": [],
   "source": [
    "from selenium import webdriver\n",
    "#importampos libreria para cargar el driver automaticamente\n",
    "from webdriver_manager.firefox import GeckoDriverManager\n",
    "\n",
    "url='https://www.latamairlines.com/py/es/ofertas-vuelos?origin=ASU&outbound=2023-08-01T12%3A00%3A00.000Z&destination=BCN&inbound=null&adt=1&chd=0&inf=0&trip=OW&cabin=Economy&redemption=false&sort=RECOMMENDED'"
   ]
  },
  {
   "attachments": {},
   "cell_type": "markdown",
   "metadata": {},
   "source": [
    "Necesitamos controladores web para diferentes navegadores web.<br>\n",
    "Paso 1: instanciar un **driver** del navegador"
   ]
  },
  {
   "cell_type": "code",
   "execution_count": 2,
   "metadata": {},
   "outputs": [
    {
     "name": "stderr",
     "output_type": "stream",
     "text": [
      "[WDM] - Downloading: 19.0kB [00:00, 4.89MB/s]                   \n",
      "[WDM] - Downloading: 19.0kB [00:00, 9.77MB/s]                   \n",
      "[WDM] - Downloading: 100%|██████████| 1.58M/1.58M [00:01<00:00, 1.27MB/s]\n",
      "C:\\Users\\mario\\AppData\\Local\\Temp\\ipykernel_23268\\1250048064.py:4: DeprecationWarning: executable_path has been deprecated, please pass in a Service object\n",
      "  driver = webdriver.Firefox(executable_path=GeckoDriverManager().install(), options=options)\n"
     ]
    }
   ],
   "source": [
    "# Podemos agregarle opciones al driver para utilizar los distintos modos del navegador\n",
    "options = webdriver.FirefoxOptions()\n",
    "options.add_argument('-private')\n",
    "# instaciamos el driver e iniciamos pasandole las opciones que declaramos para el navegador\n",
    "driver = webdriver.Firefox(executable_path=GeckoDriverManager().install(), options=options)"
   ]
  },
  {
   "cell_type": "markdown",
   "metadata": {},
   "source": [
    "Paso 2: hacer que el navegador cargue la página web."
   ]
  },
  {
   "cell_type": "code",
   "execution_count": 3,
   "metadata": {},
   "outputs": [],
   "source": [
    "driver.get(url)"
   ]
  },
  {
   "cell_type": "markdown",
   "metadata": {},
   "source": [
    "paso 3:Extraer informacion de la pagina"
   ]
  },
  {
   "cell_type": "code",
   "execution_count": 4,
   "metadata": {},
   "outputs": [],
   "source": [
    "#en el siguiente seccion"
   ]
  },
  {
   "cell_type": "markdown",
   "metadata": {},
   "source": [
    "Paso 4: cerrar el navegador"
   ]
  },
  {
   "cell_type": "code",
   "execution_count": null,
   "metadata": {},
   "outputs": [],
   "source": [
    "driver.close()"
   ]
  }
 ],
 "metadata": {
  "kernelspec": {
   "display_name": "entv",
   "language": "python",
   "name": "python3"
  },
  "language_info": {
   "codemirror_mode": {
    "name": "ipython",
    "version": 3
   },
   "file_extension": ".py",
   "mimetype": "text/x-python",
   "name": "python",
   "nbconvert_exporter": "python",
   "pygments_lexer": "ipython3",
   "version": "3.10.4"
  },
  "orig_nbformat": 4,
  "vscode": {
   "interpreter": {
    "hash": "3c9f14f62ae38687a43d3c4d4204d3209bda7dbcb4b892870ffb1d2057cbf93a"
   }
  }
 },
 "nbformat": 4,
 "nbformat_minor": 2
}
