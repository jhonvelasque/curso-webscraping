{
 "cells": [
  {
   "cell_type": "markdown",
   "metadata": {},
   "source": [
    "# Módulo 2: Scraping con Selenium\n",
    "## LATAM Airlines\n",
    "<a href=\"https://www.latam.com/es_ar/\"><img src=\"https://i.pinimg.com/originals/dd/52/74/dd5274702d1382d696caeb6e0f6980c5.png\"  width=\"420\"></img></a>\n",
    "<br>\n",
    "\n",
    "Vamos a scrapear el sitio de Latam para averiguar datos de vuelos en funcion el origen y destino, fecha y cabina. La información que esperamos obtener de cada vuelo es:\n",
    "- Precio(s) disponibles\n",
    "- Horas de salida y llegada (duración)\n",
    "- Información de las escalas\n",
    "\n",
    "**¡Empecemos!**\n",
    "Utilicemos lo aprendido hasta ahora para lograr el objetivo propuesto"
   ]
  },
  {
   "cell_type": "markdown",
   "metadata": {},
   "source": [
    "## Selenium"
   ]
  },
  {
   "cell_type": "markdown",
   "metadata": {},
   "source": [
    "Selenium es una herramienta que nos permitirá controlar un navegador y podremos utilizar las funcionalidades del motor de JavaScript para cargar el contenido que no viene en el HTML de la página. Para esto necesitamos el módulo `webdriver`."
   ]
  },
  {
   "cell_type": "code",
   "execution_count": 1,
   "metadata": {},
   "outputs": [],
   "source": [
    "from selenium import webdriver\n",
    "#importampos libreria para cargar el driver automaticamente\n",
    "from webdriver_manager.firefox import GeckoDriverManager\n",
    "\n",
    "url='https://www.latamairlines.com/py/es/ofertas-vuelos?origin=ASU&outbound=2023-08-01T12%3A00%3A00.000Z&destination=BCN&inbound=null&adt=1&chd=0&inf=0&trip=OW&cabin=Economy&redemption=false&sort=RECOMMENDED'"
   ]
  },
  {
   "cell_type": "markdown",
   "metadata": {},
   "source": [
    "Necesitamos controladores web para diferentes navegadores web.<br>\n",
    "Paso 1: instanciar un **driver** del navegador"
   ]
  },
  {
   "cell_type": "code",
   "execution_count": 2,
   "metadata": {},
   "outputs": [
    {
     "name": "stderr",
     "output_type": "stream",
     "text": [
      "[WDM] - Downloading: 19.0kB [00:00, 9.77MB/s]                   \n",
      "C:\\Users\\mario\\AppData\\Local\\Temp\\ipykernel_17916\\1250048064.py:4: DeprecationWarning: executable_path has been deprecated, please pass in a Service object\n",
      "  driver = webdriver.Firefox(executable_path=GeckoDriverManager().install(), options=options)\n"
     ]
    }
   ],
   "source": [
    "options = webdriver.FirefoxOptions()\n",
    "# Podemos agregarle opciones al driver para utilizar los distintos modos del navegador\n",
    "options.add_argument('-private')\n",
    "driver = webdriver.Firefox(executable_path=GeckoDriverManager().install(), options=options)"
   ]
  },
  {
   "cell_type": "markdown",
   "metadata": {},
   "source": [
    "Paso 2: hacer que el navegador cargue la página web."
   ]
  },
  {
   "cell_type": "code",
   "execution_count": 3,
   "metadata": {},
   "outputs": [],
   "source": [
    "driver.get(url)"
   ]
  },
  {
   "cell_type": "markdown",
   "metadata": {},
   "source": [
    "paso 3:Extraer informacion de la pagina<br>\n",
    "Carguemos la página y analicemos dónde se encuentra la información<br>\n",
    "Vemos que el bloque de vuelos se encuentra en una `ul` y que cada vuelo es un item de la lista, `li`. <br>"
   ]
  },
  {
   "cell_type": "code",
   "execution_count": 4,
   "metadata": {},
   "outputs": [
    {
     "name": "stdout",
     "output_type": "stream",
     "text": [
      "[<selenium.webdriver.remote.webelement.WebElement (session=\"056ab3dd-c97e-42e1-98aa-3ce3f7ce5e61\", element=\"730ecea6-e8c6-4442-8a0e-13d985970eea\")>, <selenium.webdriver.remote.webelement.WebElement (session=\"056ab3dd-c97e-42e1-98aa-3ce3f7ce5e61\", element=\"0ee30711-ddd3-435e-b79f-dc8106389470\")>, <selenium.webdriver.remote.webelement.WebElement (session=\"056ab3dd-c97e-42e1-98aa-3ce3f7ce5e61\", element=\"ed93d5c3-b927-4685-bfdf-894c7bafa861\")>, <selenium.webdriver.remote.webelement.WebElement (session=\"056ab3dd-c97e-42e1-98aa-3ce3f7ce5e61\", element=\"5552d710-5aca-4b50-a01f-3ae07d432257\")>, <selenium.webdriver.remote.webelement.WebElement (session=\"056ab3dd-c97e-42e1-98aa-3ce3f7ce5e61\", element=\"7cc2b57f-6cbc-480b-9345-c5a73d0777b0\")>, <selenium.webdriver.remote.webelement.WebElement (session=\"056ab3dd-c97e-42e1-98aa-3ce3f7ce5e61\", element=\"ab4dc3c4-0fa9-41d2-b6c8-a357b616e2e2\")>, <selenium.webdriver.remote.webelement.WebElement (session=\"056ab3dd-c97e-42e1-98aa-3ce3f7ce5e61\", element=\"3aed87ae-5228-457a-8d20-40d7450f5a07\")>, <selenium.webdriver.remote.webelement.WebElement (session=\"056ab3dd-c97e-42e1-98aa-3ce3f7ce5e61\", element=\"f473b544-f2e5-44cd-93f6-9cfddfecae5c\")>, <selenium.webdriver.remote.webelement.WebElement (session=\"056ab3dd-c97e-42e1-98aa-3ce3f7ce5e61\", element=\"413e96c1-e980-430c-a175-5b7396214d41\")>, <selenium.webdriver.remote.webelement.WebElement (session=\"056ab3dd-c97e-42e1-98aa-3ce3f7ce5e61\", element=\"ea8d5779-a074-4616-9d3c-d891e36c3089\")>, <selenium.webdriver.remote.webelement.WebElement (session=\"056ab3dd-c97e-42e1-98aa-3ce3f7ce5e61\", element=\"8696bceb-993c-4647-84c4-650933ec0fe8\")>, <selenium.webdriver.remote.webelement.WebElement (session=\"056ab3dd-c97e-42e1-98aa-3ce3f7ce5e61\", element=\"f8439be3-cb45-4914-91f2-c47f98cd452e\")>, <selenium.webdriver.remote.webelement.WebElement (session=\"056ab3dd-c97e-42e1-98aa-3ce3f7ce5e61\", element=\"ef97e5ce-5f24-4430-9039-8aa5069c9a63\")>, <selenium.webdriver.remote.webelement.WebElement (session=\"056ab3dd-c97e-42e1-98aa-3ce3f7ce5e61\", element=\"a98a396d-9e97-4afa-a9f1-3b883c6ee10b\")>, <selenium.webdriver.remote.webelement.WebElement (session=\"056ab3dd-c97e-42e1-98aa-3ce3f7ce5e61\", element=\"11f9d99e-252a-4a52-b777-51dde87cf34c\")>, <selenium.webdriver.remote.webelement.WebElement (session=\"056ab3dd-c97e-42e1-98aa-3ce3f7ce5e61\", element=\"7f45456a-c506-42b3-af25-75e50f36f20b\")>, <selenium.webdriver.remote.webelement.WebElement (session=\"056ab3dd-c97e-42e1-98aa-3ce3f7ce5e61\", element=\"bb1f9ab7-27b6-482d-9235-681a996b2213\")>, <selenium.webdriver.remote.webelement.WebElement (session=\"056ab3dd-c97e-42e1-98aa-3ce3f7ce5e61\", element=\"c6202052-6fba-4542-92f6-09f44685be75\")>, <selenium.webdriver.remote.webelement.WebElement (session=\"056ab3dd-c97e-42e1-98aa-3ce3f7ce5e61\", element=\"8c6244cf-4ca9-41be-a8c9-16365f7f98f8\")>, <selenium.webdriver.remote.webelement.WebElement (session=\"056ab3dd-c97e-42e1-98aa-3ce3f7ce5e61\", element=\"ad3743a4-65be-4b04-a62c-0119aea9ce7a\")>, <selenium.webdriver.remote.webelement.WebElement (session=\"056ab3dd-c97e-42e1-98aa-3ce3f7ce5e61\", element=\"731e43db-a169-459f-81ee-f5b4d8f53c17\")>, <selenium.webdriver.remote.webelement.WebElement (session=\"056ab3dd-c97e-42e1-98aa-3ce3f7ce5e61\", element=\"bf9149ea-8a27-44c8-8931-5c74a25270a0\")>, <selenium.webdriver.remote.webelement.WebElement (session=\"056ab3dd-c97e-42e1-98aa-3ce3f7ce5e61\", element=\"82f9ab0a-63b0-4004-8bf0-cb25c3254277\")>, <selenium.webdriver.remote.webelement.WebElement (session=\"056ab3dd-c97e-42e1-98aa-3ce3f7ce5e61\", element=\"b9703157-ce63-477d-9b2a-4f9792f327a5\")>, <selenium.webdriver.remote.webelement.WebElement (session=\"056ab3dd-c97e-42e1-98aa-3ce3f7ce5e61\", element=\"5f340470-e743-4687-b643-fe9cae71c576\")>, <selenium.webdriver.remote.webelement.WebElement (session=\"056ab3dd-c97e-42e1-98aa-3ce3f7ce5e61\", element=\"36857d2b-8ca1-4ef6-bf65-369dc6ecf4f6\")>, <selenium.webdriver.remote.webelement.WebElement (session=\"056ab3dd-c97e-42e1-98aa-3ce3f7ce5e61\", element=\"a5c57897-1b87-413a-a7d6-500b6e18cd94\")>, <selenium.webdriver.remote.webelement.WebElement (session=\"056ab3dd-c97e-42e1-98aa-3ce3f7ce5e61\", element=\"6e0c5814-6345-4376-8ae5-472291777150\")>, <selenium.webdriver.remote.webelement.WebElement (session=\"056ab3dd-c97e-42e1-98aa-3ce3f7ce5e61\", element=\"765dd241-f673-47f6-b7e4-5109c7d894a5\")>]\n"
     ]
    }
   ],
   "source": [
    "#Usaremos el Xpath para obtener la lista de vuelos\n",
    "vuelos = driver.find_elements('xpath','//ol/li')\n",
    "print (vuelos)"
   ]
  },
  {
   "cell_type": "markdown",
   "metadata": {},
   "source": [
    "Obtengamos la informacion de la hora de salida, llegada y duracion del vuelo"
   ]
  },
  {
   "cell_type": "markdown",
   "metadata": {},
   "source": [
    "Notar que el xpath comienza con \".\", lo que indica que sólo debe buscar en los hijos de ese elemento. Si no ponemos el \".\", busca en todo el árbol.<br>\n",
    "Elementos importantes de xpath:\n",
    "- \"//\" busca en todos los hijos del elemento. \"/\" busca sólo en hijos directos\n",
    "- \".\" indica que la búsqueda debe empezar en ese elemento y no en el origen del árbol\n",
    "- Los atributos de los tags se buscan entre [] y con @"
   ]
  },
  {
   "cell_type": "code",
   "execution_count": 5,
   "metadata": {},
   "outputs": [
    {
     "name": "stdout",
     "output_type": "stream",
     "text": [
      "6:55 a. m.\n"
     ]
    }
   ],
   "source": [
    "#seleccionamos el primer vuelo\n",
    "vuelo_1=vuelos[0]\n",
    "#hora de salida\n",
    "hora_salida=vuelo_1.find_element('xpath','//div[@class=\"sc-klSiHT hjzFuR flight-information\"]/span[1]').text\n",
    "print (hora_salida)"
   ]
  },
  {
   "cell_type": "code",
   "execution_count": 6,
   "metadata": {},
   "outputs": [
    {
     "name": "stdout",
     "output_type": "stream",
     "text": [
      "5:20 p. m.\n"
     ]
    }
   ],
   "source": [
    "#hora de llegada\n",
    "hora_llegada=vuelo_1.find_element('xpath','.//div[3]/span[1]').text.replace('\\n+1','')\n",
    "print (hora_llegada)"
   ]
  },
  {
   "cell_type": "code",
   "execution_count": 7,
   "metadata": {},
   "outputs": [
    {
     "name": "stdout",
     "output_type": "stream",
     "text": [
      "28 h 25 min\n"
     ]
    }
   ],
   "source": [
    "# Duracion del vuelo\n",
    "duracion_vuelo= vuelo_1.find_element('xpath','.//div[2]/span[2]').text\n",
    "print (duracion_vuelo)"
   ]
  },
  {
   "cell_type": "markdown",
   "metadata": {},
   "source": [
    "veremos cómo obtener la información de las escalas de cada vuelo. <br>\n",
    "Para desplegar esa información de las escalas, debemos clickear en link para que se habilite el modal que contiene la informacion. Seleccionémoslo:"
   ]
  },
  {
   "cell_type": "code",
   "execution_count": 8,
   "metadata": {},
   "outputs": [
    {
     "name": "stdout",
     "output_type": "stream",
     "text": [
      "<selenium.webdriver.remote.webelement.WebElement (session=\"056ab3dd-c97e-42e1-98aa-3ce3f7ce5e61\", element=\"952987df-ff2e-48d1-8261-2444e487a365\")>\n"
     ]
    }
   ],
   "source": [
    "link_escalas = vuelo_1.find_element('xpath','//div[@class=\"sc-iKiVwC fbWfQZ\"]//a')\n",
    "print (link_escalas)"
   ]
  },
  {
   "cell_type": "markdown",
   "metadata": {},
   "source": [
    "Una vez ubicado el elemento podemos clickear sobre él"
   ]
  },
  {
   "cell_type": "code",
   "execution_count": 9,
   "metadata": {},
   "outputs": [],
   "source": [
    "link_escalas.click()"
   ]
  },
  {
   "cell_type": "markdown",
   "metadata": {},
   "source": [
    "Y vemos cómo se despliega la información que estamos buscando enn el driver del navegador. **Notar que cambió el html de la página al hacer click sobre ese botón**"
   ]
  },
  {
   "cell_type": "markdown",
   "metadata": {},
   "source": [
    "ahora debemos seleccionar los segmentos que contiene el vuelo para calcular la cantidad de escalas, actualmente vemos que las paradas estan contenidas en elementos sections, asi que debemos contabilizar las paradas"
   ]
  },
  {
   "cell_type": "code",
   "execution_count": 10,
   "metadata": {},
   "outputs": [
    {
     "name": "stdout",
     "output_type": "stream",
     "text": [
      "<selenium.webdriver.remote.webelement.WebElement (session=\"056ab3dd-c97e-42e1-98aa-3ce3f7ce5e61\", element=\"d44b7177-1687-4966-9196-2312154eea0d\")>\n",
      "<selenium.webdriver.remote.webelement.WebElement (session=\"056ab3dd-c97e-42e1-98aa-3ce3f7ce5e61\", element=\"66dcf5b8-6f35-4ce9-bc17-ff4260a23254\")>\n",
      "<selenium.webdriver.remote.webelement.WebElement (session=\"056ab3dd-c97e-42e1-98aa-3ce3f7ce5e61\", element=\"ed22f711-8489-4264-9cf7-b754fc8fb396\")>\n"
     ]
    }
   ],
   "source": [
    "segmentos= link_escalas.find_elements('xpath','//section[@class=\"sc-fGSyRc fCuylQ\"]')\n",
    "# print(segmentos, len(segmentos))\n",
    "for i in segmentos:\n",
    "    print (i)"
   ]
  },
  {
   "cell_type": "markdown",
   "metadata": {},
   "source": [
    "para calcular las escalas, debemos restar -1 la cantidad total de paradas"
   ]
  },
  {
   "cell_type": "code",
   "execution_count": 11,
   "metadata": {},
   "outputs": [
    {
     "name": "stdout",
     "output_type": "stream",
     "text": [
      "2\n"
     ]
    }
   ],
   "source": [
    "#0 escalas si es un vuelo directo\n",
    "escala=len(segmentos)-1\n",
    "print(escala)"
   ]
  },
  {
   "cell_type": "markdown",
   "metadata": {},
   "source": [
    "ahora obtengamos desde el modal el Itinerario de vuelo:\n",
    "- origen ✔\n",
    "- hora de salida \n",
    "- destino vuelo ✔\n",
    "- hora de llegada\n",
    "- duración del vuelo ✔\n",
    "- duración de la escala. *Tip: el último segmento no tendrá esta información*\n",
    "- número del vuelo\n",
    "- modelo del avión"
   ]
  },
  {
   "cell_type": "code",
   "execution_count": 12,
   "metadata": {},
   "outputs": [
    {
     "name": "stdout",
     "output_type": "stream",
     "text": [
      "Salida:ASU\n",
      "Hora Salida:6:55 a. m.\n",
      "Duracion: 4 h 5 min\n",
      "Llegada:LIM\n",
      "Numero de vuelo:LA1320\n",
      "Modelo Avion:Airbus A320\n",
      "\n",
      "Salida:LIM\n",
      "Hora Salida:8:20 p. m.\n",
      "Duracion: 11 h 15 min\n",
      "Llegada:MAD\n",
      "Numero de vuelo:LA5391\n",
      "Modelo Avion:Airbus A350-900\n",
      "\n",
      "Salida:MAD\n",
      "Hora Salida:4:00 p. m.\n",
      "Duracion: 1 h 20 min\n",
      "Llegada:BCN\n",
      "Numero de vuelo:LA1523\n",
      "Modelo Avion:Airbus A320\n",
      "\n"
     ]
    }
   ],
   "source": [
    "for i in segmentos:\n",
    "    segmento = i\n",
    "    salida=segmento.find_element('xpath','.//div[@class=\"sc-jFpLkX jAGOAr\"]/div[@class=\"sc-fguZLD kepXur\"]/div[@class=\"iataCode\"]/span[1]').text\n",
    "    hora_salida=segmento.find_element('xpath','.//div[@class=\"sc-jFpLkX jAGOAr\"]/div[@class=\"sc-fguZLD kepXur\"]/div[@class=\"iataCode\"]/span[2]').text\n",
    "    duracion_segmento=segmento.find_element('xpath','.//div[@class=\"sc-jFpLkX jAGOAr\"]//div[@class=\"sc-ewMkZo hQNSAX\"]/span[2]').text\n",
    "    destino_segmento=segmento.find_element('xpath','.//div[@class=\"sc-jFpLkX jAGOAr\"]//div[@class=\"sc-eCXBzT goeYBu\"]/div[@class=\"iataCode\"]/span[1]').text\n",
    "    numero_vuelo_segmento=segmento.find_element('xpath','.//div[@class=\"sc-dzQEYZ dslPlz airline-wrapper\"]').text\n",
    "    modelo_avion_segmento=segmento.find_element('xpath','.//div[@class=\"sc-sVRsr eXYUTi\"]//span[@class=\"airplane-code\"]').text\n",
    "    \n",
    "    print(f'Salida:{salida}\\nHora Salida:{hora_salida}\\nDuracion: {duracion_segmento}\\nLlegada:{destino_segmento}\\nNumero de vuelo:{numero_vuelo_segmento}\\nModelo Avion:{modelo_avion_segmento}\\n')\n"
   ]
  },
  {
   "cell_type": "code",
   "execution_count": 13,
   "metadata": {},
   "outputs": [
    {
     "name": "stdout",
     "output_type": "stream",
     "text": [
      "Escala:Conexión Lima\n",
      "Duracion Escala:10 h 20 min\n",
      "Escala:Conexión Madrid\n",
      "Duracion Escala:1 h 25 min\n"
     ]
    }
   ],
   "source": [
    "escalas_vuelo=link_escalas.find_elements('xpath','//section[@class=\"sc-kiXyGy sc-eZXMBi dKgCnQ connectionInfo\"]')\n",
    "for i in escalas_vuelo:\n",
    "    escala=i\n",
    "    escala_vuelo=escala.find_element('xpath','.//div[@class=\"sc-ekQYnd cByWfv\"]//span[@class=\"connection-text\"]').text\n",
    "    duracion_escala_vuelo=escala.find_element('xpath','.//div[@class=\"sc-ekQYnd cByWfv\"]//span[@class=\"time\"]').text\n",
    "    print(f'Escala:{escala_vuelo}\\nDuracion Escala:{duracion_escala_vuelo}')\n",
    "    # print (i)"
   ]
  },
  {
   "cell_type": "markdown",
   "metadata": {},
   "source": [
    "Una vez que hayamos obtenido toda la información, debemos cerrar el modal/pop-up."
   ]
  },
  {
   "cell_type": "code",
   "execution_count": 14,
   "metadata": {},
   "outputs": [],
   "source": [
    "driver.find_element('xpath','//*[@id=\"itinerary-modal-0-dialog-close\"]').click()"
   ]
  },
  {
   "cell_type": "markdown",
   "metadata": {},
   "source": [
    "Por último debemos obtener la información de las tarifas. Para eso, debemos clickear sobre el vuelo (sobre cualquier parte)"
   ]
  },
  {
   "cell_type": "code",
   "execution_count": 15,
   "metadata": {},
   "outputs": [],
   "source": [
    "vuelo_1.click()"
   ]
  },
  {
   "cell_type": "markdown",
   "metadata": {},
   "source": [
    "La información de los precios para cada tarifa está contenida en una tablas (ol). Tenemos los precios y categorias de cada una de las tarifas"
   ]
  },
  {
   "cell_type": "code",
   "execution_count": 16,
   "metadata": {},
   "outputs": [
    {
     "name": "stdout",
     "output_type": "stream",
     "text": [
      "[<selenium.webdriver.remote.webelement.WebElement (session=\"056ab3dd-c97e-42e1-98aa-3ce3f7ce5e61\", element=\"b920dd40-4600-42cd-925b-faec9d5074b8\")>, <selenium.webdriver.remote.webelement.WebElement (session=\"056ab3dd-c97e-42e1-98aa-3ce3f7ce5e61\", element=\"4200726a-fafc-4c45-968b-19d6392d2ee2\")>]\n"
     ]
    }
   ],
   "source": [
    "tarifas= vuelo_1.find_elements('xpath','.//ol[@class=\"sc-buGlAa jhwXGF\"]/li[@class=\"sc-kecUPG dPNrrD\"]')\n",
    "print (tarifas)"
   ]
  },
  {
   "cell_type": "code",
   "execution_count": 17,
   "metadata": {},
   "outputs": [
    {
     "name": "stdout",
     "output_type": "stream",
     "text": [
      "{'plus': {'moneda': 'USD', 'valor': '1,341.20'}}\n",
      "{'top': {'moneda': 'USD', 'valor': '3,153.20'}}\n"
     ]
    }
   ],
   "source": [
    "# creamos una lista donde almacenaremos los precios de cada tarifa\n",
    "precios=[]\n",
    "for tarifa in tarifas:\n",
    "    #buscamos en cada pocision de la tarifa los siquientes elementos\n",
    "    nombre = tarifa.find_element('xpath','.//div[@class=\"sc-gGsJSs dhstcp\"]/div[1]/span[@class=\"sc-fhiYOA iwcbaW\"]').text\n",
    "    moneda= tarifa.find_element('xpath','.//div[@class=\"sc-gGsJSs dhstcp\"]/div[3]//span[contains(@class,\"currency\")]').text\n",
    "    valor= tarifa.find_element('xpath','.//div[@class=\"sc-gGsJSs dhstcp\"]/div[3]//span[@class=\"sc-ckYZGd grNCid\"]').text\n",
    "    #guardo los valores que obtengo en un diccionario\n",
    "    dict_tarifa={nombre:{'moneda':moneda,'valor':valor}}\n",
    "    #guradamos nuestro diccionario con los datos de tarifa a nuestra lia de precio\n",
    "    precios.append(dict_tarifa)\n",
    "    print(dict_tarifa)\n",
    "    # print(f'Nombre Tarfia:{nombre}\\nMoneda:{moneda}\\nPrecio:{valor}\\n\\n')"
   ]
  },
  {
   "cell_type": "markdown",
   "metadata": {},
   "source": [
    "Paso 4: cerrar el navegador"
   ]
  },
  {
   "cell_type": "code",
   "execution_count": 18,
   "metadata": {},
   "outputs": [],
   "source": [
    "driver.close()"
   ]
  }
 ],
 "metadata": {
  "kernelspec": {
   "display_name": "entv",
   "language": "python",
   "name": "python3"
  },
  "language_info": {
   "codemirror_mode": {
    "name": "ipython",
    "version": 3
   },
   "file_extension": ".py",
   "mimetype": "text/x-python",
   "name": "python",
   "nbconvert_exporter": "python",
   "pygments_lexer": "ipython3",
   "version": "3.10.4"
  },
  "orig_nbformat": 4,
  "vscode": {
   "interpreter": {
    "hash": "3c9f14f62ae38687a43d3c4d4204d3209bda7dbcb4b892870ffb1d2057cbf93a"
   }
  }
 },
 "nbformat": 4,
 "nbformat_minor": 2
}
