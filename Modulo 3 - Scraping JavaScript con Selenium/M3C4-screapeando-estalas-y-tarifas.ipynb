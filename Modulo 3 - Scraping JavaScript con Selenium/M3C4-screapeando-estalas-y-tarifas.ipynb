{
 "cells": [
  {
   "cell_type": "markdown",
   "metadata": {},
   "source": [
    "# Módulo 2: Scraping con Selenium\n",
    "## LATAM Airlines\n",
    "<a href=\"https://www.latam.com/es_ar/\"><img src=\"https://i.pinimg.com/originals/dd/52/74/dd5274702d1382d696caeb6e0f6980c5.png\"  width=\"420\"></img></a>\n",
    "<br>\n",
    "\n",
    "Vamos a scrapear el sitio de Latam para averiguar datos de vuelos en funcion el origen y destino, fecha y cabina. La información que esperamos obtener de cada vuelo es:\n",
    "- Precio(s) disponibles\n",
    "- Horas de salida y llegada (duración)\n",
    "- Información de las escalas\n",
    "\n",
    "**¡Empecemos!**\n",
    "Utilicemos lo aprendido hasta ahora para lograr el objetivo propuesto"
   ]
  },
  {
   "cell_type": "markdown",
   "metadata": {},
   "source": [
    "## Selenium"
   ]
  },
  {
   "cell_type": "markdown",
   "metadata": {},
   "source": [
    "Selenium es una herramienta que nos permitirá controlar un navegador y podremos utilizar las funcionalidades del motor de JavaScript para cargar el contenido que no viene en el HTML de la página. Para esto necesitamos el módulo `webdriver`."
   ]
  },
  {
   "cell_type": "code",
   "execution_count": 1,
   "metadata": {},
   "outputs": [],
   "source": [
    "from selenium import webdriver\n",
    "#importampos libreria para cargar el driver automaticamente\n",
    "from webdriver_manager.firefox import GeckoDriverManager\n",
    "\n",
    "url='https://www.latamairlines.com/py/es/ofertas-vuelos?origin=ASU&outbound=2023-08-01T12%3A00%3A00.000Z&destination=BCN&inbound=null&adt=1&chd=0&inf=0&trip=OW&cabin=Economy&redemption=false&sort=RECOMMENDED'"
   ]
  },
  {
   "cell_type": "markdown",
   "metadata": {},
   "source": [
    "Necesitamos controladores web para diferentes navegadores web.<br>\n",
    "Paso 1: instanciar un **driver** del navegador"
   ]
  },
  {
   "cell_type": "code",
   "execution_count": 2,
   "metadata": {},
   "outputs": [
    {
     "name": "stderr",
     "output_type": "stream",
     "text": [
      "[WDM] - Downloading: 19.0kB [00:00, 3.91MB/s]                   \n",
      "C:\\Users\\mario\\AppData\\Local\\Temp\\ipykernel_28492\\1250048064.py:4: DeprecationWarning: executable_path has been deprecated, please pass in a Service object\n",
      "  driver = webdriver.Firefox(executable_path=GeckoDriverManager().install(), options=options)\n"
     ]
    }
   ],
   "source": [
    "options = webdriver.FirefoxOptions()\n",
    "# Podemos agregarle opciones al driver para utilizar los distintos modos del navegador\n",
    "options.add_argument('-private')\n",
    "driver = webdriver.Firefox(executable_path=GeckoDriverManager().install(), options=options)"
   ]
  },
  {
   "cell_type": "markdown",
   "metadata": {},
   "source": [
    "Paso 2: hacer que el navegador cargue la página web."
   ]
  },
  {
   "cell_type": "code",
   "execution_count": 3,
   "metadata": {},
   "outputs": [],
   "source": [
    "driver.get(url)"
   ]
  },
  {
   "cell_type": "markdown",
   "metadata": {},
   "source": [
    "paso 3:Extraer informacion de la pagina<br>\n",
    "Carguemos la página y analicemos dónde se encuentra la información<br>\n",
    "Vemos que el bloque de vuelos se encuentra en una `ul` y que cada vuelo es un item de la lista, `li`. <br>"
   ]
  },
  {
   "cell_type": "code",
   "execution_count": 4,
   "metadata": {},
   "outputs": [
    {
     "name": "stdout",
     "output_type": "stream",
     "text": [
      "[<selenium.webdriver.remote.webelement.WebElement (session=\"066bb54c-43eb-4a44-afa9-34edc4c394d2\", element=\"3b8bf1cf-5a20-4d42-ac21-722dd8779f3f\")>, <selenium.webdriver.remote.webelement.WebElement (session=\"066bb54c-43eb-4a44-afa9-34edc4c394d2\", element=\"a1a16fd4-de3f-475c-b7a0-73e15d928876\")>, <selenium.webdriver.remote.webelement.WebElement (session=\"066bb54c-43eb-4a44-afa9-34edc4c394d2\", element=\"f50f6347-f5b4-4b83-936a-ee6f40705b59\")>, <selenium.webdriver.remote.webelement.WebElement (session=\"066bb54c-43eb-4a44-afa9-34edc4c394d2\", element=\"c26ee2e9-d6e1-4828-9fee-f1678afd1580\")>, <selenium.webdriver.remote.webelement.WebElement (session=\"066bb54c-43eb-4a44-afa9-34edc4c394d2\", element=\"e4b4b383-40a8-4faa-b9f5-deb341fef6cf\")>, <selenium.webdriver.remote.webelement.WebElement (session=\"066bb54c-43eb-4a44-afa9-34edc4c394d2\", element=\"72d3ccb2-3419-418b-b04c-f7a6f3581c3e\")>, <selenium.webdriver.remote.webelement.WebElement (session=\"066bb54c-43eb-4a44-afa9-34edc4c394d2\", element=\"016d86f6-e7f5-4520-8dbb-079f2eb2a134\")>, <selenium.webdriver.remote.webelement.WebElement (session=\"066bb54c-43eb-4a44-afa9-34edc4c394d2\", element=\"7d775f7a-942f-4b4d-9a43-64370fa39643\")>, <selenium.webdriver.remote.webelement.WebElement (session=\"066bb54c-43eb-4a44-afa9-34edc4c394d2\", element=\"0515b7b0-5234-4a00-8414-12a5c58ef47a\")>, <selenium.webdriver.remote.webelement.WebElement (session=\"066bb54c-43eb-4a44-afa9-34edc4c394d2\", element=\"8862899f-7b23-4b4a-8ea5-9cda12f5312b\")>, <selenium.webdriver.remote.webelement.WebElement (session=\"066bb54c-43eb-4a44-afa9-34edc4c394d2\", element=\"be08bf22-49f4-4d69-88c7-98bbf72a169c\")>, <selenium.webdriver.remote.webelement.WebElement (session=\"066bb54c-43eb-4a44-afa9-34edc4c394d2\", element=\"c501a648-52ba-450d-8ee6-36c7c13f6dae\")>, <selenium.webdriver.remote.webelement.WebElement (session=\"066bb54c-43eb-4a44-afa9-34edc4c394d2\", element=\"e4682ce1-4763-45b0-8aa5-cc5f662060e8\")>, <selenium.webdriver.remote.webelement.WebElement (session=\"066bb54c-43eb-4a44-afa9-34edc4c394d2\", element=\"908d08c6-afe8-4509-a6ec-aa36072f4ae3\")>, <selenium.webdriver.remote.webelement.WebElement (session=\"066bb54c-43eb-4a44-afa9-34edc4c394d2\", element=\"bd24da18-44e6-4040-88eb-45f8b2a2b12c\")>, <selenium.webdriver.remote.webelement.WebElement (session=\"066bb54c-43eb-4a44-afa9-34edc4c394d2\", element=\"f9d90a3d-088b-4845-bcb6-82ba4e305457\")>, <selenium.webdriver.remote.webelement.WebElement (session=\"066bb54c-43eb-4a44-afa9-34edc4c394d2\", element=\"e16011f6-909f-46e2-8591-3ec066ef0464\")>, <selenium.webdriver.remote.webelement.WebElement (session=\"066bb54c-43eb-4a44-afa9-34edc4c394d2\", element=\"e6320e5c-e2ce-43f3-b850-3a8b254e49dc\")>, <selenium.webdriver.remote.webelement.WebElement (session=\"066bb54c-43eb-4a44-afa9-34edc4c394d2\", element=\"680c390e-64d8-4feb-8d25-fa6af1ee55ff\")>, <selenium.webdriver.remote.webelement.WebElement (session=\"066bb54c-43eb-4a44-afa9-34edc4c394d2\", element=\"ea2e5313-26e5-4bc5-9ac6-2b08d6cbc228\")>, <selenium.webdriver.remote.webelement.WebElement (session=\"066bb54c-43eb-4a44-afa9-34edc4c394d2\", element=\"0dcdb111-382d-4f09-8788-8b0414cf42f0\")>, <selenium.webdriver.remote.webelement.WebElement (session=\"066bb54c-43eb-4a44-afa9-34edc4c394d2\", element=\"66b6d5f1-6836-4269-94f2-759470609614\")>, <selenium.webdriver.remote.webelement.WebElement (session=\"066bb54c-43eb-4a44-afa9-34edc4c394d2\", element=\"880ac6e4-62ca-4abe-bada-c9e01c17b020\")>, <selenium.webdriver.remote.webelement.WebElement (session=\"066bb54c-43eb-4a44-afa9-34edc4c394d2\", element=\"fc429c88-7c05-415d-af93-86c63bfb27ee\")>, <selenium.webdriver.remote.webelement.WebElement (session=\"066bb54c-43eb-4a44-afa9-34edc4c394d2\", element=\"07f964fb-29d6-47a9-bb16-1b31836f0807\")>, <selenium.webdriver.remote.webelement.WebElement (session=\"066bb54c-43eb-4a44-afa9-34edc4c394d2\", element=\"bdd152c9-a7b6-42c7-a6db-555954f5ca1e\")>, <selenium.webdriver.remote.webelement.WebElement (session=\"066bb54c-43eb-4a44-afa9-34edc4c394d2\", element=\"ea39d381-a6e8-4834-bb56-d76714110601\")>, <selenium.webdriver.remote.webelement.WebElement (session=\"066bb54c-43eb-4a44-afa9-34edc4c394d2\", element=\"497c48c8-880b-467e-91f7-2f46167e35e1\")>]\n"
     ]
    }
   ],
   "source": [
    "#Usaremos el Xpath para obtener la lista de vuelos\n",
    "vuelos = driver.find_elements('xpath','//ol/li')\n",
    "print (vuelos)"
   ]
  },
  {
   "cell_type": "markdown",
   "metadata": {},
   "source": [
    "Obtengamos la informacion de la hora de salida, llegada y duracion del vuelo"
   ]
  },
  {
   "cell_type": "markdown",
   "metadata": {},
   "source": [
    "Notar que el xpath comienza con \".\", lo que indica que sólo debe buscar en los hijos de ese elemento. Si no ponemos el \".\", busca en todo el árbol.<br>\n",
    "Elementos importantes de xpath:\n",
    "- \"//\" busca en todos los hijos del elemento. \"/\" busca sólo en hijos directos\n",
    "- \".\" indica que la búsqueda debe empezar en ese elemento y no en el origen del árbol\n",
    "- Los atributos de los tags se buscan entre [] y con @"
   ]
  },
  {
   "cell_type": "code",
   "execution_count": 6,
   "metadata": {},
   "outputs": [
    {
     "name": "stdout",
     "output_type": "stream",
     "text": [
      "6:55 a. m.\n"
     ]
    }
   ],
   "source": [
    "#seleccionamos el primer vuelo\n",
    "vuelo_1=vuelos[0]\n",
    "#hora de salida\n",
    "hora_salida=vuelo_1.find_element('xpath','//div[@class=\"sc-klSiHT hjzFuR flight-information\"]/span[1]').text\n",
    "print (hora_salida)"
   ]
  },
  {
   "cell_type": "code",
   "execution_count": 7,
   "metadata": {},
   "outputs": [
    {
     "name": "stdout",
     "output_type": "stream",
     "text": [
      "5:20 p. m.\n"
     ]
    }
   ],
   "source": [
    "#hora de llegada\n",
    "hora_llegada=vuelo_1.find_element('xpath','.//div[3]/span[1]').text.replace('\\n+1','')\n",
    "print (hora_llegada)"
   ]
  },
  {
   "cell_type": "code",
   "execution_count": 8,
   "metadata": {},
   "outputs": [
    {
     "name": "stdout",
     "output_type": "stream",
     "text": [
      "28 h 25 min\n"
     ]
    }
   ],
   "source": [
    "# Duracion del vuelo\n",
    "duracion_vuelo= vuelo_1.find_element('xpath','.//div[2]/span[2]').text\n",
    "print (duracion_vuelo)"
   ]
  },
  {
   "cell_type": "markdown",
   "metadata": {},
   "source": [
    "veremos cómo obtener la información de las escalas de cada vuelo. <br>\n",
    "Para desplegar esa información de las escalas, debemos clickear en link para que se habilite el modal que contiene la informacion. Seleccionémoslo:"
   ]
  },
  {
   "cell_type": "code",
   "execution_count": 10,
   "metadata": {},
   "outputs": [
    {
     "name": "stdout",
     "output_type": "stream",
     "text": [
      "<selenium.webdriver.remote.webelement.WebElement (session=\"066bb54c-43eb-4a44-afa9-34edc4c394d2\", element=\"1d0de513-042f-4d20-b47b-1ac4c3c0d9fa\")>\n"
     ]
    }
   ],
   "source": [
    "link_escalas = vuelo_1.find_element('xpath','//div[@class=\"sc-iKiVwC fbWfQZ\"]//a')\n",
    "print (link_escalas)"
   ]
  },
  {
   "cell_type": "markdown",
   "metadata": {},
   "source": [
    "Una vez ubicado el elemento podemos clickear sobre él"
   ]
  },
  {
   "cell_type": "code",
   "execution_count": 11,
   "metadata": {},
   "outputs": [],
   "source": [
    "link_escalas.click()"
   ]
  },
  {
   "cell_type": "markdown",
   "metadata": {},
   "source": [
    "Y vemos cómo se despliega la información que estamos buscando enn el driver del navegador. **Notar que cambió el html de la página al hacer click sobre ese botón**"
   ]
  },
  {
   "cell_type": "markdown",
   "metadata": {},
   "source": [
    "ahora debemos seleccionar los segmentos que contiene el vuelo para calcular la cantidad de escalas, actualmente vemos que las paradas estan contenidas en elementos sections, asi que debemos contabilizar las paradas"
   ]
  },
  {
   "cell_type": "code",
   "execution_count": 32,
   "metadata": {},
   "outputs": [
    {
     "name": "stdout",
     "output_type": "stream",
     "text": [
      "<selenium.webdriver.remote.webelement.WebElement (session=\"066bb54c-43eb-4a44-afa9-34edc4c394d2\", element=\"ce74c5a7-8420-405f-b9f6-b8057c2c051f\")>\n",
      "<selenium.webdriver.remote.webelement.WebElement (session=\"066bb54c-43eb-4a44-afa9-34edc4c394d2\", element=\"175f2264-92cc-4927-ab2c-bbef0c531052\")>\n",
      "<selenium.webdriver.remote.webelement.WebElement (session=\"066bb54c-43eb-4a44-afa9-34edc4c394d2\", element=\"abec92b3-5f88-402a-ae82-bf59c864766c\")>\n"
     ]
    }
   ],
   "source": [
    "segmentos= link_escalas.find_elements('xpath','//section[@class=\"sc-fGSyRc fCuylQ\"]')\n",
    "# print(segmentos, len(segmentos))\n",
    "for i in segmentos:\n",
    "    print (i)"
   ]
  },
  {
   "cell_type": "markdown",
   "metadata": {},
   "source": [
    "para calcular las escalas, debemos restar -1 la cantidad total de paradas"
   ]
  },
  {
   "cell_type": "code",
   "execution_count": 14,
   "metadata": {},
   "outputs": [
    {
     "name": "stdout",
     "output_type": "stream",
     "text": [
      "2\n"
     ]
    }
   ],
   "source": [
    "#0 escalas si es un vuelo directo\n",
    "escala=len(segmentos)-1\n",
    "print(escala)"
   ]
  },
  {
   "cell_type": "markdown",
   "metadata": {},
   "source": [
    "ahora obtengamos desde el modal el Itinerario de vuelo:\n",
    "- origen ✔\n",
    "- hora de salida \n",
    "- destino vuelo ✔\n",
    "- hora de llegada\n",
    "- duración del vuelo ✔\n",
    "- duración de la escala. *Tip: el último segmento no tendrá esta información*\n",
    "- número del vuelo\n",
    "- modelo del avión"
   ]
  },
  {
   "cell_type": "code",
   "execution_count": 25,
   "metadata": {},
   "outputs": [
    {
     "name": "stdout",
     "output_type": "stream",
     "text": [
      "Salida:ASU\n",
      "Hora Salida:6:55 a. m.\n",
      "Duracion: 4 h 5 min\n",
      "Llegada:LIM\n",
      "Numero de vuelo:LA1320\n",
      "Modelo Avion:Airbus A320\n",
      "\n",
      "Salida:LIM\n",
      "Hora Salida:8:20 p. m.\n",
      "Duracion: 11 h 15 min\n",
      "Llegada:MAD\n",
      "Numero de vuelo:LA5391\n",
      "Modelo Avion:Airbus A350-900\n",
      "\n",
      "Salida:MAD\n",
      "Hora Salida:4:00 p. m.\n",
      "Duracion: 1 h 20 min\n",
      "Llegada:BCN\n",
      "Numero de vuelo:LA1523\n",
      "Modelo Avion:Airbus A319\n",
      "\n"
     ]
    }
   ],
   "source": [
    "for i in segmentos:\n",
    "    segmento = i\n",
    "    salida=segmento.find_element('xpath','.//div[@class=\"sc-jFpLkX jAGOAr\"]/div[@class=\"sc-fguZLD kepXur\"]/div[@class=\"iataCode\"]/span[1]').text\n",
    "    hora_salida=segmento.find_element('xpath','.//div[@class=\"sc-jFpLkX jAGOAr\"]/div[@class=\"sc-fguZLD kepXur\"]/div[@class=\"iataCode\"]/span[2]').text\n",
    "    duracion_segmento=segmento.find_element('xpath','.//div[@class=\"sc-jFpLkX jAGOAr\"]//div[@class=\"sc-ewMkZo hQNSAX\"]/span[2]').text\n",
    "    destino_segmento=segmento.find_element('xpath','.//div[@class=\"sc-jFpLkX jAGOAr\"]//div[@class=\"sc-eCXBzT goeYBu\"]/div[@class=\"iataCode\"]/span[1]').text\n",
    "    numero_vuelo_segmento=segmento.find_element('xpath','.//div[@class=\"sc-dzQEYZ dslPlz airline-wrapper\"]').text\n",
    "    modelo_avion_segmento=segmento.find_element('xpath','.//div[@class=\"sc-sVRsr eXYUTi\"]//span[@class=\"airplane-code\"]').text\n",
    "    \n",
    "    print(f'Salida:{salida}\\nHora Salida:{hora_salida}\\nDuracion: {duracion_segmento}\\nLlegada:{destino_segmento}\\nNumero de vuelo:{numero_vuelo_segmento}\\nModelo Avion:{modelo_avion_segmento}\\n')\n"
   ]
  },
  {
   "cell_type": "code",
   "execution_count": 44,
   "metadata": {},
   "outputs": [
    {
     "name": "stdout",
     "output_type": "stream",
     "text": [
      "Escala:Conexión Lima\n",
      "Duracion Escala:10 h 20 min\n",
      "Escala:Conexión Madrid\n",
      "Duracion Escala:1 h 25 min\n"
     ]
    }
   ],
   "source": [
    "escalas_vuelo=link_escalas.find_elements('xpath','//section[@class=\"sc-kiXyGy sc-eZXMBi dKgCnQ connectionInfo\"]')\n",
    "for i in escalas_vuelo:\n",
    "    escala=i\n",
    "    escala_vuelo=escala.find_element('xpath','.//div[@class=\"sc-ekQYnd cByWfv\"]//span[@class=\"connection-text\"]').text\n",
    "    duracion_escala_vuelo=escala.find_element('xpath','.//div[@class=\"sc-ekQYnd cByWfv\"]//span[@class=\"time\"]').text\n",
    "    print(f'Escala:{escala_vuelo}\\nDuracion Escala:{duracion_escala_vuelo}')\n",
    "    # print (i)"
   ]
  },
  {
   "cell_type": "markdown",
   "metadata": {},
   "source": [
    "Una vez que hayamos obtenido toda la información, debemos cerrar el modal/pop-up."
   ]
  },
  {
   "cell_type": "code",
   "execution_count": 45,
   "metadata": {},
   "outputs": [],
   "source": [
    "driver.find_element('xpath','//*[@id=\"itinerary-modal-0-dialog-close\"]').click()"
   ]
  },
  {
   "cell_type": "markdown",
   "metadata": {},
   "source": [
    "Por último debemos obtener la información de las tarifas. Para eso, debemos clickear sobre el vuelo (sobre cualquier parte)"
   ]
  },
  {
   "cell_type": "code",
   "execution_count": 46,
   "metadata": {},
   "outputs": [],
   "source": [
    "vuelo_1.click()"
   ]
  },
  {
   "cell_type": "markdown",
   "metadata": {},
   "source": [
    "La información de los precios para cada tarifa está contenida en una tablas (ol). Tenemos los precios y categorias de cada una de las tarifas"
   ]
  },
  {
   "cell_type": "code",
   "execution_count": 48,
   "metadata": {},
   "outputs": [
    {
     "name": "stdout",
     "output_type": "stream",
     "text": [
      "[<selenium.webdriver.remote.webelement.WebElement (session=\"066bb54c-43eb-4a44-afa9-34edc4c394d2\", element=\"09c99a8e-16fb-4d48-80bb-ae0e23dc5663\")>, <selenium.webdriver.remote.webelement.WebElement (session=\"066bb54c-43eb-4a44-afa9-34edc4c394d2\", element=\"d56edbe3-b79e-4e67-ad63-de15fc4d44e9\")>]\n"
     ]
    }
   ],
   "source": [
    "tarifas= vuelo_1.find_elements('xpath','.//ol[@class=\"sc-buGlAa jhwXGF\"]/li[@class=\"sc-kecUPG dPNrrD\"]')\n",
    "print (tarifas)"
   ]
  },
  {
   "cell_type": "code",
   "execution_count": 50,
   "metadata": {},
   "outputs": [
    {
     "name": "stdout",
     "output_type": "stream",
     "text": [
      "{'plus': {'moneda': 'USD', 'valor': '1,341.40'}}\n",
      "{'top': {'moneda': 'USD', 'valor': '3,153.40'}}\n"
     ]
    }
   ],
   "source": [
    "# creamos una lista donde almacenaremos los precios de cada tarifa\n",
    "precios=[]\n",
    "for tarifa in tarifas:\n",
    "    #buscamos en cada pocision de la tarifa los siquientes elementos\n",
    "    nombre = tarifa.find_element('xpath','.//div[@class=\"sc-gGsJSs dhstcp\"]/div[1]/span[@class=\"sc-fhiYOA iwcbaW\"]').text\n",
    "    moneda= tarifa.find_element('xpath','.//div[@class=\"sc-gGsJSs dhstcp\"]/div[3]//span[contains(@class,\"currency\")]').text\n",
    "    valor= tarifa.find_element('xpath','.//div[@class=\"sc-gGsJSs dhstcp\"]/div[3]//span[@class=\"sc-ckYZGd grNCid\"]').text\n",
    "    #guardo los valores que obtengo en un diccionario\n",
    "    dict_tarifa={nombre:{'moneda':moneda,'valor':valor}}\n",
    "    #guradamos nuestro diccionario con los datos de tarifa a nuestra lia de precio\n",
    "    precios.append(dict_tarifa)\n",
    "    print(dict_tarifa)\n",
    "    # print(f'Nombre Tarfia:{nombre}\\nMoneda:{moneda}\\nPrecio:{valor}\\n\\n')"
   ]
  },
  {
   "cell_type": "markdown",
   "metadata": {},
   "source": [
    "Paso 4: cerrar el navegador"
   ]
  },
  {
   "cell_type": "code",
   "execution_count": 51,
   "metadata": {},
   "outputs": [],
   "source": [
    "driver.close()"
   ]
  }
 ],
 "metadata": {
  "kernelspec": {
   "display_name": "entv",
   "language": "python",
   "name": "python3"
  },
  "language_info": {
   "codemirror_mode": {
    "name": "ipython",
    "version": 3
   },
   "file_extension": ".py",
   "mimetype": "text/x-python",
   "name": "python",
   "nbconvert_exporter": "python",
   "pygments_lexer": "ipython3",
   "version": "3.10.4"
  },
  "orig_nbformat": 4,
  "vscode": {
   "interpreter": {
    "hash": "3c9f14f62ae38687a43d3c4d4204d3209bda7dbcb4b892870ffb1d2057cbf93a"
   }
  }
 },
 "nbformat": 4,
 "nbformat_minor": 2
}
