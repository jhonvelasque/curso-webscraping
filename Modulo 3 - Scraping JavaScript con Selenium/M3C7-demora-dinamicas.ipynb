{
 "cells": [
  {
   "cell_type": "markdown",
   "metadata": {},
   "source": [
    "# Módulo 2: Scraping con Selenium\n",
    "## LATAM Airlines\n",
    "<a href=\"https://www.latam.com/es_ar/\"><img src=\"https://i.pinimg.com/originals/dd/52/74/dd5274702d1382d696caeb6e0f6980c5.png\"  width=\"420\"></img></a>\n",
    "<br>\n",
    "\n",
    "Vamos a scrapear el sitio de Latam para averiguar datos de vuelos en funcion el origen y destino, fecha y cabina. La información que esperamos obtener de cada vuelo es:\n",
    "- Precio(s) disponibles\n",
    "- Horas de salida y llegada (duración)\n",
    "- Información de las escalas\n",
    "\n",
    "**¡Empecemos!**\n",
    "Utilicemos lo aprendido hasta ahora para lograr el objetivo propuesto"
   ]
  },
  {
   "cell_type": "markdown",
   "metadata": {},
   "source": [
    "## Selenium"
   ]
  },
  {
   "cell_type": "markdown",
   "metadata": {},
   "source": [
    "Selenium es una herramienta que nos permitirá controlar un navegador y podremos utilizar las funcionalidades del motor de JavaScript para cargar el contenido que no viene en el HTML de la página. Para esto necesitamos el módulo `webdriver`."
   ]
  },
  {
   "cell_type": "code",
   "execution_count": 1,
   "metadata": {},
   "outputs": [],
   "source": [
    "from selenium import webdriver\n",
    "#importampos libreria para cargar el driver automaticamente\n",
    "from webdriver_manager.firefox import GeckoDriverManager\n",
    "import time\n",
    "#pagina web que vamos a hacer el scraping\n",
    "url='https://www.latamairlines.com/ar/es/ofertas-vuelos?origin=ASU&inbound=null&outbound=2022-12-01T15%3A00%3A00.000Z&destination=MAD&adt=1&chd=0&inf=0&trip=OW&cabin=Economy&redemption=false&sort=RECOMMENDED'"
   ]
  },
  {
   "cell_type": "markdown",
   "metadata": {},
   "source": [
    "## Demora Dinamica\n",
    "<p>Para evitar fallos de carga de la página y de mensajes emergente que no dejen realizar el scraper, se implementan demoras dinámicas, estas a diferencia de la demora estática brindan un mejor rendimiento. Ya que no tienen que esperar el tiempo estático sino que esperan a que se cargue la página y si tarda menos del tiempo estipulado, empieza a hacer el scraper.</p>"
   ]
  },
  {
   "cell_type": "markdown",
   "metadata": {},
   "source": [
    " Lo mejor sería esperar a que la página termine de cargar y luego recuperar los elementos. para ello importamos varias librerias"
   ]
  },
  {
   "cell_type": "code",
   "execution_count": 2,
   "metadata": {},
   "outputs": [],
   "source": [
    "from selenium.webdriver.support.ui import WebDriverWait\n",
    "from selenium.webdriver.support import expected_conditions as EC\n",
    "from selenium.webdriver.common.by import By\n",
    "from selenium.common.exceptions import TimeoutException"
   ]
  },
  {
   "cell_type": "code",
   "execution_count": 3,
   "metadata": {},
   "outputs": [],
   "source": [
    "def obtener_precios(vuelo):\n",
    "    '''\n",
    "    Función que retorna una lista de diccionarios con las distintas tarifas\n",
    "    '''\n",
    "    tarifas= vuelo.find_elements('xpath','.//ol[@class=\"sc-iAVDmT DwgCo\"]/li[@class=\"sc-jjgyjb buqrVI\"]')\n",
    "    precios=[]\n",
    "    for tarifa in tarifas:\n",
    "        #buscamos en cada pocision de la tarifa los siquientes elementos\n",
    "        nombre = tarifa.find_element('xpath','.//div[@class=\"sc-ieSwJA gfCbFb\"]/div[1]/span[@class=\"sc-gBSKhj chxCgG\"]').text\n",
    "        moneda= tarifa.find_element('xpath','.//div[@class=\"sc-ieSwJA gfCbFb\"]/div[3]//span[contains(@class,\"currency\")]').text\n",
    "        valor= tarifa.find_element('xpath','.//div[@class=\"sc-ieSwJA gfCbFb\"]/div[3]//span[@class=\"sc-ihiiSJ AoaXI\"]').text\n",
    "        #guardo los valores que obtengo en un diccionario\n",
    "        dict_tarifa={nombre:{'moneda':moneda,'valor':valor}}\n",
    "        #guradamos nuestro diccionario con los datos de tarifa a nuestra lia de precio\n",
    "        precios.append(dict_tarifa)\n",
    "        # print(dict_tarifa)\n",
    "    return precios"
   ]
  },
  {
   "cell_type": "code",
   "execution_count": 4,
   "metadata": {},
   "outputs": [],
   "source": [
    "def obtener_datos_escalas(vuelo):\n",
    "    '''\n",
    "    Función que retorna una lista de diccionarios con la información de \n",
    "    las escalas de cada vuelo\n",
    "    '''\n",
    "\n",
    "    segmentos= vuelo.find_elements('xpath','//div[@class=\"MuiDialogContent-root sc-fjdhpX jvVjjf\"]//section[@class=\"sc-fEVUGC gIelIH\"]')\n",
    "    datos_escalas=[]    \n",
    "    for segmento in segmentos:\n",
    "        #origen\n",
    "        salida=segmento.find_element('xpath','.//div[@class=\"sc-dhVevo bQUzMb\"]/div[@class=\"sc-fqCOlO lpqwwl\"]/div[@class=\"iataCode\"]/span[1]').text\n",
    "        #hora de salida\n",
    "        hora_salida=segmento.find_elements('xpath','.//div[@class=\"sc-dhVevo bQUzMb\"]/div[@class=\"sc-fqCOlO lpqwwl\"]/div[@class=\"iataCode\"]/span[2]').text\n",
    "        #destino\n",
    "        destino_segmento=segmento.find_element('xpath','.//div[@class=\"sc-hAcydR ikJhgn\"]/div[@class=\"iataCode\"]/span[1]').text\n",
    "        #Hora de llegada\n",
    "        hora_llegada=segmento.find_element('xpath','.//div[@class=\"sc-hAcydR ikJhgn\"]/div[@class=\"iataCode\"]/span[2]').text\n",
    "        #Duracion del vuelo\n",
    "        duracion_segmento=segmento.find_element('xpath','.//div[@class=\"sc-dhVevo bQUzMb\"]/div[@class=\"sc-BOulX kmIWrd\"]/span[2]').text\n",
    "        #Numero de vuelo\n",
    "        numero_vuelo_segmento=segmento.find_element('xpath','.//div[@class=\"sc-hlELIx iUypDF plane-info\"]//div[@class=\"sc-bscRGj iggkUa airline-wrapper\"]').text\n",
    "        #Modelo de avion\n",
    "        modelo_avion_segmento=segmento.find_element('xpath','.//div[@class=\"sc-hlELIx iUypDF plane-info\"]//span[@class=\"airplane-code\"]').text\n",
    "        \n",
    "        #el último segmento no tendrá escala por que es el destino final del vuelo\n",
    "        if segmento != segmentos[-1]:    \n",
    "            #Duracion escala\n",
    "            duracion_escala_vuelo=segmento.find_element('xpath','//section[@class=\"sc-fEVUGC gAwpmW\"]//span[@class=\"time\"]').text\n",
    "        else:\n",
    "            duracion_escala_vuelo=''\n",
    "        \n",
    "        # Armo un diccionario para almacenar los datos\n",
    "        datos_escalas_dict={\n",
    "            'salida':salida,\n",
    "            'hora_salida':hora_salida,\n",
    "            'destino':destino_segmento,\n",
    "            'hora_llega':hora_llegada,\n",
    "            'duracion':duracion_segmento,\n",
    "            'numero_vuelo':numero_vuelo_segmento,\n",
    "            'modelo_avion':modelo_avion_segmento,\n",
    "            'duracion_escala':duracion_escala_vuelo\n",
    "        }\n",
    "        datos_escalas.append(datos_escalas_dict)\n",
    "\n",
    "    return datos_escalas"
   ]
  },
  {
   "cell_type": "code",
   "execution_count": 5,
   "metadata": {},
   "outputs": [],
   "source": [
    "def obtener_tiempos(vuelo):\n",
    "    '''\n",
    "    Función que retorna un diccionario con los horarios de salida y llegada de cada\n",
    "    vuelo, incluyendo la duración. \n",
    "    Nota: la duración del vuelo no es la hora de llegada - la hora de salida porque\n",
    "    puede haber diferencia de horarios entre el origen y el destino.\n",
    "    '''\n",
    "    #hora de salida\n",
    "    hora_salida=vuelo.find_element('xpath','//div[@class=\"sc-ixltIz dfdfxH flight-information\"]/span[1]').text\n",
    "    #hora de llegada\n",
    "    hora_llegada=vuelo.find_element('xpath','.//div[3]/span[1]').text.replace('\\n+1','')\n",
    "    # Duracion del vuelo\n",
    "    duracion_vuelo= vuelo.find_element('xpath','.//div[2]/span[2]').text\n",
    "\n",
    "    tiempos_vuelo_dict={\n",
    "        'hora_salida':hora_salida,\n",
    "        'hora_llegada':hora_llegada,\n",
    "        'duracion_vuelo':duracion_vuelo\n",
    "    }\n",
    "    return tiempos_vuelo_dict"
   ]
  },
  {
   "cell_type": "code",
   "execution_count": 6,
   "metadata": {},
   "outputs": [],
   "source": [
    "def obtener_info(driver):\n",
    "    #Usaremos el Xpath para obtener la lista de vuelos\n",
    "    vuelos = driver.find_elements('xpath','//ol/li')\n",
    "    print(f'Se encontaron {len(vuelos)} vuelos.')\n",
    "    print(f'Iniciando Scraping...')\n",
    "    info=[]\n",
    "    contador=0\n",
    "    for vuelo in vuelos:\n",
    "        #obtener los tiempos generales de cada vuelo\n",
    "        tiempos=obtener_tiempos(vuelo)\n",
    "        #esperamos que cargue el contenido con demora dinamica\n",
    "        delay=10\n",
    "        try:\n",
    "            #introducimos demora inteligente\n",
    "            #clickeamos sobe el link escalas para que se habra el modal\n",
    "            vuelo.find_element('xpath','//div[@class=\"sc-fYAFcb kdctDt\"]//a').click()\n",
    "            WebDriverWait(driver, delay).until(EC.presence_of_element_located((By.XPATH, './/div[@id=\"itinerary-modal-0-dialog-content\"]')))\n",
    "            print('El modal del vuelo terminó de cargar')\n",
    "            escalas=obtener_datos_escalas(vuelo)\n",
    "        except TimeoutException:\n",
    "            print(\"La página tardó demasiado en cargar\")\n",
    "        \n",
    "        #cerramos el modal\n",
    "        driver.find_element('xpath','//*[@id=\"itinerary-modal-0-dialog-close\"]').click()\n",
    "        \n",
    "        try:\n",
    "            #introducimos demora inteligente\n",
    "            #clickeamos el vuelo para ver los precios\n",
    "            vuelo.click()\n",
    "            WebDriverWait(driver, delay).until(EC.presence_of_element_located((By.XPATH,'.//ol[@class=\"sc-iAVDmT DwgCo\"]')))\n",
    "            print('La tabla de precios terminó de cargar')\n",
    "            precios=obtener_precios(vuelo)\n",
    "        except TimeoutException:\n",
    "            print(\"La página tardó demasiado en cargar\")\n",
    "        #click nuevamente para cerrar los precios que se desplegaron\n",
    "        vuelo.click()\n",
    "\n",
    "        info.append({'precios':precios,'tiempos':tiempos,'escalas':escalas})\n",
    "        contador+=1\n",
    "        print(f'Analizando {contador} de {len(vuelos)} vuelos')\n",
    "\n",
    "    return info"
   ]
  },
  {
   "cell_type": "code",
   "execution_count": 7,
   "metadata": {},
   "outputs": [
    {
     "name": "stderr",
     "output_type": "stream",
     "text": [
      "C:\\Users\\mario\\AppData\\Local\\Temp\\ipykernel_9192\\3696530526.py:4: DeprecationWarning: executable_path has been deprecated, please pass in a Service object\n",
      "  driver = webdriver.Firefox(executable_path=GeckoDriverManager().install(), options=options)\n"
     ]
    },
    {
     "name": "stdout",
     "output_type": "stream",
     "text": [
      "La página terminó de cargar\n",
      "Se encontaron 30 vuelos.\n",
      "Iniciando Scraping...\n",
      "El modal del vuelo terminó de cargar\n",
      "error\n"
     ]
    },
    {
     "ename": "NoSuchElementException",
     "evalue": "Message: Unable to locate element: .//div[@class=\"sc-dhVevo bQUzMb\"]/div[@class=\"sc-fqCOlO lpqwwl\"]/div[@class=\"iataCode\"]/span[2]\nStacktrace:\nRemoteError@chrome://remote/content/shared/RemoteError.sys.mjs:8:8\nWebDriverError@chrome://remote/content/shared/webdriver/Errors.sys.mjs:182:5\nNoSuchElementError@chrome://remote/content/shared/webdriver/Errors.sys.mjs:394:5\nelement.find/</<@chrome://remote/content/marionette/element.sys.mjs:280:16\n",
     "output_type": "error",
     "traceback": [
      "\u001b[1;31m---------------------------------------------------------------------------\u001b[0m",
      "\u001b[1;31mNoSuchElementException\u001b[0m                    Traceback (most recent call last)",
      "Cell \u001b[1;32mIn [7], line 20\u001b[0m\n\u001b[0;32m     18\u001b[0m     WebDriverWait(driver, \u001b[39m10\u001b[39m)\u001b[39m.\u001b[39muntil(EC\u001b[39m.\u001b[39mpresence_of_element_located((By\u001b[39m.\u001b[39mXPATH, \u001b[39m'\u001b[39m\u001b[39m//div[@id=\u001b[39m\u001b[39m\"\u001b[39m\u001b[39mWrapperBodyFlights\u001b[39m\u001b[39m\"\u001b[39m\u001b[39m]/ol/li\u001b[39m\u001b[39m'\u001b[39m)))\n\u001b[0;32m     19\u001b[0m     \u001b[39mprint\u001b[39m(\u001b[39m'\u001b[39m\u001b[39mLa página terminó de cargar\u001b[39m\u001b[39m'\u001b[39m)\n\u001b[1;32m---> 20\u001b[0m     obtener_info(driver)\n\u001b[0;32m     21\u001b[0m \u001b[39mexcept\u001b[39;00m TimeoutException:\n\u001b[0;32m     22\u001b[0m     \u001b[39mprint\u001b[39m(\u001b[39m'\u001b[39m\u001b[39mLa página tardó demasiado en cargar\u001b[39m\u001b[39m'\u001b[39m)\n",
      "Cell \u001b[1;32mIn [6], line 19\u001b[0m, in \u001b[0;36mobtener_info\u001b[1;34m(driver)\u001b[0m\n\u001b[0;32m     17\u001b[0m     WebDriverWait(driver, delay)\u001b[39m.\u001b[39muntil(EC\u001b[39m.\u001b[39mpresence_of_element_located((By\u001b[39m.\u001b[39mXPATH, \u001b[39m'\u001b[39m\u001b[39m.//div[@id=\u001b[39m\u001b[39m\"\u001b[39m\u001b[39mitinerary-modal-0-dialog-content\u001b[39m\u001b[39m\"\u001b[39m\u001b[39m]\u001b[39m\u001b[39m'\u001b[39m)))\n\u001b[0;32m     18\u001b[0m     \u001b[39mprint\u001b[39m(\u001b[39m'\u001b[39m\u001b[39mEl modal del vuelo terminó de cargar\u001b[39m\u001b[39m'\u001b[39m)\n\u001b[1;32m---> 19\u001b[0m     escalas\u001b[39m=\u001b[39mobtener_datos_escalas(vuelo)\n\u001b[0;32m     20\u001b[0m \u001b[39mexcept\u001b[39;00m TimeoutException:\n\u001b[0;32m     21\u001b[0m     \u001b[39mprint\u001b[39m(\u001b[39m\"\u001b[39m\u001b[39mLa página tardó demasiado en cargar\u001b[39m\u001b[39m\"\u001b[39m)\n",
      "Cell \u001b[1;32mIn [4], line 13\u001b[0m, in \u001b[0;36mobtener_datos_escalas\u001b[1;34m(vuelo)\u001b[0m\n\u001b[0;32m     11\u001b[0m salida\u001b[39m=\u001b[39msegmento\u001b[39m.\u001b[39mfind_element(\u001b[39m'\u001b[39m\u001b[39mxpath\u001b[39m\u001b[39m'\u001b[39m,\u001b[39m'\u001b[39m\u001b[39m.//div[@class=\u001b[39m\u001b[39m\"\u001b[39m\u001b[39msc-dhVevo bQUzMb\u001b[39m\u001b[39m\"\u001b[39m\u001b[39m]/div[@class=\u001b[39m\u001b[39m\"\u001b[39m\u001b[39msc-fqCOlO lpqwwl\u001b[39m\u001b[39m\"\u001b[39m\u001b[39m]/div[@class=\u001b[39m\u001b[39m\"\u001b[39m\u001b[39miataCode\u001b[39m\u001b[39m\"\u001b[39m\u001b[39m]/span[1]\u001b[39m\u001b[39m'\u001b[39m)\u001b[39m.\u001b[39mtext\n\u001b[0;32m     12\u001b[0m \u001b[39m#hora de salida\u001b[39;00m\n\u001b[1;32m---> 13\u001b[0m hora_salida\u001b[39m=\u001b[39msegmento\u001b[39m.\u001b[39;49mfind_element(\u001b[39m'\u001b[39;49m\u001b[39mxpath\u001b[39;49m\u001b[39m'\u001b[39;49m,\u001b[39m'\u001b[39;49m\u001b[39m.//div[@class=\u001b[39;49m\u001b[39m\"\u001b[39;49m\u001b[39msc-dhVevo bQUzMb\u001b[39;49m\u001b[39m\"\u001b[39;49m\u001b[39m]/div[@class=\u001b[39;49m\u001b[39m\"\u001b[39;49m\u001b[39msc-fqCOlO lpqwwl\u001b[39;49m\u001b[39m\"\u001b[39;49m\u001b[39m]/div[@class=\u001b[39;49m\u001b[39m\"\u001b[39;49m\u001b[39miataCode\u001b[39;49m\u001b[39m\"\u001b[39;49m\u001b[39m]/span[2]\u001b[39;49m\u001b[39m'\u001b[39;49m)\u001b[39m.\u001b[39mtext\n\u001b[0;32m     14\u001b[0m \u001b[39m#destino\u001b[39;00m\n\u001b[0;32m     15\u001b[0m destino_segmento\u001b[39m=\u001b[39msegmento\u001b[39m.\u001b[39mfind_element(\u001b[39m'\u001b[39m\u001b[39mxpath\u001b[39m\u001b[39m'\u001b[39m,\u001b[39m'\u001b[39m\u001b[39m.//div[@class=\u001b[39m\u001b[39m\"\u001b[39m\u001b[39msc-hAcydR ikJhgn\u001b[39m\u001b[39m\"\u001b[39m\u001b[39m]/div[@class=\u001b[39m\u001b[39m\"\u001b[39m\u001b[39miataCode\u001b[39m\u001b[39m\"\u001b[39m\u001b[39m]/span[1]\u001b[39m\u001b[39m'\u001b[39m)\u001b[39m.\u001b[39mtext\n",
      "File \u001b[1;32mc:\\Users\\mario\\Documents\\Tutoriales\\web-scraping\\webscraping_platzi\\entv\\lib\\site-packages\\selenium\\webdriver\\remote\\webelement.py:433\u001b[0m, in \u001b[0;36mWebElement.find_element\u001b[1;34m(self, by, value)\u001b[0m\n\u001b[0;32m    430\u001b[0m     by \u001b[39m=\u001b[39m By\u001b[39m.\u001b[39mCSS_SELECTOR\n\u001b[0;32m    431\u001b[0m     value \u001b[39m=\u001b[39m \u001b[39m'\u001b[39m\u001b[39m[name=\u001b[39m\u001b[39m\"\u001b[39m\u001b[39m%s\u001b[39;00m\u001b[39m\"\u001b[39m\u001b[39m]\u001b[39m\u001b[39m'\u001b[39m \u001b[39m%\u001b[39m value\n\u001b[1;32m--> 433\u001b[0m \u001b[39mreturn\u001b[39;00m \u001b[39mself\u001b[39;49m\u001b[39m.\u001b[39;49m_execute(Command\u001b[39m.\u001b[39;49mFIND_CHILD_ELEMENT, {\u001b[39m\"\u001b[39;49m\u001b[39musing\u001b[39;49m\u001b[39m\"\u001b[39;49m: by, \u001b[39m\"\u001b[39;49m\u001b[39mvalue\u001b[39;49m\u001b[39m\"\u001b[39;49m: value})[\u001b[39m\"\u001b[39m\u001b[39mvalue\u001b[39m\u001b[39m\"\u001b[39m]\n",
      "File \u001b[1;32mc:\\Users\\mario\\Documents\\Tutoriales\\web-scraping\\webscraping_platzi\\entv\\lib\\site-packages\\selenium\\webdriver\\remote\\webelement.py:410\u001b[0m, in \u001b[0;36mWebElement._execute\u001b[1;34m(self, command, params)\u001b[0m\n\u001b[0;32m    408\u001b[0m     params \u001b[39m=\u001b[39m {}\n\u001b[0;32m    409\u001b[0m params[\u001b[39m\"\u001b[39m\u001b[39mid\u001b[39m\u001b[39m\"\u001b[39m] \u001b[39m=\u001b[39m \u001b[39mself\u001b[39m\u001b[39m.\u001b[39m_id\n\u001b[1;32m--> 410\u001b[0m \u001b[39mreturn\u001b[39;00m \u001b[39mself\u001b[39;49m\u001b[39m.\u001b[39;49m_parent\u001b[39m.\u001b[39;49mexecute(command, params)\n",
      "File \u001b[1;32mc:\\Users\\mario\\Documents\\Tutoriales\\web-scraping\\webscraping_platzi\\entv\\lib\\site-packages\\selenium\\webdriver\\remote\\webdriver.py:444\u001b[0m, in \u001b[0;36mWebDriver.execute\u001b[1;34m(self, driver_command, params)\u001b[0m\n\u001b[0;32m    442\u001b[0m response \u001b[39m=\u001b[39m \u001b[39mself\u001b[39m\u001b[39m.\u001b[39mcommand_executor\u001b[39m.\u001b[39mexecute(driver_command, params)\n\u001b[0;32m    443\u001b[0m \u001b[39mif\u001b[39;00m response:\n\u001b[1;32m--> 444\u001b[0m     \u001b[39mself\u001b[39;49m\u001b[39m.\u001b[39;49merror_handler\u001b[39m.\u001b[39;49mcheck_response(response)\n\u001b[0;32m    445\u001b[0m     response[\u001b[39m\"\u001b[39m\u001b[39mvalue\u001b[39m\u001b[39m\"\u001b[39m] \u001b[39m=\u001b[39m \u001b[39mself\u001b[39m\u001b[39m.\u001b[39m_unwrap_value(response\u001b[39m.\u001b[39mget(\u001b[39m\"\u001b[39m\u001b[39mvalue\u001b[39m\u001b[39m\"\u001b[39m, \u001b[39mNone\u001b[39;00m))\n\u001b[0;32m    446\u001b[0m     \u001b[39mreturn\u001b[39;00m response\n",
      "File \u001b[1;32mc:\\Users\\mario\\Documents\\Tutoriales\\web-scraping\\webscraping_platzi\\entv\\lib\\site-packages\\selenium\\webdriver\\remote\\errorhandler.py:249\u001b[0m, in \u001b[0;36mErrorHandler.check_response\u001b[1;34m(self, response)\u001b[0m\n\u001b[0;32m    247\u001b[0m         alert_text \u001b[39m=\u001b[39m value[\u001b[39m\"\u001b[39m\u001b[39malert\u001b[39m\u001b[39m\"\u001b[39m]\u001b[39m.\u001b[39mget(\u001b[39m\"\u001b[39m\u001b[39mtext\u001b[39m\u001b[39m\"\u001b[39m)\n\u001b[0;32m    248\u001b[0m     \u001b[39mraise\u001b[39;00m exception_class(message, screen, stacktrace, alert_text)  \u001b[39m# type: ignore[call-arg]  # mypy is not smart enough here\u001b[39;00m\n\u001b[1;32m--> 249\u001b[0m \u001b[39mraise\u001b[39;00m exception_class(message, screen, stacktrace)\n",
      "\u001b[1;31mNoSuchElementException\u001b[0m: Message: Unable to locate element: .//div[@class=\"sc-dhVevo bQUzMb\"]/div[@class=\"sc-fqCOlO lpqwwl\"]/div[@class=\"iataCode\"]/span[2]\nStacktrace:\nRemoteError@chrome://remote/content/shared/RemoteError.sys.mjs:8:8\nWebDriverError@chrome://remote/content/shared/webdriver/Errors.sys.mjs:182:5\nNoSuchElementError@chrome://remote/content/shared/webdriver/Errors.sys.mjs:394:5\nelement.find/</<@chrome://remote/content/marionette/element.sys.mjs:280:16\n"
     ]
    }
   ],
   "source": [
    "options = webdriver.FirefoxOptions()\n",
    "# Podemos agregarle opciones al driver para utilizar los distintos modos del navegador\n",
    "options.add_argument('-private')\n",
    "driver = webdriver.Firefox(executable_path=GeckoDriverManager().install(), options=options)\n",
    "driver.get(url)\n",
    "time.sleep(5)\n",
    "def close_dialog():\n",
    "    '''\n",
    "    Función que cierra los dialog o popups de la página\n",
    "    '''\n",
    "    dialogs = driver.find_elements(By.XPATH, '//div[contains(@class,\"MuiDialog-container\")]')\n",
    "    if len(dialogs):\n",
    "        dialogs[0].find_element(By.XPATH, './/button[contains(@class,\"Dialog__CloseButton\")]').click()\n",
    "close_dialog()\n",
    "\n",
    "try:\n",
    "    # introducir demora inteligente\n",
    "    WebDriverWait(driver, 10).until(EC.presence_of_element_located((By.XPATH, '//div[@id=\"WrapperBodyFlights\"]/ol/li')))\n",
    "    print('La página terminó de cargar')\n",
    "    obtener_info(driver)\n",
    "except TimeoutException:\n",
    "    print('La página tardó demasiado en cargar')\n",
    "finally:\n",
    "    print('error')\n",
    "    #driver.close()"
   ]
  },
  {
   "cell_type": "markdown",
   "metadata": {},
   "source": [
    "Paso 4: cerrar el navegador"
   ]
  },
  {
   "cell_type": "code",
   "execution_count": null,
   "metadata": {},
   "outputs": [],
   "source": [
    "driver.close()"
   ]
  }
 ],
 "metadata": {
  "kernelspec": {
   "display_name": "Python 3.10.4 ('entv': venv)",
   "language": "python",
   "name": "python3"
  },
  "language_info": {
   "codemirror_mode": {
    "name": "ipython",
    "version": 3
   },
   "file_extension": ".py",
   "mimetype": "text/x-python",
   "name": "python",
   "nbconvert_exporter": "python",
   "pygments_lexer": "ipython3",
   "version": "3.10.4"
  },
  "orig_nbformat": 4,
  "vscode": {
   "interpreter": {
    "hash": "8491acde47aa26015fdf488fd68628541edd72931848a0305ddc7dd62f03120a"
   }
  }
 },
 "nbformat": 4,
 "nbformat_minor": 2
}
