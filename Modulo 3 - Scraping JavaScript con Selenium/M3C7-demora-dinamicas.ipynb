{
 "cells": [
  {
   "cell_type": "markdown",
   "metadata": {},
   "source": [
    "# Módulo 2: Scraping con Selenium\n",
    "## LATAM Airlines\n",
    "<a href=\"https://www.latam.com/es_ar/\"><img src=\"https://i.pinimg.com/originals/dd/52/74/dd5274702d1382d696caeb6e0f6980c5.png\"  width=\"420\"></img></a>\n",
    "<br>\n",
    "\n",
    "Vamos a scrapear el sitio de Latam para averiguar datos de vuelos en funcion el origen y destino, fecha y cabina. La información que esperamos obtener de cada vuelo es:\n",
    "- Precio(s) disponibles\n",
    "- Horas de salida y llegada (duración)\n",
    "- Información de las escalas\n",
    "\n",
    "**¡Empecemos!**\n",
    "Utilicemos lo aprendido hasta ahora para lograr el objetivo propuesto"
   ]
  },
  {
   "cell_type": "markdown",
   "metadata": {},
   "source": [
    "## Selenium"
   ]
  },
  {
   "cell_type": "markdown",
   "metadata": {},
   "source": [
    "Selenium es una herramienta que nos permitirá controlar un navegador y podremos utilizar las funcionalidades del motor de JavaScript para cargar el contenido que no viene en el HTML de la página. Para esto necesitamos el módulo `webdriver`."
   ]
  },
  {
   "cell_type": "code",
   "execution_count": 1,
   "metadata": {},
   "outputs": [],
   "source": [
    "from selenium import webdriver\n",
    "# #importampos libreria para cargar el driver automaticamente\n",
    "# from webdriver_manager.firefox import GeckoDriverManager\n",
    "#importampos libreria para cargar el driver manualemente\n",
    "from selenium.webdriver.chrome.options import Options\n",
    "import time\n",
    "#pagina web que vamos a hacer el scraping\n",
    "url='https://www.latamairlines.com/ar/es/ofertas-vuelos?origin=ASU&inbound=null&outbound=2022-12-01T15%3A00%3A00.000Z&destination=MAD&adt=1&chd=0&inf=0&trip=OW&cabin=Economy&redemption=false&sort=RECOMMENDED'"
   ]
  },
  {
   "cell_type": "markdown",
   "metadata": {},
   "source": [
    "## Demora Dinamica\n",
    "<p>Para evitar fallos de carga de la página y de mensajes emergente que no dejen realizar el scraper, se implementan demoras dinámicas, estas a diferencia de la demora estática brindan un mejor rendimiento. Ya que no tienen que esperar el tiempo estático sino que esperan a que se cargue la página y si tarda menos del tiempo estipulado, empieza a hacer el scraper.</p>"
   ]
  },
  {
   "cell_type": "markdown",
   "metadata": {},
   "source": [
    " Lo mejor sería esperar a que la página termine de cargar y luego recuperar los elementos. para ello importamos varias librerias"
   ]
  },
  {
   "cell_type": "code",
   "execution_count": 2,
   "metadata": {},
   "outputs": [],
   "source": [
    "from selenium.webdriver.support.wait import WebDriverWait\n",
    "from selenium.webdriver.support import expected_conditions as EC\n",
    "from selenium.webdriver.common.by import By\n",
    "from selenium.common.exceptions import TimeoutException"
   ]
  },
  {
   "cell_type": "code",
   "execution_count": 3,
   "metadata": {},
   "outputs": [],
   "source": [
    "def obtener_precios(vuelo):\n",
    "    '''\n",
    "    Función que retorna una lista de diccionarios con las distintas tarifas\n",
    "    '''\n",
    "    time.sleep(5)\n",
    "    tarifas= vuelo.find_elements('xpath','.//ol[@class=\"sc-iAVDmT DwgCo\"]/li[@class=\"sc-jjgyjb buqrVI\"]')\n",
    "    precios=[]\n",
    "    for tarifa in tarifas:\n",
    "        #buscamos en cada pocision de la tarifa los siquientes elementos\n",
    "        nombre = tarifa.find_element('xpath','.//div[@class=\"sc-ieSwJA gfCbFb\"]/div[1]/span[@class=\"sc-gBSKhj chxCgG\"]').text\n",
    "        moneda= tarifa.find_element('xpath','.//div[@class=\"sc-ieSwJA gfCbFb\"]/div[3]//span[contains(@class,\"currency\")]').text\n",
    "        valor= tarifa.find_element('xpath','.//div[@class=\"sc-ieSwJA gfCbFb\"]/div[3]//span[@class=\"sc-ihiiSJ AoaXI\"]').text\n",
    "        #guardo los valores que obtengo en un diccionario\n",
    "        dict_tarifa={nombre:{'moneda':moneda,'valor':valor}}\n",
    "        #guradamos nuestro diccionario con los datos de tarifa a nuestra lia de precio\n",
    "        precios.append(dict_tarifa)\n",
    "    return precios"
   ]
  },
  {
   "cell_type": "code",
   "execution_count": 4,
   "metadata": {},
   "outputs": [],
   "source": [
    "def obtener_datos_escalas(vuelo):\n",
    "    '''\n",
    "    Función que retorna una lista de diccionarios con la información de \n",
    "    las escalas de cada vuelo\n",
    "    '''\n",
    "\n",
    "    # time.sleep(10)\n",
    "    #Espera inteligente\n",
    "    # try:\n",
    "    #     wait=WebDriverWait(vuelo, 10)\n",
    "    #     # WebDriverWait(driver, 10).until(EC.presence_of_element_located((By.XPATH, '//div[contains(@class,\"MuiDialogContent-root\")]/article//div/section')))\n",
    "    #     wait.until(EC.presence_of_all_elements_located((By.XPATH, '//div[contains(@class,\"MuiDialogContent-root\")]/article')))\n",
    "    #     print(\"Itinerario de vuelo termino de Cargar\")\n",
    "    # except TimeoutException:\n",
    "    #     print(\"Itinerario tardó demasiado en cargar\")\n",
    "    \n",
    "    \n",
    "    segmentos = vuelo.find_elements('xpath', '//div[contains(@class,\"MuiDialogContent-root\")]//article//div/section')\n",
    "    # segmentos= vuelo.find_elements('xpath','.//div[@class=\"MuiDialogContent-root sc-fjdhpX jvVjjf\"]//section')\n",
    "\n",
    "    datos_escalas=[]    \n",
    "    for segmento in segmentos: \n",
    "\n",
    "        try:\n",
    "            #origen\n",
    "            origen=segmento.find_element('xpath','.//div[@class=\"sc-dhVevo bQUzMb\"]/div[@class=\"sc-fqCOlO lpqwwl\"]/div[@class=\"iataCode\"]/span[1]').text\n",
    "        except:\n",
    "            pass\n",
    "\n",
    "        try:\n",
    "            #hora de salida\n",
    "            hora_salida=segmento.find_element('xpath','.//div[@class=\"sc-dhVevo bQUzMb\"]/div[@class=\"sc-fqCOlO lpqwwl\"]/div[@class=\"iataCode\"]/span[last()]').text\n",
    "        except:\n",
    "            pass\n",
    "\n",
    "        try:\n",
    "            #destino\n",
    "            destino_segmento=segmento.find_element('xpath','.//div[@class=\"sc-hAcydR ikJhgn\"]/div[@class=\"iataCode\"]/span[1]').text            \n",
    "        except:\n",
    "            pass\n",
    "\n",
    "        try:\n",
    "            #Hora de llegada\n",
    "            hora_llegada=segmento.find_element('xpath','.//div[@class=\"sc-hAcydR ikJhgn\"]/div[@class=\"iataCode\"]/span[2]').text            \n",
    "        except:\n",
    "            pass\n",
    "\n",
    "        try:\n",
    "            #Duracion del vuelo\n",
    "            duracion_segmento=segmento.find_element('xpath','.//div[@class=\"sc-dhVevo bQUzMb\"]/div[@class=\"sc-BOulX kmIWrd\"]/span[2]').text\n",
    "        except:\n",
    "            pass\n",
    "\n",
    "        try:\n",
    "            #Numero de vuelo\n",
    "            numero_vuelo_segmento=segmento.find_element('xpath','.//div[@class=\"sc-hlELIx iUypDF plane-info\"]//div[@class=\"sc-bscRGj iggkUa airline-wrapper\"]').text            \n",
    "        except:\n",
    "            pass\n",
    "\n",
    "        try:\n",
    "            #Modelo de avion\n",
    "            modelo_avion_segmento=segmento.find_element('xpath','.//div[@class=\"sc-hlELIx iUypDF plane-info\"]//span[@class=\"airplane-code\"]').text            \n",
    "        except:\n",
    "            pass\n",
    "        \n",
    "        #el último segmento no tendrá escala por que es el destino final del vuelo\n",
    "        if segmento != segmentos[-1]:\n",
    "            try:\n",
    "                #Duracion escala\n",
    "                duracion_escala_vuelo=segmento.find_element('xpath','.//div[@class=\"sc-fdJbru eZIckp\"]//span[@class=\"time\"]').text\n",
    "            except:    \n",
    "                duracion_escala_vuelo=''\n",
    "        else:\n",
    "            duracion_escala_vuelo=''\n",
    "        \n",
    "        # Armo un diccionario para almacenar los datos\n",
    "        datos_escalas_dict={\n",
    "            'origen':origen,\n",
    "            'hora_salida':hora_salida,\n",
    "            'duracion':duracion_segmento,\n",
    "            'modelo_avion':modelo_avion_segmento,\n",
    "            'destino':destino_segmento,\n",
    "            'hora_llegada':hora_llegada,\n",
    "            'numero_vuelo':numero_vuelo_segmento,\n",
    "            'duracion_escala':duracion_escala_vuelo}\n",
    "        datos_escalas.append(datos_escalas_dict)\n",
    "        # print (f'{datos_escalas}')\n",
    "    return datos_escalas"
   ]
  },
  {
   "cell_type": "code",
   "execution_count": 5,
   "metadata": {},
   "outputs": [],
   "source": [
    "def obtener_tiempos(vuelo):\n",
    "    '''\n",
    "    Función que retorna un diccionario con los horarios de salida y llegada de cada\n",
    "    vuelo, incluyendo la duración. \n",
    "    Nota: la duración del vuelo no es la hora de llegada - la hora de salida porque\n",
    "    puede haber diferencia de horarios entre el origen y el destino.\n",
    "    '''\n",
    "    #hora de salida\n",
    "    hora_salida=vuelo.find_element('xpath','.//div[@class=\"sc-ixltIz dfdfxH flight-information\"]/span[1]').text\n",
    "    #hora de llegada\n",
    "    hora_llegada=vuelo.find_element('xpath','.//div[3]/span[1]').text.replace('\\n+1','')\n",
    "    # Duracion del vuelo\n",
    "    duracion_vuelo= vuelo.find_element('xpath','.//div[2]/span[2]').text\n",
    "\n",
    "    tiempos_vuelo_dict={\n",
    "        'hora_salida':hora_salida,\n",
    "        'hora_llegada':hora_llegada,\n",
    "        'duracion_vuelo':duracion_vuelo\n",
    "    }\n",
    "\n",
    "    return tiempos_vuelo_dict"
   ]
  },
  {
   "cell_type": "code",
   "execution_count": 6,
   "metadata": {},
   "outputs": [],
   "source": [
    "def obtener_info(driver):\n",
    "    #Usaremos el Xpath para obtener la lista de vuelos\n",
    "    vuelos = driver.find_elements('xpath','//ol/li')\n",
    "    print(f'Se encontaron {len(vuelos)} vuelos.')\n",
    "    print(f'Iniciando Scraping...')\n",
    "    info=[]\n",
    "    contador=0\n",
    "    for vuelo in vuelos:\n",
    "        if contador<10:\n",
    "            contador+=1\n",
    "            print(f'Analizando {contador} de {len(vuelos)} vuelos')\n",
    "\n",
    "            #obtener los tiempos generales de cada vuelo\n",
    "            tiempos=obtener_tiempos(vuelo)\n",
    "            print(f'{tiempos}\\n')\n",
    "            \n",
    "            #clickeamos sobe el link escalas para que se habra el modal\n",
    "            vuelo.find_element('xpath','.//div[contains(@id, \"ContainerFooterCard\")]/a').click()\n",
    "\n",
    "            wait=WebDriverWait(driver, 15)\n",
    "            # wait.until(EC.visibility_of_all_elements_located((By.XPATH, '//div[contains(@class,\"MuiDialogContent-root\")]//article//div//section')))\n",
    "            wait.until(EC.visibility_of_all_elements_located((By.XPATH, '//div[contains(@class,\"MuiDialogContent-root\")]')))\n",
    "            \n",
    "            #obtener escalas\n",
    "            escalas=obtener_datos_escalas(vuelo)\n",
    "            print(f'{escalas}\\n')\n",
    "            \n",
    "            #cerramos el modal\n",
    "            driver.find_element('xpath','*//button[contains(@id,\"itinerary-modal-\")]').click()\n",
    "\n",
    "            #clickeamos el vuelo para ver los precios\n",
    "            vuelo.click()\n",
    "\n",
    "            print('La tabla de precios terminó de cargar')\n",
    "            precios=obtener_precios(vuelo)\n",
    "            print(f'{precios}\\n*********************************************\\n')\n",
    "            \n",
    "            #click nuevamente para cerrar los precios que se desplegaron\n",
    "            vuelo.find_element('xpath','//div[@id=\"undefined--button-wrapper\"]//button').click()\n",
    "\n",
    "            info.append({'precios':precios,'tiempos':tiempos,'escalas':escalas})\n",
    "\n",
    "    return info"
   ]
  },
  {
   "cell_type": "code",
   "execution_count": 7,
   "metadata": {},
   "outputs": [
    {
     "name": "stdout",
     "output_type": "stream",
     "text": [
      "La página terminó de cargar\n",
      "Se encontaron 30 vuelos.\n",
      "Iniciando Scraping...\n",
      "Analizando 1 de 30 vuelos\n",
      "{'hora_salida': '10:50', 'hora_llegada': '13:55', 'duracion_vuelo': '23 h 5 min'}\n",
      "\n",
      "[{'origen': 'ASU', 'hora_salida': '10:50', 'duracion': '2 h 50 min', 'modelo_avion': 'Airbus A320', 'destino': 'SCL', 'hora_llegada': '13:40', 'numero_vuelo': 'LA1324', 'duracion_escala': ''}, {'origen': 'ASU', 'hora_salida': '10:50', 'duracion': '2 h 50 min', 'modelo_avion': 'Airbus A320', 'destino': 'SCL', 'hora_llegada': '13:40', 'numero_vuelo': 'LA1324', 'duracion_escala': '7 h 40 min'}, {'origen': 'SCL', 'hora_salida': '21:20', 'duracion': '12 h 35 min', 'modelo_avion': 'Boeing B787-9', 'destino': 'MAD', 'hora_llegada': '13:55', 'numero_vuelo': 'LA706', 'duracion_escala': ''}]\n",
      "\n",
      "La tabla de precios terminó de cargar\n",
      "[{'light': {'moneda': 'ARS', 'valor': '345.574,70'}}, {'plus': {'moneda': 'ARS', 'valor': '386.194,70'}}, {'top': {'moneda': 'ARS', 'valor': '427.830,70'}}]\n",
      "*********************************************\n",
      "\n",
      "Analizando 2 de 30 vuelos\n",
      "{'hora_salida': '18:35', 'hora_llegada': '13:25', 'duracion_vuelo': '14 h 50 min'}\n",
      "\n",
      "[{'origen': '\\u200c', 'hora_salida': '18:35', 'duracion': '2 h 10 min', 'modelo_avion': 'Airbus A320', 'destino': 'GRU', 'hora_llegada': '20:45', 'numero_vuelo': 'LA1301', 'duracion_escala': ''}]\n",
      "\n",
      "La tabla de precios terminó de cargar\n",
      "[{'light': {'moneda': 'ARS', 'valor': '440.354,70'}}, {'plus': {'moneda': 'ARS', 'valor': '492.484,80'}}, {'top': {'moneda': 'ARS', 'valor': '545.966,70'}}]\n",
      "*********************************************\n",
      "\n",
      "Analizando 3 de 30 vuelos\n",
      "{'hora_salida': '6:00', 'hora_llegada': '13:25', 'duracion_vuelo': '27 h 25 min'}\n",
      "\n",
      "[{'origen': 'ASU', 'hora_salida': '6:00', 'duracion': '1 h 50 min', 'modelo_avion': 'CRJ-200', 'destino': 'MVD', 'hora_llegada': '7:50', 'numero_vuelo': 'LA6019', 'duracion_escala': ''}, {'origen': 'ASU', 'hora_salida': '6:00', 'duracion': '1 h 50 min', 'modelo_avion': 'CRJ-200', 'destino': 'MVD', 'hora_llegada': '7:50', 'numero_vuelo': 'LA6019', 'duracion_escala': '2 h 50 min'}, {'origen': 'MVD', 'hora_salida': '10:40', 'duracion': '2 h 25 min', 'modelo_avion': 'Airbus A320', 'destino': 'GRU', 'hora_llegada': '13:05', 'numero_vuelo': 'LA8119', 'duracion_escala': ''}, {'origen': 'MVD', 'hora_salida': '10:40', 'duracion': '2 h 25 min', 'modelo_avion': 'Airbus A320', 'destino': 'GRU', 'hora_llegada': '13:05', 'numero_vuelo': 'LA8119', 'duracion_escala': '10 h 25 min'}, {'origen': 'GRU', 'hora_salida': '23:30', 'duracion': '9 h 55 min', 'modelo_avion': 'Boeing B787-9', 'destino': 'MAD', 'hora_llegada': '13:25', 'numero_vuelo': 'LA8066', 'duracion_escala': ''}]\n",
      "\n",
      "La tabla de precios terminó de cargar\n",
      "[{'light': {'moneda': 'ARS', 'valor': '346.722,20'}}, {'plus': {'moneda': 'ARS', 'valor': '387.342,20'}}, {'top': {'moneda': 'ARS', 'valor': '428.978,20'}}]\n",
      "*********************************************\n",
      "\n",
      "Analizando 4 de 30 vuelos\n",
      "{'hora_salida': '6:00', 'hora_llegada': '13:55', 'duracion_vuelo': '27 h 55 min'}\n",
      "\n",
      "error\n"
     ]
    },
    {
     "ename": "UnboundLocalError",
     "evalue": "local variable 'hora_llegada' referenced before assignment",
     "output_type": "error",
     "traceback": [
      "\u001b[1;31m---------------------------------------------------------------------------\u001b[0m",
      "\u001b[1;31mUnboundLocalError\u001b[0m                         Traceback (most recent call last)",
      "Cell \u001b[1;32mIn [7], line 28\u001b[0m\n\u001b[0;32m     26\u001b[0m     WebDriverWait(driver, timeout\u001b[39m=\u001b[39m\u001b[39m15\u001b[39m)\u001b[39m.\u001b[39muntil(EC\u001b[39m.\u001b[39mpresence_of_element_located((By\u001b[39m.\u001b[39mXPATH, \u001b[39m'\u001b[39m\u001b[39m//div[@id=\u001b[39m\u001b[39m\"\u001b[39m\u001b[39mWrapperBodyFlights\u001b[39m\u001b[39m\"\u001b[39m\u001b[39m]/ol/li\u001b[39m\u001b[39m'\u001b[39m)))\n\u001b[0;32m     27\u001b[0m     \u001b[39mprint\u001b[39m(\u001b[39m'\u001b[39m\u001b[39mLa página terminó de cargar\u001b[39m\u001b[39m'\u001b[39m)\n\u001b[1;32m---> 28\u001b[0m     obtener_info(driver)\n\u001b[0;32m     29\u001b[0m \u001b[39mexcept\u001b[39;00m TimeoutException:\n\u001b[0;32m     30\u001b[0m     \u001b[39mprint\u001b[39m(\u001b[39m'\u001b[39m\u001b[39mLa página tardó demasiado en cargar\u001b[39m\u001b[39m'\u001b[39m)\n",
      "Cell \u001b[1;32mIn [6], line 25\u001b[0m, in \u001b[0;36mobtener_info\u001b[1;34m(driver)\u001b[0m\n\u001b[0;32m     22\u001b[0m wait\u001b[39m.\u001b[39muntil(EC\u001b[39m.\u001b[39mvisibility_of_all_elements_located((By\u001b[39m.\u001b[39mXPATH, \u001b[39m'\u001b[39m\u001b[39m//div[contains(@class,\u001b[39m\u001b[39m\"\u001b[39m\u001b[39mMuiDialogContent-root\u001b[39m\u001b[39m\"\u001b[39m\u001b[39m)]\u001b[39m\u001b[39m'\u001b[39m)))\n\u001b[0;32m     24\u001b[0m \u001b[39m#obtener escalas\u001b[39;00m\n\u001b[1;32m---> 25\u001b[0m escalas\u001b[39m=\u001b[39mobtener_datos_escalas(vuelo)\n\u001b[0;32m     26\u001b[0m \u001b[39mprint\u001b[39m(\u001b[39mf\u001b[39m\u001b[39m'\u001b[39m\u001b[39m{\u001b[39;00mescalas\u001b[39m}\u001b[39;00m\u001b[39m\\n\u001b[39;00m\u001b[39m'\u001b[39m)\n\u001b[0;32m     28\u001b[0m \u001b[39m#cerramos el modal\u001b[39;00m\n",
      "Cell \u001b[1;32mIn [4], line 83\u001b[0m, in \u001b[0;36mobtener_datos_escalas\u001b[1;34m(vuelo)\u001b[0m\n\u001b[0;32m     74\u001b[0m     duracion_escala_vuelo\u001b[39m=\u001b[39m\u001b[39m'\u001b[39m\u001b[39m'\u001b[39m\n\u001b[0;32m     76\u001b[0m \u001b[39m# Armo un diccionario para almacenar los datos\u001b[39;00m\n\u001b[0;32m     77\u001b[0m datos_escalas_dict\u001b[39m=\u001b[39m{\n\u001b[0;32m     78\u001b[0m     \u001b[39m'\u001b[39m\u001b[39morigen\u001b[39m\u001b[39m'\u001b[39m:origen,\n\u001b[0;32m     79\u001b[0m     \u001b[39m'\u001b[39m\u001b[39mhora_salida\u001b[39m\u001b[39m'\u001b[39m:hora_salida,\n\u001b[0;32m     80\u001b[0m     \u001b[39m'\u001b[39m\u001b[39mduracion\u001b[39m\u001b[39m'\u001b[39m:duracion_segmento,\n\u001b[0;32m     81\u001b[0m     \u001b[39m'\u001b[39m\u001b[39mmodelo_avion\u001b[39m\u001b[39m'\u001b[39m:modelo_avion_segmento,\n\u001b[0;32m     82\u001b[0m     \u001b[39m'\u001b[39m\u001b[39mdestino\u001b[39m\u001b[39m'\u001b[39m:destino_segmento,\n\u001b[1;32m---> 83\u001b[0m     \u001b[39m'\u001b[39m\u001b[39mhora_llegada\u001b[39m\u001b[39m'\u001b[39m:hora_llegada,\n\u001b[0;32m     84\u001b[0m     \u001b[39m'\u001b[39m\u001b[39mnumero_vuelo\u001b[39m\u001b[39m'\u001b[39m:numero_vuelo_segmento,\n\u001b[0;32m     85\u001b[0m     \u001b[39m'\u001b[39m\u001b[39mduracion_escala\u001b[39m\u001b[39m'\u001b[39m:duracion_escala_vuelo}\n\u001b[0;32m     86\u001b[0m datos_escalas\u001b[39m.\u001b[39mappend(datos_escalas_dict)\n\u001b[0;32m     87\u001b[0m \u001b[39m# print (f'{datos_escalas}')\u001b[39;00m\n",
      "\u001b[1;31mUnboundLocalError\u001b[0m: local variable 'hora_llegada' referenced before assignment"
     ]
    }
   ],
   "source": [
    "#cargar drive automaticamente utilizando webdriver\n",
    "# options = webdriver.FirefoxOptions()\n",
    "#carga driver manualmente\n",
    "options= Options()\n",
    "# Podemos agregarle opciones al driver para utilizar los distintos modos del navegador\n",
    "options.add_argument('--incognito')\n",
    "#cargar drive automaticamente utilizando webdriver\n",
    "#driver = webdriver.Firefox(executable_path=GeckoDriverManager().install(), options=options)\n",
    "#carga driver manualmente\n",
    "driver = webdriver.Chrome(options=options)\n",
    "driver.maximize_window()\n",
    "\n",
    "driver.get(url)\n",
    "def close_dialog():\n",
    "    '''\n",
    "    Función que cierra los dialog o popups de la página\n",
    "    '''\n",
    "    dialogs = driver.find_elements(By.XPATH, '//div[contains(@class,\"MuiDialog-container\")]')\n",
    "    if len(dialogs):\n",
    "        dialogs[0].find_element(By.XPATH, './/button[contains(@class,\"Dialog__CloseButton\")]').click()\n",
    "close_dialog()\n",
    "\n",
    "try:\n",
    "    # introducir demora inteligente\n",
    "    # WebDriverWait(driver, timeout=10).until(EC.presence_of_element_located((By.XPATH, '//div[@id=\"WrapperBodyFlights\"]/ol/li')))\n",
    "    WebDriverWait(driver, timeout=15).until(EC.presence_of_element_located((By.XPATH, '//div[@id=\"WrapperBodyFlights\"]/ol/li')))\n",
    "    print('La página terminó de cargar')\n",
    "    obtener_info(driver)\n",
    "except TimeoutException:\n",
    "    print('La página tardó demasiado en cargar')\n",
    "finally:\n",
    "    print('error')\n",
    "    \n",
    "    #driver.close()"
   ]
  },
  {
   "cell_type": "markdown",
   "metadata": {},
   "source": [
    "Paso 4: cerrar el navegador"
   ]
  },
  {
   "cell_type": "code",
   "execution_count": null,
   "metadata": {},
   "outputs": [],
   "source": [
    "driver.close()"
   ]
  }
 ],
 "metadata": {
  "kernelspec": {
   "display_name": "Python 3.10.4 ('entv': venv)",
   "language": "python",
   "name": "python3"
  },
  "language_info": {
   "codemirror_mode": {
    "name": "ipython",
    "version": 3
   },
   "file_extension": ".py",
   "mimetype": "text/x-python",
   "name": "python",
   "nbconvert_exporter": "python",
   "pygments_lexer": "ipython3",
   "version": "3.10.4"
  },
  "orig_nbformat": 4,
  "vscode": {
   "interpreter": {
    "hash": "8491acde47aa26015fdf488fd68628541edd72931848a0305ddc7dd62f03120a"
   }
  }
 },
 "nbformat": 4,
 "nbformat_minor": 2
}
