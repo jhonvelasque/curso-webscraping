{
 "cells": [
  {
   "cell_type": "markdown",
   "metadata": {},
   "source": [
    "# Módulo 2: Scraping con Selenium\n",
    "## LATAM Airlines\n",
    "<a href=\"https://www.latam.com/es_ar/\"><img src=\"https://i.pinimg.com/originals/dd/52/74/dd5274702d1382d696caeb6e0f6980c5.png\"  width=\"420\"></img></a>\n",
    "<br>\n",
    "\n",
    "Vamos a scrapear el sitio de Latam para averiguar datos de vuelos en funcion el origen y destino, fecha y cabina. La información que esperamos obtener de cada vuelo es:\n",
    "- Precio(s) disponibles\n",
    "- Horas de salida y llegada (duración)\n",
    "- Información de las escalas\n",
    "\n",
    "**¡Empecemos!**\n",
    "Utilicemos lo aprendido hasta ahora para lograr el objetivo propuesto"
   ]
  },
  {
   "cell_type": "markdown",
   "metadata": {},
   "source": [
    "## Selenium"
   ]
  },
  {
   "cell_type": "markdown",
   "metadata": {},
   "source": [
    "Selenium es una herramienta que nos permitirá controlar un navegador y podremos utilizar las funcionalidades del motor de JavaScript para cargar el contenido que no viene en el HTML de la página. Para esto necesitamos el módulo `webdriver`."
   ]
  },
  {
   "cell_type": "code",
   "execution_count": 1,
   "metadata": {},
   "outputs": [],
   "source": [
    "from selenium import webdriver\n",
    "#importampos libreria para cargar el driver automaticamente\n",
    "from webdriver_manager.firefox import GeckoDriverManager\n",
    "\n",
    "url='https://www.latamairlines.com/py/es/ofertas-vuelos?origin=ASU&outbound=2023-08-01T12%3A00%3A00.000Z&destination=BCN&inbound=null&adt=1&chd=0&inf=0&trip=OW&cabin=Economy&redemption=false&sort=RECOMMENDED'"
   ]
  },
  {
   "cell_type": "markdown",
   "metadata": {},
   "source": [
    "Necesitamos controladores web para diferentes navegadores web.<br>\n",
    "Paso 1: instanciar un **driver** del navegador"
   ]
  },
  {
   "cell_type": "code",
   "execution_count": 2,
   "metadata": {},
   "outputs": [
    {
     "name": "stderr",
     "output_type": "stream",
     "text": [
      "[WDM] - Downloading: 19.0kB [00:00, 6.52MB/s]                   \n",
      "[WDM] - Downloading: 100%|██████████| 1.58M/1.58M [00:01<00:00, 1.08MB/s]\n",
      "C:\\Users\\mario\\AppData\\Local\\Temp\\ipykernel_14396\\1250048064.py:4: DeprecationWarning: executable_path has been deprecated, please pass in a Service object\n",
      "  driver = webdriver.Firefox(executable_path=GeckoDriverManager().install(), options=options)\n"
     ]
    }
   ],
   "source": [
    "options = webdriver.FirefoxOptions()\n",
    "# Podemos agregarle opciones al driver para utilizar los distintos modos del navegador\n",
    "options.add_argument('-private')\n",
    "driver = webdriver.Firefox(executable_path=GeckoDriverManager().install(), options=options)"
   ]
  },
  {
   "cell_type": "markdown",
   "metadata": {},
   "source": [
    "Paso 2: hacer que el navegador cargue la página web."
   ]
  },
  {
   "cell_type": "code",
   "execution_count": 3,
   "metadata": {},
   "outputs": [],
   "source": [
    "driver.get(url)"
   ]
  },
  {
   "cell_type": "markdown",
   "metadata": {},
   "source": [
    "paso 3:Extraer informacion de la pagina<br>\n",
    "Carguemos la página y analicemos dónde se encuentra la información<br>\n",
    "Vemos que el bloque de vuelos se encuentra en una `ul` y que cada vuelo es un item de la lista, `li`. <br>"
   ]
  },
  {
   "cell_type": "code",
   "execution_count": 4,
   "metadata": {},
   "outputs": [
    {
     "name": "stdout",
     "output_type": "stream",
     "text": [
      "[<selenium.webdriver.remote.webelement.WebElement (session=\"aedd09d9-9eeb-4b9b-baa7-a9f84535d58f\", element=\"6683f637-efbe-4939-b40d-7df0ebb61d20\")>, <selenium.webdriver.remote.webelement.WebElement (session=\"aedd09d9-9eeb-4b9b-baa7-a9f84535d58f\", element=\"986234df-1a00-4d7f-8a8e-be1ab01b540d\")>, <selenium.webdriver.remote.webelement.WebElement (session=\"aedd09d9-9eeb-4b9b-baa7-a9f84535d58f\", element=\"1691c09f-e1cb-4b39-a556-3a652ce57a46\")>, <selenium.webdriver.remote.webelement.WebElement (session=\"aedd09d9-9eeb-4b9b-baa7-a9f84535d58f\", element=\"44e9f267-e022-4d36-831c-b12bcdc53ba9\")>, <selenium.webdriver.remote.webelement.WebElement (session=\"aedd09d9-9eeb-4b9b-baa7-a9f84535d58f\", element=\"0f63cd7e-15de-4e84-b115-287b83a63af1\")>, <selenium.webdriver.remote.webelement.WebElement (session=\"aedd09d9-9eeb-4b9b-baa7-a9f84535d58f\", element=\"547241cf-6246-4204-8e55-7e093c5a0b6b\")>, <selenium.webdriver.remote.webelement.WebElement (session=\"aedd09d9-9eeb-4b9b-baa7-a9f84535d58f\", element=\"901af90a-ee4d-4259-8007-40d3119d5d31\")>, <selenium.webdriver.remote.webelement.WebElement (session=\"aedd09d9-9eeb-4b9b-baa7-a9f84535d58f\", element=\"013ed0b2-d3bb-4f6e-abb1-e73828bbfb04\")>, <selenium.webdriver.remote.webelement.WebElement (session=\"aedd09d9-9eeb-4b9b-baa7-a9f84535d58f\", element=\"bbad4428-d177-4c2f-ac6a-2d8d6e0de626\")>, <selenium.webdriver.remote.webelement.WebElement (session=\"aedd09d9-9eeb-4b9b-baa7-a9f84535d58f\", element=\"e1f51be0-1b45-43ea-992c-89ec24ce171a\")>, <selenium.webdriver.remote.webelement.WebElement (session=\"aedd09d9-9eeb-4b9b-baa7-a9f84535d58f\", element=\"238bd1bc-a0a9-42f1-b920-c0bc32b6c0c3\")>, <selenium.webdriver.remote.webelement.WebElement (session=\"aedd09d9-9eeb-4b9b-baa7-a9f84535d58f\", element=\"4d46639a-7509-4a89-b538-972b8784b54e\")>, <selenium.webdriver.remote.webelement.WebElement (session=\"aedd09d9-9eeb-4b9b-baa7-a9f84535d58f\", element=\"092136c0-1a95-412e-a956-08af48d04c5e\")>, <selenium.webdriver.remote.webelement.WebElement (session=\"aedd09d9-9eeb-4b9b-baa7-a9f84535d58f\", element=\"5b0463c5-2a25-4187-ab97-3bae88d095de\")>, <selenium.webdriver.remote.webelement.WebElement (session=\"aedd09d9-9eeb-4b9b-baa7-a9f84535d58f\", element=\"c3f38195-25df-4e77-9a6b-f63dc324b090\")>, <selenium.webdriver.remote.webelement.WebElement (session=\"aedd09d9-9eeb-4b9b-baa7-a9f84535d58f\", element=\"9703bf1d-73e7-4bf6-b9e5-6df04d08af72\")>, <selenium.webdriver.remote.webelement.WebElement (session=\"aedd09d9-9eeb-4b9b-baa7-a9f84535d58f\", element=\"c21d20ca-020c-448e-a819-89e1acd4d633\")>, <selenium.webdriver.remote.webelement.WebElement (session=\"aedd09d9-9eeb-4b9b-baa7-a9f84535d58f\", element=\"4cad7a7a-b562-40d6-9a6e-b74d6cc88159\")>, <selenium.webdriver.remote.webelement.WebElement (session=\"aedd09d9-9eeb-4b9b-baa7-a9f84535d58f\", element=\"1a2367dd-716a-46fa-b96c-1c0b0ed58afa\")>, <selenium.webdriver.remote.webelement.WebElement (session=\"aedd09d9-9eeb-4b9b-baa7-a9f84535d58f\", element=\"c2db626b-c09a-4871-b6db-5b6b5417e048\")>, <selenium.webdriver.remote.webelement.WebElement (session=\"aedd09d9-9eeb-4b9b-baa7-a9f84535d58f\", element=\"f7a665c7-e93f-481b-bc09-10d34d692792\")>, <selenium.webdriver.remote.webelement.WebElement (session=\"aedd09d9-9eeb-4b9b-baa7-a9f84535d58f\", element=\"3e5c7916-682e-4787-ae51-8eafa6d84a0a\")>, <selenium.webdriver.remote.webelement.WebElement (session=\"aedd09d9-9eeb-4b9b-baa7-a9f84535d58f\", element=\"b45ceaea-8cba-4c6c-9392-645b12514db4\")>, <selenium.webdriver.remote.webelement.WebElement (session=\"aedd09d9-9eeb-4b9b-baa7-a9f84535d58f\", element=\"779609fc-25e4-4b44-8c5e-410bc0ad9215\")>, <selenium.webdriver.remote.webelement.WebElement (session=\"aedd09d9-9eeb-4b9b-baa7-a9f84535d58f\", element=\"711a0368-070a-4156-84cd-579535c560d2\")>, <selenium.webdriver.remote.webelement.WebElement (session=\"aedd09d9-9eeb-4b9b-baa7-a9f84535d58f\", element=\"a9395ba4-f790-4972-8b6c-c4df196ce647\")>, <selenium.webdriver.remote.webelement.WebElement (session=\"aedd09d9-9eeb-4b9b-baa7-a9f84535d58f\", element=\"291610a7-ee79-4669-af10-25e5a379f6f9\")>, <selenium.webdriver.remote.webelement.WebElement (session=\"aedd09d9-9eeb-4b9b-baa7-a9f84535d58f\", element=\"57ed8f21-e8df-4c25-a813-05ce7f39eb5c\")>]\n"
     ]
    }
   ],
   "source": [
    "#Usaremos el Xpath para obtener la lista de vuelos\n",
    "vuelos = driver.find_elements('xpath','//ol/li')\n",
    "print (vuelos)"
   ]
  },
  {
   "cell_type": "markdown",
   "metadata": {},
   "source": [
    "Obtengamos la informacion de la hora de salida, llegada y duracion del vuelo"
   ]
  },
  {
   "cell_type": "markdown",
   "metadata": {},
   "source": [
    "Notar que el xpath comienza con \".\", lo que indica que sólo debe buscar en los hijos de ese elemento. Si no ponemos el \".\", busca en todo el árbol.<br>\n",
    "Elementos importantes de xpath:\n",
    "- \"//\" busca en todos los hijos del elemento. \"/\" busca sólo en hijos directos\n",
    "- \".\" indica que la búsqueda debe empezar en ese elemento y no en el origen del árbol\n",
    "- Los atributos de los tags se buscan entre [] y con @"
   ]
  },
  {
   "cell_type": "code",
   "execution_count": 10,
   "metadata": {},
   "outputs": [
    {
     "name": "stdout",
     "output_type": "stream",
     "text": [
      "6:55 a. m.\n"
     ]
    }
   ],
   "source": [
    "#seleccionamos el primer vuelo\n",
    "vuelo_1=vuelos[0]\n",
    "#hora de salida\n",
    "hora_salida=vuelo_1.find_element('xpath','//div[@class=\"sc-klSiHT hjzFuR flight-information\"]/span[1]').text\n",
    "print (hora_salida)"
   ]
  },
  {
   "cell_type": "code",
   "execution_count": 11,
   "metadata": {},
   "outputs": [
    {
     "name": "stdout",
     "output_type": "stream",
     "text": [
      "5:20 p. m.\n"
     ]
    }
   ],
   "source": [
    "#hora de llegada\n",
    "hora_llegada=vuelo_1.find_element('xpath','.//div[3]/span[1]').text.replace('\\n+1','')\n",
    "print (hora_llegada)"
   ]
  },
  {
   "cell_type": "code",
   "execution_count": 12,
   "metadata": {},
   "outputs": [
    {
     "name": "stdout",
     "output_type": "stream",
     "text": [
      "28 h 25 min\n"
     ]
    }
   ],
   "source": [
    "# Duracion del vuelo\n",
    "duracion_vuelo= vuelo_1.find_element('xpath','.//div[2]/span[2]').text\n",
    "print (duracion_vuelo)"
   ]
  },
  {
   "cell_type": "markdown",
   "metadata": {},
   "source": [
    "veremos cómo obtener la información de las escalas de cada vuelo. <br>\n",
    "Para desplegar esa información de las escalas, debemos clickear en link para que se habilite el modal que contiene la informacion. Seleccionémoslo:"
   ]
  },
  {
   "cell_type": "code",
   "execution_count": 14,
   "metadata": {},
   "outputs": [
    {
     "name": "stdout",
     "output_type": "stream",
     "text": [
      "<selenium.webdriver.remote.webelement.WebElement (session=\"aedd09d9-9eeb-4b9b-baa7-a9f84535d58f\", element=\"afe06b17-fdd4-4b3e-bd85-fcde17b97866\")>\n"
     ]
    }
   ],
   "source": [
    "link_escalas = vuelo_1.find_element('xpath','//div[@class=\"sc-iKiVwC fbWfQZ\"]//a')\n",
    "print (link_escalas)"
   ]
  },
  {
   "cell_type": "markdown",
   "metadata": {},
   "source": [
    "Una vez ubicado el elemento podemos clickear sobre él"
   ]
  },
  {
   "cell_type": "code",
   "execution_count": 15,
   "metadata": {},
   "outputs": [],
   "source": [
    "link_escalas.click()"
   ]
  },
  {
   "cell_type": "markdown",
   "metadata": {},
   "source": [
    "Y vemos cómo se despliega la información que estamos buscando enn el driver del navegador. **Notar que cambió el html de la página al hacer click sobre ese botón**"
   ]
  },
  {
   "cell_type": "markdown",
   "metadata": {},
   "source": [
    "ahora debemos seleccionar los segmentos que contiene el vuelo para calcular la cantidad de escalas, actualmente vemos que las paradas estan contenidas en elementos sections, asi que debemos contabilizar las paradas"
   ]
  },
  {
   "cell_type": "code",
   "execution_count": 19,
   "metadata": {},
   "outputs": [
    {
     "name": "stdout",
     "output_type": "stream",
     "text": [
      "[<selenium.webdriver.remote.webelement.WebElement (session=\"aedd09d9-9eeb-4b9b-baa7-a9f84535d58f\", element=\"ca8ab4e1-e1a3-40cd-b886-8539de157a5c\")>, <selenium.webdriver.remote.webelement.WebElement (session=\"aedd09d9-9eeb-4b9b-baa7-a9f84535d58f\", element=\"85afdffb-9260-4c34-86d7-8108430a9435\")>, <selenium.webdriver.remote.webelement.WebElement (session=\"aedd09d9-9eeb-4b9b-baa7-a9f84535d58f\", element=\"9bcad1de-bc1f-422d-9487-dfcdbb293104\")>]\n"
     ]
    }
   ],
   "source": [
    "paradas= link_escalas.find_elements('xpath','//section[@class=\"sc-fGSyRc fCuylQ\"]')\n",
    "print(paradas)"
   ]
  },
  {
   "cell_type": "markdown",
   "metadata": {},
   "source": [
    "para calcular las escalas, debemos restar -1 la cantidad total de paradas"
   ]
  },
  {
   "cell_type": "code",
   "execution_count": 20,
   "metadata": {},
   "outputs": [
    {
     "name": "stdout",
     "output_type": "stream",
     "text": [
      "2\n"
     ]
    }
   ],
   "source": [
    "escalas=len(paradas)-1\n",
    "print(escalas)"
   ]
  },
  {
   "cell_type": "markdown",
   "metadata": {},
   "source": [
    "Hasta aquí llegamos en esta seccion, en la que vimos cómo utilizar Selenium para intearctuar con elementos de la pàgina web para obtener información que estaba \"oculta\""
   ]
  },
  {
   "cell_type": "markdown",
   "metadata": {},
   "source": [
    "Paso 4: cerrar el navegador"
   ]
  },
  {
   "cell_type": "code",
   "execution_count": 21,
   "metadata": {},
   "outputs": [],
   "source": [
    "driver.close()"
   ]
  }
 ],
 "metadata": {
  "kernelspec": {
   "display_name": "entv",
   "language": "python",
   "name": "python3"
  },
  "language_info": {
   "codemirror_mode": {
    "name": "ipython",
    "version": 3
   },
   "file_extension": ".py",
   "mimetype": "text/x-python",
   "name": "python",
   "nbconvert_exporter": "python",
   "pygments_lexer": "ipython3",
   "version": "3.10.4"
  },
  "orig_nbformat": 4,
  "vscode": {
   "interpreter": {
    "hash": "3c9f14f62ae38687a43d3c4d4204d3209bda7dbcb4b892870ffb1d2057cbf93a"
   }
  }
 },
 "nbformat": 4,
 "nbformat_minor": 2
}
