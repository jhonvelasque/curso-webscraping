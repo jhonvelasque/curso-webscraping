{
 "cells": [
  {
   "cell_type": "markdown",
   "metadata": {},
   "source": [
    "# Módulo 2: Scraping con Selenium\n",
    "## LATAM Airlines\n",
    "<a href=\"https://www.latam.com/es_ar/\"><img src=\"https://i.pinimg.com/originals/dd/52/74/dd5274702d1382d696caeb6e0f6980c5.png\"  width=\"420\"></img></a>\n",
    "<br>\n",
    "\n",
    "Vamos a scrapear el sitio de Latam para averiguar datos de vuelos en funcion el origen y destino, fecha y cabina. La información que esperamos obtener de cada vuelo es:\n",
    "- Precio(s) disponibles\n",
    "- Horas de salida y llegada (duración)\n",
    "- Información de las escalas\n",
    "\n",
    "**¡Empecemos!**\n",
    "Utilicemos lo aprendido hasta ahora para lograr el objetivo propuesto"
   ]
  },
  {
   "cell_type": "markdown",
   "metadata": {},
   "source": [
    "## Selenium"
   ]
  },
  {
   "cell_type": "markdown",
   "metadata": {},
   "source": [
    "Selenium es una herramienta que nos permitirá controlar un navegador y podremos utilizar las funcionalidades del motor de JavaScript para cargar el contenido que no viene en el HTML de la página. Para esto necesitamos el módulo `webdriver`."
   ]
  },
  {
   "cell_type": "code",
   "execution_count": 16,
   "metadata": {},
   "outputs": [],
   "source": [
    "from selenium import webdriver\n",
    "#importampos libreria para cargar el driver automaticamente\n",
    "from webdriver_manager.firefox import GeckoDriverManager\n",
    "\n",
    "url='https://www.latamairlines.com/ar/es/ofertas-vuelos?origin=ASU&inbound=null&outbound=2022-12-01T15%3A00%3A00.000Z&destination=MAD&adt=1&chd=0&inf=0&trip=OW&cabin=Economy&redemption=false&sort=RECOMMENDED'"
   ]
  },
  {
   "cell_type": "markdown",
   "metadata": {},
   "source": [
    "Necesitamos controladores web para diferentes navegadores web.<br>\n",
    "Paso 1: instanciar un **driver** del navegador"
   ]
  },
  {
   "cell_type": "code",
   "execution_count": 17,
   "metadata": {},
   "outputs": [
    {
     "name": "stderr",
     "output_type": "stream",
     "text": [
      "[WDM] - Downloading: 19.0kB [00:00, 6.52MB/s]                   \n",
      "C:\\Users\\mario\\AppData\\Local\\Temp\\ipykernel_14588\\1250048064.py:4: DeprecationWarning: executable_path has been deprecated, please pass in a Service object\n",
      "  driver = webdriver.Firefox(executable_path=GeckoDriverManager().install(), options=options)\n"
     ]
    }
   ],
   "source": [
    "options = webdriver.FirefoxOptions()\n",
    "# Podemos agregarle opciones al driver para utilizar los distintos modos del navegador\n",
    "options.add_argument('-private')\n",
    "driver = webdriver.Firefox(executable_path=GeckoDriverManager().install(), options=options)"
   ]
  },
  {
   "cell_type": "markdown",
   "metadata": {},
   "source": [
    "Paso 2: hacer que el navegador cargue la página web."
   ]
  },
  {
   "cell_type": "code",
   "execution_count": 18,
   "metadata": {},
   "outputs": [],
   "source": [
    "driver.get(url)"
   ]
  },
  {
   "cell_type": "markdown",
   "metadata": {},
   "source": [
    "paso 3:Extraer informacion de la pagina<br>\n",
    "Carguemos la página y analicemos dónde se encuentra la información<br>\n",
    "Vemos que el bloque de vuelos se encuentra en una `ul` y que cada vuelo es un item de la lista, `li`. <br>"
   ]
  },
  {
   "cell_type": "code",
   "execution_count": 19,
   "metadata": {},
   "outputs": [
    {
     "name": "stdout",
     "output_type": "stream",
     "text": [
      "[<selenium.webdriver.remote.webelement.WebElement (session=\"30b5a596-d633-47be-b92e-51501d732334\", element=\"287fc6c8-855f-490a-8846-80bf147d27c1\")>, <selenium.webdriver.remote.webelement.WebElement (session=\"30b5a596-d633-47be-b92e-51501d732334\", element=\"59ed8c6b-287d-4fad-abe9-8f2e23972516\")>, <selenium.webdriver.remote.webelement.WebElement (session=\"30b5a596-d633-47be-b92e-51501d732334\", element=\"f5a980ec-4369-48b7-b5b3-e4ac8cd1ba5b\")>, <selenium.webdriver.remote.webelement.WebElement (session=\"30b5a596-d633-47be-b92e-51501d732334\", element=\"5f98a230-f7a1-4258-ad78-d80b9863515a\")>, <selenium.webdriver.remote.webelement.WebElement (session=\"30b5a596-d633-47be-b92e-51501d732334\", element=\"54562446-c699-4c0a-8e27-3f6771285e5b\")>, <selenium.webdriver.remote.webelement.WebElement (session=\"30b5a596-d633-47be-b92e-51501d732334\", element=\"8e0a6367-28f8-4524-a09c-24ee96cf1c98\")>, <selenium.webdriver.remote.webelement.WebElement (session=\"30b5a596-d633-47be-b92e-51501d732334\", element=\"88eed4ac-ddd9-474b-9881-296f6ecf546b\")>, <selenium.webdriver.remote.webelement.WebElement (session=\"30b5a596-d633-47be-b92e-51501d732334\", element=\"66b94675-c154-4854-ae2a-3363e172dd5c\")>, <selenium.webdriver.remote.webelement.WebElement (session=\"30b5a596-d633-47be-b92e-51501d732334\", element=\"8c88ef34-7286-4bbb-bb16-f84d81391ebf\")>, <selenium.webdriver.remote.webelement.WebElement (session=\"30b5a596-d633-47be-b92e-51501d732334\", element=\"66360e3b-5abe-428d-ae85-bcadb8a0748b\")>, <selenium.webdriver.remote.webelement.WebElement (session=\"30b5a596-d633-47be-b92e-51501d732334\", element=\"5d05545c-fb66-4161-a108-57bcd67a7a69\")>, <selenium.webdriver.remote.webelement.WebElement (session=\"30b5a596-d633-47be-b92e-51501d732334\", element=\"201d3f7e-25f3-44e9-8d55-d8c757f0cdaa\")>, <selenium.webdriver.remote.webelement.WebElement (session=\"30b5a596-d633-47be-b92e-51501d732334\", element=\"c3b4858e-d32c-438d-9942-14aefb3dec93\")>, <selenium.webdriver.remote.webelement.WebElement (session=\"30b5a596-d633-47be-b92e-51501d732334\", element=\"b323e7bf-5bd8-4cb0-89ee-3175041c7688\")>, <selenium.webdriver.remote.webelement.WebElement (session=\"30b5a596-d633-47be-b92e-51501d732334\", element=\"44150f43-7fd1-4ec3-be1f-ffd3182d4d1e\")>, <selenium.webdriver.remote.webelement.WebElement (session=\"30b5a596-d633-47be-b92e-51501d732334\", element=\"48c2e9bf-a06a-4643-b5f6-7ff7be54256d\")>, <selenium.webdriver.remote.webelement.WebElement (session=\"30b5a596-d633-47be-b92e-51501d732334\", element=\"9c220331-0f28-4949-99f5-9adcc321949b\")>, <selenium.webdriver.remote.webelement.WebElement (session=\"30b5a596-d633-47be-b92e-51501d732334\", element=\"deba82bb-e97b-48e3-a363-15abbbc5cbdf\")>, <selenium.webdriver.remote.webelement.WebElement (session=\"30b5a596-d633-47be-b92e-51501d732334\", element=\"d2193c82-00ba-45bb-b575-dd3a2111aef2\")>, <selenium.webdriver.remote.webelement.WebElement (session=\"30b5a596-d633-47be-b92e-51501d732334\", element=\"168300a4-032c-427c-bf68-5727d8a9f0fe\")>, <selenium.webdriver.remote.webelement.WebElement (session=\"30b5a596-d633-47be-b92e-51501d732334\", element=\"77c3a721-54da-4d13-b2c1-3e85fd67c6f3\")>, <selenium.webdriver.remote.webelement.WebElement (session=\"30b5a596-d633-47be-b92e-51501d732334\", element=\"3f88593a-48c2-4eeb-ae68-335915192b77\")>, <selenium.webdriver.remote.webelement.WebElement (session=\"30b5a596-d633-47be-b92e-51501d732334\", element=\"af812c3d-b04e-482c-9d24-fd521998a0ff\")>, <selenium.webdriver.remote.webelement.WebElement (session=\"30b5a596-d633-47be-b92e-51501d732334\", element=\"8564947d-0244-4123-91e4-dda582e9ff56\")>, <selenium.webdriver.remote.webelement.WebElement (session=\"30b5a596-d633-47be-b92e-51501d732334\", element=\"28b31568-4fde-4f2d-b535-7bffbb817d81\")>, <selenium.webdriver.remote.webelement.WebElement (session=\"30b5a596-d633-47be-b92e-51501d732334\", element=\"18ee4605-6f6b-47b0-bd8d-af84a7b55cd4\")>, <selenium.webdriver.remote.webelement.WebElement (session=\"30b5a596-d633-47be-b92e-51501d732334\", element=\"b37207d8-f1f4-4fdc-8a1d-8d5ad10119d7\")>, <selenium.webdriver.remote.webelement.WebElement (session=\"30b5a596-d633-47be-b92e-51501d732334\", element=\"59e98c33-018d-4911-a0c8-f45a32862b0c\")>, <selenium.webdriver.remote.webelement.WebElement (session=\"30b5a596-d633-47be-b92e-51501d732334\", element=\"419e1897-78a1-42d6-97fb-6c6dfb21c929\")>, <selenium.webdriver.remote.webelement.WebElement (session=\"30b5a596-d633-47be-b92e-51501d732334\", element=\"e698e5bf-7a77-4b37-9f4d-4c56a0c36d79\")>]\n"
     ]
    }
   ],
   "source": [
    "#Usaremos el Xpath para obtener la lista de vuelos\n",
    "vuelos = driver.find_elements('xpath','//ol/li')\n",
    "print (vuelos)"
   ]
  },
  {
   "cell_type": "markdown",
   "metadata": {},
   "source": [
    "Obtengamos la informacion de la hora de salida, llegada y duracion del vuelo"
   ]
  },
  {
   "cell_type": "markdown",
   "metadata": {},
   "source": [
    "Notar que el xpath comienza con \".\", lo que indica que sólo debe buscar en los hijos de ese elemento. Si no ponemos el \".\", busca en todo el árbol.<br>\n",
    "Elementos importantes de xpath:\n",
    "- \"//\" busca en todos los hijos del elemento. \"/\" busca sólo en hijos directos\n",
    "- \".\" indica que la búsqueda debe empezar en ese elemento y no en el origen del árbol\n",
    "- Los atributos de los tags se buscan entre [] y con @"
   ]
  },
  {
   "cell_type": "code",
   "execution_count": 20,
   "metadata": {},
   "outputs": [
    {
     "name": "stdout",
     "output_type": "stream",
     "text": [
      "10:50\n"
     ]
    }
   ],
   "source": [
    "#seleccionamos el primer vuelo\n",
    "vuelo_1=vuelos[0]\n",
    "#hora de salida\n",
    "hora_salida=vuelo_1.find_element('xpath','//div[@class=\"sc-ixltIz dfdfxH flight-information\"]/span[1]').text\n",
    "print (hora_salida)"
   ]
  },
  {
   "cell_type": "code",
   "execution_count": 21,
   "metadata": {},
   "outputs": [
    {
     "name": "stdout",
     "output_type": "stream",
     "text": [
      "13:55\n"
     ]
    }
   ],
   "source": [
    "#hora de llegada\n",
    "hora_llegada=vuelo_1.find_element('xpath','.//div[3]/span[1]').text.replace('\\n+1','')\n",
    "print (hora_llegada)"
   ]
  },
  {
   "cell_type": "code",
   "execution_count": 22,
   "metadata": {},
   "outputs": [
    {
     "name": "stdout",
     "output_type": "stream",
     "text": [
      "23 h 5 min\n"
     ]
    }
   ],
   "source": [
    "# Duracion del vuelo\n",
    "duracion_vuelo= vuelo_1.find_element('xpath','.//div[2]/span[2]').text\n",
    "print (duracion_vuelo)"
   ]
  },
  {
   "cell_type": "markdown",
   "metadata": {},
   "source": [
    "Para desplegar esa información de las esclas, debemos clickear en link para que se habilite el modal que contiene la informacion. Seleccionémoslo:"
   ]
  },
  {
   "cell_type": "code",
   "execution_count": 35,
   "metadata": {},
   "outputs": [
    {
     "name": "stdout",
     "output_type": "stream",
     "text": [
      "<selenium.webdriver.remote.webelement.WebElement (session=\"30b5a596-d633-47be-b92e-51501d732334\", element=\"c0f163fc-4bed-4785-bb6e-d8e0f7649ce0\")>\n"
     ]
    }
   ],
   "source": [
    "link_escalas = vuelo_1.find_element('xpath','//div[@class=\"sc-fYAFcb kdctDt\"]//a')\n",
    "print (link_escalas)"
   ]
  },
  {
   "cell_type": "markdown",
   "metadata": {},
   "source": [
    "Una vez ubicado el elemento podemos clickear sobre él"
   ]
  },
  {
   "cell_type": "code",
   "execution_count": 38,
   "metadata": {},
   "outputs": [],
   "source": [
    "link_escalas.click()"
   ]
  },
  {
   "cell_type": "markdown",
   "metadata": {},
   "source": [
    "Y vemos cómo se despliega la información que estamos buscando. **Notar que cambió el html de la página al hacer click sobre ese botón**"
   ]
  },
  {
   "cell_type": "markdown",
   "metadata": {},
   "source": [
    "ahora debemos seleccionar los segmentos que contiene el vuelo para calcular la cantidad de escalas, actualmente vemos que las paradas estan contenidas en elementos sections, asi que debemos contabilizar las paradas"
   ]
  },
  {
   "cell_type": "code",
   "execution_count": 39,
   "metadata": {},
   "outputs": [
    {
     "name": "stdout",
     "output_type": "stream",
     "text": [
      "[<selenium.webdriver.remote.webelement.WebElement (session=\"30b5a596-d633-47be-b92e-51501d732334\", element=\"7925cac6-dcd6-4095-b814-cb90c2f0b262\")>, <selenium.webdriver.remote.webelement.WebElement (session=\"30b5a596-d633-47be-b92e-51501d732334\", element=\"0c5a1db1-7c65-40db-b24e-e6c591391a78\")>]\n"
     ]
    }
   ],
   "source": [
    "paradas= link_escalas.find_elements('xpath','//section[@class=\"sc-fEVUGC gIelIH\"]')\n",
    "print(paradas)"
   ]
  },
  {
   "cell_type": "markdown",
   "metadata": {},
   "source": [
    "para calcular las escalas, debemos restar -1 la cantidad total de paradas"
   ]
  },
  {
   "cell_type": "code",
   "execution_count": 41,
   "metadata": {},
   "outputs": [
    {
     "name": "stdout",
     "output_type": "stream",
     "text": [
      "1\n"
     ]
    }
   ],
   "source": [
    "escalas=len(paradas)-1\n",
    "print(escalas)"
   ]
  },
  {
   "cell_type": "markdown",
   "metadata": {},
   "source": [
    "Paso 4: cerrar el navegador"
   ]
  },
  {
   "cell_type": "code",
   "execution_count": null,
   "metadata": {},
   "outputs": [],
   "source": [
    "driver.close()"
   ]
  }
 ],
 "metadata": {
  "kernelspec": {
   "display_name": "Python 3.10.4 ('entv': venv)",
   "language": "python",
   "name": "python3"
  },
  "language_info": {
   "codemirror_mode": {
    "name": "ipython",
    "version": 3
   },
   "file_extension": ".py",
   "mimetype": "text/x-python",
   "name": "python",
   "nbconvert_exporter": "python",
   "pygments_lexer": "ipython3",
   "version": "3.10.4"
  },
  "orig_nbformat": 4,
  "vscode": {
   "interpreter": {
    "hash": "8491acde47aa26015fdf488fd68628541edd72931848a0305ddc7dd62f03120a"
   }
  }
 },
 "nbformat": 4,
 "nbformat_minor": 2
}
