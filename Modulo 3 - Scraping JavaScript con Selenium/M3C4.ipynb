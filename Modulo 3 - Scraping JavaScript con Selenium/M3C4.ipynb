{
 "cells": [
  {
   "cell_type": "markdown",
   "metadata": {},
   "source": [
    "# Módulo 2: Scraping con Selenium\n",
    "## LATAM Airlines\n",
    "<a href=\"https://www.latam.com/es_ar/\"><img src=\"https://i.pinimg.com/originals/dd/52/74/dd5274702d1382d696caeb6e0f6980c5.png\"  width=\"420\"></img></a>\n",
    "<br>\n",
    "\n",
    "Vamos a scrapear el sitio de Latam para averiguar datos de vuelos en funcion el origen y destino, fecha y cabina. La información que esperamos obtener de cada vuelo es:\n",
    "- Precio(s) disponibles\n",
    "- Horas de salida y llegada (duración)\n",
    "- Información de las escalas\n",
    "\n",
    "**¡Empecemos!**\n",
    "Utilicemos lo aprendido hasta ahora para lograr el objetivo propuesto"
   ]
  },
  {
   "cell_type": "markdown",
   "metadata": {},
   "source": [
    "## Selenium"
   ]
  },
  {
   "cell_type": "markdown",
   "metadata": {},
   "source": [
    "Selenium es una herramienta que nos permitirá controlar un navegador y podremos utilizar las funcionalidades del motor de JavaScript para cargar el contenido que no viene en el HTML de la página. Para esto necesitamos el módulo `webdriver`."
   ]
  },
  {
   "cell_type": "code",
   "execution_count": 1,
   "metadata": {},
   "outputs": [],
   "source": [
    "from selenium import webdriver\n",
    "#importampos libreria para cargar el driver automaticamente\n",
    "from webdriver_manager.firefox import GeckoDriverManager\n",
    "\n",
    "url='https://www.latamairlines.com/ar/es/ofertas-vuelos?origin=ASU&inbound=null&outbound=2022-12-01T15%3A00%3A00.000Z&destination=MAD&adt=1&chd=0&inf=0&trip=OW&cabin=Economy&redemption=false&sort=RECOMMENDED'"
   ]
  },
  {
   "cell_type": "markdown",
   "metadata": {},
   "source": [
    "Necesitamos controladores web para diferentes navegadores web.<br>\n",
    "Paso 1: instanciar un **driver** del navegador"
   ]
  },
  {
   "cell_type": "code",
   "execution_count": 3,
   "metadata": {},
   "outputs": [
    {
     "name": "stderr",
     "output_type": "stream",
     "text": [
      "[WDM] - Downloading: 19.0kB [00:00, 4.89MB/s]                   \n",
      "[WDM] - Downloading: 19.0kB [00:00, 4.89MB/s]                   \n",
      "[WDM] - Downloading: 100%|██████████| 1.58M/1.58M [00:00<00:00, 5.94MB/s]\n",
      "C:\\Users\\mario\\AppData\\Local\\Temp\\ipykernel_15456\\1250048064.py:4: DeprecationWarning: executable_path has been deprecated, please pass in a Service object\n",
      "  driver = webdriver.Firefox(executable_path=GeckoDriverManager().install(), options=options)\n"
     ]
    }
   ],
   "source": [
    "options = webdriver.FirefoxOptions()\n",
    "# Podemos agregarle opciones al driver para utilizar los distintos modos del navegador\n",
    "options.add_argument('-private')\n",
    "driver = webdriver.Firefox(executable_path=GeckoDriverManager().install(), options=options)"
   ]
  },
  {
   "cell_type": "markdown",
   "metadata": {},
   "source": [
    "Paso 2: hacer que el navegador cargue la página web."
   ]
  },
  {
   "cell_type": "code",
   "execution_count": 4,
   "metadata": {},
   "outputs": [],
   "source": [
    "driver.get(url)"
   ]
  },
  {
   "cell_type": "markdown",
   "metadata": {},
   "source": [
    "paso 3:Extraer informacion de la pagina<br>\n",
    "Carguemos la página y analicemos dónde se encuentra la información<br>\n",
    "Vemos que el bloque de vuelos se encuentra en una `ul` y que cada vuelo es un item de la lista, `li`. <br>"
   ]
  },
  {
   "cell_type": "code",
   "execution_count": 5,
   "metadata": {},
   "outputs": [
    {
     "name": "stdout",
     "output_type": "stream",
     "text": [
      "[<selenium.webdriver.remote.webelement.WebElement (session=\"e1a171b1-0960-4f47-98d7-88cf69783ee1\", element=\"20627892-9e08-49c1-b550-b59543ec9ab8\")>, <selenium.webdriver.remote.webelement.WebElement (session=\"e1a171b1-0960-4f47-98d7-88cf69783ee1\", element=\"509f6e06-1e2f-4cb2-9cc3-93367a3608e9\")>, <selenium.webdriver.remote.webelement.WebElement (session=\"e1a171b1-0960-4f47-98d7-88cf69783ee1\", element=\"3d9c6b3d-5eed-4428-8612-f35e3d55d0f9\")>, <selenium.webdriver.remote.webelement.WebElement (session=\"e1a171b1-0960-4f47-98d7-88cf69783ee1\", element=\"5d04114d-e131-410f-b8be-19790450af7a\")>, <selenium.webdriver.remote.webelement.WebElement (session=\"e1a171b1-0960-4f47-98d7-88cf69783ee1\", element=\"c0868f66-4412-472e-bffa-3900b86a22a3\")>, <selenium.webdriver.remote.webelement.WebElement (session=\"e1a171b1-0960-4f47-98d7-88cf69783ee1\", element=\"b81c1d3a-6855-4163-b574-1306565a4a45\")>, <selenium.webdriver.remote.webelement.WebElement (session=\"e1a171b1-0960-4f47-98d7-88cf69783ee1\", element=\"c63dc97f-4bb6-4a71-9035-3d7e17aee048\")>, <selenium.webdriver.remote.webelement.WebElement (session=\"e1a171b1-0960-4f47-98d7-88cf69783ee1\", element=\"00471c38-f8ee-49e3-930f-72df42291a2b\")>, <selenium.webdriver.remote.webelement.WebElement (session=\"e1a171b1-0960-4f47-98d7-88cf69783ee1\", element=\"3282f17e-0588-49df-8040-064b85c1c352\")>, <selenium.webdriver.remote.webelement.WebElement (session=\"e1a171b1-0960-4f47-98d7-88cf69783ee1\", element=\"3dbaba95-b279-49cc-9012-cb1aecd28ad3\")>, <selenium.webdriver.remote.webelement.WebElement (session=\"e1a171b1-0960-4f47-98d7-88cf69783ee1\", element=\"5e9009b7-a6f6-47fe-abca-872af867d8fa\")>, <selenium.webdriver.remote.webelement.WebElement (session=\"e1a171b1-0960-4f47-98d7-88cf69783ee1\", element=\"faa81af4-f49d-4484-a935-146a3f5ed02f\")>, <selenium.webdriver.remote.webelement.WebElement (session=\"e1a171b1-0960-4f47-98d7-88cf69783ee1\", element=\"7d125cb2-fb0c-4a84-affc-c3e016aba67d\")>, <selenium.webdriver.remote.webelement.WebElement (session=\"e1a171b1-0960-4f47-98d7-88cf69783ee1\", element=\"e4b8af1d-4949-48b1-9d06-71791e33495e\")>, <selenium.webdriver.remote.webelement.WebElement (session=\"e1a171b1-0960-4f47-98d7-88cf69783ee1\", element=\"07defc73-772f-437b-bae5-b58d5dfd81f9\")>, <selenium.webdriver.remote.webelement.WebElement (session=\"e1a171b1-0960-4f47-98d7-88cf69783ee1\", element=\"6d8e011f-2bb3-45e2-94df-8ab25a762af0\")>, <selenium.webdriver.remote.webelement.WebElement (session=\"e1a171b1-0960-4f47-98d7-88cf69783ee1\", element=\"2e7d8469-9424-4408-be9b-042d89612c20\")>, <selenium.webdriver.remote.webelement.WebElement (session=\"e1a171b1-0960-4f47-98d7-88cf69783ee1\", element=\"e0a44a9a-8313-406b-a1f0-8f0f0b8ea8eb\")>, <selenium.webdriver.remote.webelement.WebElement (session=\"e1a171b1-0960-4f47-98d7-88cf69783ee1\", element=\"623f8bb3-fa89-46fa-9290-f086f1c7e961\")>, <selenium.webdriver.remote.webelement.WebElement (session=\"e1a171b1-0960-4f47-98d7-88cf69783ee1\", element=\"fc1d4632-ee72-47f2-9848-b828991f21de\")>, <selenium.webdriver.remote.webelement.WebElement (session=\"e1a171b1-0960-4f47-98d7-88cf69783ee1\", element=\"cfe6ec10-be61-4a9f-80ea-ccb1321253c2\")>, <selenium.webdriver.remote.webelement.WebElement (session=\"e1a171b1-0960-4f47-98d7-88cf69783ee1\", element=\"604cc87d-6fc1-41c7-b1d7-5ea1873c3334\")>, <selenium.webdriver.remote.webelement.WebElement (session=\"e1a171b1-0960-4f47-98d7-88cf69783ee1\", element=\"a88b1c20-5e5a-4678-8664-7ad5ce804c71\")>, <selenium.webdriver.remote.webelement.WebElement (session=\"e1a171b1-0960-4f47-98d7-88cf69783ee1\", element=\"aa2b49d9-e449-4e61-996b-43723e8d64d4\")>, <selenium.webdriver.remote.webelement.WebElement (session=\"e1a171b1-0960-4f47-98d7-88cf69783ee1\", element=\"06f0c223-59e4-4822-b394-826b1f65b001\")>, <selenium.webdriver.remote.webelement.WebElement (session=\"e1a171b1-0960-4f47-98d7-88cf69783ee1\", element=\"48cbd1cc-fda3-4456-b041-00bdc3724cbf\")>, <selenium.webdriver.remote.webelement.WebElement (session=\"e1a171b1-0960-4f47-98d7-88cf69783ee1\", element=\"cb08dd4e-7ba0-4be6-a620-fd90ada7a3fd\")>, <selenium.webdriver.remote.webelement.WebElement (session=\"e1a171b1-0960-4f47-98d7-88cf69783ee1\", element=\"44ec861a-bf9f-435d-b444-81b204de4cd4\")>, <selenium.webdriver.remote.webelement.WebElement (session=\"e1a171b1-0960-4f47-98d7-88cf69783ee1\", element=\"7a39c6cc-bd49-4bd0-8765-5f8eb2f3e0cf\")>, <selenium.webdriver.remote.webelement.WebElement (session=\"e1a171b1-0960-4f47-98d7-88cf69783ee1\", element=\"e9c29878-f307-457d-a8a1-0e8d424a9261\")>]\n"
     ]
    }
   ],
   "source": [
    "#Usaremos el Xpath para obtener la lista de vuelos\n",
    "vuelos = driver.find_elements('xpath','//ol/li')\n",
    "print (vuelos)"
   ]
  },
  {
   "cell_type": "markdown",
   "metadata": {},
   "source": [
    "Obtengamos la informacion de la hora de salida, llegada y duracion del vuelo"
   ]
  },
  {
   "cell_type": "markdown",
   "metadata": {},
   "source": [
    "Notar que el xpath comienza con \".\", lo que indica que sólo debe buscar en los hijos de ese elemento. Si no ponemos el \".\", busca en todo el árbol.<br>\n",
    "Elementos importantes de xpath:\n",
    "- \"//\" busca en todos los hijos del elemento. \"/\" busca sólo en hijos directos\n",
    "- \".\" indica que la búsqueda debe empezar en ese elemento y no en el origen del árbol\n",
    "- Los atributos de los tags se buscan entre [] y con @"
   ]
  },
  {
   "cell_type": "code",
   "execution_count": 6,
   "metadata": {},
   "outputs": [
    {
     "name": "stdout",
     "output_type": "stream",
     "text": [
      "10:50\n"
     ]
    }
   ],
   "source": [
    "#seleccionamos el primer vuelo\n",
    "vuelo_1=vuelos[0]\n",
    "#hora de salida\n",
    "hora_salida=vuelo_1.find_element('xpath','//div[@class=\"sc-ixltIz dfdfxH flight-information\"]/span[1]').text\n",
    "print (hora_salida)"
   ]
  },
  {
   "cell_type": "code",
   "execution_count": 7,
   "metadata": {},
   "outputs": [
    {
     "name": "stdout",
     "output_type": "stream",
     "text": [
      "13:55\n"
     ]
    }
   ],
   "source": [
    "#hora de llegada\n",
    "hora_llegada=vuelo_1.find_element('xpath','.//div[3]/span[1]').text.replace('\\n+1','')\n",
    "print (hora_llegada)"
   ]
  },
  {
   "cell_type": "code",
   "execution_count": 8,
   "metadata": {},
   "outputs": [
    {
     "name": "stdout",
     "output_type": "stream",
     "text": [
      "23 h 5 min\n"
     ]
    }
   ],
   "source": [
    "# Duracion del vuelo\n",
    "duracion_vuelo= vuelo_1.find_element('xpath','.//div[2]/span[2]').text\n",
    "print (duracion_vuelo)"
   ]
  },
  {
   "cell_type": "markdown",
   "metadata": {},
   "source": [
    "veremos cómo obtener la información de las escalas de cada vuelo. <br>\n",
    "Para desplegar esa información de las escalas, debemos clickear en link para que se habilite el modal que contiene la informacion. Seleccionémoslo:"
   ]
  },
  {
   "cell_type": "code",
   "execution_count": 9,
   "metadata": {},
   "outputs": [
    {
     "name": "stdout",
     "output_type": "stream",
     "text": [
      "<selenium.webdriver.remote.webelement.WebElement (session=\"e1a171b1-0960-4f47-98d7-88cf69783ee1\", element=\"c3a168ba-1902-4174-9d8e-56453091a099\")>\n"
     ]
    }
   ],
   "source": [
    "link_escalas = vuelo_1.find_element('xpath','//div[@class=\"sc-fYAFcb kdctDt\"]//a')\n",
    "print (link_escalas)"
   ]
  },
  {
   "cell_type": "markdown",
   "metadata": {},
   "source": [
    "Una vez ubicado el elemento podemos clickear sobre él"
   ]
  },
  {
   "cell_type": "code",
   "execution_count": 10,
   "metadata": {},
   "outputs": [],
   "source": [
    "link_escalas.click()"
   ]
  },
  {
   "cell_type": "markdown",
   "metadata": {},
   "source": [
    "Y vemos cómo se despliega la información que estamos buscando enn el driver del navegador. **Notar que cambió el html de la página al hacer click sobre ese botón**"
   ]
  },
  {
   "cell_type": "markdown",
   "metadata": {},
   "source": [
    "ahora debemos seleccionar los segmentos que contiene el vuelo para calcular la cantidad de escalas, actualmente vemos que las paradas estan contenidas en elementos sections, asi que debemos contabilizar las paradas"
   ]
  },
  {
   "cell_type": "code",
   "execution_count": 11,
   "metadata": {},
   "outputs": [
    {
     "name": "stdout",
     "output_type": "stream",
     "text": [
      "<selenium.webdriver.remote.webelement.WebElement (session=\"e1a171b1-0960-4f47-98d7-88cf69783ee1\", element=\"6fdfb602-6c0d-4bf5-9871-db24cc4871b0\")>\n",
      "<selenium.webdriver.remote.webelement.WebElement (session=\"e1a171b1-0960-4f47-98d7-88cf69783ee1\", element=\"906b0571-9c0c-40a4-a70c-b972a333cc7d\")>\n"
     ]
    }
   ],
   "source": [
    "segmentos= link_escalas.find_elements('xpath','//div[@class=\"MuiDialogContent-root sc-fjdhpX jvVjjf\"]//section[@class=\"sc-fEVUGC gIelIH\"]')\n",
    "# print(segmentos, len(segmentos))\n",
    "for i in segmentos:\n",
    "    print (i)"
   ]
  },
  {
   "cell_type": "markdown",
   "metadata": {},
   "source": [
    "para calcular las escalas, debemos restar -1 la cantidad total de paradas"
   ]
  },
  {
   "cell_type": "code",
   "execution_count": 12,
   "metadata": {},
   "outputs": [
    {
     "name": "stdout",
     "output_type": "stream",
     "text": [
      "1\n"
     ]
    }
   ],
   "source": [
    "#0 escalas si es un vuelo directo\n",
    "escala=len(segmentos)-1\n",
    "print(escala)"
   ]
  },
  {
   "cell_type": "markdown",
   "metadata": {},
   "source": [
    "ahora obtengamos desde el modal el Itinerario de vuelo:\n",
    "- origen ✔\n",
    "- hora de salida \n",
    "- destino vuelo ✔\n",
    "- hora de llegada\n",
    "- duración del vuelo ✔\n",
    "- duración de la escala. *Tip: el último segmento no tendrá esta información*\n",
    "- número del vuelo\n",
    "- modelo del avión"
   ]
  },
  {
   "cell_type": "code",
   "execution_count": 13,
   "metadata": {},
   "outputs": [
    {
     "name": "stdout",
     "output_type": "stream",
     "text": [
      "Salida:ASU\n",
      "Hora Salida:10:50\n",
      "Duracion: 2 h 50 min\n",
      "Llegada:SCL\n",
      "Numero de vuelo:LA1324\n",
      "Modelo Avion:Airbus A320\n",
      "\n",
      "Salida:SCL\n",
      "Hora Salida:21:20\n",
      "Duracion: 12 h 35 min\n",
      "Llegada:MAD\n",
      "Numero de vuelo:LA706\n",
      "Modelo Avion:Boeing B787-9\n",
      "\n"
     ]
    }
   ],
   "source": [
    "for i in segmentos:\n",
    "    segmento = i\n",
    "    salida=segmento.find_element('xpath','.//div[@class=\"sc-dhVevo bQUzMb\"]/div[@class=\"sc-fqCOlO lpqwwl\"]/div[@class=\"iataCode\"]/span[1]').text\n",
    "    hora_salida=segmento.find_element('xpath','.//div[@class=\"sc-dhVevo bQUzMb\"]/div[@class=\"sc-fqCOlO lpqwwl\"]/div[@class=\"iataCode\"]/span[2]').text\n",
    "    duracion_segmento=segmento.find_element('xpath','.//div[@class=\"sc-dhVevo bQUzMb\"]/div[@class=\"sc-BOulX kmIWrd\"]/span[2]').text\n",
    "    destino_segmento=segmento.find_element('xpath','.//div[@class=\"sc-hAcydR ikJhgn\"]/div[@class=\"iataCode\"]/span[1]').text\n",
    "    numero_vuelo_segmento=segmento.find_element('xpath','.//div[@class=\"sc-hlELIx iUypDF plane-info\"]//div[@class=\"sc-bscRGj iggkUa airline-wrapper\"]').text\n",
    "    modelo_avion_segmento=segmento.find_element('xpath','.//div[@class=\"sc-hlELIx iUypDF plane-info\"]//span[@class=\"airplane-code\"]').text\n",
    "    \n",
    "    print(f'Salida:{salida}\\nHora Salida:{hora_salida}\\nDuracion: {duracion_segmento}\\nLlegada:{destino_segmento}\\nNumero de vuelo:{numero_vuelo_segmento}\\nModelo Avion:{modelo_avion_segmento}\\n')\n"
   ]
  },
  {
   "cell_type": "code",
   "execution_count": 14,
   "metadata": {},
   "outputs": [
    {
     "name": "stdout",
     "output_type": "stream",
     "text": [
      "Duracion Escala:7 h 40 min\n"
     ]
    }
   ],
   "source": [
    "duracion_escala_vuelo=link_escalas.find_element('xpath','//section[@class=\"sc-fEVUGC gAwpmW\"]//span[@class=\"time\"]').text\n",
    "print(f'Duracion Escala:{duracion_escala_vuelo}')"
   ]
  },
  {
   "cell_type": "markdown",
   "metadata": {},
   "source": [
    "Una vez que hayamos obtenido toda la información, debemos cerrar el modal/pop-up."
   ]
  },
  {
   "cell_type": "code",
   "execution_count": 15,
   "metadata": {},
   "outputs": [],
   "source": [
    "driver.find_element('xpath','//*[@id=\"itinerary-modal-0-dialog-close\"]').click()"
   ]
  },
  {
   "cell_type": "markdown",
   "metadata": {},
   "source": [
    "Por último debemos obtener la información de las tarifas. Para eso, debemos clickear sobre el vuelo (sobre cualquier parte)"
   ]
  },
  {
   "cell_type": "code",
   "execution_count": 16,
   "metadata": {},
   "outputs": [],
   "source": [
    "vuelo_1.click()"
   ]
  },
  {
   "cell_type": "markdown",
   "metadata": {},
   "source": [
    "La información de los precios para cada tarifa está contenida en una tablas (ol). Tenemos los precios y categorias de cada una de las tarifas"
   ]
  },
  {
   "cell_type": "code",
   "execution_count": 22,
   "metadata": {},
   "outputs": [
    {
     "name": "stdout",
     "output_type": "stream",
     "text": [
      "[<selenium.webdriver.remote.webelement.WebElement (session=\"e1a171b1-0960-4f47-98d7-88cf69783ee1\", element=\"936af9b8-b91a-4cc9-a9fb-0f9f8f6d2852\")>, <selenium.webdriver.remote.webelement.WebElement (session=\"e1a171b1-0960-4f47-98d7-88cf69783ee1\", element=\"34f9974c-8d1a-40e2-b8dd-7e8b2d8babfe\")>, <selenium.webdriver.remote.webelement.WebElement (session=\"e1a171b1-0960-4f47-98d7-88cf69783ee1\", element=\"105f213a-a66f-4cc0-85db-83f658536651\")>]\n"
     ]
    }
   ],
   "source": [
    "tarifas= vuelo_1.find_elements('xpath','.//ol[@class=\"sc-iAVDmT DwgCo\"]/li[@class=\"sc-jjgyjb buqrVI\"]')\n",
    "print (tarifas)"
   ]
  },
  {
   "cell_type": "code",
   "execution_count": 40,
   "metadata": {},
   "outputs": [
    {
     "name": "stdout",
     "output_type": "stream",
     "text": [
      "{'light': {'moneda': 'ARS', 'valor': '342.001,50'}}\n",
      "{'plus': {'moneda': 'ARS', 'valor': '382.201,50'}}\n",
      "{'top': {'moneda': 'ARS', 'valor': '423.407,60'}}\n"
     ]
    }
   ],
   "source": [
    "precios=[]\n",
    "for tarifa in tarifas:\n",
    "    #buscamos en cada pocision de la tarifa los siquientes elementos\n",
    "    nombre = tarifa.find_element('xpath','.//div[@class=\"sc-ieSwJA gfCbFb\"]/div[1]/span[@class=\"sc-gBSKhj chxCgG\"]').text\n",
    "    moneda= tarifa.find_element('xpath','.//div[@class=\"sc-ieSwJA gfCbFb\"]/div[3]//span[contains(@class,\"currency\")]').text\n",
    "    valor= tarifa.find_element('xpath','.//div[@class=\"sc-ieSwJA gfCbFb\"]/div[3]//span[@class=\"sc-ihiiSJ AoaXI\"]').text\n",
    "    #guardo los valores que obtengo en un diccionario\n",
    "    dict_tarifa={nombre:{'moneda':moneda,'valor':valor}}\n",
    "    #guradamos nuestro diccionario con los datos de tarifa a nuestra lia de precio\n",
    "    precios.append(dict_tarifa)\n",
    "    print(dict_tarifa)\n",
    "    # print(f'Nombre Tarfia:{nombre}\\nMoneda:{moneda}\\nPrecio:{valor}\\n\\n')"
   ]
  },
  {
   "cell_type": "markdown",
   "metadata": {},
   "source": [
    "Paso 4: cerrar el navegador"
   ]
  },
  {
   "cell_type": "code",
   "execution_count": 16,
   "metadata": {},
   "outputs": [],
   "source": [
    "driver.close()"
   ]
  }
 ],
 "metadata": {
  "kernelspec": {
   "display_name": "Python 3.10.4 ('entv': venv)",
   "language": "python",
   "name": "python3"
  },
  "language_info": {
   "codemirror_mode": {
    "name": "ipython",
    "version": 3
   },
   "file_extension": ".py",
   "mimetype": "text/x-python",
   "name": "python",
   "nbconvert_exporter": "python",
   "pygments_lexer": "ipython3",
   "version": "3.10.4"
  },
  "orig_nbformat": 4,
  "vscode": {
   "interpreter": {
    "hash": "8491acde47aa26015fdf488fd68628541edd72931848a0305ddc7dd62f03120a"
   }
  }
 },
 "nbformat": 4,
 "nbformat_minor": 2
}
