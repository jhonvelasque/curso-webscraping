{
 "cells": [
  {
   "cell_type": "markdown",
   "metadata": {},
   "source": [
    "# Módulo 2: Scraping con Selenium\n",
    "## LATAM Airlines\n",
    "<a href=\"https://www.latam.com/es_ar/\"><img src=\"https://i.pinimg.com/originals/dd/52/74/dd5274702d1382d696caeb6e0f6980c5.png\"  width=\"420\"></img></a>\n",
    "<br>\n",
    "\n",
    "Vamos a scrapear el sitio de Latam para averiguar datos de vuelos en funcion el origen y destino, fecha y cabina. La información que esperamos obtener de cada vuelo es:\n",
    "- Precio(s) disponibles\n",
    "- Horas de salida y llegada (duración)\n",
    "- Información de las escalas\n",
    "\n",
    "**¡Empecemos!**\n",
    "Utilicemos lo aprendido hasta ahora para lograr el objetivo propuesto"
   ]
  },
  {
   "cell_type": "markdown",
   "metadata": {},
   "source": [
    "## Selenium"
   ]
  },
  {
   "cell_type": "markdown",
   "metadata": {},
   "source": [
    "Selenium es una herramienta que nos permitirá controlar un navegador y podremos utilizar las funcionalidades del motor de JavaScript para cargar el contenido que no viene en el HTML de la página. Para esto necesitamos el módulo `webdriver`."
   ]
  },
  {
   "cell_type": "code",
   "execution_count": 1,
   "metadata": {},
   "outputs": [],
   "source": [
    "from selenium import webdriver\n",
    "#importampos libreria para cargar el driver automaticamente\n",
    "from webdriver_manager.firefox import GeckoDriverManager\n",
    "\n",
    "url='https://www.latamairlines.com/ar/es/ofertas-vuelos?origin=ASU&inbound=null&outbound=2022-12-01T15%3A00%3A00.000Z&destination=MAD&adt=1&chd=0&inf=0&trip=OW&cabin=Economy&redemption=false&sort=RECOMMENDED'"
   ]
  },
  {
   "cell_type": "markdown",
   "metadata": {},
   "source": [
    "Necesitamos controladores web para diferentes navegadores web.<br>\n",
    "Paso 1: instanciar un **driver** del navegador"
   ]
  },
  {
   "cell_type": "code",
   "execution_count": 2,
   "metadata": {},
   "outputs": [
    {
     "name": "stderr",
     "output_type": "stream",
     "text": [
      "[WDM] - Downloading: 19.0kB [00:00, 3.91MB/s]                   \n",
      "[WDM] - Downloading: 19.0kB [00:00, 4.89MB/s]                   \n",
      "[WDM] - Downloading: 100%|██████████| 1.58M/1.58M [00:00<00:00, 4.35MB/s]\n",
      "C:\\Users\\mario\\AppData\\Local\\Temp\\ipykernel_17420\\1250048064.py:4: DeprecationWarning: executable_path has been deprecated, please pass in a Service object\n",
      "  driver = webdriver.Firefox(executable_path=GeckoDriverManager().install(), options=options)\n"
     ]
    }
   ],
   "source": [
    "options = webdriver.FirefoxOptions()\n",
    "# Podemos agregarle opciones al driver para utilizar los distintos modos del navegador\n",
    "options.add_argument('-private')\n",
    "driver = webdriver.Firefox(executable_path=GeckoDriverManager().install(), options=options)"
   ]
  },
  {
   "cell_type": "markdown",
   "metadata": {},
   "source": [
    "Paso 2: hacer que el navegador cargue la página web."
   ]
  },
  {
   "cell_type": "code",
   "execution_count": 3,
   "metadata": {},
   "outputs": [],
   "source": [
    "driver.get(url)"
   ]
  },
  {
   "cell_type": "markdown",
   "metadata": {},
   "source": [
    "paso 3:Extraer informacion de la pagina<br>\n",
    "Carguemos la página y analicemos dónde se encuentra la información<br>\n",
    "Vemos que el bloque de vuelos se encuentra en una `ul` y que cada vuelo es un item de la lista, `li`. <br>"
   ]
  },
  {
   "cell_type": "code",
   "execution_count": 4,
   "metadata": {},
   "outputs": [
    {
     "name": "stdout",
     "output_type": "stream",
     "text": [
      "[<selenium.webdriver.remote.webelement.WebElement (session=\"b25c4f0b-2236-45f6-ac4d-42119dd974a4\", element=\"af6d0950-83d0-4bcc-a735-633437784cd4\")>, <selenium.webdriver.remote.webelement.WebElement (session=\"b25c4f0b-2236-45f6-ac4d-42119dd974a4\", element=\"41e623b0-61d3-483d-bbcf-d9bf082bdeb5\")>, <selenium.webdriver.remote.webelement.WebElement (session=\"b25c4f0b-2236-45f6-ac4d-42119dd974a4\", element=\"f89d7ae8-2571-4a85-8888-8327d294f613\")>, <selenium.webdriver.remote.webelement.WebElement (session=\"b25c4f0b-2236-45f6-ac4d-42119dd974a4\", element=\"607b1fe8-ad3b-4883-9323-846bca107791\")>, <selenium.webdriver.remote.webelement.WebElement (session=\"b25c4f0b-2236-45f6-ac4d-42119dd974a4\", element=\"10e8805f-7d05-4af0-9445-5b5154838328\")>, <selenium.webdriver.remote.webelement.WebElement (session=\"b25c4f0b-2236-45f6-ac4d-42119dd974a4\", element=\"fca891e6-503c-4e8c-b4ce-d851f6ddf9ef\")>, <selenium.webdriver.remote.webelement.WebElement (session=\"b25c4f0b-2236-45f6-ac4d-42119dd974a4\", element=\"d7e2a396-450b-435c-855c-b0f956bcfd89\")>, <selenium.webdriver.remote.webelement.WebElement (session=\"b25c4f0b-2236-45f6-ac4d-42119dd974a4\", element=\"6f075131-d597-4e49-9ee5-557ad74e497a\")>, <selenium.webdriver.remote.webelement.WebElement (session=\"b25c4f0b-2236-45f6-ac4d-42119dd974a4\", element=\"5eaff1ba-ac2e-4d0f-b18f-7ff9dad9a31f\")>, <selenium.webdriver.remote.webelement.WebElement (session=\"b25c4f0b-2236-45f6-ac4d-42119dd974a4\", element=\"46a43072-2729-4bf7-9b5b-db3e2fc2122f\")>, <selenium.webdriver.remote.webelement.WebElement (session=\"b25c4f0b-2236-45f6-ac4d-42119dd974a4\", element=\"68f06a44-d8e4-4f40-a731-b74f82010e70\")>, <selenium.webdriver.remote.webelement.WebElement (session=\"b25c4f0b-2236-45f6-ac4d-42119dd974a4\", element=\"c1d9dc77-21d1-498e-b493-d6e1890a1a30\")>, <selenium.webdriver.remote.webelement.WebElement (session=\"b25c4f0b-2236-45f6-ac4d-42119dd974a4\", element=\"e9bf0d0b-8696-4566-b8ab-d70499a539f8\")>, <selenium.webdriver.remote.webelement.WebElement (session=\"b25c4f0b-2236-45f6-ac4d-42119dd974a4\", element=\"ba147861-85cf-4313-a6fb-2864f7daf7e7\")>, <selenium.webdriver.remote.webelement.WebElement (session=\"b25c4f0b-2236-45f6-ac4d-42119dd974a4\", element=\"077dd77c-7650-467d-9c40-101ed0f596a2\")>, <selenium.webdriver.remote.webelement.WebElement (session=\"b25c4f0b-2236-45f6-ac4d-42119dd974a4\", element=\"cdeca17f-2900-43b4-a879-695ad2303f51\")>, <selenium.webdriver.remote.webelement.WebElement (session=\"b25c4f0b-2236-45f6-ac4d-42119dd974a4\", element=\"9235f862-cd15-4478-bc9f-512b191016ae\")>, <selenium.webdriver.remote.webelement.WebElement (session=\"b25c4f0b-2236-45f6-ac4d-42119dd974a4\", element=\"4f3a56ba-e521-4027-be1d-a89a705494d9\")>, <selenium.webdriver.remote.webelement.WebElement (session=\"b25c4f0b-2236-45f6-ac4d-42119dd974a4\", element=\"a23f0a61-1038-4d75-975f-ac13322c6d8d\")>, <selenium.webdriver.remote.webelement.WebElement (session=\"b25c4f0b-2236-45f6-ac4d-42119dd974a4\", element=\"8accfbbf-7260-4d8c-8522-3baeddc96e8b\")>, <selenium.webdriver.remote.webelement.WebElement (session=\"b25c4f0b-2236-45f6-ac4d-42119dd974a4\", element=\"614dc4a7-3673-4ae9-ab61-324d75f1653e\")>, <selenium.webdriver.remote.webelement.WebElement (session=\"b25c4f0b-2236-45f6-ac4d-42119dd974a4\", element=\"2d75826d-f626-4ede-bc1c-4567e07b697c\")>, <selenium.webdriver.remote.webelement.WebElement (session=\"b25c4f0b-2236-45f6-ac4d-42119dd974a4\", element=\"2f169768-4a8f-4082-a340-a8d4be3fc268\")>, <selenium.webdriver.remote.webelement.WebElement (session=\"b25c4f0b-2236-45f6-ac4d-42119dd974a4\", element=\"0e4249dc-9ec8-4945-8ac1-efb366001bdb\")>, <selenium.webdriver.remote.webelement.WebElement (session=\"b25c4f0b-2236-45f6-ac4d-42119dd974a4\", element=\"6bcabe01-9e59-417f-92cf-dfad6203a692\")>, <selenium.webdriver.remote.webelement.WebElement (session=\"b25c4f0b-2236-45f6-ac4d-42119dd974a4\", element=\"30e83bfc-46a5-44a6-8ad3-8eacfb92492d\")>, <selenium.webdriver.remote.webelement.WebElement (session=\"b25c4f0b-2236-45f6-ac4d-42119dd974a4\", element=\"cd2f7a2d-a5c2-4b60-b67a-a706c0d8e8f6\")>, <selenium.webdriver.remote.webelement.WebElement (session=\"b25c4f0b-2236-45f6-ac4d-42119dd974a4\", element=\"3e3cd2eb-eb4d-4c28-8535-b622fc384c0e\")>, <selenium.webdriver.remote.webelement.WebElement (session=\"b25c4f0b-2236-45f6-ac4d-42119dd974a4\", element=\"f93ac719-8bbf-4160-8408-68d0e04e741e\")>, <selenium.webdriver.remote.webelement.WebElement (session=\"b25c4f0b-2236-45f6-ac4d-42119dd974a4\", element=\"7192478d-424c-471b-845d-748431c62393\")>]\n"
     ]
    }
   ],
   "source": [
    "#Usaremos el Xpath para obtener la lista de vuelos\n",
    "vuelos = driver.find_elements('xpath','//ol/li')\n",
    "print (vuelos)"
   ]
  },
  {
   "cell_type": "markdown",
   "metadata": {},
   "source": [
    "Obtengamos la informacion de la hora de salida, llegada y duracion del vuelo"
   ]
  },
  {
   "cell_type": "markdown",
   "metadata": {},
   "source": [
    "Notar que el xpath comienza con \".\", lo que indica que sólo debe buscar en los hijos de ese elemento. Si no ponemos el \".\", busca en todo el árbol.<br>\n",
    "Elementos importantes de xpath:\n",
    "- \"//\" busca en todos los hijos del elemento. \"/\" busca sólo en hijos directos\n",
    "- \".\" indica que la búsqueda debe empezar en ese elemento y no en el origen del árbol\n",
    "- Los atributos de los tags se buscan entre [] y con @"
   ]
  },
  {
   "cell_type": "code",
   "execution_count": 5,
   "metadata": {},
   "outputs": [
    {
     "name": "stdout",
     "output_type": "stream",
     "text": [
      "10:50\n"
     ]
    }
   ],
   "source": [
    "#seleccionamos el primer vuelo\n",
    "vuelo_1=vuelos[0]\n",
    "#hora de salida\n",
    "hora_salida=vuelo_1.find_element('xpath','//div[@class=\"sc-ixltIz dfdfxH flight-information\"]/span[1]').text\n",
    "print (hora_salida)"
   ]
  },
  {
   "cell_type": "code",
   "execution_count": 6,
   "metadata": {},
   "outputs": [
    {
     "name": "stdout",
     "output_type": "stream",
     "text": [
      "13:55\n"
     ]
    }
   ],
   "source": [
    "#hora de llegada\n",
    "hora_llegada=vuelo_1.find_element('xpath','.//div[3]/span[1]').text.replace('\\n+1','')\n",
    "print (hora_llegada)"
   ]
  },
  {
   "cell_type": "code",
   "execution_count": 7,
   "metadata": {},
   "outputs": [
    {
     "name": "stdout",
     "output_type": "stream",
     "text": [
      "23 h 5 min\n"
     ]
    }
   ],
   "source": [
    "# Duracion del vuelo\n",
    "duracion_vuelo= vuelo_1.find_element('xpath','.//div[2]/span[2]').text\n",
    "print (duracion_vuelo)"
   ]
  },
  {
   "cell_type": "markdown",
   "metadata": {},
   "source": [
    "veremos cómo obtener la información de las escalas de cada vuelo. <br>\n",
    "Para desplegar esa información de las escalas, debemos clickear en link para que se habilite el modal que contiene la informacion. Seleccionémoslo:"
   ]
  },
  {
   "cell_type": "code",
   "execution_count": 8,
   "metadata": {},
   "outputs": [
    {
     "name": "stdout",
     "output_type": "stream",
     "text": [
      "<selenium.webdriver.remote.webelement.WebElement (session=\"b25c4f0b-2236-45f6-ac4d-42119dd974a4\", element=\"dd0bff41-8f04-457b-b693-30f7bf6e83ea\")>\n"
     ]
    }
   ],
   "source": [
    "link_escalas = vuelo_1.find_element('xpath','//div[@class=\"sc-fYAFcb kdctDt\"]//a')\n",
    "print (link_escalas)"
   ]
  },
  {
   "cell_type": "markdown",
   "metadata": {},
   "source": [
    "Una vez ubicado el elemento podemos clickear sobre él"
   ]
  },
  {
   "cell_type": "code",
   "execution_count": 9,
   "metadata": {},
   "outputs": [],
   "source": [
    "link_escalas.click()"
   ]
  },
  {
   "cell_type": "markdown",
   "metadata": {},
   "source": [
    "Y vemos cómo se despliega la información que estamos buscando enn el driver del navegador. **Notar que cambió el html de la página al hacer click sobre ese botón**"
   ]
  },
  {
   "cell_type": "markdown",
   "metadata": {},
   "source": [
    "ahora debemos seleccionar los segmentos que contiene el vuelo para calcular la cantidad de escalas, actualmente vemos que las paradas estan contenidas en elementos sections, asi que debemos contabilizar las paradas"
   ]
  },
  {
   "cell_type": "code",
   "execution_count": 10,
   "metadata": {},
   "outputs": [
    {
     "name": "stdout",
     "output_type": "stream",
     "text": [
      "<selenium.webdriver.remote.webelement.WebElement (session=\"b25c4f0b-2236-45f6-ac4d-42119dd974a4\", element=\"94fdcb8b-58f6-4322-af0c-18416da7262a\")>\n",
      "<selenium.webdriver.remote.webelement.WebElement (session=\"b25c4f0b-2236-45f6-ac4d-42119dd974a4\", element=\"8e30bec8-53a5-40c2-a5e0-473bd8affb2d\")>\n"
     ]
    }
   ],
   "source": [
    "segmentos= link_escalas.find_elements('xpath','//div[@class=\"MuiDialogContent-root sc-fjdhpX jvVjjf\"]//section[@class=\"sc-fEVUGC gIelIH\"]')\n",
    "# print(segmentos, len(segmentos))\n",
    "for i in segmentos:\n",
    "    print (i)"
   ]
  },
  {
   "cell_type": "markdown",
   "metadata": {},
   "source": [
    "para calcular las escalas, debemos restar -1 la cantidad total de paradas"
   ]
  },
  {
   "cell_type": "code",
   "execution_count": 11,
   "metadata": {},
   "outputs": [
    {
     "name": "stdout",
     "output_type": "stream",
     "text": [
      "1\n"
     ]
    }
   ],
   "source": [
    "#0 escalas si es un vuelo directo\n",
    "escala=len(segmentos)-1\n",
    "print(escala)"
   ]
  },
  {
   "cell_type": "markdown",
   "metadata": {},
   "source": [
    "ahora obtengamos desde el modal el Itinerario de vuelo:\n",
    "- origen ✔\n",
    "- hora de salida \n",
    "- destino vuelo ✔\n",
    "- hora de llegada\n",
    "- duración del vuelo ✔\n",
    "- duración de la escala. *Tip: el último segmento no tendrá esta información*\n",
    "- número del vuelo\n",
    "- modelo del avión"
   ]
  },
  {
   "cell_type": "code",
   "execution_count": 12,
   "metadata": {},
   "outputs": [
    {
     "name": "stdout",
     "output_type": "stream",
     "text": [
      "Salida:ASU\n",
      "Hora Salida:10:50\n",
      "Duracion: 2 h 50 min\n",
      "Llegada:SCL\n",
      "Numero de vuelo:LA1324\n",
      "Modelo Avion:Airbus A320\n",
      "\n",
      "Salida:SCL\n",
      "Hora Salida:21:20\n",
      "Duracion: 12 h 35 min\n",
      "Llegada:MAD\n",
      "Numero de vuelo:LA706\n",
      "Modelo Avion:Boeing B787-9\n",
      "\n"
     ]
    }
   ],
   "source": [
    "for i in segmentos:\n",
    "    segmento = i\n",
    "    salida=segmento.find_element('xpath','.//div[@class=\"sc-dhVevo bQUzMb\"]/div[@class=\"sc-fqCOlO lpqwwl\"]/div[@class=\"iataCode\"]/span[1]').text\n",
    "    hora_salida=segmento.find_element('xpath','.//div[@class=\"sc-dhVevo bQUzMb\"]/div[@class=\"sc-fqCOlO lpqwwl\"]/div[@class=\"iataCode\"]/span[2]').text\n",
    "    duracion_segmento=segmento.find_element('xpath','.//div[@class=\"sc-dhVevo bQUzMb\"]/div[@class=\"sc-BOulX kmIWrd\"]/span[2]').text\n",
    "    destino_segmento=segmento.find_element('xpath','.//div[@class=\"sc-hAcydR ikJhgn\"]/div[@class=\"iataCode\"]/span[1]').text\n",
    "    numero_vuelo_segmento=segmento.find_element('xpath','.//div[@class=\"sc-hlELIx iUypDF plane-info\"]//div[@class=\"sc-bscRGj iggkUa airline-wrapper\"]').text\n",
    "    modelo_avion_segmento=segmento.find_element('xpath','.//div[@class=\"sc-hlELIx iUypDF plane-info\"]//span[@class=\"airplane-code\"]').text\n",
    "    \n",
    "    print(f'Salida:{salida}\\nHora Salida:{hora_salida}\\nDuracion: {duracion_segmento}\\nLlegada:{destino_segmento}\\nNumero de vuelo:{numero_vuelo_segmento}\\nModelo Avion:{modelo_avion_segmento}\\n')\n"
   ]
  },
  {
   "cell_type": "code",
   "execution_count": 19,
   "metadata": {},
   "outputs": [
    {
     "name": "stdout",
     "output_type": "stream",
     "text": [
      "Duracion Escala:7 h 40 min\n"
     ]
    }
   ],
   "source": [
    "duracion_escala_vuelo=link_escalas.find_element('xpath','//section[@class=\"sc-fEVUGC gAwpmW\"]//span[@class=\"time\"]').text\n",
    "print(f'Duracion Escala:{duracion_escala_vuelo}')"
   ]
  },
  {
   "cell_type": "markdown",
   "metadata": {},
   "source": [
    "Una vez que hayamos obtenido toda la información, debemos cerrar el modal/pop-up."
   ]
  },
  {
   "cell_type": "code",
   "execution_count": 23,
   "metadata": {},
   "outputs": [],
   "source": [
    "driver.find_element('xpath','//*[@id=\"itinerary-modal-0-dialog-close\"]').click()"
   ]
  },
  {
   "cell_type": "markdown",
   "metadata": {},
   "source": [
    "Paso 4: cerrar el navegador"
   ]
  },
  {
   "cell_type": "code",
   "execution_count": null,
   "metadata": {},
   "outputs": [],
   "source": [
    "driver.close()"
   ]
  }
 ],
 "metadata": {
  "kernelspec": {
   "display_name": "Python 3.10.4 ('entv': venv)",
   "language": "python",
   "name": "python3"
  },
  "language_info": {
   "codemirror_mode": {
    "name": "ipython",
    "version": 3
   },
   "file_extension": ".py",
   "mimetype": "text/x-python",
   "name": "python",
   "nbconvert_exporter": "python",
   "pygments_lexer": "ipython3",
   "version": "3.10.4"
  },
  "orig_nbformat": 4,
  "vscode": {
   "interpreter": {
    "hash": "8491acde47aa26015fdf488fd68628541edd72931848a0305ddc7dd62f03120a"
   }
  }
 },
 "nbformat": 4,
 "nbformat_minor": 2
}
