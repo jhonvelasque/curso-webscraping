{
 "cells": [
  {
   "cell_type": "markdown",
   "metadata": {},
   "source": [
    "# Módulo 2: Scraping con Selenium\n",
    "## LATAM Airlines\n",
    "<a href=\"https://www.latam.com/es_ar/\"><img src=\"https://i.pinimg.com/originals/dd/52/74/dd5274702d1382d696caeb6e0f6980c5.png\"  width=\"420\"></img></a>\n",
    "<br>\n",
    "\n",
    "Vamos a scrapear el sitio de Latam para averiguar datos de vuelos en funcion el origen y destino, fecha y cabina. La información que esperamos obtener de cada vuelo es:\n",
    "- Precio(s) disponibles\n",
    "- Horas de salida y llegada (duración)\n",
    "- Información de las escalas\n",
    "\n",
    "**¡Empecemos!**\n",
    "Utilicemos lo aprendido hasta ahora para lograr el objetivo propuesto"
   ]
  },
  {
   "cell_type": "markdown",
   "metadata": {},
   "source": [
    "## Selenium"
   ]
  },
  {
   "cell_type": "markdown",
   "metadata": {},
   "source": [
    "Selenium es una herramienta que nos permitirá controlar un navegador y podremos utilizar las funcionalidades del motor de JavaScript para cargar el contenido que no viene en el HTML de la página. Para esto necesitamos el módulo `webdriver`."
   ]
  },
  {
   "cell_type": "code",
   "execution_count": 1,
   "metadata": {},
   "outputs": [],
   "source": [
    "from selenium import webdriver\n",
    "#importampos libreria para cargar el driver automaticamente\n",
    "from webdriver_manager.firefox import GeckoDriverManager\n",
    "\n",
    "url='https://www.latamairlines.com/ar/es/ofertas-vuelos?origin=ASU&inbound=null&outbound=2022-12-01T15%3A00%3A00.000Z&destination=MAD&adt=1&chd=0&inf=0&trip=OW&cabin=Economy&redemption=false&sort=RECOMMENDED'"
   ]
  },
  {
   "cell_type": "markdown",
   "metadata": {},
   "source": [
    "Necesitamos controladores web para diferentes navegadores web.<br>\n",
    "Paso 1: instanciar un **driver** del navegador"
   ]
  },
  {
   "cell_type": "code",
   "execution_count": 2,
   "metadata": {},
   "outputs": [
    {
     "name": "stderr",
     "output_type": "stream",
     "text": [
      "[WDM] - Downloading: 19.0kB [00:00, 6.52MB/s]                   \n",
      "C:\\Users\\mario\\AppData\\Local\\Temp\\ipykernel_17676\\1250048064.py:4: DeprecationWarning: executable_path has been deprecated, please pass in a Service object\n",
      "  driver = webdriver.Firefox(executable_path=GeckoDriverManager().install(), options=options)\n"
     ]
    }
   ],
   "source": [
    "options = webdriver.FirefoxOptions()\n",
    "# Podemos agregarle opciones al driver para utilizar los distintos modos del navegador\n",
    "options.add_argument('-private')\n",
    "driver = webdriver.Firefox(executable_path=GeckoDriverManager().install(), options=options)"
   ]
  },
  {
   "cell_type": "markdown",
   "metadata": {},
   "source": [
    "Paso 2: hacer que el navegador cargue la página web."
   ]
  },
  {
   "cell_type": "code",
   "execution_count": 3,
   "metadata": {},
   "outputs": [],
   "source": [
    "driver.get(url)"
   ]
  },
  {
   "cell_type": "markdown",
   "metadata": {},
   "source": [
    "paso 3:Extraer informacion de la pagina<br>\n",
    "Carguemos la página y analicemos dónde se encuentra la información<br>\n",
    "Vemos que el bloque de vuelos se encuentra en una `ul` y que cada vuelo es un item de la lista, `li`. <br>"
   ]
  },
  {
   "cell_type": "code",
   "execution_count": 4,
   "metadata": {},
   "outputs": [
    {
     "name": "stdout",
     "output_type": "stream",
     "text": [
      "[<selenium.webdriver.remote.webelement.WebElement (session=\"fc159e1d-e2ca-4797-ac39-3625541373d5\", element=\"8c58cfdd-905c-4e25-927b-5ca6ea7067a1\")>, <selenium.webdriver.remote.webelement.WebElement (session=\"fc159e1d-e2ca-4797-ac39-3625541373d5\", element=\"ceada16c-10c8-4e68-b083-316c8de4f1ab\")>, <selenium.webdriver.remote.webelement.WebElement (session=\"fc159e1d-e2ca-4797-ac39-3625541373d5\", element=\"38e44a97-efd8-435e-aedd-cca3f03145fe\")>, <selenium.webdriver.remote.webelement.WebElement (session=\"fc159e1d-e2ca-4797-ac39-3625541373d5\", element=\"a00354b0-8a11-44fa-ab28-8d3cf888eb20\")>, <selenium.webdriver.remote.webelement.WebElement (session=\"fc159e1d-e2ca-4797-ac39-3625541373d5\", element=\"6df2bbef-8aa6-425c-894b-ebd2f78c361b\")>, <selenium.webdriver.remote.webelement.WebElement (session=\"fc159e1d-e2ca-4797-ac39-3625541373d5\", element=\"c74eb6da-a9d3-49a8-8a03-61ce6886f2f0\")>, <selenium.webdriver.remote.webelement.WebElement (session=\"fc159e1d-e2ca-4797-ac39-3625541373d5\", element=\"99134253-ed0b-4ce2-93f9-7b3f4cfd23d9\")>, <selenium.webdriver.remote.webelement.WebElement (session=\"fc159e1d-e2ca-4797-ac39-3625541373d5\", element=\"6e10e259-f7de-4b97-b5de-fda3459597c1\")>, <selenium.webdriver.remote.webelement.WebElement (session=\"fc159e1d-e2ca-4797-ac39-3625541373d5\", element=\"88a1dafa-fae8-4575-b91a-6c7abb54e3df\")>, <selenium.webdriver.remote.webelement.WebElement (session=\"fc159e1d-e2ca-4797-ac39-3625541373d5\", element=\"e1188eb8-a7aa-49ba-843b-52855927a5ea\")>, <selenium.webdriver.remote.webelement.WebElement (session=\"fc159e1d-e2ca-4797-ac39-3625541373d5\", element=\"6e50baad-d811-4a8f-ba06-1d4cbe5c1fe6\")>, <selenium.webdriver.remote.webelement.WebElement (session=\"fc159e1d-e2ca-4797-ac39-3625541373d5\", element=\"86c00c74-aafb-4e83-94f8-a8ced540f5cb\")>, <selenium.webdriver.remote.webelement.WebElement (session=\"fc159e1d-e2ca-4797-ac39-3625541373d5\", element=\"be1f1511-ecb1-4fca-bbff-2e1e6a4ca321\")>, <selenium.webdriver.remote.webelement.WebElement (session=\"fc159e1d-e2ca-4797-ac39-3625541373d5\", element=\"a59a23b6-08d9-4677-a682-34ecafa826a0\")>, <selenium.webdriver.remote.webelement.WebElement (session=\"fc159e1d-e2ca-4797-ac39-3625541373d5\", element=\"8cd1f326-01aa-4409-8464-60861906c444\")>, <selenium.webdriver.remote.webelement.WebElement (session=\"fc159e1d-e2ca-4797-ac39-3625541373d5\", element=\"6d0a9cf6-542c-4035-a210-61b0fe7161ac\")>, <selenium.webdriver.remote.webelement.WebElement (session=\"fc159e1d-e2ca-4797-ac39-3625541373d5\", element=\"41a7565a-d569-4e33-93b9-4c34064f855e\")>, <selenium.webdriver.remote.webelement.WebElement (session=\"fc159e1d-e2ca-4797-ac39-3625541373d5\", element=\"61768723-328b-49ff-bf4d-e6024df49dec\")>, <selenium.webdriver.remote.webelement.WebElement (session=\"fc159e1d-e2ca-4797-ac39-3625541373d5\", element=\"b59a23eb-6f37-4feb-9767-4324203e6991\")>, <selenium.webdriver.remote.webelement.WebElement (session=\"fc159e1d-e2ca-4797-ac39-3625541373d5\", element=\"4225e6bb-4c50-4d42-8309-a3c2159e8fe6\")>, <selenium.webdriver.remote.webelement.WebElement (session=\"fc159e1d-e2ca-4797-ac39-3625541373d5\", element=\"6338b760-5959-4002-a2ba-1c43aa79eed4\")>, <selenium.webdriver.remote.webelement.WebElement (session=\"fc159e1d-e2ca-4797-ac39-3625541373d5\", element=\"6caf16e5-8819-44d4-88a8-32bad9e57b54\")>, <selenium.webdriver.remote.webelement.WebElement (session=\"fc159e1d-e2ca-4797-ac39-3625541373d5\", element=\"bc0c8a8f-ba1c-4cf4-abd9-c5dc9ae83c09\")>, <selenium.webdriver.remote.webelement.WebElement (session=\"fc159e1d-e2ca-4797-ac39-3625541373d5\", element=\"f9fd064d-afa0-4d7e-a091-f456741b97a4\")>, <selenium.webdriver.remote.webelement.WebElement (session=\"fc159e1d-e2ca-4797-ac39-3625541373d5\", element=\"54b34e5c-bd87-4e04-8357-368041d626a1\")>, <selenium.webdriver.remote.webelement.WebElement (session=\"fc159e1d-e2ca-4797-ac39-3625541373d5\", element=\"f2d6f9a1-73d6-4273-9632-29896594a631\")>, <selenium.webdriver.remote.webelement.WebElement (session=\"fc159e1d-e2ca-4797-ac39-3625541373d5\", element=\"a710aa6b-5e2f-4281-990e-92410ac82d15\")>, <selenium.webdriver.remote.webelement.WebElement (session=\"fc159e1d-e2ca-4797-ac39-3625541373d5\", element=\"922d4c07-6b72-44ed-8ae3-0ea2ab860f61\")>, <selenium.webdriver.remote.webelement.WebElement (session=\"fc159e1d-e2ca-4797-ac39-3625541373d5\", element=\"2427c3dc-c012-4f05-a296-1a71e509c4a7\")>, <selenium.webdriver.remote.webelement.WebElement (session=\"fc159e1d-e2ca-4797-ac39-3625541373d5\", element=\"58996f19-b255-4bf3-877f-ee7c7e00c06f\")>]\n"
     ]
    }
   ],
   "source": [
    "#Usaremos el Xpath para obtener la lista de vuelos\n",
    "vuelos = driver.find_elements('xpath','//ol/li')\n",
    "print (vuelos)"
   ]
  },
  {
   "cell_type": "markdown",
   "metadata": {},
   "source": [
    "Obtengamos la informacion de la hora de salida, llegada y duracion del vuelo"
   ]
  },
  {
   "cell_type": "markdown",
   "metadata": {},
   "source": [
    "Notar que el xpath comienza con \".\", lo que indica que sólo debe buscar en los hijos de ese elemento. Si no ponemos el \".\", busca en todo el árbol.<br>\n",
    "Elementos importantes de xpath:\n",
    "- \"//\" busca en todos los hijos del elemento. \"/\" busca sólo en hijos directos\n",
    "- \".\" indica que la búsqueda debe empezar en ese elemento y no en el origen del árbol\n",
    "- Los atributos de los tags se buscan entre [] y con @"
   ]
  },
  {
   "cell_type": "code",
   "execution_count": 5,
   "metadata": {},
   "outputs": [
    {
     "name": "stdout",
     "output_type": "stream",
     "text": [
      "10:50\n"
     ]
    }
   ],
   "source": [
    "#seleccionamos el primer vuelo\n",
    "vuelo_1=vuelos[0]\n",
    "#hora de salida\n",
    "hora_salida=vuelo_1.find_element('xpath','//div[@class=\"sc-ixltIz dfdfxH flight-information\"]/span[1]').text\n",
    "print (hora_salida)"
   ]
  },
  {
   "cell_type": "code",
   "execution_count": 6,
   "metadata": {},
   "outputs": [
    {
     "name": "stdout",
     "output_type": "stream",
     "text": [
      "13:55\n"
     ]
    }
   ],
   "source": [
    "#hora de llegada\n",
    "hora_llegada=vuelo_1.find_element('xpath','.//div[3]/span[1]').text.replace('\\n+1','')\n",
    "print (hora_llegada)"
   ]
  },
  {
   "cell_type": "code",
   "execution_count": 7,
   "metadata": {},
   "outputs": [
    {
     "name": "stdout",
     "output_type": "stream",
     "text": [
      "23 h 5 min\n"
     ]
    }
   ],
   "source": [
    "# Duracion del vuelo\n",
    "duracion_vuelo= vuelo_1.find_element('xpath','.//div[2]/span[2]').text\n",
    "print (duracion_vuelo)"
   ]
  },
  {
   "cell_type": "markdown",
   "metadata": {},
   "source": [
    "veremos cómo obtener la información de las escalas de cada vuelo. <br>\n",
    "Para desplegar esa información de las escalas, debemos clickear en link para que se habilite el modal que contiene la informacion. Seleccionémoslo:"
   ]
  },
  {
   "cell_type": "code",
   "execution_count": 8,
   "metadata": {},
   "outputs": [
    {
     "name": "stdout",
     "output_type": "stream",
     "text": [
      "<selenium.webdriver.remote.webelement.WebElement (session=\"fc159e1d-e2ca-4797-ac39-3625541373d5\", element=\"91b07838-a339-4e90-be37-46e66fe369e0\")>\n"
     ]
    }
   ],
   "source": [
    "link_escalas = vuelo_1.find_element('xpath','//div[@class=\"sc-fYAFcb kdctDt\"]//a')\n",
    "print (link_escalas)"
   ]
  },
  {
   "cell_type": "markdown",
   "metadata": {},
   "source": [
    "Una vez ubicado el elemento podemos clickear sobre él"
   ]
  },
  {
   "cell_type": "code",
   "execution_count": 9,
   "metadata": {},
   "outputs": [],
   "source": [
    "link_escalas.click()"
   ]
  },
  {
   "cell_type": "markdown",
   "metadata": {},
   "source": [
    "Y vemos cómo se despliega la información que estamos buscando enn el driver del navegador. **Notar que cambió el html de la página al hacer click sobre ese botón**"
   ]
  },
  {
   "cell_type": "markdown",
   "metadata": {},
   "source": [
    "ahora debemos seleccionar los segmentos que contiene el vuelo para calcular la cantidad de escalas, actualmente vemos que las paradas estan contenidas en elementos sections, asi que debemos contabilizar las paradas"
   ]
  },
  {
   "cell_type": "code",
   "execution_count": 50,
   "metadata": {},
   "outputs": [
    {
     "name": "stdout",
     "output_type": "stream",
     "text": [
      "<selenium.webdriver.remote.webelement.WebElement (session=\"fc159e1d-e2ca-4797-ac39-3625541373d5\", element=\"1ef12253-10c7-4733-96ca-8edcec152e67\")>\n",
      "<selenium.webdriver.remote.webelement.WebElement (session=\"fc159e1d-e2ca-4797-ac39-3625541373d5\", element=\"2ed037e2-ed94-44aa-b8cb-be6156d95790\")>\n"
     ]
    }
   ],
   "source": [
    "segmentos= link_escalas.find_elements('xpath','//div[@class=\"MuiDialogContent-root sc-fjdhpX jvVjjf\"]//section[@class=\"sc-fEVUGC gIelIH\"]')\n",
    "# print(segmentos, len(segmentos))\n",
    "for i in segmentos:\n",
    "    print (i)"
   ]
  },
  {
   "cell_type": "markdown",
   "metadata": {},
   "source": [
    "para calcular las escalas, debemos restar -1 la cantidad total de paradas"
   ]
  },
  {
   "cell_type": "code",
   "execution_count": 11,
   "metadata": {},
   "outputs": [
    {
     "name": "stdout",
     "output_type": "stream",
     "text": [
      "1\n"
     ]
    }
   ],
   "source": [
    "#0 escalas si es un vuelo directo\n",
    "escala=len(segmentos)-1\n",
    "print(escala)"
   ]
  },
  {
   "cell_type": "markdown",
   "metadata": {},
   "source": [
    "ahora obtengamos desde el modal el Itinerario de vuelo:\n",
    "- origen ✔\n",
    "- hora de salida \n",
    "- destino vuelo ✔\n",
    "- hora de llegada\n",
    "- duración del vuelo ✔\n",
    "- duración de la escala. *Tip: el último segmento no tendrá esta información*\n",
    "- número del vuelo\n",
    "- modelo del avión"
   ]
  },
  {
   "cell_type": "code",
   "execution_count": 58,
   "metadata": {},
   "outputs": [
    {
     "name": "stdout",
     "output_type": "stream",
     "text": [
      "Salida:ASU\n",
      "Hora Salida:10:50\n",
      "Duracion: 2 h 50 min\n",
      "Llegada:SCL\n",
      "Numero de vuelo:LA1324\n",
      "Modelo Avion:Airbus A320\n",
      "\n",
      "Salida:SCL\n",
      "Hora Salida:21:20\n",
      "Duracion: 12 h 35 min\n",
      "Llegada:MAD\n",
      "Numero de vuelo:LA706\n",
      "Modelo Avion:Boeing B787-9\n",
      "\n"
     ]
    }
   ],
   "source": [
    "for i in segmentos:\n",
    "    segmento = i\n",
    "    salida=segmento.find_element('xpath','.//div[@class=\"sc-dhVevo bQUzMb\"]/div[@class=\"sc-fqCOlO lpqwwl\"]/div[@class=\"iataCode\"]/span[1]').text\n",
    "    hora_salida=segmento.find_element('xpath','.//div[@class=\"sc-dhVevo bQUzMb\"]/div[@class=\"sc-fqCOlO lpqwwl\"]/div[@class=\"iataCode\"]/span[2]').text\n",
    "    duracion_segmento=segmento.find_element('xpath','.//div[@class=\"sc-dhVevo bQUzMb\"]/div[@class=\"sc-BOulX kmIWrd\"]/span[2]').text\n",
    "    destino_segmento=segmento.find_element('xpath','.//div[@class=\"sc-hAcydR ikJhgn\"]/div[@class=\"iataCode\"]/span[1]').text\n",
    "    numero_vuelo_segmento=segmento.find_element('xpath','.//div[@class=\"sc-hlELIx iUypDF plane-info\"]//div[@class=\"sc-bscRGj iggkUa airline-wrapper\"]').text\n",
    "    modelo_avion_segmento=segmento.find_element('xpath','.//div[@class=\"sc-hlELIx iUypDF plane-info\"]//span[@class=\"airplane-code\"]').text\n",
    "    print(f'Salida:{salida}\\nHora Salida:{hora_salida}\\nDuracion: {duracion_segmento}\\nLlegada:{destino_segmento}\\nNumero de vuelo:{numero_vuelo_segmento}\\nModelo Avion:{modelo_avion_segmento}\\n')\n"
   ]
  },
  {
   "cell_type": "code",
   "execution_count": 76,
   "metadata": {},
   "outputs": [
    {
     "name": "stdout",
     "output_type": "stream",
     "text": [
      "Duracion Escala:7 h 40 min\n"
     ]
    }
   ],
   "source": [
    "duracion_escala_vuelo=link_escalas.find_element('xpath','//section[@class=\"sc-fEVUGC gAwpmW\"]//span[@class=\"time\"]').text\n",
    "print(f'Duracion Escala:{duracion_escala_vuelo}')"
   ]
  },
  {
   "cell_type": "markdown",
   "metadata": {},
   "source": [
    "Paso 4: cerrar el navegador"
   ]
  },
  {
   "cell_type": "code",
   "execution_count": null,
   "metadata": {},
   "outputs": [],
   "source": [
    "driver.close()"
   ]
  }
 ],
 "metadata": {
  "kernelspec": {
   "display_name": "Python 3.10.4 ('entv': venv)",
   "language": "python",
   "name": "python3"
  },
  "language_info": {
   "codemirror_mode": {
    "name": "ipython",
    "version": 3
   },
   "file_extension": ".py",
   "mimetype": "text/x-python",
   "name": "python",
   "nbconvert_exporter": "python",
   "pygments_lexer": "ipython3",
   "version": "3.10.4"
  },
  "orig_nbformat": 4,
  "vscode": {
   "interpreter": {
    "hash": "8491acde47aa26015fdf488fd68628541edd72931848a0305ddc7dd62f03120a"
   }
  }
 },
 "nbformat": 4,
 "nbformat_minor": 2
}
