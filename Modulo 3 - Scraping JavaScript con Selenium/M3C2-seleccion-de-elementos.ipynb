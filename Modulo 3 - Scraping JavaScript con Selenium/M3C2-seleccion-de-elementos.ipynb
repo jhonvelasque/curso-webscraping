{
 "cells": [
  {
   "cell_type": "markdown",
   "metadata": {},
   "source": [
    "# Módulo 2: Scraping con Selenium\n",
    "## LATAM Airlines\n",
    "<a href=\"https://www.latam.com/es_ar/\"><img src=\"https://i.pinimg.com/originals/dd/52/74/dd5274702d1382d696caeb6e0f6980c5.png\"  width=\"420\"></img></a>\n",
    "<br>\n",
    "\n",
    "Vamos a scrapear el sitio de Latam para averiguar datos de vuelos en funcion el origen y destino, fecha y cabina. La información que esperamos obtener de cada vuelo es:\n",
    "- Precio(s) disponibles\n",
    "- Horas de salida y llegada (duración)\n",
    "- Información de las escalas\n",
    "\n",
    "**¡Empecemos!**\n",
    "Utilicemos lo aprendido hasta ahora para lograr el objetivo propuesto"
   ]
  },
  {
   "cell_type": "markdown",
   "metadata": {},
   "source": [
    "## Selenium"
   ]
  },
  {
   "cell_type": "markdown",
   "metadata": {},
   "source": [
    "Selenium es una herramienta que nos permitirá controlar un navegador y podremos utilizar las funcionalidades del motor de JavaScript para cargar el contenido que no viene en el HTML de la página. Para esto necesitamos el módulo `webdriver`."
   ]
  },
  {
   "cell_type": "code",
   "execution_count": 5,
   "metadata": {},
   "outputs": [],
   "source": [
    "from selenium import webdriver\n",
    "#importampos libreria para cargar el driver automaticamente\n",
    "from webdriver_manager.firefox import GeckoDriverManager\n",
    "\n",
    "url='https://www.latamairlines.com/py/es/ofertas-vuelos?origin=ASU&outbound=2023-08-01T12%3A00%3A00.000Z&destination=BCN&inbound=null&adt=1&chd=0&inf=0&trip=OW&cabin=Economy&redemption=false&sort=RECOMMENDED'"
   ]
  },
  {
   "cell_type": "markdown",
   "metadata": {},
   "source": [
    "Necesitamos controladores web para diferentes navegadores web.<br>\n",
    "Paso 1: instanciar un **driver** del navegador"
   ]
  },
  {
   "cell_type": "code",
   "execution_count": 6,
   "metadata": {},
   "outputs": [
    {
     "name": "stderr",
     "output_type": "stream",
     "text": [
      "[WDM] - Downloading: 19.0kB [00:00, 9.78MB/s]                   \n",
      "C:\\Users\\mario\\AppData\\Local\\Temp\\ipykernel_12688\\1250048064.py:4: DeprecationWarning: executable_path has been deprecated, please pass in a Service object\n",
      "  driver = webdriver.Firefox(executable_path=GeckoDriverManager().install(), options=options)\n"
     ]
    }
   ],
   "source": [
    "options = webdriver.FirefoxOptions()\n",
    "# Podemos agregarle opciones al driver para utilizar los distintos modos del navegador\n",
    "options.add_argument('-private')\n",
    "driver = webdriver.Firefox(executable_path=GeckoDriverManager().install(), options=options)"
   ]
  },
  {
   "cell_type": "markdown",
   "metadata": {},
   "source": [
    "Paso 2: hacer que el navegador cargue la página web."
   ]
  },
  {
   "cell_type": "code",
   "execution_count": 7,
   "metadata": {},
   "outputs": [],
   "source": [
    "driver.get(url)"
   ]
  },
  {
   "cell_type": "markdown",
   "metadata": {},
   "source": [
    "paso 3:Extraer informacion de la pagina<br>\n",
    "Carguemos la página y analicemos dónde se encuentra la información<br>\n",
    "Vemos que el bloque de vuelos se encuentra en una `ul` y que cada vuelo es un item de la lista, `li`. <br>"
   ]
  },
  {
   "cell_type": "code",
   "execution_count": 8,
   "metadata": {},
   "outputs": [
    {
     "name": "stdout",
     "output_type": "stream",
     "text": [
      "[<selenium.webdriver.remote.webelement.WebElement (session=\"328af330-1e57-4df5-b19e-3dd65730750b\", element=\"12c1816d-54a5-4930-908f-bd6c7de0bdfd\")>, <selenium.webdriver.remote.webelement.WebElement (session=\"328af330-1e57-4df5-b19e-3dd65730750b\", element=\"928ce162-d2e2-4c2b-8256-44126d51de71\")>, <selenium.webdriver.remote.webelement.WebElement (session=\"328af330-1e57-4df5-b19e-3dd65730750b\", element=\"2cf959fd-236c-4408-90b0-516beb428c96\")>, <selenium.webdriver.remote.webelement.WebElement (session=\"328af330-1e57-4df5-b19e-3dd65730750b\", element=\"184b7d9d-28b2-430c-95df-2b40fe9a8430\")>, <selenium.webdriver.remote.webelement.WebElement (session=\"328af330-1e57-4df5-b19e-3dd65730750b\", element=\"aad715d0-cebb-4411-9a8d-7dcf0b109aae\")>, <selenium.webdriver.remote.webelement.WebElement (session=\"328af330-1e57-4df5-b19e-3dd65730750b\", element=\"3e139742-e3d6-4354-930a-714b2b2914a0\")>, <selenium.webdriver.remote.webelement.WebElement (session=\"328af330-1e57-4df5-b19e-3dd65730750b\", element=\"0ad787af-d0b6-4edb-8fd5-b2d1d09d4435\")>, <selenium.webdriver.remote.webelement.WebElement (session=\"328af330-1e57-4df5-b19e-3dd65730750b\", element=\"02590672-c9d8-44e7-885d-9e24dded4a26\")>, <selenium.webdriver.remote.webelement.WebElement (session=\"328af330-1e57-4df5-b19e-3dd65730750b\", element=\"d93ded4e-5a3a-4c6c-9e71-6df1af4aef1c\")>, <selenium.webdriver.remote.webelement.WebElement (session=\"328af330-1e57-4df5-b19e-3dd65730750b\", element=\"ef586177-ad2f-4a9f-9739-867456a868fc\")>, <selenium.webdriver.remote.webelement.WebElement (session=\"328af330-1e57-4df5-b19e-3dd65730750b\", element=\"6964b446-bd49-4010-8cfb-2be3f7bc1625\")>, <selenium.webdriver.remote.webelement.WebElement (session=\"328af330-1e57-4df5-b19e-3dd65730750b\", element=\"0585a059-7c4f-4556-ae51-73bad6682d4c\")>, <selenium.webdriver.remote.webelement.WebElement (session=\"328af330-1e57-4df5-b19e-3dd65730750b\", element=\"5dadbb1a-3a9e-4e86-86b0-a27ce1dd4c04\")>, <selenium.webdriver.remote.webelement.WebElement (session=\"328af330-1e57-4df5-b19e-3dd65730750b\", element=\"df61bbab-c667-400a-b4f7-a96654a44294\")>, <selenium.webdriver.remote.webelement.WebElement (session=\"328af330-1e57-4df5-b19e-3dd65730750b\", element=\"ec7801e1-25c1-4487-b5a4-e79bfd32a043\")>, <selenium.webdriver.remote.webelement.WebElement (session=\"328af330-1e57-4df5-b19e-3dd65730750b\", element=\"ef1f22ef-8583-4c2d-89c8-9dd48e42ae84\")>, <selenium.webdriver.remote.webelement.WebElement (session=\"328af330-1e57-4df5-b19e-3dd65730750b\", element=\"f386f700-002c-4701-85ea-358fe6a3f200\")>, <selenium.webdriver.remote.webelement.WebElement (session=\"328af330-1e57-4df5-b19e-3dd65730750b\", element=\"6b06ba0e-5c40-484d-8852-f997e4138e51\")>, <selenium.webdriver.remote.webelement.WebElement (session=\"328af330-1e57-4df5-b19e-3dd65730750b\", element=\"13c8246e-7b8e-4721-87a2-ad651bafe4a9\")>, <selenium.webdriver.remote.webelement.WebElement (session=\"328af330-1e57-4df5-b19e-3dd65730750b\", element=\"68dd2724-bcdd-45c4-9783-5f5af3d2fdd3\")>, <selenium.webdriver.remote.webelement.WebElement (session=\"328af330-1e57-4df5-b19e-3dd65730750b\", element=\"7801449d-1d86-4f16-8eac-add44ad54e77\")>, <selenium.webdriver.remote.webelement.WebElement (session=\"328af330-1e57-4df5-b19e-3dd65730750b\", element=\"b3ffe6e5-794a-4e4b-b8f7-690907f56ec6\")>, <selenium.webdriver.remote.webelement.WebElement (session=\"328af330-1e57-4df5-b19e-3dd65730750b\", element=\"a4ec088e-f29d-49cb-92df-4aafbf8cc9ab\")>, <selenium.webdriver.remote.webelement.WebElement (session=\"328af330-1e57-4df5-b19e-3dd65730750b\", element=\"256244dc-ad89-4d0d-9c98-733b44341a97\")>, <selenium.webdriver.remote.webelement.WebElement (session=\"328af330-1e57-4df5-b19e-3dd65730750b\", element=\"4497e577-70ed-4793-94a3-334625a2730b\")>, <selenium.webdriver.remote.webelement.WebElement (session=\"328af330-1e57-4df5-b19e-3dd65730750b\", element=\"6b986110-9e68-487f-a225-f68c15667829\")>, <selenium.webdriver.remote.webelement.WebElement (session=\"328af330-1e57-4df5-b19e-3dd65730750b\", element=\"f1436154-f70b-493c-9412-460533703309\")>, <selenium.webdriver.remote.webelement.WebElement (session=\"328af330-1e57-4df5-b19e-3dd65730750b\", element=\"9551abcf-fd55-444a-a0c4-9b5daea70b55\")>]\n"
     ]
    }
   ],
   "source": [
    "#Usaremos el Xpath para obtener la lista de vuelos\n",
    "vuelos = driver.find_elements('xpath','//ol/li')\n",
    "print (vuelos)"
   ]
  },
  {
   "cell_type": "markdown",
   "metadata": {},
   "source": [
    "Obtengamos la informacion de la hora de salida, llegada y duracion del vuelo"
   ]
  },
  {
   "cell_type": "markdown",
   "metadata": {},
   "source": [
    "Notar que el xpath comienza con \".\", lo que indica que sólo debe buscar en los hijos de ese elemento. Si no ponemos el \".\", busca en todo el árbol.<br>\n",
    "Elementos importantes de xpath:\n",
    "- \"//\" busca en todos los hijos del elemento. \"/\" busca sólo en hijos directos\n",
    "- \".\" indica que la búsqueda debe empezar en ese elemento y no en el origen del árbol\n",
    "- Los atributos de los tags se buscan entre [] y con @"
   ]
  },
  {
   "cell_type": "code",
   "execution_count": 10,
   "metadata": {},
   "outputs": [
    {
     "name": "stdout",
     "output_type": "stream",
     "text": [
      "1:10 a. m.\n"
     ]
    }
   ],
   "source": [
    "#seleccionamos el primer vuelo\n",
    "vuelo_1=vuelos[0]\n",
    "#hora de salida\n",
    "hora_salida=vuelo_1.find_element('xpath','//div[@class=\"sc-klSiHT hjzFuR flight-information\"]/span[1]').text\n",
    "print (hora_salida)"
   ]
  },
  {
   "cell_type": "code",
   "execution_count": 11,
   "metadata": {},
   "outputs": [
    {
     "name": "stdout",
     "output_type": "stream",
     "text": [
      "8:20 a. m.\n"
     ]
    }
   ],
   "source": [
    "#hora de llegada\n",
    "hora_llegada=vuelo_1.find_element('xpath','.//div[3]/span[1]').text.replace('\\n+1','')\n",
    "print (hora_llegada)"
   ]
  },
  {
   "cell_type": "code",
   "execution_count": 12,
   "metadata": {},
   "outputs": [
    {
     "name": "stdout",
     "output_type": "stream",
     "text": [
      "25 h 10 min\n"
     ]
    }
   ],
   "source": [
    "# Duracion del vuelo\n",
    "duracion_vuelo= vuelo_1.find_element('xpath','.//div[2]/span[2]').text\n",
    "print (duracion_vuelo)"
   ]
  },
  {
   "cell_type": "markdown",
   "metadata": {},
   "source": [
    "Paso 4: cerrar el navegador"
   ]
  },
  {
   "cell_type": "code",
   "execution_count": 13,
   "metadata": {},
   "outputs": [],
   "source": [
    "driver.close()"
   ]
  }
 ],
 "metadata": {
  "kernelspec": {
   "display_name": "entv",
   "language": "python",
   "name": "python3"
  },
  "language_info": {
   "codemirror_mode": {
    "name": "ipython",
    "version": 3
   },
   "file_extension": ".py",
   "mimetype": "text/x-python",
   "name": "python",
   "nbconvert_exporter": "python",
   "pygments_lexer": "ipython3",
   "version": "3.10.4"
  },
  "orig_nbformat": 4,
  "vscode": {
   "interpreter": {
    "hash": "3c9f14f62ae38687a43d3c4d4204d3209bda7dbcb4b892870ffb1d2057cbf93a"
   }
  }
 },
 "nbformat": 4,
 "nbformat_minor": 2
}
