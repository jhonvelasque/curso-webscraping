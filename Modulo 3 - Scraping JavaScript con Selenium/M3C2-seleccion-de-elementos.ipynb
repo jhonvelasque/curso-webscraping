{
 "cells": [
  {
   "cell_type": "markdown",
   "metadata": {},
   "source": [
    "# Módulo 2: Scraping con Selenium\n",
    "## LATAM Airlines\n",
    "<a href=\"https://www.latam.com/es_ar/\"><img src=\"https://i.pinimg.com/originals/dd/52/74/dd5274702d1382d696caeb6e0f6980c5.png\"  width=\"420\"></img></a>\n",
    "<br>\n",
    "\n",
    "Vamos a scrapear el sitio de Latam para averiguar datos de vuelos en funcion el origen y destino, fecha y cabina. La información que esperamos obtener de cada vuelo es:\n",
    "- Precio(s) disponibles\n",
    "- Horas de salida y llegada (duración)\n",
    "- Información de las escalas\n",
    "\n",
    "**¡Empecemos!**\n",
    "Utilicemos lo aprendido hasta ahora para lograr el objetivo propuesto"
   ]
  },
  {
   "cell_type": "markdown",
   "metadata": {},
   "source": [
    "## Selenium"
   ]
  },
  {
   "cell_type": "markdown",
   "metadata": {},
   "source": [
    "Selenium es una herramienta que nos permitirá controlar un navegador y podremos utilizar las funcionalidades del motor de JavaScript para cargar el contenido que no viene en el HTML de la página. Para esto necesitamos el módulo `webdriver`."
   ]
  },
  {
   "cell_type": "code",
   "execution_count": 1,
   "metadata": {},
   "outputs": [],
   "source": [
    "from selenium import webdriver\n",
    "#importampos libreria para cargar el driver automaticamente\n",
    "from webdriver_manager.firefox import GeckoDriverManager\n",
    "\n",
    "url='https://www.latamairlines.com/py/es/ofertas-vuelos?origin=ASU&outbound=2023-08-01T12%3A00%3A00.000Z&destination=BCN&inbound=null&adt=1&chd=0&inf=0&trip=OW&cabin=Economy&redemption=false&sort=RECOMMENDED'"
   ]
  },
  {
   "cell_type": "markdown",
   "metadata": {},
   "source": [
    "Necesitamos controladores web para diferentes navegadores web.<br>\n",
    "Paso 1: instanciar un **driver** del navegador"
   ]
  },
  {
   "cell_type": "code",
   "execution_count": 2,
   "metadata": {},
   "outputs": [
    {
     "name": "stderr",
     "output_type": "stream",
     "text": [
      "[WDM] - Downloading: 100%|██████████| 1.58M/1.58M [00:00<00:00, 8.43MB/s]\n",
      "C:\\Users\\mario\\AppData\\Local\\Temp\\ipykernel_17236\\1250048064.py:4: DeprecationWarning: executable_path has been deprecated, please pass in a Service object\n",
      "  driver = webdriver.Firefox(executable_path=GeckoDriverManager().install(), options=options)\n"
     ]
    }
   ],
   "source": [
    "options = webdriver.FirefoxOptions()\n",
    "# Podemos agregarle opciones al driver para utilizar los distintos modos del navegador\n",
    "options.add_argument('-private')\n",
    "driver = webdriver.Firefox(executable_path=GeckoDriverManager().install(), options=options)"
   ]
  },
  {
   "cell_type": "markdown",
   "metadata": {},
   "source": [
    "Paso 2: hacer que el navegador cargue la página web."
   ]
  },
  {
   "cell_type": "code",
   "execution_count": 3,
   "metadata": {},
   "outputs": [],
   "source": [
    "driver.get(url)"
   ]
  },
  {
   "cell_type": "markdown",
   "metadata": {},
   "source": [
    "paso 3:Extraer informacion de la pagina<br>\n",
    "Carguemos la página y analicemos dónde se encuentra la información<br>\n",
    "Vemos que el bloque de vuelos se encuentra en una `ul` y que cada vuelo es un item de la lista, `li`. <br>"
   ]
  },
  {
   "cell_type": "code",
   "execution_count": 4,
   "metadata": {},
   "outputs": [
    {
     "name": "stdout",
     "output_type": "stream",
     "text": [
      "[<selenium.webdriver.remote.webelement.WebElement (session=\"69f3bbfa-8c8f-4f7b-9b3a-54866f0f40a5\", element=\"c37cb2cf-7ecb-495e-b02e-95add3d5b769\")>, <selenium.webdriver.remote.webelement.WebElement (session=\"69f3bbfa-8c8f-4f7b-9b3a-54866f0f40a5\", element=\"aaaec85f-c62a-400b-83cd-add8d61a0b0d\")>, <selenium.webdriver.remote.webelement.WebElement (session=\"69f3bbfa-8c8f-4f7b-9b3a-54866f0f40a5\", element=\"0273b3d5-5679-4cc3-a52e-256001ce2a57\")>, <selenium.webdriver.remote.webelement.WebElement (session=\"69f3bbfa-8c8f-4f7b-9b3a-54866f0f40a5\", element=\"93a081cc-ebbb-4c69-a637-d924f0b8b90f\")>, <selenium.webdriver.remote.webelement.WebElement (session=\"69f3bbfa-8c8f-4f7b-9b3a-54866f0f40a5\", element=\"3ef3a848-2f38-4f2b-ae47-e153135b90b7\")>, <selenium.webdriver.remote.webelement.WebElement (session=\"69f3bbfa-8c8f-4f7b-9b3a-54866f0f40a5\", element=\"e5a8045e-9397-4ac1-9cd2-576dea4a4342\")>, <selenium.webdriver.remote.webelement.WebElement (session=\"69f3bbfa-8c8f-4f7b-9b3a-54866f0f40a5\", element=\"785a4140-8bae-4c25-8f9d-450e6d538daf\")>, <selenium.webdriver.remote.webelement.WebElement (session=\"69f3bbfa-8c8f-4f7b-9b3a-54866f0f40a5\", element=\"8caa7100-9fc9-49a2-90f9-388ab21d56fb\")>, <selenium.webdriver.remote.webelement.WebElement (session=\"69f3bbfa-8c8f-4f7b-9b3a-54866f0f40a5\", element=\"f2182463-fb88-4424-84f9-e48062eefd5a\")>, <selenium.webdriver.remote.webelement.WebElement (session=\"69f3bbfa-8c8f-4f7b-9b3a-54866f0f40a5\", element=\"55ed56c7-7723-4e1f-a447-a006de83cd6e\")>, <selenium.webdriver.remote.webelement.WebElement (session=\"69f3bbfa-8c8f-4f7b-9b3a-54866f0f40a5\", element=\"d6956303-4e66-4571-b526-ebad2dda1f6b\")>, <selenium.webdriver.remote.webelement.WebElement (session=\"69f3bbfa-8c8f-4f7b-9b3a-54866f0f40a5\", element=\"5d54ac4b-c6a7-49fc-8e57-9353386df2b8\")>, <selenium.webdriver.remote.webelement.WebElement (session=\"69f3bbfa-8c8f-4f7b-9b3a-54866f0f40a5\", element=\"c8b53e2d-5bd6-4af6-9b5b-1320f594d239\")>, <selenium.webdriver.remote.webelement.WebElement (session=\"69f3bbfa-8c8f-4f7b-9b3a-54866f0f40a5\", element=\"032db618-6bfa-46e3-aef9-0eb346a4c87b\")>, <selenium.webdriver.remote.webelement.WebElement (session=\"69f3bbfa-8c8f-4f7b-9b3a-54866f0f40a5\", element=\"388786f8-3db6-40a6-bfcc-d9ef58e1fdb7\")>, <selenium.webdriver.remote.webelement.WebElement (session=\"69f3bbfa-8c8f-4f7b-9b3a-54866f0f40a5\", element=\"996e7de4-bb0e-41cf-860c-7cbdf1719d0f\")>, <selenium.webdriver.remote.webelement.WebElement (session=\"69f3bbfa-8c8f-4f7b-9b3a-54866f0f40a5\", element=\"64bafb53-b1d0-46c4-9e83-6497369dd6d9\")>, <selenium.webdriver.remote.webelement.WebElement (session=\"69f3bbfa-8c8f-4f7b-9b3a-54866f0f40a5\", element=\"ff6bcda0-c1f2-4b74-a6a6-ec3cecc015a0\")>, <selenium.webdriver.remote.webelement.WebElement (session=\"69f3bbfa-8c8f-4f7b-9b3a-54866f0f40a5\", element=\"160b26c8-a9dd-4822-ba27-a5c491015b33\")>, <selenium.webdriver.remote.webelement.WebElement (session=\"69f3bbfa-8c8f-4f7b-9b3a-54866f0f40a5\", element=\"cb719a65-d4d9-4c4b-a530-d908201dbef3\")>, <selenium.webdriver.remote.webelement.WebElement (session=\"69f3bbfa-8c8f-4f7b-9b3a-54866f0f40a5\", element=\"5b7c6120-6571-43b0-aa87-50872c632870\")>, <selenium.webdriver.remote.webelement.WebElement (session=\"69f3bbfa-8c8f-4f7b-9b3a-54866f0f40a5\", element=\"1ebe75ff-8693-4617-9d93-81fb56d89e42\")>, <selenium.webdriver.remote.webelement.WebElement (session=\"69f3bbfa-8c8f-4f7b-9b3a-54866f0f40a5\", element=\"22b5c543-a424-4db6-ae62-6978033cdf83\")>, <selenium.webdriver.remote.webelement.WebElement (session=\"69f3bbfa-8c8f-4f7b-9b3a-54866f0f40a5\", element=\"a07ebf56-b640-4d6d-b23f-5cf4f90fbb1a\")>, <selenium.webdriver.remote.webelement.WebElement (session=\"69f3bbfa-8c8f-4f7b-9b3a-54866f0f40a5\", element=\"27163927-4965-402b-87e7-2cf31224bae3\")>, <selenium.webdriver.remote.webelement.WebElement (session=\"69f3bbfa-8c8f-4f7b-9b3a-54866f0f40a5\", element=\"ff333bca-8819-4eff-84a6-617137416066\")>, <selenium.webdriver.remote.webelement.WebElement (session=\"69f3bbfa-8c8f-4f7b-9b3a-54866f0f40a5\", element=\"0842af4e-6f69-4606-9e67-ef148276b2d7\")>, <selenium.webdriver.remote.webelement.WebElement (session=\"69f3bbfa-8c8f-4f7b-9b3a-54866f0f40a5\", element=\"98914911-0362-4571-9daa-9f37fb30251d\")>, <selenium.webdriver.remote.webelement.WebElement (session=\"69f3bbfa-8c8f-4f7b-9b3a-54866f0f40a5\", element=\"421b66aa-fc1a-45dd-aa31-6bc8e8ba235d\")>]\n"
     ]
    }
   ],
   "source": [
    "#Usaremos el Xpath para obtener la lista de vuelos\n",
    "vuelos = driver.find_elements('xpath','//ol/li')\n",
    "print (vuelos)"
   ]
  },
  {
   "cell_type": "markdown",
   "metadata": {},
   "source": [
    "Obtengamos la informacion de la hora de salida, llegada y duracion del vuelo"
   ]
  },
  {
   "cell_type": "markdown",
   "metadata": {},
   "source": [
    "Notar que el xpath comienza con \".\", lo que indica que sólo debe buscar en los hijos de ese elemento. Si no ponemos el \".\", busca en todo el árbol.<br>\n",
    "Elementos importantes de xpath:\n",
    "- \"//\" busca en todos los hijos del elemento. \"/\" busca sólo en hijos directos\n",
    "- \".\" indica que la búsqueda debe empezar en ese elemento y no en el origen del árbol\n",
    "- Los atributos de los tags se buscan entre [] y con @"
   ]
  },
  {
   "cell_type": "code",
   "execution_count": 5,
   "metadata": {},
   "outputs": [
    {
     "name": "stdout",
     "output_type": "stream",
     "text": [
      "6:55 a. m.\n"
     ]
    }
   ],
   "source": [
    "#seleccionamos el primer vuelo\n",
    "vuelo_1=vuelos[0]\n",
    "#hora de salida\n",
    "hora_salida=vuelo_1.find_element('xpath','//div[@class=\"sc-klSiHT hjzFuR flight-information\"]/span[1]').text\n",
    "print (hora_salida)"
   ]
  },
  {
   "cell_type": "code",
   "execution_count": 6,
   "metadata": {},
   "outputs": [
    {
     "name": "stdout",
     "output_type": "stream",
     "text": [
      "5:20 p. m.\n"
     ]
    }
   ],
   "source": [
    "#hora de llegada\n",
    "hora_llegada=vuelo_1.find_element('xpath','.//div[3]/span[1]').text.replace('\\n+1','')\n",
    "print (hora_llegada)"
   ]
  },
  {
   "cell_type": "code",
   "execution_count": null,
   "metadata": {},
   "outputs": [],
   "source": [
    "# Duracion del vuelo\n",
    "duracion_vuelo= vuelo_1.find_element('xpath','.//div[2]/span[2]').text\n",
    "print (duracion_vuelo)"
   ]
  },
  {
   "cell_type": "markdown",
   "metadata": {},
   "source": [
    "Paso 4: cerrar el navegador"
   ]
  },
  {
   "cell_type": "code",
   "execution_count": 7,
   "metadata": {},
   "outputs": [],
   "source": [
    "driver.close()"
   ]
  }
 ],
 "metadata": {
  "kernelspec": {
   "display_name": "entv",
   "language": "python",
   "name": "python3"
  },
  "language_info": {
   "codemirror_mode": {
    "name": "ipython",
    "version": 3
   },
   "file_extension": ".py",
   "mimetype": "text/x-python",
   "name": "python",
   "nbconvert_exporter": "python",
   "pygments_lexer": "ipython3",
   "version": "3.10.4"
  },
  "orig_nbformat": 4,
  "vscode": {
   "interpreter": {
    "hash": "3c9f14f62ae38687a43d3c4d4204d3209bda7dbcb4b892870ffb1d2057cbf93a"
   }
  }
 },
 "nbformat": 4,
 "nbformat_minor": 2
}
