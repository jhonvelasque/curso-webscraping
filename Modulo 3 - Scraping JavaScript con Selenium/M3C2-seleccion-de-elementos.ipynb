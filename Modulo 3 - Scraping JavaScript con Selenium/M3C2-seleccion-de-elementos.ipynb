{
 "cells": [
  {
   "cell_type": "markdown",
   "metadata": {},
   "source": [
    "# Módulo 2: Scraping con Selenium\n",
    "## LATAM Airlines\n",
    "<a href=\"https://www.latam.com/es_ar/\"><img src=\"https://i.pinimg.com/originals/dd/52/74/dd5274702d1382d696caeb6e0f6980c5.png\"  width=\"420\"></img></a>\n",
    "<br>\n",
    "\n",
    "Vamos a scrapear el sitio de Latam para averiguar datos de vuelos en funcion el origen y destino, fecha y cabina. La información que esperamos obtener de cada vuelo es:\n",
    "- Precio(s) disponibles\n",
    "- Horas de salida y llegada (duración)\n",
    "- Información de las escalas\n",
    "\n",
    "**¡Empecemos!**\n",
    "Utilicemos lo aprendido hasta ahora para lograr el objetivo propuesto"
   ]
  },
  {
   "cell_type": "markdown",
   "metadata": {},
   "source": [
    "## Selenium"
   ]
  },
  {
   "cell_type": "markdown",
   "metadata": {},
   "source": [
    "Selenium es una herramienta que nos permitirá controlar un navegador y podremos utilizar las funcionalidades del motor de JavaScript para cargar el contenido que no viene en el HTML de la página. Para esto necesitamos el módulo `webdriver`."
   ]
  },
  {
   "cell_type": "code",
   "execution_count": 1,
   "metadata": {},
   "outputs": [],
   "source": [
    "from selenium import webdriver\n",
    "#importampos libreria para cargar el driver automaticamente\n",
    "from webdriver_manager.firefox import GeckoDriverManager\n",
    "\n",
    "url='https://www.latamairlines.com/ar/es/ofertas-vuelos?origin=ASU&inbound=null&outbound=2022-12-01T15%3A00%3A00.000Z&destination=MAD&adt=1&chd=0&inf=0&trip=OW&cabin=Economy&redemption=false&sort=RECOMMENDED'"
   ]
  },
  {
   "cell_type": "markdown",
   "metadata": {},
   "source": [
    "Necesitamos controladores web para diferentes navegadores web.<br>\n",
    "Paso 1: instanciar un **driver** del navegador"
   ]
  },
  {
   "cell_type": "code",
   "execution_count": 7,
   "metadata": {},
   "outputs": [
    {
     "name": "stderr",
     "output_type": "stream",
     "text": [
      "[WDM] - Downloading: 19.0kB [00:00, 6.48MB/s]                   \n",
      "C:\\Users\\mario\\AppData\\Local\\Temp\\ipykernel_16992\\1250048064.py:4: DeprecationWarning: executable_path has been deprecated, please pass in a Service object\n",
      "  driver = webdriver.Firefox(executable_path=GeckoDriverManager().install(), options=options)\n"
     ]
    }
   ],
   "source": [
    "options = webdriver.FirefoxOptions()\n",
    "# Podemos agregarle opciones al driver para utilizar los distintos modos del navegador\n",
    "options.add_argument('-private')\n",
    "driver = webdriver.Firefox(executable_path=GeckoDriverManager().install(), options=options)"
   ]
  },
  {
   "cell_type": "markdown",
   "metadata": {},
   "source": [
    "Paso 2: hacer que el navegador cargue la página web."
   ]
  },
  {
   "cell_type": "code",
   "execution_count": 8,
   "metadata": {},
   "outputs": [],
   "source": [
    "driver.get(url)"
   ]
  },
  {
   "cell_type": "markdown",
   "metadata": {},
   "source": [
    "paso 3:Extraer informacion de la pagina<br>\n",
    "Carguemos la página y analicemos dónde se encuentra la información<br>\n",
    "Vemos que el bloque de vuelos se encuentra en una `ul` y que cada vuelo es un item de la lista, `li`. <br>"
   ]
  },
  {
   "cell_type": "code",
   "execution_count": 27,
   "metadata": {},
   "outputs": [
    {
     "name": "stdout",
     "output_type": "stream",
     "text": [
      "[<selenium.webdriver.remote.webelement.WebElement (session=\"742d6ba4-917a-4f2b-b3ef-07645908e7c8\", element=\"7ba3e480-987b-4ee7-951e-bdb77af4522b\")>, <selenium.webdriver.remote.webelement.WebElement (session=\"742d6ba4-917a-4f2b-b3ef-07645908e7c8\", element=\"77cd6bbf-6e4c-4b75-b52b-bd969bfe567a\")>, <selenium.webdriver.remote.webelement.WebElement (session=\"742d6ba4-917a-4f2b-b3ef-07645908e7c8\", element=\"003e2b53-f5f1-40a8-ae1e-d95d0148696b\")>, <selenium.webdriver.remote.webelement.WebElement (session=\"742d6ba4-917a-4f2b-b3ef-07645908e7c8\", element=\"9d3d1083-7423-4f00-8f65-4c81fa3b0b16\")>, <selenium.webdriver.remote.webelement.WebElement (session=\"742d6ba4-917a-4f2b-b3ef-07645908e7c8\", element=\"5dafb06a-0703-487d-98c4-08fae86d1685\")>, <selenium.webdriver.remote.webelement.WebElement (session=\"742d6ba4-917a-4f2b-b3ef-07645908e7c8\", element=\"4f3cfba2-0f81-4b6e-9c1e-824f80e3285e\")>, <selenium.webdriver.remote.webelement.WebElement (session=\"742d6ba4-917a-4f2b-b3ef-07645908e7c8\", element=\"dfde7538-2e15-4222-b2c3-0da4171441fb\")>, <selenium.webdriver.remote.webelement.WebElement (session=\"742d6ba4-917a-4f2b-b3ef-07645908e7c8\", element=\"19b397e5-e718-4e1e-bc3c-e19e0910b0ba\")>, <selenium.webdriver.remote.webelement.WebElement (session=\"742d6ba4-917a-4f2b-b3ef-07645908e7c8\", element=\"fd260246-d703-4f53-8363-17a41b4264b0\")>, <selenium.webdriver.remote.webelement.WebElement (session=\"742d6ba4-917a-4f2b-b3ef-07645908e7c8\", element=\"88dfee89-1600-4152-9f6c-d8062bda3276\")>, <selenium.webdriver.remote.webelement.WebElement (session=\"742d6ba4-917a-4f2b-b3ef-07645908e7c8\", element=\"8c52361d-3c4e-4727-b853-e79a8da7bef6\")>, <selenium.webdriver.remote.webelement.WebElement (session=\"742d6ba4-917a-4f2b-b3ef-07645908e7c8\", element=\"a72b5132-4c87-4040-a254-4e3fff2f983d\")>, <selenium.webdriver.remote.webelement.WebElement (session=\"742d6ba4-917a-4f2b-b3ef-07645908e7c8\", element=\"253b79ca-1a1c-426e-9387-0c522bac1a99\")>, <selenium.webdriver.remote.webelement.WebElement (session=\"742d6ba4-917a-4f2b-b3ef-07645908e7c8\", element=\"fbd7bc9d-5a43-425b-8d73-b82a540d8337\")>, <selenium.webdriver.remote.webelement.WebElement (session=\"742d6ba4-917a-4f2b-b3ef-07645908e7c8\", element=\"ea9553bd-9b79-44ee-b573-a1c90a12d33f\")>, <selenium.webdriver.remote.webelement.WebElement (session=\"742d6ba4-917a-4f2b-b3ef-07645908e7c8\", element=\"1752c566-5251-4617-a704-ca06439a243c\")>, <selenium.webdriver.remote.webelement.WebElement (session=\"742d6ba4-917a-4f2b-b3ef-07645908e7c8\", element=\"2aadc121-b7c2-45c7-9242-1541b0dee924\")>, <selenium.webdriver.remote.webelement.WebElement (session=\"742d6ba4-917a-4f2b-b3ef-07645908e7c8\", element=\"1a5fc1d0-cf5f-48e8-b3e7-b4ada52f4cda\")>, <selenium.webdriver.remote.webelement.WebElement (session=\"742d6ba4-917a-4f2b-b3ef-07645908e7c8\", element=\"65dae729-6198-446a-85bf-041ec08b8a2d\")>, <selenium.webdriver.remote.webelement.WebElement (session=\"742d6ba4-917a-4f2b-b3ef-07645908e7c8\", element=\"184f0cc5-1c8e-4623-a914-076bce6fb166\")>, <selenium.webdriver.remote.webelement.WebElement (session=\"742d6ba4-917a-4f2b-b3ef-07645908e7c8\", element=\"539005d3-fc02-46ce-9fef-097ebabb0054\")>, <selenium.webdriver.remote.webelement.WebElement (session=\"742d6ba4-917a-4f2b-b3ef-07645908e7c8\", element=\"04dd7fc8-c1f4-44ac-825f-a07d9d012362\")>, <selenium.webdriver.remote.webelement.WebElement (session=\"742d6ba4-917a-4f2b-b3ef-07645908e7c8\", element=\"4695c2b3-6540-4e89-be01-99bab440e471\")>, <selenium.webdriver.remote.webelement.WebElement (session=\"742d6ba4-917a-4f2b-b3ef-07645908e7c8\", element=\"541a6451-6969-4fd7-8026-2d96c1357203\")>, <selenium.webdriver.remote.webelement.WebElement (session=\"742d6ba4-917a-4f2b-b3ef-07645908e7c8\", element=\"18daf64e-13e3-4440-8b5a-758a1e0ab105\")>, <selenium.webdriver.remote.webelement.WebElement (session=\"742d6ba4-917a-4f2b-b3ef-07645908e7c8\", element=\"1ad851c0-0f78-4d77-beed-3090b9de3678\")>, <selenium.webdriver.remote.webelement.WebElement (session=\"742d6ba4-917a-4f2b-b3ef-07645908e7c8\", element=\"230187d9-ccfa-493b-a12b-31966b7518ec\")>, <selenium.webdriver.remote.webelement.WebElement (session=\"742d6ba4-917a-4f2b-b3ef-07645908e7c8\", element=\"6b596546-9153-4865-aa18-0faae7004688\")>, <selenium.webdriver.remote.webelement.WebElement (session=\"742d6ba4-917a-4f2b-b3ef-07645908e7c8\", element=\"a66e8c37-c305-4f4f-b9a7-598bc3c2e710\")>, <selenium.webdriver.remote.webelement.WebElement (session=\"742d6ba4-917a-4f2b-b3ef-07645908e7c8\", element=\"e9d70b4d-52bb-46b8-99eb-9547309fe0a9\")>]\n"
     ]
    }
   ],
   "source": [
    "#Usaremos el Xpath para obtener la lista de vuelos\n",
    "vuelos = driver.find_elements('xpath','//ol/li')\n",
    "print (vuelos)"
   ]
  },
  {
   "cell_type": "markdown",
   "metadata": {},
   "source": [
    "Obtengamos la informacion de la hora de salida, llegada y duracion del vuelo"
   ]
  },
  {
   "cell_type": "markdown",
   "metadata": {},
   "source": [
    "Notar que el xpath comienza con \".\", lo que indica que sólo debe buscar en los hijos de ese elemento. Si no ponemos el \".\", busca en todo el árbol.<br>\n",
    "Elementos importantes de xpath:\n",
    "- \"//\" busca en todos los hijos del elemento. \"/\" busca sólo en hijos directos\n",
    "- \".\" indica que la búsqueda debe empezar en ese elemento y no en el origen del árbol\n",
    "- Los atributos de los tags se buscan entre [] y con @"
   ]
  },
  {
   "cell_type": "code",
   "execution_count": 43,
   "metadata": {},
   "outputs": [
    {
     "name": "stdout",
     "output_type": "stream",
     "text": [
      "10:50\n"
     ]
    }
   ],
   "source": [
    "#seleccionamos el primer vuelo\n",
    "vuelo_1=vuelos[0]\n",
    "#hora de salida\n",
    "hora_salida=vuelo_1.find_element('xpath','//div[@class=\"sc-ixltIz dfdfxH flight-information\"]/span[1]').text\n",
    "print (hora_salida)"
   ]
  },
  {
   "cell_type": "code",
   "execution_count": 61,
   "metadata": {},
   "outputs": [
    {
     "name": "stdout",
     "output_type": "stream",
     "text": [
      "13:55\n"
     ]
    }
   ],
   "source": [
    "#hora de llegada\n",
    "hora_llegada=vuelo_1.find_element('xpath','.//div[3]/span[1]').text.replace('\\n+1','')\n",
    "print (hora_llegada)"
   ]
  },
  {
   "cell_type": "code",
   "execution_count": 65,
   "metadata": {},
   "outputs": [
    {
     "name": "stdout",
     "output_type": "stream",
     "text": [
      "23 h 5 min\n"
     ]
    }
   ],
   "source": [
    "# Duracion del vuelo\n",
    "duracion_vuelo= vuelo_1.find_element('xpath','.//div[2]/span[2]').text\n",
    "print (duracion_vuelo)"
   ]
  },
  {
   "cell_type": "markdown",
   "metadata": {},
   "source": [
    "Paso 4: cerrar el navegador"
   ]
  },
  {
   "cell_type": "code",
   "execution_count": 5,
   "metadata": {},
   "outputs": [],
   "source": [
    "driver.close()"
   ]
  }
 ],
 "metadata": {
  "kernelspec": {
   "display_name": "Python 3.10.4 ('entv': venv)",
   "language": "python",
   "name": "python3"
  },
  "language_info": {
   "codemirror_mode": {
    "name": "ipython",
    "version": 3
   },
   "file_extension": ".py",
   "mimetype": "text/x-python",
   "name": "python",
   "nbconvert_exporter": "python",
   "pygments_lexer": "ipython3",
   "version": "3.10.4"
  },
  "orig_nbformat": 4,
  "vscode": {
   "interpreter": {
    "hash": "8491acde47aa26015fdf488fd68628541edd72931848a0305ddc7dd62f03120a"
   }
  }
 },
 "nbformat": 4,
 "nbformat_minor": 2
}
