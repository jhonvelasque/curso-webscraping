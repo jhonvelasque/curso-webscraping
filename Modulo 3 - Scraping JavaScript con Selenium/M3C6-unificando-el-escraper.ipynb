{
 "cells": [
  {
   "cell_type": "markdown",
   "metadata": {},
   "source": [
    "# Módulo 2: Scraping con Selenium\n",
    "## LATAM Airlines\n",
    "<a href=\"https://www.latam.com/es_ar/\"><img src=\"https://i.pinimg.com/originals/dd/52/74/dd5274702d1382d696caeb6e0f6980c5.png\"  width=\"420\"></img></a>\n",
    "<br>\n",
    "\n",
    "Vamos a scrapear el sitio de Latam para averiguar datos de vuelos en funcion el origen y destino, fecha y cabina. La información que esperamos obtener de cada vuelo es:\n",
    "- Precio(s) disponibles\n",
    "- Horas de salida y llegada (duración)\n",
    "- Información de las escalas\n",
    "\n",
    "**¡Empecemos!**\n",
    "Utilicemos lo aprendido hasta ahora para lograr el objetivo propuesto"
   ]
  },
  {
   "cell_type": "markdown",
   "metadata": {},
   "source": [
    "## Selenium"
   ]
  },
  {
   "cell_type": "markdown",
   "metadata": {},
   "source": [
    "Selenium es una herramienta que nos permitirá controlar un navegador y podremos utilizar las funcionalidades del motor de JavaScript para cargar el contenido que no viene en el HTML de la página. Para esto necesitamos el módulo `webdriver`."
   ]
  },
  {
   "cell_type": "code",
   "execution_count": null,
   "metadata": {},
   "outputs": [],
   "source": [
    "from selenium import webdriver\n",
    "#importampos libreria para cargar el driver automaticamente\n",
    "from webdriver_manager.firefox import GeckoDriverManager\n",
    "import time\n",
    "\n",
    "url='https://www.latamairlines.com/ar/es/ofertas-vuelos?origin=ASU&inbound=null&outbound=2022-12-01T15%3A00%3A00.000Z&destination=MAD&adt=1&chd=0&inf=0&trip=OW&cabin=Economy&redemption=false&sort=RECOMMENDED'"
   ]
  },
  {
   "cell_type": "code",
   "execution_count": null,
   "metadata": {},
   "outputs": [],
   "source": [
    "def obtener_precios(vuelo):\n",
    "    '''\n",
    "    Función que retorna una lista de diccionarios con las distintas tarifas\n",
    "    '''\n",
    "    tarifas= vuelo.find_elements('xpath','.//ol[@class=\"sc-iAVDmT DwgCo\"]/li[@class=\"sc-jjgyjb buqrVI\"]')\n",
    "    precios=[]\n",
    "    for tarifa in tarifas:\n",
    "        #buscamos en cada pocision de la tarifa los siquientes elementos\n",
    "        nombre = tarifa.find_element('xpath','.//div[@class=\"sc-ieSwJA gfCbFb\"]/div[1]/span[@class=\"sc-gBSKhj chxCgG\"]').text\n",
    "        moneda= tarifa.find_element('xpath','.//div[@class=\"sc-ieSwJA gfCbFb\"]/div[3]//span[contains(@class,\"currency\")]').text\n",
    "        valor= tarifa.find_element('xpath','.//div[@class=\"sc-ieSwJA gfCbFb\"]/div[3]//span[@class=\"sc-ihiiSJ AoaXI\"]').text\n",
    "        #guardo los valores que obtengo en un diccionario\n",
    "        dict_tarifa={nombre:{'moneda':moneda,'valor':valor}}\n",
    "        #guradamos nuestro diccionario con los datos de tarifa a nuestra lia de precio\n",
    "        precios.append(dict_tarifa)\n",
    "        # print(dict_tarifa)\n",
    "    return precios"
   ]
  },
  {
   "cell_type": "code",
   "execution_count": null,
   "metadata": {},
   "outputs": [],
   "source": [
    "def obtener_datos_escalas(vuelo):\n",
    "    '''\n",
    "    Función que retorna una lista de diccionarios con la información de \n",
    "    las escalas de cada vuelo\n",
    "    '''\n",
    "\n",
    "    segmentos= vuelo.find_elements('xpath','//div[@class=\"MuiDialogContent-root sc-fjdhpX jvVjjf\"]//section[@class=\"sc-fEVUGC gIelIH\"]')\n",
    "    datos_escalas=[]    \n",
    "    for segmento in segmentos:\n",
    "        #origen\n",
    "        salida=segmento.find_element('xpath','.//div[@class=\"sc-dhVevo bQUzMb\"]/div[@class=\"sc-fqCOlO lpqwwl\"]/div[@class=\"iataCode\"]/span[1]').text\n",
    "        #hora de salida\n",
    "        hora_salida=segmento.find_element('xpath','.//div[@class=\"sc-dhVevo bQUzMb\"]/div[@class=\"sc-fqCOlO lpqwwl\"]/div[@class=\"iataCode\"]/span[2]').text\n",
    "        #destino\n",
    "        destino_segmento=segmento.find_element('xpath','.//div[@class=\"sc-hAcydR ikJhgn\"]/div[@class=\"iataCode\"]/span[1]').text\n",
    "        #Hora de llegada\n",
    "        hora_llegada=segmento.find_element('xpath','.//div[@class=\"sc-hAcydR ikJhgn\"]/div[@class=\"iataCode\"]/span[2]').text\n",
    "        #Duracion del vuelo\n",
    "        duracion_segmento=segmento.find_element('xpath','.//div[@class=\"sc-dhVevo bQUzMb\"]/div[@class=\"sc-BOulX kmIWrd\"]/span[2]').text\n",
    "        #Numero de vuelo\n",
    "        numero_vuelo_segmento=segmento.find_element('xpath','.//div[@class=\"sc-hlELIx iUypDF plane-info\"]//div[@class=\"sc-bscRGj iggkUa airline-wrapper\"]').text\n",
    "        #Modelo de avion\n",
    "        modelo_avion_segmento=segmento.find_element('xpath','.//div[@class=\"sc-hlELIx iUypDF plane-info\"]//span[@class=\"airplane-code\"]').text\n",
    "        \n",
    "        #el último segmento no tendrá escala por que es el destino final del vuelo\n",
    "        if segmento != segmentos[-1]:    \n",
    "            #Duracion escala\n",
    "            duracion_escala_vuelo=segmento.find_element('xpath','//section[@class=\"sc-fEVUGC gAwpmW\"]//span[@class=\"time\"]').text\n",
    "        else:\n",
    "            duracion_escala_vuelo=''\n",
    "        \n",
    "        # Armo un diccionario para almacenar los datos\n",
    "        datos_escalas_dict={\n",
    "            'salida':salida,\n",
    "            'hora_salida':hora_salida,\n",
    "            'destino':destino_segmento,\n",
    "            'hora_llega':hora_llegada,\n",
    "            'duracion':duracion_segmento,\n",
    "            'numero_vuelo':numero_vuelo_segmento,\n",
    "            'modelo_avion':modelo_avion_segmento,\n",
    "            'duracion_escala':duracion_escala_vuelo\n",
    "        }\n",
    "        datos_escalas.append(datos_escalas_dict)\n",
    "\n",
    "    return datos_escalas"
   ]
  },
  {
   "cell_type": "code",
   "execution_count": null,
   "metadata": {},
   "outputs": [],
   "source": [
    "def obtener_tiempos(vuelo):\n",
    "    '''\n",
    "    Función que retorna un diccionario con los horarios de salida y llegada de cada\n",
    "    vuelo, incluyendo la duración. \n",
    "    Nota: la duración del vuelo no es la hora de llegada - la hora de salida porque\n",
    "    puede haber diferencia de horarios entre el origen y el destino.\n",
    "    '''\n",
    "    #hora de salida\n",
    "    hora_salida=vuelo.find_element('xpath','//div[@class=\"sc-ixltIz dfdfxH flight-information\"]/span[1]').text\n",
    "    #hora de llegada\n",
    "    hora_llegada=vuelo.find_element('xpath','.//div[3]/span[1]').text.replace('\\n+1','')\n",
    "    # Duracion del vuelo\n",
    "    duracion_vuelo= vuelo.find_element('xpath','.//div[2]/span[2]').text\n",
    "\n",
    "    tiempos_vuelo_dict={\n",
    "        'hora_salida':hora_salida,\n",
    "        'hora_llegada':hora_llegada,\n",
    "        'duracion_vuelo':duracion_vuelo\n",
    "    }\n",
    "    return tiempos_vuelo_dict"
   ]
  },
  {
   "cell_type": "code",
   "execution_count": null,
   "metadata": {},
   "outputs": [],
   "source": [
    "def obtener_info(driver):\n",
    "    #Usaremos el Xpath para obtener la lista de vuelos\n",
    "    vuelos = driver.find_elements('xpath','//ol/li')\n",
    "    print(f'Se encontaron {len(vuelos)} vuelos.')\n",
    "    print(f'Iniciando Scraping...')\n",
    "    info=[]\n",
    "    contador=0\n",
    "    for vuelo in vuelos:\n",
    "        #obtener los tiempos generales de cada vuelo\n",
    "        tiempos=obtener_tiempos(vuelo)\n",
    "        #clickeamos sobe el link escalas\n",
    "        vuelo.find_element('xpath','//div[@class=\"sc-fYAFcb kdctDt\"]//a').click()\n",
    "        #esperamos que cargue el contenido\n",
    "        time.sleep(10)\n",
    "        escalas=obtener_datos_escalas(vuelo)\n",
    "        #cerramos el modal\n",
    "        driver.find_element('xpath','//*[@id=\"itinerary-modal-0-dialog-close\"]').click()\n",
    "        #clickeamos el vuelo para ver los precios\n",
    "        vuelo.click()\n",
    "        #esperamos que cargue el contenidon de los precios\n",
    "        time.sleep(5)\n",
    "        precios=obtener_precios(vuelo)\n",
    "        #click nuevamente para cerrar los precios que se desplegaron\n",
    "        vuelo.click()\n",
    "\n",
    "        info.append({'precios':precios,'tiempos':tiempos,'escalas':escalas})\n",
    "        contador+=1\n",
    "        print(f'Analizando {contador} de {len(vuelos)} vuelos')\n",
    "\n",
    "    return info"
   ]
  },
  {
   "cell_type": "code",
   "execution_count": null,
   "metadata": {},
   "outputs": [],
   "source": [
    "options = webdriver.FirefoxOptions()\n",
    "# Podemos agregarle opciones al driver para utilizar los distintos modos del navegador\n",
    "options.add_argument('-private')\n",
    "driver = webdriver.Firefox(executable_path=GeckoDriverManager().install(), options=options)\n",
    "driver.get(url)\n",
    "time.sleep(5)\n",
    "obtener_info(driver)"
   ]
  },
  {
   "cell_type": "markdown",
   "metadata": {},
   "source": [
    "Paso 4: cerrar el navegador"
   ]
  },
  {
   "cell_type": "code",
   "execution_count": null,
   "metadata": {},
   "outputs": [],
   "source": [
    "driver.close()"
   ]
  }
 ],
 "metadata": {
  "kernelspec": {
   "display_name": "Python 3.10.4 ('entv': venv)",
   "language": "python",
   "name": "python3"
  },
  "language_info": {
   "codemirror_mode": {
    "name": "ipython",
    "version": 3
   },
   "file_extension": ".py",
   "mimetype": "text/x-python",
   "name": "python",
   "nbconvert_exporter": "python",
   "pygments_lexer": "ipython3",
   "version": "3.10.4"
  },
  "orig_nbformat": 4,
  "vscode": {
   "interpreter": {
    "hash": "8491acde47aa26015fdf488fd68628541edd72931848a0305ddc7dd62f03120a"
   }
  }
 },
 "nbformat": 4,
 "nbformat_minor": 2
}
