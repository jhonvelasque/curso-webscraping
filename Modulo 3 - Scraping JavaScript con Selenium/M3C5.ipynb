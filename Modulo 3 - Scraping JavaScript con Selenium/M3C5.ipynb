{
 "cells": [
  {
   "cell_type": "markdown",
   "metadata": {},
   "source": [
    "# Módulo 2: Scraping con Selenium\n",
    "## LATAM Airlines\n",
    "<a href=\"https://www.latam.com/es_ar/\"><img src=\"https://i.pinimg.com/originals/dd/52/74/dd5274702d1382d696caeb6e0f6980c5.png\"  width=\"420\"></img></a>\n",
    "<br>\n",
    "\n",
    "Vamos a scrapear el sitio de Latam para averiguar datos de vuelos en funcion el origen y destino, fecha y cabina. La información que esperamos obtener de cada vuelo es:\n",
    "- Precio(s) disponibles\n",
    "- Horas de salida y llegada (duración)\n",
    "- Información de las escalas\n",
    "\n",
    "**¡Empecemos!**\n",
    "Utilicemos lo aprendido hasta ahora para lograr el objetivo propuesto"
   ]
  },
  {
   "cell_type": "markdown",
   "metadata": {},
   "source": [
    "## Selenium"
   ]
  },
  {
   "cell_type": "markdown",
   "metadata": {},
   "source": [
    "Selenium es una herramienta que nos permitirá controlar un navegador y podremos utilizar las funcionalidades del motor de JavaScript para cargar el contenido que no viene en el HTML de la página. Para esto necesitamos el módulo `webdriver`."
   ]
  },
  {
   "cell_type": "code",
   "execution_count": 1,
   "metadata": {},
   "outputs": [],
   "source": [
    "from selenium import webdriver\n",
    "#importampos libreria para cargar el driver automaticamente\n",
    "from webdriver_manager.firefox import GeckoDriverManager\n",
    "\n",
    "url='https://www.latamairlines.com/ar/es/ofertas-vuelos?origin=ASU&inbound=null&outbound=2022-12-01T15%3A00%3A00.000Z&destination=MAD&adt=1&chd=0&inf=0&trip=OW&cabin=Economy&redemption=false&sort=RECOMMENDED'"
   ]
  },
  {
   "cell_type": "markdown",
   "metadata": {},
   "source": [
    "Necesitamos controladores web para diferentes navegadores web.<br>\n",
    "Paso 1: instanciar un **driver** del navegador"
   ]
  },
  {
   "cell_type": "code",
   "execution_count": 2,
   "metadata": {},
   "outputs": [
    {
     "name": "stderr",
     "output_type": "stream",
     "text": [
      "[WDM] - Downloading: 19.0kB [00:00, 6.52MB/s]                   \n",
      "C:\\Users\\mario\\AppData\\Local\\Temp\\ipykernel_16644\\1250048064.py:4: DeprecationWarning: executable_path has been deprecated, please pass in a Service object\n",
      "  driver = webdriver.Firefox(executable_path=GeckoDriverManager().install(), options=options)\n"
     ]
    }
   ],
   "source": [
    "options = webdriver.FirefoxOptions()\n",
    "# Podemos agregarle opciones al driver para utilizar los distintos modos del navegador\n",
    "options.add_argument('-private')\n",
    "driver = webdriver.Firefox(executable_path=GeckoDriverManager().install(), options=options)"
   ]
  },
  {
   "cell_type": "markdown",
   "metadata": {},
   "source": [
    "Paso 2: hacer que el navegador cargue la página web."
   ]
  },
  {
   "cell_type": "code",
   "execution_count": 3,
   "metadata": {},
   "outputs": [],
   "source": [
    "driver.get(url)"
   ]
  },
  {
   "cell_type": "markdown",
   "metadata": {},
   "source": [
    "paso 3:Extraer informacion de la pagina<br>\n",
    "Carguemos la página y analicemos dónde se encuentra la información<br>\n",
    "Vemos que el bloque de vuelos se encuentra en una `ul` y que cada vuelo es un item de la lista, `li`. <br>"
   ]
  },
  {
   "cell_type": "code",
   "execution_count": 4,
   "metadata": {},
   "outputs": [
    {
     "name": "stdout",
     "output_type": "stream",
     "text": [
      "[<selenium.webdriver.remote.webelement.WebElement (session=\"daf07e56-808e-4178-ae49-4749c533c327\", element=\"7e4c90a4-e7f9-4c62-a9bf-596a8dd7c86e\")>, <selenium.webdriver.remote.webelement.WebElement (session=\"daf07e56-808e-4178-ae49-4749c533c327\", element=\"86e246eb-366f-4d66-8533-70a8521759a2\")>, <selenium.webdriver.remote.webelement.WebElement (session=\"daf07e56-808e-4178-ae49-4749c533c327\", element=\"834d19a8-3800-46a1-9b50-18f10549b3cc\")>, <selenium.webdriver.remote.webelement.WebElement (session=\"daf07e56-808e-4178-ae49-4749c533c327\", element=\"aabbe036-dcb1-48e6-9fc8-9ec96f19574a\")>, <selenium.webdriver.remote.webelement.WebElement (session=\"daf07e56-808e-4178-ae49-4749c533c327\", element=\"f6c0d22d-331e-4331-92dd-64f0110c2abd\")>, <selenium.webdriver.remote.webelement.WebElement (session=\"daf07e56-808e-4178-ae49-4749c533c327\", element=\"a0f39a45-b88c-44fb-a389-ed9526020808\")>, <selenium.webdriver.remote.webelement.WebElement (session=\"daf07e56-808e-4178-ae49-4749c533c327\", element=\"7a762d7d-a5ba-41cd-acc7-e2605ed3ebbe\")>, <selenium.webdriver.remote.webelement.WebElement (session=\"daf07e56-808e-4178-ae49-4749c533c327\", element=\"a4e152ee-841c-4565-bf26-b36aad1c8cd5\")>, <selenium.webdriver.remote.webelement.WebElement (session=\"daf07e56-808e-4178-ae49-4749c533c327\", element=\"3e28120c-b114-4a2d-bf13-ea9a4e704912\")>, <selenium.webdriver.remote.webelement.WebElement (session=\"daf07e56-808e-4178-ae49-4749c533c327\", element=\"e3fc1170-ed94-49d3-90b8-e9c1d9eb195c\")>, <selenium.webdriver.remote.webelement.WebElement (session=\"daf07e56-808e-4178-ae49-4749c533c327\", element=\"38ffab56-f9b8-4771-8624-7b079ecc10f1\")>, <selenium.webdriver.remote.webelement.WebElement (session=\"daf07e56-808e-4178-ae49-4749c533c327\", element=\"589a993a-06df-45c9-87fb-a1e6acfac2d5\")>, <selenium.webdriver.remote.webelement.WebElement (session=\"daf07e56-808e-4178-ae49-4749c533c327\", element=\"099b4c81-2b28-4e27-9c7e-b8af95702533\")>, <selenium.webdriver.remote.webelement.WebElement (session=\"daf07e56-808e-4178-ae49-4749c533c327\", element=\"719dd00d-b9b5-458c-9728-cb93c28669b6\")>, <selenium.webdriver.remote.webelement.WebElement (session=\"daf07e56-808e-4178-ae49-4749c533c327\", element=\"39593e99-90c5-4002-9cc9-a670982be7ce\")>, <selenium.webdriver.remote.webelement.WebElement (session=\"daf07e56-808e-4178-ae49-4749c533c327\", element=\"ea11d435-4b1f-4bd1-9147-de87f73d6f90\")>, <selenium.webdriver.remote.webelement.WebElement (session=\"daf07e56-808e-4178-ae49-4749c533c327\", element=\"64b362ad-d23a-484f-89ef-7abc8d6f4bef\")>, <selenium.webdriver.remote.webelement.WebElement (session=\"daf07e56-808e-4178-ae49-4749c533c327\", element=\"d1d51610-755d-4efd-9817-919504cfa550\")>, <selenium.webdriver.remote.webelement.WebElement (session=\"daf07e56-808e-4178-ae49-4749c533c327\", element=\"d87db7fb-f77b-4144-9963-14601b8912f9\")>, <selenium.webdriver.remote.webelement.WebElement (session=\"daf07e56-808e-4178-ae49-4749c533c327\", element=\"466b92a7-a752-4342-87a6-27e8ad07cbd7\")>, <selenium.webdriver.remote.webelement.WebElement (session=\"daf07e56-808e-4178-ae49-4749c533c327\", element=\"65a8fd3a-3a85-4e00-af88-f0b4fcbcc8c1\")>, <selenium.webdriver.remote.webelement.WebElement (session=\"daf07e56-808e-4178-ae49-4749c533c327\", element=\"1e34bd67-be7f-4678-9931-8dbb7f39e48d\")>, <selenium.webdriver.remote.webelement.WebElement (session=\"daf07e56-808e-4178-ae49-4749c533c327\", element=\"15593623-d2bb-461d-a5d5-cf6f948dfaa0\")>, <selenium.webdriver.remote.webelement.WebElement (session=\"daf07e56-808e-4178-ae49-4749c533c327\", element=\"6382e50a-3dcd-4294-983a-ea4804e9552e\")>, <selenium.webdriver.remote.webelement.WebElement (session=\"daf07e56-808e-4178-ae49-4749c533c327\", element=\"593d65bc-ec1b-4cbe-975a-c9cb7891aece\")>, <selenium.webdriver.remote.webelement.WebElement (session=\"daf07e56-808e-4178-ae49-4749c533c327\", element=\"dfaf4ad6-a5eb-43f2-8af6-03bc8152c66f\")>, <selenium.webdriver.remote.webelement.WebElement (session=\"daf07e56-808e-4178-ae49-4749c533c327\", element=\"cffcebb0-b1da-42c9-8d64-b2d0e211c8de\")>, <selenium.webdriver.remote.webelement.WebElement (session=\"daf07e56-808e-4178-ae49-4749c533c327\", element=\"25434813-5f9e-4bf2-8070-cfa763d81604\")>, <selenium.webdriver.remote.webelement.WebElement (session=\"daf07e56-808e-4178-ae49-4749c533c327\", element=\"0fd75ee9-6f8c-423e-95d3-b1c31982804e\")>, <selenium.webdriver.remote.webelement.WebElement (session=\"daf07e56-808e-4178-ae49-4749c533c327\", element=\"4cf31681-0565-414d-91e2-40b3837e09ff\")>]\n"
     ]
    }
   ],
   "source": [
    "#Usaremos el Xpath para obtener la lista de vuelos\n",
    "vuelos = driver.find_elements('xpath','//ol/li')\n",
    "print (vuelos)"
   ]
  },
  {
   "cell_type": "markdown",
   "metadata": {},
   "source": [
    "Obtengamos la informacion de la hora de salida, llegada y duracion del vuelo"
   ]
  },
  {
   "cell_type": "markdown",
   "metadata": {},
   "source": [
    "Notar que el xpath comienza con \".\", lo que indica que sólo debe buscar en los hijos de ese elemento. Si no ponemos el \".\", busca en todo el árbol.<br>\n",
    "Elementos importantes de xpath:\n",
    "- \"//\" busca en todos los hijos del elemento. \"/\" busca sólo en hijos directos\n",
    "- \".\" indica que la búsqueda debe empezar en ese elemento y no en el origen del árbol\n",
    "- Los atributos de los tags se buscan entre [] y con @"
   ]
  },
  {
   "cell_type": "code",
   "execution_count": 21,
   "metadata": {},
   "outputs": [
    {
     "name": "stdout",
     "output_type": "stream",
     "text": [
      "10:50\n"
     ]
    }
   ],
   "source": [
    "#seleccionamos el primer vuelo\n",
    "vuelo_1=vuelos[0]\n",
    "#hora de salida\n",
    "hora_salida=vuelo_1.find_element('xpath','//div[@class=\"sc-ixltIz dfdfxH flight-information\"]/span[1]').text\n",
    "print (hora_salida)"
   ]
  },
  {
   "cell_type": "code",
   "execution_count": 22,
   "metadata": {},
   "outputs": [
    {
     "name": "stdout",
     "output_type": "stream",
     "text": [
      "13:55\n"
     ]
    }
   ],
   "source": [
    "#hora de llegada\n",
    "hora_llegada=vuelo_1.find_element('xpath','.//div[3]/span[1]').text.replace('\\n+1','')\n",
    "print (hora_llegada)"
   ]
  },
  {
   "cell_type": "code",
   "execution_count": 23,
   "metadata": {},
   "outputs": [
    {
     "name": "stdout",
     "output_type": "stream",
     "text": [
      "23 h 5 min\n"
     ]
    }
   ],
   "source": [
    "# Duracion del vuelo\n",
    "duracion_vuelo= vuelo_1.find_element('xpath','.//div[2]/span[2]').text\n",
    "print (duracion_vuelo)"
   ]
  },
  {
   "cell_type": "markdown",
   "metadata": {},
   "source": [
    "veremos cómo obtener la información de las escalas de cada vuelo. <br>\n",
    "Para desplegar esa información de las escalas, debemos clickear en link para que se habilite el modal que contiene la informacion. Seleccionémoslo:"
   ]
  },
  {
   "cell_type": "code",
   "execution_count": 24,
   "metadata": {},
   "outputs": [
    {
     "name": "stdout",
     "output_type": "stream",
     "text": [
      "<selenium.webdriver.remote.webelement.WebElement (session=\"37a80af2-e0a0-4b71-8c4a-435a3dcf3c7d\", element=\"9d8d2dbf-3c34-4369-9765-ef733b9001fb\")>\n"
     ]
    }
   ],
   "source": [
    "link_escalas = vuelo_1.find_element('xpath','//div[@class=\"sc-fYAFcb kdctDt\"]//a')\n",
    "print (link_escalas)"
   ]
  },
  {
   "cell_type": "markdown",
   "metadata": {},
   "source": [
    "Una vez ubicado el elemento podemos clickear sobre él"
   ]
  },
  {
   "cell_type": "code",
   "execution_count": 25,
   "metadata": {},
   "outputs": [],
   "source": [
    "link_escalas.click()"
   ]
  },
  {
   "cell_type": "markdown",
   "metadata": {},
   "source": [
    "Y vemos cómo se despliega la información que estamos buscando enn el driver del navegador. **Notar que cambió el html de la página al hacer click sobre ese botón**"
   ]
  },
  {
   "cell_type": "markdown",
   "metadata": {},
   "source": [
    "ahora debemos seleccionar los segmentos que contiene el vuelo para calcular la cantidad de escalas, actualmente vemos que las paradas estan contenidas en elementos sections, asi que debemos contabilizar las paradas"
   ]
  },
  {
   "cell_type": "code",
   "execution_count": 10,
   "metadata": {},
   "outputs": [
    {
     "name": "stdout",
     "output_type": "stream",
     "text": [
      "<selenium.webdriver.remote.webelement.WebElement (session=\"37a80af2-e0a0-4b71-8c4a-435a3dcf3c7d\", element=\"b4de3165-f4f4-4b35-8911-ab415f868efc\")>\n",
      "<selenium.webdriver.remote.webelement.WebElement (session=\"37a80af2-e0a0-4b71-8c4a-435a3dcf3c7d\", element=\"f0b7395f-d3a4-4fb7-92c5-11b37174cd64\")>\n"
     ]
    }
   ],
   "source": [
    "segmentos= link_escalas.find_elements('xpath','//div[@class=\"MuiDialogContent-root sc-fjdhpX jvVjjf\"]//section[@class=\"sc-fEVUGC gIelIH\"]')\n",
    "# print(segmentos, len(segmentos))\n",
    "for i in segmentos:\n",
    "    print (i)"
   ]
  },
  {
   "cell_type": "markdown",
   "metadata": {},
   "source": [
    "para calcular las escalas, debemos restar -1 la cantidad total de paradas"
   ]
  },
  {
   "cell_type": "code",
   "execution_count": 11,
   "metadata": {},
   "outputs": [
    {
     "name": "stdout",
     "output_type": "stream",
     "text": [
      "1\n"
     ]
    }
   ],
   "source": [
    "#0 escalas si es un vuelo directo\n",
    "escala=len(segmentos)-1\n",
    "print(escala)"
   ]
  },
  {
   "cell_type": "markdown",
   "metadata": {},
   "source": [
    "ahora obtengamos desde el modal el Itinerario de vuelo:\n",
    "- origen ✔\n",
    "- hora de salida \n",
    "- destino vuelo ✔\n",
    "- hora de llegada\n",
    "- duración del vuelo ✔\n",
    "- duración de la escala. *Tip: el último segmento no tendrá esta información*\n",
    "- número del vuelo\n",
    "- modelo del avión"
   ]
  },
  {
   "cell_type": "code",
   "execution_count": 12,
   "metadata": {},
   "outputs": [
    {
     "name": "stdout",
     "output_type": "stream",
     "text": [
      "Salida:ASU\n",
      "Hora Salida:10:50\n",
      "Duracion: 2 h 50 min\n",
      "Llegada:SCL\n",
      "Numero de vuelo:LA1324\n",
      "Modelo Avion:Airbus A320\n",
      "\n",
      "Salida:SCL\n",
      "Hora Salida:21:20\n",
      "Duracion: 12 h 35 min\n",
      "Llegada:MAD\n",
      "Numero de vuelo:LA706\n",
      "Modelo Avion:Boeing B787-9\n",
      "\n"
     ]
    }
   ],
   "source": [
    "for i in segmentos:\n",
    "    segmento = i\n",
    "    salida=segmento.find_element('xpath','.//div[@class=\"sc-dhVevo bQUzMb\"]/div[@class=\"sc-fqCOlO lpqwwl\"]/div[@class=\"iataCode\"]/span[1]').text\n",
    "    hora_salida=segmento.find_element('xpath','.//div[@class=\"sc-dhVevo bQUzMb\"]/div[@class=\"sc-fqCOlO lpqwwl\"]/div[@class=\"iataCode\"]/span[2]').text\n",
    "    duracion_segmento=segmento.find_element('xpath','.//div[@class=\"sc-dhVevo bQUzMb\"]/div[@class=\"sc-BOulX kmIWrd\"]/span[2]').text\n",
    "    destino_segmento=segmento.find_element('xpath','.//div[@class=\"sc-hAcydR ikJhgn\"]/div[@class=\"iataCode\"]/span[1]').text\n",
    "    numero_vuelo_segmento=segmento.find_element('xpath','.//div[@class=\"sc-hlELIx iUypDF plane-info\"]//div[@class=\"sc-bscRGj iggkUa airline-wrapper\"]').text\n",
    "    modelo_avion_segmento=segmento.find_element('xpath','.//div[@class=\"sc-hlELIx iUypDF plane-info\"]//span[@class=\"airplane-code\"]').text\n",
    "    \n",
    "    print(f'Salida:{salida}\\nHora Salida:{hora_salida}\\nDuracion: {duracion_segmento}\\nLlegada:{destino_segmento}\\nNumero de vuelo:{numero_vuelo_segmento}\\nModelo Avion:{modelo_avion_segmento}\\n')\n"
   ]
  },
  {
   "cell_type": "code",
   "execution_count": 13,
   "metadata": {},
   "outputs": [
    {
     "name": "stdout",
     "output_type": "stream",
     "text": [
      "Duracion Escala:7 h 40 min\n"
     ]
    }
   ],
   "source": [
    "duracion_escala_vuelo=link_escalas.find_element('xpath','//section[@class=\"sc-fEVUGC gAwpmW\"]//span[@class=\"time\"]').text\n",
    "print(f'Duracion Escala:{duracion_escala_vuelo}')"
   ]
  },
  {
   "cell_type": "markdown",
   "metadata": {},
   "source": [
    "Una vez que hayamos obtenido toda la información, debemos cerrar el modal/pop-up."
   ]
  },
  {
   "cell_type": "code",
   "execution_count": 14,
   "metadata": {},
   "outputs": [],
   "source": [
    "driver.find_element('xpath','//*[@id=\"itinerary-modal-0-dialog-close\"]').click()"
   ]
  },
  {
   "cell_type": "markdown",
   "metadata": {},
   "source": [
    "Por último debemos obtener la información de las tarifas. Para eso, debemos clickear sobre el vuelo (sobre cualquier parte)"
   ]
  },
  {
   "cell_type": "code",
   "execution_count": 15,
   "metadata": {},
   "outputs": [],
   "source": [
    "vuelo_1.click()"
   ]
  },
  {
   "cell_type": "markdown",
   "metadata": {},
   "source": [
    "La información de los precios para cada tarifa está contenida en una tablas (ol). Tenemos los precios y categorias de cada una de las tarifas"
   ]
  },
  {
   "cell_type": "code",
   "execution_count": 16,
   "metadata": {},
   "outputs": [
    {
     "name": "stdout",
     "output_type": "stream",
     "text": [
      "[<selenium.webdriver.remote.webelement.WebElement (session=\"37a80af2-e0a0-4b71-8c4a-435a3dcf3c7d\", element=\"a5816e6d-561b-4548-9d44-fc3a18c8d2f4\")>, <selenium.webdriver.remote.webelement.WebElement (session=\"37a80af2-e0a0-4b71-8c4a-435a3dcf3c7d\", element=\"0b19a154-b134-494f-ae6e-90df1046ca7f\")>, <selenium.webdriver.remote.webelement.WebElement (session=\"37a80af2-e0a0-4b71-8c4a-435a3dcf3c7d\", element=\"6917ddfc-b544-4112-b241-4c70a68dfd72\")>]\n"
     ]
    }
   ],
   "source": [
    "tarifas= vuelo_1.find_elements('xpath','.//ol[@class=\"sc-iAVDmT DwgCo\"]/li[@class=\"sc-jjgyjb buqrVI\"]')\n",
    "print (tarifas)"
   ]
  },
  {
   "cell_type": "code",
   "execution_count": 17,
   "metadata": {},
   "outputs": [
    {
     "name": "stdout",
     "output_type": "stream",
     "text": [
      "{'light': {'moneda': 'ARS', 'valor': '344.043,30'}}\n",
      "{'plus': {'moneda': 'ARS', 'valor': '384.483,30'}}\n",
      "{'top': {'moneda': 'ARS', 'valor': '425.935,30'}}\n"
     ]
    }
   ],
   "source": [
    "precios=[]\n",
    "for tarifa in tarifas:\n",
    "    #buscamos en cada pocision de la tarifa los siquientes elementos\n",
    "    nombre = tarifa.find_element('xpath','.//div[@class=\"sc-ieSwJA gfCbFb\"]/div[1]/span[@class=\"sc-gBSKhj chxCgG\"]').text\n",
    "    moneda= tarifa.find_element('xpath','.//div[@class=\"sc-ieSwJA gfCbFb\"]/div[3]//span[contains(@class,\"currency\")]').text\n",
    "    valor= tarifa.find_element('xpath','.//div[@class=\"sc-ieSwJA gfCbFb\"]/div[3]//span[@class=\"sc-ihiiSJ AoaXI\"]').text\n",
    "    #guardo los valores que obtengo en un diccionario\n",
    "    dict_tarifa={nombre:{'moneda':moneda,'valor':valor}}\n",
    "    #guradamos nuestro diccionario con los datos de tarifa a nuestra lia de precio\n",
    "    precios.append(dict_tarifa)\n",
    "    print(dict_tarifa)\n",
    "    # print(f'Nombre Tarfia:{nombre}\\nMoneda:{moneda}\\nPrecio:{valor}\\n\\n')"
   ]
  },
  {
   "cell_type": "code",
   "execution_count": 5,
   "metadata": {},
   "outputs": [],
   "source": [
    "def obtener_precios(vuelo):\n",
    "    '''\n",
    "    Función que retorna una lista de diccionarios con las distintas tarifas\n",
    "    '''\n",
    "    tarifas= vuelo.find_elements('xpath','.//ol[@class=\"sc-iAVDmT DwgCo\"]/li[@class=\"sc-jjgyjb buqrVI\"]')\n",
    "    precios=[]\n",
    "    for tarifa in tarifas:\n",
    "        #buscamos en cada pocision de la tarifa los siquientes elementos\n",
    "        nombre = tarifa.find_element('xpath','.//div[@class=\"sc-ieSwJA gfCbFb\"]/div[1]/span[@class=\"sc-gBSKhj chxCgG\"]').text\n",
    "        moneda= tarifa.find_element('xpath','.//div[@class=\"sc-ieSwJA gfCbFb\"]/div[3]//span[contains(@class,\"currency\")]').text\n",
    "        valor= tarifa.find_element('xpath','.//div[@class=\"sc-ieSwJA gfCbFb\"]/div[3]//span[@class=\"sc-ihiiSJ AoaXI\"]').text\n",
    "        #guardo los valores que obtengo en un diccionario\n",
    "        dict_tarifa={nombre:{'moneda':moneda,'valor':valor}}\n",
    "        #guradamos nuestro diccionario con los datos de tarifa a nuestra lia de precio\n",
    "        precios.append(dict_tarifa)\n",
    "        print(dict_tarifa)\n",
    "    return precios"
   ]
  },
  {
   "cell_type": "code",
   "execution_count": null,
   "metadata": {},
   "outputs": [],
   "source": [
    "def obtener_datos_escalas(vuelo):"
   ]
  },
  {
   "cell_type": "code",
   "execution_count": null,
   "metadata": {},
   "outputs": [],
   "source": [
    "def obtener_tiempos(vuelo):"
   ]
  },
  {
   "cell_type": "markdown",
   "metadata": {},
   "source": [
    "Paso 4: cerrar el navegador"
   ]
  },
  {
   "cell_type": "code",
   "execution_count": 16,
   "metadata": {},
   "outputs": [],
   "source": [
    "driver.close()"
   ]
  }
 ],
 "metadata": {
  "kernelspec": {
   "display_name": "Python 3.10.4 ('entv': venv)",
   "language": "python",
   "name": "python3"
  },
  "language_info": {
   "codemirror_mode": {
    "name": "ipython",
    "version": 3
   },
   "file_extension": ".py",
   "mimetype": "text/x-python",
   "name": "python",
   "nbconvert_exporter": "python",
   "pygments_lexer": "ipython3",
   "version": "3.10.4"
  },
  "orig_nbformat": 4,
  "vscode": {
   "interpreter": {
    "hash": "8491acde47aa26015fdf488fd68628541edd72931848a0305ddc7dd62f03120a"
   }
  }
 },
 "nbformat": 4,
 "nbformat_minor": 2
}
