{
 "cells": [
  {
   "cell_type": "markdown",
   "metadata": {},
   "source": [
    "# Módulo 2: Scraping con Selenium\n",
    "## LATAM Airlines\n",
    "<a href=\"https://www.latam.com/es_ar/\"><img src=\"https://i.pinimg.com/originals/dd/52/74/dd5274702d1382d696caeb6e0f6980c5.png\"  width=\"420\"></img></a>\n",
    "<br>\n",
    "\n",
    "Vamos a scrapear el sitio de Latam para averiguar datos de vuelos en funcion el origen y destino, fecha y cabina. La información que esperamos obtener de cada vuelo es:\n",
    "- Precio(s) disponibles\n",
    "- Horas de salida y llegada (duración)\n",
    "- Información de las escalas\n",
    "\n",
    "**¡Empecemos!**\n",
    "Utilicemos lo aprendido hasta ahora para lograr el objetivo propuesto"
   ]
  },
  {
   "cell_type": "markdown",
   "metadata": {},
   "source": [
    "## Selenium"
   ]
  },
  {
   "cell_type": "markdown",
   "metadata": {},
   "source": [
    "Selenium es una herramienta que nos permitirá controlar un navegador y podremos utilizar las funcionalidades del motor de JavaScript para cargar el contenido que no viene en el HTML de la página. Para esto necesitamos el módulo `webdriver`."
   ]
  },
  {
   "cell_type": "code",
   "execution_count": 1,
   "metadata": {},
   "outputs": [],
   "source": [
    "from selenium import webdriver\n",
    "#importampos libreria para cargar el driver automaticamente\n",
    "from webdriver_manager.firefox import GeckoDriverManager\n",
    "\n",
    "url='https://www.latamairlines.com/py/es/ofertas-vuelos?origin=ASU&outbound=2023-08-01T12%3A00%3A00.000Z&destination=BCN&inbound=null&adt=1&chd=0&inf=0&trip=OW&cabin=Economy&redemption=false&sort=RECOMMENDED'"
   ]
  },
  {
   "cell_type": "markdown",
   "metadata": {},
   "source": [
    "Necesitamos controladores web para diferentes navegadores web.<br>\n",
    "Paso 1: instanciar un **driver** del navegador"
   ]
  },
  {
   "cell_type": "code",
   "execution_count": 2,
   "metadata": {},
   "outputs": [
    {
     "name": "stderr",
     "output_type": "stream",
     "text": [
      "[WDM] - Downloading: 19.0kB [00:00, 9.77MB/s]                   \n",
      "C:\\Users\\mario\\AppData\\Local\\Temp\\ipykernel_17916\\1250048064.py:4: DeprecationWarning: executable_path has been deprecated, please pass in a Service object\n",
      "  driver = webdriver.Firefox(executable_path=GeckoDriverManager().install(), options=options)\n"
     ]
    }
   ],
   "source": [
    "options = webdriver.FirefoxOptions()\n",
    "# Podemos agregarle opciones al driver para utilizar los distintos modos del navegador\n",
    "options.add_argument('-private')\n",
    "driver = webdriver.Firefox(executable_path=GeckoDriverManager().install(), options=options)"
   ]
  },
  {
   "cell_type": "markdown",
   "metadata": {},
   "source": [
    "Paso 2: hacer que el navegador cargue la página web."
   ]
  },
  {
   "cell_type": "code",
   "execution_count": 3,
   "metadata": {},
   "outputs": [],
   "source": [
    "driver.get(url)"
   ]
  },
  {
   "cell_type": "markdown",
   "metadata": {},
   "source": [
    "paso 3:Extraer informacion de la pagina<br>\n",
    "Carguemos la página y analicemos dónde se encuentra la información<br>\n",
    "Vemos que el bloque de vuelos se encuentra en una `ul` y que cada vuelo es un item de la lista, `li`. <br>"
   ]
  },
  {
   "cell_type": "code",
   "execution_count": 4,
   "metadata": {},
   "outputs": [
    {
     "name": "stdout",
     "output_type": "stream",
     "text": [
      "[<selenium.webdriver.remote.webelement.WebElement (session=\"8072b0e0-a4ad-4d66-b57f-63deb75e67ef\", element=\"dada0cca-e637-4072-8e22-71fcc9eeb9b8\")>, <selenium.webdriver.remote.webelement.WebElement (session=\"8072b0e0-a4ad-4d66-b57f-63deb75e67ef\", element=\"72558864-a00f-466e-b7ff-622254b30309\")>, <selenium.webdriver.remote.webelement.WebElement (session=\"8072b0e0-a4ad-4d66-b57f-63deb75e67ef\", element=\"ce61171b-8e58-471a-a355-22fd26ff6cdf\")>, <selenium.webdriver.remote.webelement.WebElement (session=\"8072b0e0-a4ad-4d66-b57f-63deb75e67ef\", element=\"eaea37c2-bbdd-4d8e-9e89-cd3122d4818a\")>, <selenium.webdriver.remote.webelement.WebElement (session=\"8072b0e0-a4ad-4d66-b57f-63deb75e67ef\", element=\"f8d6c522-78dc-4cdb-b67b-30cc0d25eb90\")>, <selenium.webdriver.remote.webelement.WebElement (session=\"8072b0e0-a4ad-4d66-b57f-63deb75e67ef\", element=\"87f81f56-d1a7-4f45-8dad-389eb743f055\")>, <selenium.webdriver.remote.webelement.WebElement (session=\"8072b0e0-a4ad-4d66-b57f-63deb75e67ef\", element=\"ec7ae71a-9429-487c-8a9f-00edc1a6f633\")>, <selenium.webdriver.remote.webelement.WebElement (session=\"8072b0e0-a4ad-4d66-b57f-63deb75e67ef\", element=\"092bd535-0395-4a82-bb77-8ba18e662b14\")>, <selenium.webdriver.remote.webelement.WebElement (session=\"8072b0e0-a4ad-4d66-b57f-63deb75e67ef\", element=\"d4215c90-897e-4ecc-9e7a-7a14dc36819d\")>, <selenium.webdriver.remote.webelement.WebElement (session=\"8072b0e0-a4ad-4d66-b57f-63deb75e67ef\", element=\"28587c57-2e8b-4a5a-9d6b-13f333875233\")>, <selenium.webdriver.remote.webelement.WebElement (session=\"8072b0e0-a4ad-4d66-b57f-63deb75e67ef\", element=\"cb65124c-7155-4fc1-8934-35a75a6d514d\")>, <selenium.webdriver.remote.webelement.WebElement (session=\"8072b0e0-a4ad-4d66-b57f-63deb75e67ef\", element=\"c04e47a6-31f5-407d-b4a3-cb1086444dfc\")>, <selenium.webdriver.remote.webelement.WebElement (session=\"8072b0e0-a4ad-4d66-b57f-63deb75e67ef\", element=\"bad74e52-b8b1-4f34-a6c3-050ca0bc1261\")>, <selenium.webdriver.remote.webelement.WebElement (session=\"8072b0e0-a4ad-4d66-b57f-63deb75e67ef\", element=\"14065567-4c10-4d98-9e91-c043e79860ed\")>, <selenium.webdriver.remote.webelement.WebElement (session=\"8072b0e0-a4ad-4d66-b57f-63deb75e67ef\", element=\"9fc9ec40-37f1-4d8c-b4df-f42d97e0ff39\")>, <selenium.webdriver.remote.webelement.WebElement (session=\"8072b0e0-a4ad-4d66-b57f-63deb75e67ef\", element=\"dc6d36e6-d82a-44b5-bc33-c5a0e58aa821\")>, <selenium.webdriver.remote.webelement.WebElement (session=\"8072b0e0-a4ad-4d66-b57f-63deb75e67ef\", element=\"8903ccb0-8f91-4f87-82f7-9e093c7d00c8\")>, <selenium.webdriver.remote.webelement.WebElement (session=\"8072b0e0-a4ad-4d66-b57f-63deb75e67ef\", element=\"81ba0895-82e1-47bc-890d-417e1928caa9\")>, <selenium.webdriver.remote.webelement.WebElement (session=\"8072b0e0-a4ad-4d66-b57f-63deb75e67ef\", element=\"70e68c43-66b2-4bf5-a92f-496b10d21c3d\")>, <selenium.webdriver.remote.webelement.WebElement (session=\"8072b0e0-a4ad-4d66-b57f-63deb75e67ef\", element=\"f6fbf318-87f0-46e0-b647-2b3388c78bb6\")>, <selenium.webdriver.remote.webelement.WebElement (session=\"8072b0e0-a4ad-4d66-b57f-63deb75e67ef\", element=\"c3a6422f-c37c-454e-a218-6a633fbc220a\")>, <selenium.webdriver.remote.webelement.WebElement (session=\"8072b0e0-a4ad-4d66-b57f-63deb75e67ef\", element=\"3ed189c4-4a16-4f4e-818d-9a3073b2577c\")>, <selenium.webdriver.remote.webelement.WebElement (session=\"8072b0e0-a4ad-4d66-b57f-63deb75e67ef\", element=\"9f240104-a8c2-4caf-8491-3d26ecc9a77d\")>, <selenium.webdriver.remote.webelement.WebElement (session=\"8072b0e0-a4ad-4d66-b57f-63deb75e67ef\", element=\"0bc27dd4-e8b9-4c3a-be07-4f887324335c\")>, <selenium.webdriver.remote.webelement.WebElement (session=\"8072b0e0-a4ad-4d66-b57f-63deb75e67ef\", element=\"669ad48d-7cf7-4016-a789-52a3d267cc02\")>, <selenium.webdriver.remote.webelement.WebElement (session=\"8072b0e0-a4ad-4d66-b57f-63deb75e67ef\", element=\"fabd122b-12e3-4451-be05-d9971e7a2960\")>, <selenium.webdriver.remote.webelement.WebElement (session=\"8072b0e0-a4ad-4d66-b57f-63deb75e67ef\", element=\"03b85e44-1f26-4a12-b4af-dbebb905954c\")>, <selenium.webdriver.remote.webelement.WebElement (session=\"8072b0e0-a4ad-4d66-b57f-63deb75e67ef\", element=\"cb1f691b-2525-4aa6-948a-326b9a39edca\")>]\n"
     ]
    }
   ],
   "source": [
    "#Usaremos el Xpath para obtener la lista de vuelos\n",
    "vuelos = driver.find_elements('xpath','//ol/li')\n",
    "print (vuelos)"
   ]
  },
  {
   "cell_type": "markdown",
   "metadata": {},
   "source": [
    "Obtengamos la informacion de la hora de salida, llegada y duracion del vuelo"
   ]
  },
  {
   "cell_type": "markdown",
   "metadata": {},
   "source": [
    "Notar que el xpath comienza con \".\", lo que indica que sólo debe buscar en los hijos de ese elemento. Si no ponemos el \".\", busca en todo el árbol.<br>\n",
    "Elementos importantes de xpath:\n",
    "- \"//\" busca en todos los hijos del elemento. \"/\" busca sólo en hijos directos\n",
    "- \".\" indica que la búsqueda debe empezar en ese elemento y no en el origen del árbol\n",
    "- Los atributos de los tags se buscan entre [] y con @"
   ]
  },
  {
   "cell_type": "code",
   "execution_count": 6,
   "metadata": {},
   "outputs": [
    {
     "name": "stdout",
     "output_type": "stream",
     "text": [
      "6:55 a. m.\n"
     ]
    }
   ],
   "source": [
    "#seleccionamos el primer vuelo\n",
    "vuelo_1=vuelos[0]\n",
    "#hora de salida\n",
    "hora_salida=vuelo_1.find_element('xpath','//div[@class=\"sc-klSiHT hjzFuR flight-information\"]/span[1]').text\n",
    "print (hora_salida)"
   ]
  },
  {
   "cell_type": "code",
   "execution_count": 7,
   "metadata": {},
   "outputs": [
    {
     "name": "stdout",
     "output_type": "stream",
     "text": [
      "5:20 p. m.\n"
     ]
    }
   ],
   "source": [
    "#hora de llegada\n",
    "hora_llegada=vuelo_1.find_element('xpath','.//div[3]/span[1]').text.replace('\\n+1','')\n",
    "print (hora_llegada)"
   ]
  },
  {
   "cell_type": "code",
   "execution_count": 8,
   "metadata": {},
   "outputs": [
    {
     "name": "stdout",
     "output_type": "stream",
     "text": [
      "28 h 25 min\n"
     ]
    }
   ],
   "source": [
    "# Duracion del vuelo\n",
    "duracion_vuelo= vuelo_1.find_element('xpath','.//div[2]/span[2]').text\n",
    "print (duracion_vuelo)"
   ]
  },
  {
   "cell_type": "markdown",
   "metadata": {},
   "source": [
    "veremos cómo obtener la información de las escalas de cada vuelo. <br>\n",
    "Para desplegar esa información de las escalas, debemos clickear en link para que se habilite el modal que contiene la informacion. Seleccionémoslo:"
   ]
  },
  {
   "cell_type": "code",
   "execution_count": 10,
   "metadata": {},
   "outputs": [
    {
     "name": "stdout",
     "output_type": "stream",
     "text": [
      "<selenium.webdriver.remote.webelement.WebElement (session=\"8072b0e0-a4ad-4d66-b57f-63deb75e67ef\", element=\"688d1b31-617c-490f-ac9d-685258d94018\")>\n"
     ]
    }
   ],
   "source": [
    "link_escalas = vuelo_1.find_element('xpath','//div[@class=\"sc-iKiVwC fbWfQZ\"]//a')\n",
    "print (link_escalas)"
   ]
  },
  {
   "cell_type": "markdown",
   "metadata": {},
   "source": [
    "Una vez ubicado el elemento podemos clickear sobre él"
   ]
  },
  {
   "cell_type": "code",
   "execution_count": 11,
   "metadata": {},
   "outputs": [],
   "source": [
    "link_escalas.click()"
   ]
  },
  {
   "cell_type": "markdown",
   "metadata": {},
   "source": [
    "Y vemos cómo se despliega la información que estamos buscando enn el driver del navegador. **Notar que cambió el html de la página al hacer click sobre ese botón**"
   ]
  },
  {
   "cell_type": "markdown",
   "metadata": {},
   "source": [
    "ahora debemos seleccionar los segmentos que contiene el vuelo para calcular la cantidad de escalas, actualmente vemos que las paradas estan contenidas en elementos sections, asi que debemos contabilizar las paradas"
   ]
  },
  {
   "cell_type": "code",
   "execution_count": 17,
   "metadata": {},
   "outputs": [
    {
     "name": "stdout",
     "output_type": "stream",
     "text": [
      "<selenium.webdriver.remote.webelement.WebElement (session=\"8072b0e0-a4ad-4d66-b57f-63deb75e67ef\", element=\"f6ca8609-111c-4823-995b-bf46d16cd140\")>\n",
      "<selenium.webdriver.remote.webelement.WebElement (session=\"8072b0e0-a4ad-4d66-b57f-63deb75e67ef\", element=\"9a06ff22-e102-4836-802a-0b3b83e85ffb\")>\n",
      "<selenium.webdriver.remote.webelement.WebElement (session=\"8072b0e0-a4ad-4d66-b57f-63deb75e67ef\", element=\"95de7395-0018-4368-8d49-b5d50952a4b6\")>\n"
     ]
    }
   ],
   "source": [
    "segmentos= link_escalas.find_elements('xpath','//div[@class=\"MuiDialog-container MuiDialog-scrollPaper\"]//section[@class=\"sc-fGSyRc fCuylQ\"]')\n",
    "# print(segmentos, len(segmentos))\n",
    "for i in segmentos:\n",
    "    print (i)"
   ]
  },
  {
   "cell_type": "markdown",
   "metadata": {},
   "source": [
    "para calcular las escalas, debemos restar -1 la cantidad total de paradas"
   ]
  },
  {
   "cell_type": "code",
   "execution_count": 18,
   "metadata": {},
   "outputs": [
    {
     "name": "stdout",
     "output_type": "stream",
     "text": [
      "2\n"
     ]
    }
   ],
   "source": [
    "#0 escalas si es un vuelo directo\n",
    "escala=len(segmentos)-1\n",
    "print(escala)"
   ]
  },
  {
   "cell_type": "markdown",
   "metadata": {},
   "source": [
    "ahora obtengamos desde el modal el Itinerario de vuelo:\n",
    "- origen ✔\n",
    "- hora de salida \n",
    "- destino vuelo ✔\n",
    "- hora de llegada\n",
    "- duración del vuelo ✔\n",
    "- duración de la escala. *Tip: el último segmento no tendrá esta información*\n",
    "- número del vuelo\n",
    "- modelo del avión"
   ]
  },
  {
   "cell_type": "code",
   "execution_count": 20,
   "metadata": {},
   "outputs": [
    {
     "name": "stdout",
     "output_type": "stream",
     "text": [
      "Salida:ASU\n",
      "Hora Salida:6:55 a. m.\n",
      "Duracion: 4 h 5 min\n",
      "Hora Llegada:5:20 p. m.\n",
      "Destino:LIM\n",
      "Numero de vuelo:LA1320\n",
      "Modelo Avion:Airbus A320\n",
      "\n",
      "Salida:LIM\n",
      "Hora Salida:8:20 p. m.\n",
      "Duracion: 11 h 15 min\n",
      "Hora Llegada:5:20 p. m.\n",
      "Destino:MAD\n",
      "Numero de vuelo:LA5391\n",
      "Modelo Avion:Airbus A350-900\n",
      "\n",
      "Salida:MAD\n",
      "Hora Salida:4:00 p. m.\n",
      "Duracion: 1 h 20 min\n",
      "Hora Llegada:5:20 p. m.\n",
      "Destino:BCN\n",
      "Numero de vuelo:LA1523\n",
      "Modelo Avion:Airbus A319\n",
      "\n"
     ]
    }
   ],
   "source": [
    "for i in segmentos:\n",
    "    segmento = i\n",
    "    salida=segmento.find_element('xpath','.//div[@class=\"sc-jFpLkX jAGOAr\"]/div[@class=\"sc-fguZLD kepXur\"]/div[@class=\"iataCode\"]/span[1]').text\n",
    "    hora_salida=segmento.find_element('xpath','.//div[@class=\"sc-jFpLkX jAGOAr\"]/div[@class=\"sc-fguZLD kepXur\"]/div[@class=\"iataCode\"]/span[2]').text\n",
    "    duracion_segmento=segmento.find_element('xpath','.//div[@class=\"sc-jFpLkX jAGOAr\"]//div[@class=\"sc-ewMkZo hQNSAX\"]/span[2]').text\n",
    "    destino_segmento=segmento.find_element('xpath','.//div[@class=\"sc-jFpLkX jAGOAr\"]//div[@class=\"sc-eCXBzT goeYBu\"]/div[@class=\"iataCode\"]/span[1]').text\n",
    "    numero_vuelo_segmento=segmento.find_element('xpath','.//div[@class=\"sc-dzQEYZ dslPlz airline-wrapper\"]').text\n",
    "    modelo_avion_segmento=segmento.find_element('xpath','.//div[@class=\"sc-sVRsr eXYUTi\"]//span[@class=\"airplane-code\"]').text\n",
    "    \n",
    "    print(f'Salida:{salida}\\nHora Salida:{hora_salida}\\nDuracion: {duracion_segmento}\\nHora Llegada:{hora_llegada}\\nDestino:{destino_segmento}\\nNumero de vuelo:{numero_vuelo_segmento}\\nModelo Avion:{modelo_avion_segmento}\\n')\n"
   ]
  },
  {
   "cell_type": "code",
   "execution_count": 22,
   "metadata": {},
   "outputs": [
    {
     "name": "stdout",
     "output_type": "stream",
     "text": [
      "Escala:Conexión Lima\n",
      "Duracion Escala:10 h 20 min\n",
      "Escala:Conexión Madrid\n",
      "Duracion Escala:1 h 25 min\n"
     ]
    }
   ],
   "source": [
    "escalas_vuelo=link_escalas.find_elements('xpath','//section[@class=\"sc-kiXyGy sc-eZXMBi dKgCnQ connectionInfo\"]')\n",
    "for i in escalas_vuelo:\n",
    "    escala=i\n",
    "    escala_vuelo=escala.find_element('xpath','.//div[@class=\"sc-ekQYnd cByWfv\"]//span[@class=\"connection-text\"]').text\n",
    "    duracion_escala_vuelo=escala.find_element('xpath','.//div[@class=\"sc-ekQYnd cByWfv\"]//span[@class=\"time\"]').text\n",
    "    print(f'Escala:{escala_vuelo}\\nDuracion Escala:{duracion_escala_vuelo}')\n",
    "    # print (i)"
   ]
  },
  {
   "cell_type": "markdown",
   "metadata": {},
   "source": [
    "Una vez que hayamos obtenido toda la información, debemos cerrar el modal/pop-up."
   ]
  },
  {
   "cell_type": "code",
   "execution_count": 23,
   "metadata": {},
   "outputs": [],
   "source": [
    "driver.find_element('xpath','//*[@id=\"itinerary-modal-0-dialog-close\"]').click()"
   ]
  },
  {
   "cell_type": "markdown",
   "metadata": {},
   "source": [
    "Por último debemos obtener la información de las tarifas. Para eso, debemos clickear sobre el vuelo (sobre cualquier parte)"
   ]
  },
  {
   "cell_type": "code",
   "execution_count": 24,
   "metadata": {},
   "outputs": [],
   "source": [
    "vuelo_1.click()"
   ]
  },
  {
   "cell_type": "markdown",
   "metadata": {},
   "source": [
    "La información de los precios para cada tarifa está contenida en una tablas (ol). Tenemos los precios y categorias de cada una de las tarifas"
   ]
  },
  {
   "cell_type": "code",
   "execution_count": 26,
   "metadata": {},
   "outputs": [
    {
     "name": "stdout",
     "output_type": "stream",
     "text": [
      "[<selenium.webdriver.remote.webelement.WebElement (session=\"8072b0e0-a4ad-4d66-b57f-63deb75e67ef\", element=\"3c4f7fdd-cac1-416a-b17b-a224e329e337\")>, <selenium.webdriver.remote.webelement.WebElement (session=\"8072b0e0-a4ad-4d66-b57f-63deb75e67ef\", element=\"f38299b5-e8c0-4f59-8095-7172b35e6972\")>]\n"
     ]
    }
   ],
   "source": [
    "tarifas= vuelo_1.find_elements('xpath','.//ol[@class=\"sc-buGlAa jhwXGF\"]/li[@class=\"sc-kecUPG dPNrrD\"]')\n",
    "print (tarifas)"
   ]
  },
  {
   "cell_type": "code",
   "execution_count": 28,
   "metadata": {},
   "outputs": [
    {
     "name": "stdout",
     "output_type": "stream",
     "text": [
      "{'plus': {'moneda': 'USD', 'valor': '1,341.40'}}\n",
      "{'top': {'moneda': 'USD', 'valor': '3,153.40'}}\n"
     ]
    }
   ],
   "source": [
    "precios=[]\n",
    "for tarifa in tarifas:\n",
    "    #buscamos en cada pocision de la tarifa los siquientes elementos\n",
    "    nombre = tarifa.find_element('xpath','.//div[@class=\"sc-gGsJSs dhstcp\"]/div[1]/span[@class=\"sc-fhiYOA iwcbaW\"]').text\n",
    "    moneda= tarifa.find_element('xpath','.//div[@class=\"sc-gGsJSs dhstcp\"]/div[3]//span[contains(@class,\"currency\")]').text\n",
    "    valor= tarifa.find_element('xpath','.//div[@class=\"sc-gGsJSs dhstcp\"]/div[3]//span[@class=\"sc-ckYZGd grNCid\"]').text\n",
    "    #guardo los valores que obtengo en un diccionario\n",
    "    dict_tarifa={nombre:{'moneda':moneda,'valor':valor}}\n",
    "    #guradamos nuestro diccionario con los datos de tarifa a nuestra lia de precio\n",
    "    precios.append(dict_tarifa)\n",
    "    print(dict_tarifa)\n",
    "    # print(f'Nombre Tarfia:{nombre}\\nMoneda:{moneda}\\nPrecio:{valor}\\n\\n')"
   ]
  },
  {
   "cell_type": "code",
   "execution_count": 5,
   "metadata": {},
   "outputs": [],
   "source": [
    "def obtener_precios(vuelo):\n",
    "    '''\n",
    "    Función que retorna una lista de diccionarios con las distintas tarifas\n",
    "    '''\n",
    "    tarifas= vuelo.find_elements('xpath','.//ol[@class=\"sc-iAVDmT DwgCo\"]/li[@class=\"sc-jjgyjb buqrVI\"]')\n",
    "    precios=[]\n",
    "    for tarifa in tarifas:\n",
    "        #buscamos en cada pocision de la tarifa los siquientes elementos\n",
    "        nombre = tarifa.find_element('xpath','.//div[@class=\"sc-gGsJSs dhstcp\"]/div[1]/span[@class=\"sc-fhiYOA iwcbaW\"]').text\n",
    "        moneda= tarifa.find_element('xpath','.//div[@class=\"sc-gGsJSs dhstcp\"]/div[3]//span[contains(@class,\"currency\")]').text\n",
    "        valor= tarifa.find_element('xpath','.//div[@class=\"sc-gGsJSs dhstcp\"]/div[3]//span[@class=\"sc-ckYZGd grNCid\"]').text\n",
    "        #guardo los valores que obtengo en un diccionario\n",
    "        dict_tarifa={nombre:{'moneda':moneda,'valor':valor}}\n",
    "        #guradamos nuestro diccionario con los datos de tarifa a nuestra lia de precio\n",
    "        precios.append(dict_tarifa)\n",
    "        print(dict_tarifa)\n",
    "    return precios"
   ]
  },
  {
   "cell_type": "code",
   "execution_count": null,
   "metadata": {},
   "outputs": [],
   "source": [
    "def obtener_datos_escalas(vuelo):\n",
    "    '''\n",
    "    Función que retorna una lista de diccionarios con la información de \n",
    "    las escalas de cada vuelo\n",
    "    '''\n",
    "\n",
    "    segmentos= vuelo.find_elements('xpath','//section[@class=\"sc-fGSyRc fCuylQ\"]')\n",
    "    datos_escalas=[]    \n",
    "    for segmento in segmentos:\n",
    "        #origen\n",
    "        salida=segmento.find_element('xpath','.//div[@class=\"sc-jFpLkX jAGOAr\"]/div[@class=\"sc-fguZLD kepXur\"]/div[@class=\"iataCode\"]/span[1]').text\n",
    "        #hora de salida\n",
    "        hora_salida=segmento.find_element('xpath','.//div[@class=\"sc-jFpLkX jAGOAr\"]/div[@class=\"sc-fguZLD kepXur\"]/div[@class=\"iataCode\"]/span[2]').text\n",
    "        #destino\n",
    "        destino_segmento=segmento.find_element('xpath','.//div[@class=\"sc-jFpLkX jAGOAr\"]//div[@class=\"sc-eCXBzT goeYBu\"]/div[@class=\"iataCode\"]/span[1]').text\n",
    "        #Hora de llegada\n",
    "        hora_llegada=segmento.find_element('xpath','.//div[@class=\"sc-eCXBzT goeYBu\"]/div[@class=\"iataCode\"]/span[2]').text\n",
    "        #Duracion del vuelo\n",
    "        duracion_segmento=segmento.find_element('xpath','.//div[@class=\"sc-jFpLkX jAGOAr\"]//div[@class=\"sc-ewMkZo hQNSAX\"]/span[2]').text\n",
    "        #Numero de vuelo\n",
    "        numero_vuelo_segmento=segmento.find_element('xpath','.//div[@class=\"sc-dzQEYZ dslPlz airline-wrapper\"]').text\n",
    "        #Modelo de avion\n",
    "        modelo_avion_segmento=segmento.find_element('xpath','.//div[@class=\"sc-sVRsr eXYUTi\"]//span[@class=\"airplane-code\"]').text\n",
    "        \n",
    "        #el último segmento no tendrá escala por que es el destino final del vuelo\n",
    "        if segmento != segmentos[-1]:    \n",
    "            #Duracion escala\n",
    "            escalas_vuelo=link_escalas.find_elements('xpath','//section[@class=\"sc-kiXyGy sc-eZXMBi dKgCnQ connectionInfo\"]')\n",
    "            for i in escalas_vuelo:\n",
    "                escala=i\n",
    "                escala_vuelo=escala.find_element('xpath','.//div[@class=\"sc-ekQYnd cByWfv\"]//span[@class=\"connection-text\"]').text\n",
    "                duracion_escala_vuelo=escala.find_element('xpath','.//div[@class=\"sc-ekQYnd cByWfv\"]//span[@class=\"time\"]').text\n",
    "                duracion_escala_vuelo={'Escala':escala_vuelo,'Duracion Escala':duracion_escala_vuelo}\n",
    "            \n",
    "        else:\n",
    "            duracion_escala_vuelo=''\n",
    "        \n",
    "        # Armo un diccionario para almacenar los datos\n",
    "        datos_escalas_dict={\n",
    "            'salida':salida,\n",
    "            'hora_salida':hora_salida,\n",
    "            'destino':destino_segmento,\n",
    "            'hora_llega':hora_llegada,\n",
    "            'duracion':duracion_segmento,\n",
    "            'numero_vuelo':numero_vuelo_segmento,\n",
    "            'modelo_avion':modelo_avion_segmento,\n",
    "            'duracion_escala':duracion_escala_vuelo\n",
    "        }\n",
    "        datos_escalas.append(datos_escalas_dict)\n",
    "\n",
    "    return datos_escalas"
   ]
  },
  {
   "cell_type": "code",
   "execution_count": null,
   "metadata": {},
   "outputs": [],
   "source": [
    "def obtener_tiempos(vuelo):\n",
    "    '''\n",
    "    Función que retorna un diccionario con los horarios de salida y llegada de cada\n",
    "    vuelo, incluyendo la duración. \n",
    "    Nota: la duración del vuelo no es la hora de llegada - la hora de salida porque\n",
    "    puede haber diferencia de horarios entre el origen y el destino.\n",
    "    '''\n",
    "    #hora de salida\n",
    "    hora_salida=vuelo_1.find_element('xpath','//div[@class=\"sc-klSiHT hjzFuR flight-information\"]/span[1]').text\n",
    "    #hora de llegada\n",
    "    hora_llegada=vuelo_1.find_element('xpath','.//div[3]/span[1]').text.replace('\\n+1','')\n",
    "    # Duracion del vuelo\n",
    "    duracion_vuelo= vuelo_1.find_element('xpath','.//div[2]/span[2]').text\n",
    "\n",
    "    tiempos_vuelo_dict={\n",
    "        'hora_salida':hora_salida,\n",
    "        'hora_llegada':hora_llegada,\n",
    "        'duracion_vuelo':duracion_vuelo\n",
    "    }\n",
    "    return tiempos_vuelo_dict\n",
    "\n",
    "\n",
    "    "
   ]
  },
  {
   "cell_type": "markdown",
   "metadata": {},
   "source": [
    "Paso 4: cerrar el navegador"
   ]
  },
  {
   "cell_type": "code",
   "execution_count": 16,
   "metadata": {},
   "outputs": [],
   "source": [
    "driver.close()"
   ]
  }
 ],
 "metadata": {
  "kernelspec": {
   "display_name": "entv",
   "language": "python",
   "name": "python3"
  },
  "language_info": {
   "codemirror_mode": {
    "name": "ipython",
    "version": 3
   },
   "file_extension": ".py",
   "mimetype": "text/x-python",
   "name": "python",
   "nbconvert_exporter": "python",
   "pygments_lexer": "ipython3",
   "version": "3.10.4"
  },
  "orig_nbformat": 4,
  "vscode": {
   "interpreter": {
    "hash": "3c9f14f62ae38687a43d3c4d4204d3209bda7dbcb4b892870ffb1d2057cbf93a"
   }
  }
 },
 "nbformat": 4,
 "nbformat_minor": 2
}
