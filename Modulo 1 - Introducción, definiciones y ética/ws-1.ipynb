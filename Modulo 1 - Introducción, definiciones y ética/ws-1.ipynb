{
 "cells": [
  {
   "cell_type": "code",
   "execution_count": null,
   "metadata": {},
   "outputs": [],
   "source": [
    "# importamos la biblioteca requests\n",
    "import requests"
   ]
  },
  {
   "cell_type": "code",
   "execution_count": null,
   "metadata": {},
   "outputs": [],
   "source": [
    "#guardamos la URL en una variable\n",
    "url='https://www.pagina12.com.ar/'"
   ]
  },
  {
   "cell_type": "code",
   "execution_count": null,
   "metadata": {},
   "outputs": [],
   "source": [
    "# generamos una solicitud a nuestra URL y guardamos le resultado\n",
    "p12 = requests.get(url)"
   ]
  },
  {
   "cell_type": "code",
   "execution_count": null,
   "metadata": {},
   "outputs": [],
   "source": [
    "# verificamos si salio todo bien\n",
    "    # Respuestas informativas (100–199),\n",
    "    # Respuestas satisfactorias (200–299),\n",
    "    # Redirecciones (300–399),\n",
    "    # Errores de los clientes (400–499),\n",
    "    # y errores de los servidores (500–599).\n",
    "\n",
    "p12.status_code"
   ]
  },
  {
   "cell_type": "code",
   "execution_count": null,
   "metadata": {},
   "outputs": [],
   "source": [
    "# ver el contenido\n",
    "print(p12.text)"
   ]
  },
  {
   "cell_type": "code",
   "execution_count": null,
   "metadata": {},
   "outputs": [],
   "source": [
    "p12.content"
   ]
  },
  {
   "cell_type": "code",
   "execution_count": null,
   "metadata": {},
   "outputs": [],
   "source": [
    "#vamos a ver el encabezado de la respuesta\n",
    "p12.headers"
   ]
  },
  {
   "cell_type": "code",
   "execution_count": null,
   "metadata": {},
   "outputs": [],
   "source": [
    "#encabezado de la solicitud que hacemos\n",
    "# existen paginas webs que al detectar el user-agent con nombre por defecto, bloquean la respuesta, solucion enmascarar el nombre\n",
    "p12.request.headers"
   ]
  },
  {
   "cell_type": "code",
   "execution_count": null,
   "metadata": {},
   "outputs": [],
   "source": [
    "#que metodos utilizamos, existen varios metodos PUT, DELETE etc \n",
    "p12.request.method"
   ]
  },
  {
   "cell_type": "code",
   "execution_count": null,
   "metadata": {},
   "outputs": [],
   "source": [
    "#volver a consultar la URL a quien hicimos la solicitud\n",
    "# util en caso de que existan redireccionamiento (cuando accedemos a un sitio y este nos redirecciona a otro sitio)\n",
    "p12.request.url"
   ]
  },
  {
   "cell_type": "code",
   "execution_count": null,
   "metadata": {},
   "outputs": [],
   "source": [
    "#Parseamos el codigo html\n",
    "# extraer la informacion que para nosotros es de interes\n",
    "from bs4 import BeautifulSoup"
   ]
  },
  {
   "cell_type": "code",
   "execution_count": null,
   "metadata": {},
   "outputs": [],
   "source": [
    "# separamos el texto largo en pequenas partes para poder identificar\n",
    "# s-> soup o soppa\n",
    "s = BeautifulSoup(p12.text,\"lxml\")"
   ]
  },
  {
   "cell_type": "code",
   "execution_count": null,
   "metadata": {},
   "outputs": [],
   "source": [
    "type(s)"
   ]
  },
  {
   "cell_type": "code",
   "execution_count": null,
   "metadata": {},
   "outputs": [],
   "source": [
    "#imprimir s con el metodo prettify de manera que tengas una nocion de como esta \n",
    "# estructurada la pagina y poder ver de manera jerarquica el DOM\n",
    "print (s.prettify())"
   ]
  },
  {
   "cell_type": "code",
   "execution_count": null,
   "metadata": {},
   "outputs": [],
   "source": [
    "# Buscamos un elmento con el metodo find()\n",
    "# BS nos devuelve el primer elemento que encuentra que coincida con el parametro\n",
    "s.find('ul')"
   ]
  },
  {
   "cell_type": "markdown",
   "metadata": {},
   "source": [
    "* Listado de Links de distintas secciones del Diario"
   ]
  },
  {
   "cell_type": "code",
   "execution_count": null,
   "metadata": {},
   "outputs": [],
   "source": [
    "#Buscamos elementos especificos agregando atributos\n",
    "# Al atributo le pasamos un diccionario {'nombre atributo':'valor que esperamos obtener'}\n",
    "# find_all() -> para traer todos los elementos que le pasamos como parametro\n",
    "secciones = s.find('ul',attrs={'class':'horizontal-list main-sections hide-on-dropdown'}).find_all('li')\n",
    "#como resultado nos devuelve una lista []"
   ]
  },
  {
   "cell_type": "code",
   "execution_count": null,
   "metadata": {},
   "outputs": [],
   "source": [
    "#selecionamos el primer elemento para trabajar mejor y luego replicar el tratamiento \n",
    "seccion = secciones[0]"
   ]
  },
  {
   "cell_type": "code",
   "execution_count": null,
   "metadata": {},
   "outputs": [],
   "source": [
    "#accedemos al tag a, recordar que el metodo find solo devuelve el primer elemento encontrado\n",
    "seccion.find('a')"
   ]
  },
  {
   "cell_type": "code",
   "execution_count": null,
   "metadata": {},
   "outputs": [],
   "source": [
    "# otra manera de acceder a un elemento, pero sin el metodo find, selecionando el elemento que necesitamos\n",
    "seccion.a "
   ]
  },
  {
   "cell_type": "code",
   "execution_count": null,
   "metadata": {},
   "outputs": [],
   "source": [
    "# podemos obtener el valor del componente href de un elemento tag\n",
    "seccion.a.get('href')"
   ]
  },
  {
   "cell_type": "code",
   "execution_count": null,
   "metadata": {},
   "outputs": [],
   "source": [
    "#podemos quedarnos tambien con el elemento texto del tag, ver el nombre de la seccion del URL\n",
    "seccion.a.get_text()"
   ]
  },
  {
   "cell_type": "code",
   "execution_count": null,
   "metadata": {},
   "outputs": [],
   "source": [
    "# recorremos las secciones para obtener el atributo HREF de cada seccion\n",
    "# Estamos interesados en los links, no en el texto\n",
    "links_secciones = [seccion.a.get('href') for seccion in secciones]"
   ]
  },
  {
   "cell_type": "code",
   "execution_count": null,
   "metadata": {},
   "outputs": [],
   "source": [
    "# lista con links de las secciones\n",
    "links_secciones"
   ]
  },
  {
   "cell_type": "code",
   "execution_count": null,
   "metadata": {},
   "outputs": [],
   "source": [
    "# solicitud al primer elemento de nuestro links_secciones\n",
    "sec = requests.get(links_secciones[0])\n",
    "# obtenemos una respuesta\n",
    "sec"
   ]
  },
  {
   "cell_type": "code",
   "execution_count": null,
   "metadata": {},
   "outputs": [],
   "source": [
    "#vemos el codigo de estado\n",
    "sec.status_code"
   ]
  },
  {
   "cell_type": "code",
   "execution_count": null,
   "metadata": {},
   "outputs": [],
   "source": [
    "#parseamos la seccion que descargammos -> sec\n",
    "s_seccion= BeautifulSoup(sec.text, 'lxml')"
   ]
  },
  {
   "cell_type": "code",
   "execution_count": null,
   "metadata": {},
   "outputs": [],
   "source": [
    "#vemos la seccion \"pritificada\"\n",
    "print(s_seccion.prettify())\n",
    "#entonces obtenemos otra pagina web distina a la inicial. donde vemos una estrucutrua jerarquica en HTML"
   ]
  },
  {
   "cell_type": "code",
   "execution_count": null,
   "metadata": {},
   "outputs": [],
   "source": [
    "# buscamos el elemento DIV que contiende la informacion que necesitamos, osea las notas\n"
   ]
  }
 ],
 "metadata": {
  "kernelspec": {
   "display_name": "Python 3.10.4 ('entv': venv)",
   "language": "python",
   "name": "python3"
  },
  "language_info": {
   "codemirror_mode": {
    "name": "ipython",
    "version": 3
   },
   "file_extension": ".py",
   "mimetype": "text/x-python",
   "name": "python",
   "nbconvert_exporter": "python",
   "pygments_lexer": "ipython3",
   "version": "3.10.4"
  },
  "orig_nbformat": 4,
  "vscode": {
   "interpreter": {
    "hash": "8491acde47aa26015fdf488fd68628541edd72931848a0305ddc7dd62f03120a"
   }
  }
 },
 "nbformat": 4,
 "nbformat_minor": 2
}
