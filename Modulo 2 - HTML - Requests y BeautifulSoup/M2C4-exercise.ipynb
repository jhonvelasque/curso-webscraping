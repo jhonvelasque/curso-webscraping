{
 "cells": [
  {
   "cell_type": "code",
   "execution_count": 17,
   "metadata": {},
   "outputs": [],
   "source": [
    "import requests\n",
    "from bs4 import BeautifulSoup"
   ]
  },
  {
   "cell_type": "code",
   "execution_count": 18,
   "metadata": {},
   "outputs": [],
   "source": [
    "link_seccion='https://www.pagina13.com.ar/secciones/el-pais'"
   ]
  },
  {
   "cell_type": "code",
   "execution_count": 19,
   "metadata": {},
   "outputs": [],
   "source": [
    "def obtener_noticias(soup):\n",
    "    soup=BeautifulSoup(url.text, 'lxml')\n",
    "    url=requests.get(link_seccion)\n",
    "    if url.status_code== 200:\n",
    "        lista_noticias=[]\n",
    "        #obtener noticias promocionados\n",
    "        noticias_promocionadas=soup.find('div', attrs={'class':'article-item__content'})\n",
    "        if noticias_promocionadas:\n",
    "            lista_noticias.append(link_seccion+noticias_promocionadas.a.get('href'))\n",
    "\n",
    "        #obtener resto de noticias\n",
    "        resto_noticias=soup.find('section', attrs={'class':'list-content'})\n",
    "        for i in resto_noticias.find_all('div', attrs={'class':'article-item__header'}):\n",
    "            if i.a:\n",
    "                lista_noticias.append(link_seccion+i.a.get('href'))\n",
    "    else:\n",
    "        try:\n",
    "            requests.get(url)\n",
    "        except Exception as e:\n",
    "            print('Error de respuesta del servidor')\n",
    "            print(e)\n",
    "            print ('\\n')\n",
    "\n",
    "    return lista_noticias"
   ]
  },
  {
   "cell_type": "code",
   "execution_count": 20,
   "metadata": {},
   "outputs": [
    {
     "ename": "UnboundLocalError",
     "evalue": "local variable 'url' referenced before assignment",
     "output_type": "error",
     "traceback": [
      "\u001b[1;31m---------------------------------------------------------------------------\u001b[0m",
      "\u001b[1;31mUnboundLocalError\u001b[0m                         Traceback (most recent call last)",
      "Cell \u001b[1;32mIn [20], line 1\u001b[0m\n\u001b[1;32m----> 1\u001b[0m lista_noticias \u001b[39m=\u001b[39m obtener_noticias(soup)\n\u001b[0;32m      2\u001b[0m lista_noticias\n",
      "Cell \u001b[1;32mIn [19], line 2\u001b[0m, in \u001b[0;36mobtener_noticias\u001b[1;34m(soup)\u001b[0m\n\u001b[0;32m      1\u001b[0m \u001b[39mdef\u001b[39;00m \u001b[39mobtener_noticias\u001b[39m(soup):\n\u001b[1;32m----> 2\u001b[0m     soup\u001b[39m=\u001b[39mBeautifulSoup(url\u001b[39m.\u001b[39mtext, \u001b[39m'\u001b[39m\u001b[39mlxml\u001b[39m\u001b[39m'\u001b[39m)\n\u001b[0;32m      3\u001b[0m     url\u001b[39m=\u001b[39mrequests\u001b[39m.\u001b[39mget(link_seccion)\n\u001b[0;32m      4\u001b[0m     \u001b[39mif\u001b[39;00m url\u001b[39m.\u001b[39mstatus_code\u001b[39m==\u001b[39m \u001b[39m200\u001b[39m:\n",
      "\u001b[1;31mUnboundLocalError\u001b[0m: local variable 'url' referenced before assignment"
     ]
    }
   ],
   "source": [
    "lista_noticias = obtener_noticias(soup)\n",
    "lista_noticias"
   ]
  },
  {
   "cell_type": "code",
   "execution_count": null,
   "metadata": {},
   "outputs": [],
   "source": []
  }
 ],
 "metadata": {
  "kernelspec": {
   "display_name": "Python 3.10.4 ('entv': venv)",
   "language": "python",
   "name": "python3"
  },
  "language_info": {
   "codemirror_mode": {
    "name": "ipython",
    "version": 3
   },
   "file_extension": ".py",
   "mimetype": "text/x-python",
   "name": "python",
   "nbconvert_exporter": "python",
   "pygments_lexer": "ipython3",
   "version": "3.10.4"
  },
  "orig_nbformat": 4,
  "vscode": {
   "interpreter": {
    "hash": "8491acde47aa26015fdf488fd68628541edd72931848a0305ddc7dd62f03120a"
   }
  }
 },
 "nbformat": 4,
 "nbformat_minor": 2
}
