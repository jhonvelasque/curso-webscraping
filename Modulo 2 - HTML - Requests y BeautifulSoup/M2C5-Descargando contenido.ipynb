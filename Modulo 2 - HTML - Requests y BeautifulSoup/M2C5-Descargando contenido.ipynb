{
 "cells": [
  {
   "cell_type": "markdown",
   "metadata": {},
   "source": [
    "## RETO\n",
    "Obtener el resto de información de una nota:\n",
    "- Titulo\n",
    "- fecha\n",
    "- copete\n",
    "- volanta\n",
    "- cuerpo \n",
    "- autor\n"
   ]
  },
  {
   "cell_type": "code",
   "execution_count": 2,
   "metadata": {},
   "outputs": [],
   "source": [
    "import requests\n",
    "from bs4 import BeautifulSoup"
   ]
  },
  {
   "cell_type": "code",
   "execution_count": 3,
   "metadata": {},
   "outputs": [],
   "source": [
    "link_seccion='https://www.pagina12.com.ar/secciones/el-pais'\n",
    "url = requests.get(link_seccion)\n",
    "url.status_code\n",
    "soup=BeautifulSoup(url.text, 'lxml')"
   ]
  },
  {
   "cell_type": "code",
   "execution_count": 4,
   "metadata": {},
   "outputs": [],
   "source": [
    "def obtener_noticias(soup):\n",
    "    lista_noticias=[]\n",
    "    #obtener noticias promocionados\n",
    "    noticias_promocionadas=soup.find('div', attrs={'class':'article-item__content'})\n",
    "    if noticias_promocionadas:\n",
    "        lista_noticias.append('https://pagina12.com.ar'+noticias_promocionadas.a.get('href'))\n",
    "\n",
    "    #obtener resto de noticias\n",
    "    resto_noticias=soup.find('section', attrs={'class':'list-content'})\n",
    "    for i in resto_noticias.find_all('div', attrs={'class':'article-item__header'}):\n",
    "        if i.a:\n",
    "            lista_noticias.append('https://pagina12.com.ar'+i.a.get('href'))\n",
    "    lista_noticias\n",
    "\n",
    "\n",
    "    return lista_noticias"
   ]
  },
  {
   "cell_type": "code",
   "execution_count": 5,
   "metadata": {},
   "outputs": [
    {
     "data": {
      "text/plain": [
       "['https://pagina12.com.ar/495387-acabar-con-la-interna',\n",
       " 'https://pagina12.com.ar/495359-garantizar-que-la-derecha-no-vuelva-a-la-argentina-es-un-deb',\n",
       " 'https://pagina12.com.ar/495355-cordoba-en-un-confuso-episodio-hirieron-de-un-balazo-al-inte',\n",
       " 'https://pagina12.com.ar/495290-dejen-de-jugar-a-los-tristes-y-ofendidos',\n",
       " 'https://pagina12.com.ar/495221-mauricio-macri-quedo-en-el-centro-de-las-investigaciones-por',\n",
       " 'https://pagina12.com.ar/495236-lula-la-historia-comun-durante-20-anos',\n",
       " 'https://pagina12.com.ar/495267-ley-de-humedales-diputados-del-frente-de-todos-buscan-reflot',\n",
       " 'https://pagina12.com.ar/495269-atentado-a-cfk-el-poder-judicial-mira-para-otro-lado',\n",
       " 'https://pagina12.com.ar/495270-argentina-sera-sede-de-la-tercera-edicion-del-foro-mundial-d',\n",
       " 'https://pagina12.com.ar/495213-maximo-kirchner-en-el-congreso-del-pj',\n",
       " 'https://pagina12.com.ar/495179-larreta-critico-a-bullrich-sin-mencionarla']"
      ]
     },
     "execution_count": 5,
     "metadata": {},
     "output_type": "execute_result"
    }
   ],
   "source": [
    "lista_noticias = obtener_noticias(soup)\n",
    "lista_noticias"
   ]
  },
  {
   "cell_type": "code",
   "execution_count": 16,
   "metadata": {},
   "outputs": [
    {
     "name": "stdout",
     "output_type": "stream",
     "text": [
      "Titulo:  Acabar con la interna\n",
      "Fecha:  6 de noviembre de 2022 - 14:33\n",
      "Copete:  \n",
      "Volanta:  \n",
      " La reaparición de Cristina en un acto público, tras el atentado, le lleva muchos cuerpos de ventaja al resto de las noticias “políticas”. Pero es mejor analizar cierta secuencia.\n",
      "No debe haber antecedentes, en ninguna parte, de que haya dado resultados positivos alguna medida o paquete económico -estructural o de coyuntura- anunciados con anticipación. \n",
      "Muy por el contrario, y sobre todo si se trata de atacar un proceso inflacionario además desbocado, como el que sufren los argentinos, las consecuencias de adelantar disposiciones son exactamente inversas al efecto buscado.\n",
      "El antecedente inmediato entre nosotros, que se conserva fresco para cualquiera con memoria atenta, es el discurso presidencial del 15 de marzo pasado.\n",
      "Diputados terminaba de aprobar al acuerdo con el FMI. Y la guerra en Ucrania trazaba derivaciones graves para la economía mundial.\n",
      "Alberto Fernández intervino con una pieza retórica que no merecía reproches, hasta la instancia… fatal.\n",
      "Sobre la refinanciación de la deuda con el Fondo Monetario explicó que nunca más se tomaría un empréstito a espaldas del pueblo. Y en torno del conflicto bélico, detalló con sencillez que estaba volando el precio de los alimentos.\n",
      "Nos ha tocado un tiempo muy difícil, dijo, porque “cada vez que creemos que la situación se ordena todo vuelve a complicarse de nuevo. Cuando creíamos que (el fin de) la pandemia nos dejaba un terreno libre para avanzar, aparece la guerra en Europa”.\n",
      "El Presidente avisó entonces que el viernes siguiente arrancaba “la guerra contra la inflación”, que acabaría “con los especuladores” y que pondría “las cosas en orden”.  \n",
      "No ocurrió absolutamente nada de todo eso y los precios continuaron su escalada indetenible con reajustes y remarcaciones, que reforzaron el carácter inercial de la inflación argentina.\n",
      "El Presidente sólo había “precisado” que pensaba reunirse con sectores productivos y de la economía popular. Lo primero, si aconteció, no tuvo constatación. Y de haber sucedido, quedó expuesto que, como suele apuntar Carlos Heller, es inviable intentar pactos de caballeros con quienes no lo son.  \n",
      "En cuanto a encuentros con actores de la economía popular, que vaya si serían significativos para siquiera pretender armados en producción de cercanía y eliminación de intermediarios oligopolizados, te la debo. \n",
      "Sergio Massa y su equipo insisten ahora en mecanismos de diálogo, con los dueños de la torta. \n",
      "Diseñan un programa a comenzar en diciembre/enero, hasta marzo, para acolchonar precios que orbiten la inflación en alrededor de un 4 por ciento mensual. Y después se vería cómo consolidar esa senda. \n",
      "Es la movida imprescindible si el oficialismo quiere llegar competitivo a las elecciones.\n",
      "Enemigo del congelamiento que -puede o debe concederse- a la corta o a la larga jamás dio resultas concretas, el esquema supondría un reemplazo de Precios Cuidados por Precios Justos. \n",
      "El nombre es lo de menos. La cuestión es no repetir la gaffe de anunciar lo que luego demuestra ser impracticable, por impericia o falta de firmeza ejecutiva.  \n",
      "Esta misma gestión trató de establecer que en los envases quedara impreso el monto. Se lo voltearon.\n",
      "No hubo manera de acordar y, por tanto, Massa propone o busca imponer una suerte de “si te gusta bien, y si no también”. Amenaza con todo el peso de la ley -y del análisis de las estructuras de costos- contra los pulpos que intervienen la canasta familiar. \n",
      "Se destaca el precio de la ropa, como ejemplo de lo que no remite a ningún argumento que no sea el aumentarlo, cuanto fuese, porque así se les ocurre a los especuladores del sector textil (el de hilados, prioritariamente).  \n",
      "Economía contragolpea con este otro anuncio: escrachar y apretar por vía de multas multimillonarias si es que no hay convenio para contener, o apenas moderar, la estratósfera de productos básicos. \n",
      "Hasta un ortodoxo como Gabriel Rubinstein, el viceministro, aduce que la voracidad de los grupos más concentrados de la economía es intolerable. \n",
      "La sensación profundizada es que, en torno de luchar contra la inflación, rige un gobierno de comentaristas, que encima acentúa el yerro de anticipar lo que nunca se cumple.\n",
      "Para variar, hay errores de comunicación que deberían ser insólitos. \n",
      "Es el caso del aumento en los servicios de medicina prepaga que involucran a las franjas de clase media, determinantes del humor social.  \n",
      "Tras el anuncio de un casi 14 por ciento de incremento para diciembre, el noveno de la temporada que despertó un tuit indignado de CFK, desdoblaron esa cifra en mitad para el último mes del año y mitad en enero (desde febrero regiría otro dispositivo, que tampoco nadie tiene claro). \n",
      "Obviamente, el objetivo de la medida es que, para los números inflacionarios de 2023, cuente una cifra de enero disminuida, que esté en línea con la inflación amortiguada. \n",
      "Pero, claro, informar que dividen el 13,8 por ciento de diciembre entre 6,9 para ese mes, y otro tanto para enero, suena a chiste. \n",
      "¿Tan difícil era esperar a que el anuncio forme parte de un acuerdo o resolución global, en vez de someterse al escarnio de parecer una tomadura de pelo?  \n",
      "La razón es, nuevamente, una ausencia asombrosa de coordinación entre las tribus que, política y administrativamente, conforman el Frente de Todos.\n",
      "Por “suerte” para el Gobierno, los escándalos de egos que se desatan en la franja cambiemita ocupan un espacio indisimulable hasta para sus órganos de prensa. \n",
      "Los periodistas militantes de Macri desesperan por las escenas de pugilato a cielo abierto que protagonizan sus herederos, peleados porque ya no les alcanzaría con los versos de frenar a Cristina: tienen el drama de que el kirchnerismo no sería un problema, porque carece de probabilidades electorales ganadoras.  \n",
      "Están plagados de candidatos sin ningún liderazgo asentado. No pueden descansar en el mero oposicionismo. Necesitan mostrar un modelo “superador” que no tienen, porque Macri o Bullrich son inconducentes hasta para el establishment y Larreta, públicamente, no termina de decidirse.\n",
      "Esto último merece ser remarcado: datos e indicios conducen a que el intendente porteño ya cerró fórmula presidencial con Gerardo Morales como acompañante, con Martín Lousteau de sucesor. ¿Decisión inmodificable o ad referéndum de la resolución de la interna (de la interna) con los radicales?  \n",
      "A no confundirse, que es fácil. \n",
      "Derecha y ultraderecha son una agenda firme, muchísimo antes que un partido o coalición. Una agenda que, finalmente, está a salvo de sus disputas de nombres.  \n",
      "Brasil acaba de ratificar, pese a la vivificante victoria de Lula en términos de democracia contra neofascismo (o contra retroceso consolidado a cavernas autoritarias y retrógradas), que las bases sociales y electorales del pensamiento reaccionario son potentísimas. \n",
      "Para oponerse a eso con efectividad hace falta que “democracia” no sea una palabra vaciada de contenido, en la percepción y voluntad de las clases populares.  \n",
      "Si los músculos democráticos, del progresismo, de la izquierda en su acepción más genérica, exhiben impotencia en lugar de capacidad de combate contra, para el caso, formadores de precios y estructuras inconmovibles, nada irá bien.\n",
      "Este Gobierno, que con todos sus defectos sigue siendo un obstáculo relativo, pero obstáculo al fin frente al enseñoreo de los grupos del Poder, necesita mostrar algún gesto de justamente eso. De poder. De poder algo.  \n",
      "Haber controlado parcialmente “la macro”, que hace tres meses semejaba con pudrir todo, es un logro ubicado lejísimos de alcanzar.\n",
      "Con el cansancio de repetirlo, ¿a alguien se le cae alguna idea que, de piso, no radique en seguir disparándose a los pies?\n",
      "El discurso de Cristina en el acto de la UOM clarificó precisamente eso. Lo necesario, bien que no suficiente, es la unidad.  \n",
      "Deslizó críticas innominadas a dirigentes sindicales y de movimientos sociales que retacearon apoyo, y continúan haciéndolo, atados a sus cajas. \n",
      "Pero esos señalamientos de Cristina quedaron muy al margen de haber remarcado que no se arrepiente de la fórmula escogida en 2019, porque las grandes decisiones tienen que ser juzgadas en su contexto histórico.  \n",
      "Y por si fuera poco, para sorpresa de muchos, Cristina respaldó la gestión de Massa. Explícitamente. Quien no lo haya registrado debiera revisar sus parámetros analíticos o emocionales.  \n",
      "Si fue o no un discurso de campaña, en el sentido de la incógnita por su candidatura presidencial, es un elemento atractivo para las especulaciones y así seguirá. \n",
      "¿Dijo que será ella quien se postule? No. ¿Acaso es descartable que “hacer lo que tenga que hacer” deba ser interpretado como el pragmatismo requerido, llegada la hora, para que no vuelva lo más grave? No.  \n",
      "Lo central fue y es que sus dichos marcan el camino de acabar con una interna desgastante e inútil.\n",
      "Habrá que ver si se cumple. \n",
      "Pero lo dicho, dicho está.  \n",
      "\n",
      "autor:  Por Eduardo Aliverti\n"
     ]
    }
   ],
   "source": [
    "link_nota= lista_noticias[0]\n",
    "try:\n",
    "    nota=requests.get(link_nota)\n",
    "    #verificamos la respuesta del servidor sea 200\n",
    "    if nota.status_code==200:\n",
    "        #parseamos nuestra pagina web para analizar\n",
    "        soup_nota=BeautifulSoup(nota.text, 'lxml')\n",
    "        #extraemos el titulo de la nota\n",
    "        titulo = soup_nota.find('h1').text\n",
    "        print('Titulo: ',titulo)\n",
    "        #extraemos la fecha de la nota\n",
    "        fecha = soup_nota.find('time').get_text()\n",
    "        print('Fecha: ',fecha)\n",
    "        #extraemos el copete\n",
    "        copete= soup_nota.find('h4').get_text()\n",
    "        print('Copete: ',copete)\n",
    "        #extraemos la volanta\n",
    "        volanta= soup_nota.find('h3').get_text()\n",
    "        print('Volanta: ',volanta)\n",
    "        #extraemos el cuerpo de la nota\n",
    "        cuerpo= soup_nota.find('div', attrs={'class':'article-main-content article-text'}).find_all('p')\n",
    "        for c in cuerpo:\n",
    "                print (c.get_text())\n",
    "        #extraemos el autor de la nota\n",
    "        autor= soup_nota.find('div', attrs={'class':'author-name'}).get_text()\n",
    "        print ('autor: ', autor)\n",
    "        \n",
    "        # for a in autor.find('a'):\n",
    "        #     print('Autor: ',a.get_text())\n",
    "\n",
    "except Exception as e:\n",
    "    print ('Error')\n",
    "    print (e)\n",
    "    print ('\\n')"
   ]
  }
 ],
 "metadata": {
  "kernelspec": {
   "display_name": "Python 3.10.4 ('entv': venv)",
   "language": "python",
   "name": "python3"
  },
  "language_info": {
   "codemirror_mode": {
    "name": "ipython",
    "version": 3
   },
   "file_extension": ".py",
   "mimetype": "text/x-python",
   "name": "python",
   "nbconvert_exporter": "python",
   "pygments_lexer": "ipython3",
   "version": "3.10.4"
  },
  "orig_nbformat": 4,
  "vscode": {
   "interpreter": {
    "hash": "8491acde47aa26015fdf488fd68628541edd72931848a0305ddc7dd62f03120a"
   }
  }
 },
 "nbformat": 4,
 "nbformat_minor": 2
}
