{
 "cells": [
  {
   "attachments": {},
   "cell_type": "markdown",
   "metadata": {},
   "source": [
    "### Extrayendo información\n",
    "\n",
    "Función que recibe un objeto de BeautifulSoup de una página de una sección y devuelve una lista de URLs a las notas de esa sección"
   ]
  },
  {
   "cell_type": "code",
   "execution_count": null,
   "metadata": {},
   "outputs": [],
   "source": [
    "import requests\n",
    "from bs4 import BeautifulSoup"
   ]
  },
  {
   "cell_type": "code",
   "execution_count": null,
   "metadata": {},
   "outputs": [],
   "source": [
    "link_principal='https://www.pagina12.com.ar/'\n",
    "web= requests.get(link_principal)\n",
    "web"
   ]
  },
  {
   "cell_type": "code",
   "execution_count": null,
   "metadata": {},
   "outputs": [],
   "source": [
    "soup_link_principal= BeautifulSoup(web.text, 'lxml')\n",
    "type(soup_link_principal)"
   ]
  },
  {
   "cell_type": "code",
   "execution_count": null,
   "metadata": {},
   "outputs": [],
   "source": [
    "seccion_secciones= soup_link_principal.find_all('div', attrs={'class':'p12-dropdown-column'})[0]\n",
    "type(seccion_secciones)\n",
    "seccion_secciones"
   ]
  },
  {
   "cell_type": "code",
   "execution_count": null,
   "metadata": {},
   "outputs": [],
   "source": [
    "#seleccionamos todas las etiquetas \"a\" que contienen los links de las secciones\n",
    "link_seccion_secciones = seccion_secciones.find_all('a')\n",
    "link_seccion_secciones"
   ]
  },
  {
   "cell_type": "code",
   "execution_count": null,
   "metadata": {},
   "outputs": [],
   "source": [
    "# recorremos nuestro objeto de secciones y creamos una lista con todos los links \"href\" de las secciones\n",
    "HREF_link_seccion_secciones= [i.get('href') for i in link_seccion_secciones]\n",
    "HREF_link_seccion_secciones"
   ]
  },
  {
   "cell_type": "code",
   "execution_count": null,
   "metadata": {},
   "outputs": [],
   "source": [
    "# seleccionamos el primer link de nuestra seccion y hacemos una solicitud a la web\n",
    "web_seccion_el_pais = requests.get(HREF_link_seccion_secciones[0])\n",
    "# parseamos la web siempre y cuando obtengamos antes un status_code=200 de la web\n",
    "soup_web_seccion_el_pais = BeautifulSoup(web_seccion_el_pais.text, 'lxml')"
   ]
  },
  {
   "cell_type": "code",
   "execution_count": null,
   "metadata": {},
   "outputs": [],
   "source": [
    "# podemos visualizar de manera jerarquica los elementos de la web que acamos de parsear\n",
    "print (soup_web_seccion_el_pais.prettify())"
   ]
  },
  {
   "attachments": {},
   "cell_type": "markdown",
   "metadata": {},
   "source": [
    "Ahora tenemos una web, con diferentes tipos de articulos.\n",
    "- Articulos top o promocionados\n",
    "- Articulos destacados\n",
    "- Lista restante de articulos\n",
    "\n",
    "Nos interesa poder obtener el link de cada articulo/nota"
   ]
  },
  {
   "cell_type": "code",
   "execution_count": null,
   "metadata": {},
   "outputs": [],
   "source": [
    "# creamos el objeto con el articulo top\n",
    "top_noticias_seccion_el_pais=soup_web_seccion_el_pais.find('div', attrs={'class':'article-item__content'})\n",
    "top_noticias_seccion_el_pais"
   ]
  },
  {
   "cell_type": "code",
   "execution_count": null,
   "metadata": {},
   "outputs": [],
   "source": [
    "#obtenemos el link del articulo top\n",
    "link_top_noticias_seccion_el_pais = link_principal + top_noticias_seccion_el_pais.a.get('href')\n",
    "link_top_noticias_seccion_el_pais\n",
    "#x = [i.get('href') for i in top_noticias_seccion_el_pais]\n"
   ]
  },
  {
   "cell_type": "code",
   "execution_count": null,
   "metadata": {},
   "outputs": [],
   "source": [
    "resto_noticias_seccion_el_pais= soup_web_seccion_el_pais.find('section', attrs={'class':'list-content'})\n",
    "resto_noticias_seccion_el_pais"
   ]
  },
  {
   "cell_type": "code",
   "execution_count": null,
   "metadata": {},
   "outputs": [],
   "source": [
    "lista_link_noticias=[]\n",
    "for i in resto_noticias_seccion_el_pais.find_all('div', attrs={'class':'article-item__header'}):\n",
    "        if i.a:\n",
    "            lista_link_noticias.append(f'{link_principal}{i.a.get(\"href\")}')\n",
    "\n",
    "print (lista_link_noticias)"
   ]
  }
 ],
 "metadata": {
  "kernelspec": {
   "display_name": "entv",
   "language": "python",
   "name": "python3"
  },
  "language_info": {
   "codemirror_mode": {
    "name": "ipython",
    "version": 3
   },
   "file_extension": ".py",
   "mimetype": "text/x-python",
   "name": "python",
   "nbconvert_exporter": "python",
   "pygments_lexer": "ipython3",
   "version": "3.10.4 (tags/v3.10.4:9d38120, Mar 23 2022, 23:13:41) [MSC v.1929 64 bit (AMD64)]"
  },
  "orig_nbformat": 4,
  "vscode": {
   "interpreter": {
    "hash": "3c9f14f62ae38687a43d3c4d4204d3209bda7dbcb4b892870ffb1d2057cbf93a"
   }
  }
 },
 "nbformat": 4,
 "nbformat_minor": 2
}
