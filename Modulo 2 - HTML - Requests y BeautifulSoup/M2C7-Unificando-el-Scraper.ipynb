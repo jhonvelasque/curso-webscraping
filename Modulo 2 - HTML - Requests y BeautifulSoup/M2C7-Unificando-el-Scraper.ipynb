{
 "cells": [
  {
   "cell_type": "markdown",
   "metadata": {},
   "source": [
    "Unificando el scraper"
   ]
  },
  {
   "cell_type": "code",
   "execution_count": 1,
   "metadata": {},
   "outputs": [],
   "source": [
    "import requests\n",
    "from bs4 import BeautifulSoup\n",
    "from IPython.display import Image\n",
    "import pandas as pd"
   ]
  },
  {
   "cell_type": "code",
   "execution_count": 2,
   "metadata": {},
   "outputs": [],
   "source": [
    "link_principal='https://www.pagina12.com.ar'\n",
    "### editando cabecera para evitar el error 429\n",
    "### cambiar el user-agent para evitar ser detectado como un BOT \n",
    "headers = {\"User-Agent\": \"Mozilla/5.0 (Windows NT 10.0; Win64; x64) AppleWebKit/537.36 (KHTML, like Gecko) Chrome/70.0.3538.110 Safari/537.36\"}\n",
    "###\n",
    "r_web_principal=requests.get(link_principal, headers=headers)\n",
    "s_web_principal = BeautifulSoup(r_web_principal.text, 'lxml')"
   ]
  },
  {
   "cell_type": "code",
   "execution_count": 3,
   "metadata": {},
   "outputs": [],
   "source": [
    "#seleccionamos el primer elemento de la lista de secciones\n",
    "secciones_web_principal = s_web_principal.find_all('div', attrs={'class':'p12-dropdown-column'})[0]\n",
    "link_secciones_web_principal = secciones_web_principal.find_all('a')\n",
    "#recorremos la lista de tag a\n",
    "URL_secciones=[]\n",
    "for i in link_secciones_web_principal:\n",
    "    if len(link_secciones_web_principal):\n",
    "        URL_secciones.append(i.get('href'))"
   ]
  },
  {
   "cell_type": "code",
   "execution_count": 4,
   "metadata": {},
   "outputs": [],
   "source": [
    "r_URL_secciones= requests.get(URL_secciones[0])\n",
    "s_seccion= BeautifulSoup(r_URL_secciones.text, 'lxml')\n",
    "def obtener_noticias(soup):\n",
    "    lista_notas=[]\n",
    "    #obtener noticias promocionadas\n",
    "    noticias_promocionadas=soup.find('div', attrs={'class':'article-item__content'})\n",
    "    if noticias_promocionadas:\n",
    "        lista_notas.append(f'{link_principal}{noticias_promocionadas.a.get(\"href\")}')\n",
    "\n",
    "    #resto de noticias\n",
    "    resto_noticias=soup.find('section', attrs={'class':'list-content'})\n",
    "    for i in resto_noticias.find_all('div', attrs={'class':'article-item__header'}):\n",
    "        if i.a:\n",
    "            lista_notas.append(f'{link_principal}{i.a.get(\"href\")}')\n",
    "\n",
    "    return lista_notas"
   ]
  },
  {
   "cell_type": "code",
   "execution_count": 5,
   "metadata": {},
   "outputs": [],
   "source": [
    "lista_notas=(obtener_noticias(s_seccion))"
   ]
  },
  {
   "cell_type": "code",
   "execution_count": 6,
   "metadata": {},
   "outputs": [],
   "source": [
    "# obtemos informacion de cada nota\n",
    "# seleccionamos la primera nota de nuestra lista de notas\n",
    "URL_nota=lista_notas[0]\n",
    "r_URL_nota= requests.get(URL_nota)\n",
    "s_nota=BeautifulSoup(r_URL_nota.text, 'lxml')\n",
    "\n",
    "def obtener_info(s_nota):\n",
    "    #creamos un diccionario vacio para guardar informacion de la notas\n",
    "    info_dic={}\n",
    "\n",
    "    #extraemos el titulo de la nota\n",
    "    titulo = s_nota.find('h1').text\n",
    "    if titulo:\n",
    "        info_dic['titulo']=titulo\n",
    "    else:\n",
    "        info_dic['titulo']=None\n",
    "\n",
    "    #extraemos la fecha de la nota\n",
    "    fecha = s_nota.find('time').get_text()\n",
    "    if fecha:\n",
    "        info_dic['fecha']=fecha\n",
    "    else:\n",
    "        info_dic['fecha']=None\n",
    "\n",
    "    #extraemos el copete\n",
    "    copete= s_nota.find('h4').get_text()\n",
    "    if copete:\n",
    "        info_dic['copete']=copete\n",
    "    else:\n",
    "        info_dic['copete']=None\n",
    "\n",
    "    #extraemos la volanta\n",
    "    volanta= s_nota.find('h3').get_text()\n",
    "    if volanta:\n",
    "        info_dic['volanta']=volanta\n",
    "    else:\n",
    "        info_dic['volanta']=None\n",
    "\n",
    "    #extraemos el cuerpo de la nota\n",
    "    cuerpo= s_nota.find('div', attrs={'class':'article-main-content article-text'}).find_all('p')\n",
    "    cu=[]\n",
    "    for i in cuerpo:\n",
    "        cu.append(i.get_text())\n",
    "    \n",
    "    #utilizamos el metodo join, para convertir una lista str a una cadena de texto\n",
    "    if cu:\n",
    "        info_dic['cuerpo']=\"\".join(map(str, cu))\n",
    "    else:\n",
    "        info_dic['cuerpo']=None\n",
    "    \n",
    "    #extraemos el autor de la nota\n",
    "    autor= s_nota.find('div', attrs={'class':'author-name'})\n",
    "    if autor:\n",
    "        info_dic['autor']=autor.get_text()\n",
    "    else:\n",
    "        info_dic['autor']=None\n",
    "    \n",
    "    #extraemos la imagen\n",
    "    #parseamos el tag div que contiene la imagen de la nota\n",
    "    media = s_nota.find('div', attrs={'class':'article-main-media-image__container'})\n",
    "    if len(media):\n",
    "        imagen_src=media.img.get('src')\n",
    "        try:\n",
    "            r_img=requests.get(imagen_src)\n",
    "            if r_img.status_code== 200:\n",
    "                info_dic['imagen']=r_img.content\n",
    "            else:\n",
    "                info_dic['imagen']=None\n",
    "        except:\n",
    "            print('No se pudo obtener la imagen')\n",
    "    else:\n",
    "        print ('No se encontraron imagenes')\n",
    "\n",
    "    return  info_dic\n",
    "#obtiene todos los valores de un diccionario\n",
    "#print (dic.values())\n",
    "#obtener un valor de un diccionario, utilizamos la libreria de imagen de python para mostrar la img\n",
    "#Image(dic.get('imagen'))"
   ]
  },
  {
   "cell_type": "code",
   "execution_count": 7,
   "metadata": {},
   "outputs": [],
   "source": [
    "# creamos nuestra funcion para recorrer cada noticia de las secciones\n",
    "# de esta manera poder obtener la informacion de cada noticia\n",
    "# y devolvemos un diccionario de todos los datos de la noticia\n",
    "def scrape_nota(url):\n",
    "    try:\n",
    "        headers = {\"User-Agent\": \"Mozilla/5.0 (Windows NT 10.0; Win64; x64) AppleWebKit/537.36 (KHTML, like Gecko) Chrome/70.0.3538.110 Safari/537.36\"} \n",
    "        r_nota=requests.get(url, headers=headers)\n",
    "    except Exception as e:\n",
    "        print ('Error scrapeando URL ->', url)\n",
    "        print (e)\n",
    "        return None\n",
    "    \n",
    "    if r_nota.status_code!= 200:\n",
    "        print(f'Error obteniendo nota {url}')\n",
    "        print(f'Status Code = {r_nota.status_code}')\n",
    "        return None\n",
    "    \n",
    "    s_nota=BeautifulSoup(r_nota.text, 'lxml')\n",
    "\n",
    "    dic_scrape=obtener_info(s_nota)\n",
    "    dic_scrape['url']=url\n",
    "\n",
    "    return dic_scrape"
   ]
  },
  {
   "cell_type": "code",
   "execution_count": 8,
   "metadata": {},
   "outputs": [
    {
     "data": {
      "text/plain": [
       "['https://www.pagina12.com.ar/secciones/el-pais',\n",
       " 'https://www.pagina12.com.ar/secciones/economia',\n",
       " 'https://www.pagina12.com.ar/secciones/sociedad',\n",
       " 'https://www.pagina12.com.ar/suplementos/cultura-y-espectaculos',\n",
       " 'https://www.pagina12.com.ar/secciones/deportes',\n",
       " 'https://www.pagina12.com.ar/secciones/ciencia',\n",
       " 'https://www.pagina12.com.ar/secciones/el-mundo',\n",
       " 'https://www.pagina12.com.ar/edicion-impresa',\n",
       " 'https://www.pagina12.com.ar/secciones/universidad-diario',\n",
       " 'https://www.pagina12.com.ar/secciones/ajedrez',\n",
       " 'https://www.pagina12.com.ar/secciones/cultura',\n",
       " 'https://www.pagina12.com.ar/secciones/dialogos',\n",
       " 'https://www.pagina12.com.ar/secciones/plastica',\n",
       " 'https://www.pagina12.com.ar/secciones/psicologia',\n",
       " 'https://www.pagina12.com.ar/secciones/cartas-de-lectores',\n",
       " 'https://www.pagina12.com.ar/secciones/contratapa',\n",
       " 'https://www.pagina12.com.ar/secciones/audiovisuales',\n",
       " 'https://www.pagina12.com.ar/secciones/recordatorios',\n",
       " 'https://www.pagina12.com.ar/secciones/negrx',\n",
       " 'https://www.pagina12.com.ar/secciones/buenos-aires12',\n",
       " 'https://www.pagina12.com.ar/secciones/salta12',\n",
       " 'https://www.pagina12.com.ar/secciones/catamarca12',\n",
       " 'https://www.pagina12.com.ar/secciones/la-rioja12',\n",
       " 'https://www.pagina12.com.ar/secciones/podcasts',\n",
       " 'https://www.pagina12.com.ar/secciones/soci@s',\n",
       " 'https://www.pagina12.com.ar/secciones/la-ventana']"
      ]
     },
     "execution_count": 8,
     "metadata": {},
     "output_type": "execute_result"
    }
   ],
   "source": [
    "URL_secciones"
   ]
  },
  {
   "cell_type": "code",
   "execution_count": 9,
   "metadata": {},
   "outputs": [
    {
     "name": "stdout",
     "output_type": "stream",
     "text": [
      "No se pudo obtener la seccion -> https://www.pagina12.com.ar/suplementos/cultura-y-espectaculos\n",
      "No se pudo obtener la seccion -> https://www.pagina12.com.ar/edicion-impresa\n"
     ]
    }
   ],
   "source": [
    "#obtenemos todos los link de la primera pagina de cada seccion \n",
    "notas_secciones=[]\n",
    "for link in URL_secciones:\n",
    "    try:\n",
    "        r_2_URL_secciones=requests.get(link)\n",
    "        if r_2_URL_secciones.status_code== 200:\n",
    "            #parseamos cada seccion \n",
    "            s_2_web_principal=BeautifulSoup(r_2_URL_secciones.text, 'lxml')\n",
    "            # enviamos el link de la seccion a nuestra funcion obtener notas \n",
    "            # y guaramos lo que retorna la funcion (diccionario) a nuestra lista de notas de secciones\n",
    "            notas_secciones.extend(obtener_noticias(s_2_web_principal))\n",
    "        else:\n",
    "            print ('No se pudo obtener la seccion ->', link)\n",
    "    except:\n",
    "        print ('No se pudo obtener la seccion ->', link)"
   ]
  },
  {
   "cell_type": "code",
   "execution_count": 10,
   "metadata": {},
   "outputs": [
    {
     "name": "stdout",
     "output_type": "stream",
     "text": [
      "['https://www.pagina12.com.ar/510386-abuelas-de-plaza-de-mayo-encontro-al-nieto-131', 'https://www.pagina12.com.ar/510378-alberto-fernandez-se-reunio-con-gobernadores-que-rechazan-el', 'https://www.pagina12.com.ar/510370-acampe-en-reclamo-por-una-navidad-sin-hambre', 'https://www.pagina12.com.ar/510362-el-gobierno-de-la-ciudad-no-adhiere-a-los-asuetos-administra', 'https://www.pagina12.com.ar/510322-como-y-cuando-aplica-la-baja-de-impuestos-que-anuncio-rodrig', 'https://www.pagina12.com.ar/510315-los-chats-del-lawfare-avanza-en-la-uba-el-juicio-academico-a', 'https://www.pagina12.com.ar/510294-milagro-sala-sufrio-una-nueva-trombosis-y-exigen-que-sea-tra', 'https://www.pagina12.com.ar/510286-carrio-da-por-retirado-a-macri-ya-fue', 'https://www.pagina12.com.ar/510337-ricardo-quintela-fallar-a-favor-de-larreta-significa-menos-r', 'https://www.pagina12.com.ar/510163-unidad-piquetera-inicia-un-acampe-frente-al-ministerio-de-de', 'https://www.pagina12.com.ar/510166-en-el-pro-se-pelean-hasta-por-el-regreso-de-la-seleccion-arg', 'https://www.pagina12.com.ar/510360-paritaria-record-aceiteros-llego-a-un-acuerdo-y-el-basico-su', 'https://www.pagina12.com.ar/510267-dolar-blue-hoy-dolar-hoy-a-cuanto-cotizan-el-jueves-22-de-di', 'https://www.pagina12.com.ar/510061-autorizan-aumento-del-bioetanol', 'https://www.pagina12.com.ar/510089-la-industria-retrocedio-en-noviembre', 'https://www.pagina12.com.ar/510104-el-armado-politico-de-los-unicornios-mundialistas', 'https://www.pagina12.com.ar/510112-bahillo-contra-la-mesa-de-enlace', 'https://www.pagina12.com.ar/510130-la-tasa-de-desocupacion-marco-7-1-por-ciento', 'https://www.pagina12.com.ar/510133-crecimiento-tras-la-trepada-entro-en-la-meseta', 'https://www.pagina12.com.ar/510143-el-consumo-interno-al-ritmo-de-la-scaloneta', 'https://www.pagina12.com.ar/510151-el-banco-central-vuelve-a-tomar-dolares', 'https://www.pagina12.com.ar/510411-vizzotti-afirmo-que-siempre-se-supo-que-casos-de-covid-aumen', 'https://www.pagina12.com.ar/510377-anses-confirmo-un-nuevo-plan-procrear-en-dos-zonas-de-caba-p', 'https://www.pagina12.com.ar/510354-espana-se-aprueba-en-diputados-ley-que-reconoce-la-autodeter', 'https://www.pagina12.com.ar/510344-tres-recetas-rapidas-y-faciles-para-preparar-vitel-tone-prot', 'https://www.pagina12.com.ar/510329-twitter-alemania-pide-a-la-ue-restricciones-ante-decisiones-', 'https://www.pagina12.com.ar/510335-fernando-espinoza-recorrio-comedores-de-la-matanza', 'https://www.pagina12.com.ar/510194-efemerides-de-hoy-que-paso-un-22-de-diciembre', 'https://www.pagina12.com.ar/510181-las-fiestas-y-el-juego-hay-que-sufrir', 'https://www.pagina12.com.ar/509964-en-provincia-de-buenos-aires-la-ley-de-alcohol-cero-entrara-', 'https://www.pagina12.com.ar/509999-johana-ramallo-procesan-a-ocho-personas-en-la-causa-por-la-d', 'https://www.pagina12.com.ar/510000-dan-a-conocer-el-veredicto-a-una-policia-por-la-denominada-m', 'https://www.pagina12.com.ar/510396-un-ministro-frances-quiere-que-la-fifa-investigue-los-insult', 'https://www.pagina12.com.ar/510389-paris-saint-germain-messi-renovaria-su-contrato-por-un-ano-m', 'https://www.pagina12.com.ar/510367-ya-ganamos-la-tercera-opciones-para-volver-a-ver-todos-los-p', 'https://www.pagina12.com.ar/510348-lionel-messi-oro-en-los-olimpia', 'https://www.pagina12.com.ar/510343-lionel-scaloni-esperemos-que-este-no-haya-sido-el-ultimo-mun', 'https://www.pagina12.com.ar/510328-este-jueves-subastan-la-camiseta-de-messi-firmada-por-todos-', 'https://www.pagina12.com.ar/510279-argentina-campeon-del-mundial-homenajes-a-los-jugadores-cami', 'https://www.pagina12.com.ar/510310-argentina-pese-a-ser-campeon-mundial-quedo-segundo-en-el-ran', 'https://www.pagina12.com.ar/510292-camiseta-argentina-de-3-estrellas-lo-que-necesitas-saber-par', 'https://www.pagina12.com.ar/510274-un-pueblo-de-la-pampa-cambio-los-nombres-de-sus-dos-calles-p', 'https://www.pagina12.com.ar/510135-racing-vuelve-maxi-moralez-y-es-el-segundo-refuerzo', 'https://www.pagina12.com.ar/509448-la-tierra-podria-colisionar-contra-el-sol', 'https://www.pagina12.com.ar/508451-estudiantes-de-la-universidad-nacional-de-quilmes-crean-el-p', 'https://www.pagina12.com.ar/500490-big-bang-argentina-intentara-revelar-en-salta-que-sucedio-ha', 'https://www.pagina12.com.ar/500464-hongos-en-los-pies-prevencion-y-tratamiento', 'https://www.pagina12.com.ar/497905-qatar-2022-el-mundial-de-futbol-mas-tecnologico-de-la-histor', 'https://www.pagina12.com.ar/496541-amor-sexo-y-tubos-de-ensayo-los-matrimonios-mas-famosos-de-l', 'https://www.pagina12.com.ar/494963-no-hay-dos-iguales-que-esconden-las-huellas-dactilares', 'https://www.pagina12.com.ar/493167-la-minoria-pelirroja-por-que-su-mutacion-genetica-los-convie', 'https://www.pagina12.com.ar/490891-entre-el-humor-y-la-curiosidad-la-ciencia-detras-de-los-reco', 'https://www.pagina12.com.ar/488766-elon-musk-presento-optimus-un-nuevo-robot-humanoide-que-podr', 'https://www.pagina12.com.ar/485032-jupiter-alcanzara-su-punto-mas-cercano-a-la-tierra-en-casi-6', 'https://www.pagina12.com.ar/510174-zelenski-se-reunio-con-biden-en-washington-y-consiguio-mas-a', 'https://www.pagina12.com.ar/510170-chile-y-la-ue-acordaron-favorecer-el-acceso-al-litio-para-eu', 'https://www.pagina12.com.ar/510114-trabajadores-de-ambulancias-se-declararon-en-huelga-en-reino', 'https://www.pagina12.com.ar/510204-peru-dina-boluarte-premio-a-su-ministro-de-defensa', 'https://www.pagina12.com.ar/509851-brasil-suspedieron-la-portacion-de-armas-a-carla-zambelli', 'https://www.pagina12.com.ar/509859-condenaron-a-dos-anos-de-carcel-en-suspenso-a-la-secretaria-', 'https://www.pagina12.com.ar/509878-peru-el-congreso-aprobo-adelantar-las-elecciones-a-abril-del', 'https://www.pagina12.com.ar/509844-algunos-crematorios-se-saturan-en-china-ante-el-aumento-del-', 'https://www.pagina12.com.ar/509845-destituyeron-al-jefe-de-la-policia-de-carreteras-de-brasil', 'https://www.pagina12.com.ar/509457-la-guerrilla-del-eln-anuncio-una-tregua-en-colombia-para-nav', 'https://www.pagina12.com.ar/509474-una-ong-contabilizo-11-286-muertos-cruzando-el-mar-en-5-anos', 'https://www.pagina12.com.ar/487866-en-el-corazon-de-la-pandemia-simposio-internacional-de-medic', 'https://www.pagina12.com.ar/485653-cincuentenario-en-el-colegio-nacional-de-buenos-aires', 'https://www.pagina12.com.ar/485354-los-rankings-universitarios-y-sus-problemas', 'https://www.pagina12.com.ar/442031-ricardo-gelpi-asumio-como-rector-de-la-uba', 'https://www.pagina12.com.ar/433737-se-sanciono-ley-que-crea-la-universidad-provincial-de-formos', 'https://www.pagina12.com.ar/432062-la-uba-tiene-nuevo-rector-ricardo-gelpi-el-decano-de-medicin', 'https://www.pagina12.com.ar/430790-universidad-nacional-de-cuyo-la-eleccion-de-autoridades-qued', 'https://www.pagina12.com.ar/426579-universidad-de-cordoba-el-radicalismo-y-sus-aliados-se-impus', 'https://www.pagina12.com.ar/425167-elecciones-en-la-universidad-de-cordoba', 'https://www.pagina12.com.ar/419907-jornada-de-orientacion-y-visibilizacion-de-vih-y-salud-sexua', 'https://www.pagina12.com.ar/414968-pinas-patadas-y-clases-suspendidas-en-la-facultad-de-filosof', 'https://www.pagina12.com.ar/275696-ajedrez-un-campeon-que-se-dejo-ganar-para-hacer-justicia', 'https://www.pagina12.com.ar/35264-jugadas-que-vienen-por-cartas', 'https://www.pagina12.com.ar/22806-el-ajedrez-a-traves-del-tiempo', 'https://www.pagina12.com.ar/22807-hay-que-reforzar-el-concepto-de-club', 'https://www.pagina12.com.ar/6402-la-final-mas-dificil-que-jugue', 'https://www.pagina12.com.ar/6211-la-sorpresa-fue-el-camino-y-no-el-final', 'https://www.pagina12.com.ar/713-los-genios-locos-del-ajedrez', 'https://www.pagina12.com.ar/509488-la-insoportable-levedad-del-lobby', 'https://www.pagina12.com.ar/508513-se-presenta-la-pelicula-documental-un-dia-en-movimiento', 'https://www.pagina12.com.ar/507376-se-presenta-un-dia-en-movimiento-el-documental-sobre-ypf', 'https://www.pagina12.com.ar/506138-la-final-y-el-chancho-de-metal', 'https://www.pagina12.com.ar/505248-annie-ernaux-subrayo-el-caracter-machista-del-premio-nobel', 'https://www.pagina12.com.ar/503869-el-gol-que-dejo-mudo-a-copernico', 'https://www.pagina12.com.ar/503620-bizarrap-fue-el-artista-argentino-mas-escuchado-del-mundo-en', 'https://www.pagina12.com.ar/501711-murio-irene-cara-la-voz-de-fama-y-flashdance', 'https://www.pagina12.com.ar/501708-casablanca-80-anos-de-un-clasico', 'https://www.pagina12.com.ar/501472-murio-hans-magnus-enzensberger-uno-de-los-mayores-intelectua', 'https://www.pagina12.com.ar/500672-zarate-el-intendente-caffaro-presento-la-cumbre-de-cumbres-e', 'https://www.pagina12.com.ar/506910-hay-que-contar-el-detras-de-la-escena-en-el-palacio-de-justi', 'https://www.pagina12.com.ar/504604-pedro-solans-napalpi-representa-el-horror-la-muerte-y-la-des', 'https://www.pagina12.com.ar/502208-marcela-huaita-al-mundo-no-lo-cambiamos-solo-las-mujeres', 'https://www.pagina12.com.ar/499624-pacho-odonnell-falta-ahora-trabajar-en-la-discriminacion-con', 'https://www.pagina12.com.ar/497460-el-fisico-forense-willy-pregliasco-y-la-pericia-clave-en-la-', 'https://www.pagina12.com.ar/493596-lo-que-china-dice-a-traves-de-su-arquitectura-y-urbanismo', 'https://www.pagina12.com.ar/491919-boaventura-de-sousa-santos-hay-que-recordar-los-grandes-camb', 'https://www.pagina12.com.ar/472920-vandana-shiva-la-salud-del-suelo-la-de-las-plantas-y-la-nues', 'https://www.pagina12.com.ar/488423-gabriela-wiener-descolonizarse-es-un-proceso-que-no-cesa', 'https://www.pagina12.com.ar/486665-yanina-welp-sin-capacidad-de-integracion-se-pierde-la-disput', 'https://www.pagina12.com.ar/484924-gisele-sapiro-sobre-la-cultura-de-la-cancelacion', 'https://www.pagina12.com.ar/509428-algunos-caminos-hacia-una-progresion-geometrica', 'https://www.pagina12.com.ar/507143-tensiones-entre-lo-decorativo-y-lo-perturbardor', 'https://www.pagina12.com.ar/504829-la-fotografia-analizada-desde-su-aspecto-fisico', 'https://www.pagina12.com.ar/502426-un-templo-laico-para-una-epifania-cromatica', 'https://www.pagina12.com.ar/499828-para-llevar-la-atencion-a-lo-que-no-la-tiene', 'https://www.pagina12.com.ar/497599-un-pasaje-4-viajes-y-varias-transformaciones', 'https://www.pagina12.com.ar/495593-fotos-de-una-buenos-aires-monumental-y-oscura', 'https://www.pagina12.com.ar/494977-premio-dedicado-a-las-artes-performaticas', 'https://www.pagina12.com.ar/493849-visita-guiada-a-un-inframundo-distopico', 'https://www.pagina12.com.ar/488590-arte-hecho-de-dialogos-afectos-y-complicidades', 'https://www.pagina12.com.ar/488589-alrededor-de-la-trama-del-arte-constructivo', 'https://www.pagina12.com.ar/510046-muchachos', 'https://www.pagina12.com.ar/510047-pasion-de-multitudes', 'https://www.pagina12.com.ar/507962-los-pioneros-del-psicoanalisis-en-la-argentina', 'https://www.pagina12.com.ar/507963-el-mundial-y-lo-nacional', 'https://www.pagina12.com.ar/505724-la-politica-y-la-mentira', 'https://www.pagina12.com.ar/505725-el-feminismo-un-viaje-de-iniciacion', 'https://www.pagina12.com.ar/503128-musica-y-lenguaje', 'https://www.pagina12.com.ar/503130-nuevas-logicas-de-la-vida-amorosa-heterosexual', 'https://www.pagina12.com.ar/500690-hebe-el-panuelo-y-la-palabra', 'https://www.pagina12.com.ar/500696-hebe-la-politizacion-del-deseo-materno', 'https://www.pagina12.com.ar/109397-hombre-de-papel-durmiendo', 'https://www.pagina12.com.ar/510189-luca-y-su-despedida-en-plaza-de-mayo', 'https://www.pagina12.com.ar/509836-recuerdos-con-musica-de-tango', 'https://www.pagina12.com.ar/509480-homo-excelsior', 'https://www.pagina12.com.ar/509269-scaloneta', 'https://www.pagina12.com.ar/508812-la-educacion-perfecta', 'https://www.pagina12.com.ar/508579-machismo-y-literatura-argentina', 'https://www.pagina12.com.ar/508300-porcofobia-y-placeres-de-la-carne-en-qatar', 'https://www.pagina12.com.ar/507969-la-nuit-de-saint-barthelemy', 'https://www.pagina12.com.ar/507717-la-justicia-contra-el-pueblo', 'https://www.pagina12.com.ar/507189-homo-avatar', 'https://www.pagina12.com.ar/506911-julio-maier-tenia-razon', 'https://www.pagina12.com.ar/506329-qatar-mata-fifa-com', 'https://www.pagina12.com.ar/503622-alicia-entel-politica-y-creencia-el-giro-fascista', 'https://www.pagina12.com.ar/494359-11-o-edicion-carton-festival-internacional-de-cortos-de-anim', 'https://www.pagina12.com.ar/493387-elecciones-brasil-2022-el-debate-entre-lula-da-silva-y-jair-', 'https://www.pagina12.com.ar/487705-tuny-kollmann-justicia-y-politica', 'https://www.pagina12.com.ar/485627-segundo-encuentro-del-ciclo-argentina-crisis-y-oportunidades', 'https://www.pagina12.com.ar/482559-emilce-moler-y-la-larga-noche-de-los-lapices', 'https://www.pagina12.com.ar/477678-primer-encuentro-del-ciclo-argentina-crisis-y-oportunidades', 'https://www.pagina12.com.ar/475935-evita-y-el-partido-peronista-femenino', 'https://www.pagina12.com.ar/392368-musica-esencial-ale-gallo-y-daniel-de-vita', 'https://www.pagina12.com.ar/392366-musica-esencial-jan-de-witte-y-matias-fraga', 'https://www.pagina12.com.ar/392364-musica-esencial-jeronimo-guiraud-y-olivia-houssay', 'https://www.pagina12.com.ar/510126-ruben-benjamin-araujo-luca-escobar-vera-delia-aida-garcia-gu', 'https://www.pagina12.com.ar/509717-gerardo-alvarez-luis-antonio-barassi-alberto-modica', 'https://www.pagina12.com.ar/509524-tomas-horacio-francisco-carricaburu-juan-carlos-perez-viera', 'https://www.pagina12.com.ar/509025-eduardo-quique-carreno', 'https://www.pagina12.com.ar/508870-monica-hortensia-epstein-jorge-arreche-norma-finocchiaro-car', 'https://www.pagina12.com.ar/508636-jose-l-bianconi-y-adriana-ortega', 'https://www.pagina12.com.ar/508282-juan-barry-y-susana-mata', 'https://www.pagina12.com.ar/507191-jorge-luis-moltrasio-cesar-nieto-javier-alberto-lopez-carbal', 'https://www.pagina12.com.ar/506583-desaparecidos-vesubio-y-puente-12', 'https://www.pagina12.com.ar/506465-jose-antonio-carrazan-adriana-leonor-tasca-y-gaspar-onofre-c', 'https://www.pagina12.com.ar/505992-ricardo-cesar-poce', 'https://www.pagina12.com.ar/508724-racismo-mundial', 'https://www.pagina12.com.ar/508378-la-capilla-del-regocijo-y-orgullo-de-los-negros', 'https://www.pagina12.com.ar/504120-dia-nacional-del-candombe-la-cultura-afrouruguaya-y-la-equid', 'https://www.pagina12.com.ar/503113-francia-marquez-queremos-una-cumbre-global-sobre-reparacione', 'https://www.pagina12.com.ar/502051-juan-jose-urquiza-mazamorrero', 'https://www.pagina12.com.ar/501252-el-feminismo-es-para-todo-el-mundo', 'https://www.pagina12.com.ar/500749-solo-las-puntas', 'https://www.pagina12.com.ar/500331-lumumba-raices-y-cultura-25-anos-despues', 'https://www.pagina12.com.ar/499559-dia-de-la-conciencia-negra-en-brasil', 'https://www.pagina12.com.ar/499103-negrx', 'https://www.pagina12.com.ar/499099-la-bolsa-por-favor', 'https://www.pagina12.com.ar/510403-vuelven-los-aviones-a-villa-gesell', 'https://www.pagina12.com.ar/510398-santilli-pide-discutir-una-nueva-ley-de-coparticipacion-fede', 'https://www.pagina12.com.ar/510331-el-fallo-de-la-corte-suprema-es-una-verdadera-inmundicia', 'https://www.pagina12.com.ar/510276-kicillof-confirma-su-presencia-en-la-reunion-de-los-gobernad', 'https://www.pagina12.com.ar/510273-el-pj-bonaerense-cruzo-a-la-corte-tras-el-fallo-a-favor-de-l', 'https://www.pagina12.com.ar/510203-kicillof-acusa-a-la-corte-de-quebrar-el-federalismo', 'https://www.pagina12.com.ar/510122-despues-de-la-corte-vienen-los-penales', 'https://www.pagina12.com.ar/510056-el-fallo-de-la-corte-perjudica-a-la-enorme-mayoria-del-pais', 'https://www.pagina12.com.ar/510008-como-fue-el-debut-del-alcohol-cero-en-las-rutas-bonaerenses', 'https://www.pagina12.com.ar/509981-el-dibu-martinez-sera-homenajeado-en-mar-del-plata', 'https://www.pagina12.com.ar/509952-julio-garro-lanza-su-candidatura-y-va-por-la-re-re', 'https://www.pagina12.com.ar/510254-allanan-el-convento-san-bernardo-y-rescatan-una-monja-privad', 'https://www.pagina12.com.ar/510253-otro-pedido-para-que-aguas-del-norte-garantice-la-provision-', 'https://www.pagina12.com.ar/510252-tribunal-ratifico-que-los-hechos-de-violencia-de-genero-son-', 'https://www.pagina12.com.ar/510251-exigen-la-renuncia-del-delegado-de-vialidad-nacional-en-salt', 'https://www.pagina12.com.ar/510250-preventiva-a-3-personas-por-contrabando-de-granos-asociacion', 'https://www.pagina12.com.ar/509915-el-departamento-san-martin-lleva-13-dias-sin-agua-apta-para-', 'https://www.pagina12.com.ar/509914-la-carrera-de-medicina-en-la-unsa-tiene-su-primer-grupo-de-e', 'https://www.pagina12.com.ar/509913-otra-dilacion-en-la-sentencia-por-violencia-sexual-contra-un', 'https://www.pagina12.com.ar/509912-paro-de-medicos-autoconvocados-en-salta', 'https://www.pagina12.com.ar/509911-incautan-maiz-soja-y-hojas-de-coca-en-tres-procedimientos', 'https://www.pagina12.com.ar/509590-es-la-primera-vez-que-podemos-ver-a-argentina-ganar-el-mundi', 'https://www.pagina12.com.ar/510245-un-golpe-al-federalismo', 'https://www.pagina12.com.ar/510244-ypf-se-sumo-a-la-mesa-del-litio', 'https://www.pagina12.com.ar/509900-hasta-cuando-vamos-a-seguir-sometidos-a-las-decisiones-de-lo', 'https://www.pagina12.com.ar/509585-raul-jalil-en-politica-el-dialogo-es-la-base', 'https://www.pagina12.com.ar/509584-catamarca-y-la-rioja-no-adhierieron-al-feriado-nacional', 'https://www.pagina12.com.ar/509313-el-cura-rasgido-sera-juzgado-el-ano-que-viene', 'https://www.pagina12.com.ar/509314-rana-marsupial-de-la-banderita', 'https://www.pagina12.com.ar/508614-concejal-fue-a-solo-ocho-sesiones-en-el-ano', 'https://www.pagina12.com.ar/508677-apartaron-al-fiscal-de-la-causa', 'https://www.pagina12.com.ar/508401-impericias-en-la-investigacion-por-el-homicidio-del-ministro', 'https://www.pagina12.com.ar/508398-buscan-regular-la-publicidad-enganosa-en-el-mercado-digital', 'https://www.pagina12.com.ar/510246-quintela-fallar-a-favor-de-larreta-significa-menos-recursos-', 'https://www.pagina12.com.ar/510247-el-centro-comercial-e-industrial-propone-pagar-el-bono-en-3-', 'https://www.pagina12.com.ar/509903-el-sector-de-la-construccion-incorporo-201-mujeres-en-lo-que', 'https://www.pagina12.com.ar/509561-caso-arcoiris-el-tribunal-superior-de-justicia-rechazo-un-ha', 'https://www.pagina12.com.ar/509552-el-municipio-ratifico-que-el-estacionamiento-medido-sigue-vi', 'https://www.pagina12.com.ar/509315-la-rioja-se-suma-a-un-estudio-para-conocer-el-impacto-de-la-', 'https://www.pagina12.com.ar/508617-el-sector-comercial-de-la-rioja-rechaza-el-pago-del-bono-par', 'https://www.pagina12.com.ar/508406-el-oficialismo-aprobo-la-necesidad-de-la-reforma-constitucio', 'https://www.pagina12.com.ar/508073-quintela-envio-a-la-legislatura-el-proyecto-de-reforma-const', 'https://www.pagina12.com.ar/507728-la-rioja-vendio-el-parque-eolico-ii-en-us-171-millones', 'https://www.pagina12.com.ar/507333-el-ministro-de-salud-juan-carlos-vergara-recomendo-completar', 'https://www.pagina12.com.ar/240289-el-brindis-con-los-socios-de-pagina-12', 'https://www.pagina12.com.ar/240286-lo-mejor-de-argentina-piensa-parte-1', 'https://www.pagina12.com.ar/240283-un-nomade-llamado-gianluca', 'https://www.pagina12.com.ar/233616-la-vie-en-buenos-aires', 'https://www.pagina12.com.ar/233612-que-acuerdos-politicos-son-necesarios-para-la-argentina-que-', 'https://www.pagina12.com.ar/233609-alberto-fernandez-entrevista-completa', 'https://www.pagina12.com.ar/231220-miss-bolivia-y-el-feminismo-que-viene', 'https://www.pagina12.com.ar/231214-12-mujeres-armenias-en-buenos-aires-relatan-su-historia-a-tr', 'https://www.pagina12.com.ar/494103-alicia-entel-politica-y-creencia-el-giro-fascista', 'https://www.pagina12.com.ar/486905-charla-del-mes-maternidad-y-cannabis', 'https://www.pagina12.com.ar/484003-soci-s-presenta-tuny-kollmann-justicia-y-politica', 'https://www.pagina12.com.ar/481588-los-lapices-siguen-escribiendo-emilce-moler-conversa-con-sil', 'https://www.pagina12.com.ar/478270-mempo-giardinelli-la-literatura-le-da-sentido-a-la-vida', 'https://www.pagina12.com.ar/477342-mempo-giardinelli-esto-nunca-existio', 'https://www.pagina12.com.ar/475944-evita-y-el-partido-peronista-femenino-una-organizacion-polit', 'https://www.pagina12.com.ar/475365-trelew-y-yo-50-anos-despues', 'https://www.pagina12.com.ar/448110-mempo-giardinelli-conversa-con-karina-micheletto', 'https://www.pagina12.com.ar/446412-beneficios-exclusivos-para-soci-s-de-pagina-12', 'https://www.pagina12.com.ar/437984-alud-en-villa-huinid-accidente-natural-o-falla-humana-preven', 'https://www.pagina12.com.ar/507320-comunicacion-mas-alla-de-la-comunicacion', 'https://www.pagina12.com.ar/505029-del-dualogo-que-confronta-al-dialogo-que-teje-encuentros', 'https://www.pagina12.com.ar/502377-diego-y-hebe', 'https://www.pagina12.com.ar/502367-un-camino-siempre-en-construccion-y-en-debate', 'https://www.pagina12.com.ar/499945-contra-el-derecho-a-la-comunicacion', 'https://www.pagina12.com.ar/499944-estamos-hartos-de-la-dictadura', 'https://www.pagina12.com.ar/497723-panelismo-y-gran-hermano-nadie-lo-ve-todxs-lo-critican', 'https://www.pagina12.com.ar/495729-por-una-pedagogia-contra-la-desinformacion', 'https://www.pagina12.com.ar/495727-alegria-y-desafios', 'https://www.pagina12.com.ar/493906-huellas-de-la-memoria', 'https://www.pagina12.com.ar/493905-por-otros-50-anos-mas']\n"
     ]
    }
   ],
   "source": [
    "print(notas_secciones)"
   ]
  },
  {
   "cell_type": "code",
   "execution_count": 11,
   "metadata": {},
   "outputs": [
    {
     "name": "stdout",
     "output_type": "stream",
     "text": [
      "Scrapeando nota 0 / 81\n",
      "Scrapeando nota 1 / 95\n",
      "Scrapeando nota 2 / 79\n",
      "Scrapeando nota 3 / 95\n",
      "Scrapeando nota 4 / 95\n",
      "Scrapeando nota 5 / 95\n",
      "Scrapeando nota 6 / 95\n",
      "Scrapeando nota 7 / 72\n",
      "Scrapeando nota 8 / 95\n",
      "Scrapeando nota 9 / 95\n",
      "Scrapeando nota 10 / 95\n",
      "Scrapeando nota 11 / 95\n",
      "Scrapeando nota 12 / 95\n",
      "Scrapeando nota 13 / 66\n",
      "Scrapeando nota 14 / 71\n",
      "Scrapeando nota 15 / 84\n",
      "Scrapeando nota 16 / 67\n",
      "Scrapeando nota 17 / 79\n",
      "Scrapeando nota 18 / 81\n",
      "Scrapeando nota 19 / 78\n",
      "Scrapeando nota 20 / 74\n",
      "Scrapeando nota 21 / 95\n",
      "Scrapeando nota 22 / 95\n",
      "Scrapeando nota 23 / 95\n",
      "Scrapeando nota 24 / 95\n",
      "Scrapeando nota 25 / 95\n",
      "Scrapeando nota 26 / 85\n",
      "Scrapeando nota 27 / 80\n",
      "Scrapeando nota 28 / 72\n",
      "Scrapeando nota 29 / 95\n",
      "Scrapeando nota 30 / 95\n",
      "Scrapeando nota 31 / 95\n",
      "Scrapeando nota 32 / 95\n",
      "Scrapeando nota 33 / 95\n",
      "Scrapeando nota 34 / 95\n",
      "Scrapeando nota 35 / 66\n",
      "Scrapeando nota 36 / 95\n",
      "Scrapeando nota 37 / 95\n",
      "Scrapeando nota 38 / 95\n",
      "Scrapeando nota 39 / 95\n",
      "Scrapeando nota 40 / 95\n",
      "Scrapeando nota 41 / 95\n",
      "Scrapeando nota 42 / 86\n",
      "Scrapeando nota 43 / 76\n",
      "Scrapeando nota 44 / 95\n",
      "Scrapeando nota 45 / 95\n",
      "Scrapeando nota 46 / 78\n",
      "Scrapeando nota 47 / 95\n",
      "Scrapeando nota 48 / 95\n",
      "Scrapeando nota 49 / 89\n"
     ]
    }
   ],
   "source": [
    "# creamos nuestro data set de noticias de cada seccion\n",
    "data_set=[]\n",
    "# recorremos cada noticia de cada seccion\n",
    "# en cada noticia utilizamos el metodo scrape_nota que a su vez llama a obtener_info\n",
    "# con el resultado de obtener_info, vamos guardando en un diccionario -> data_set\n",
    "for posicion_nota,link_nota in enumerate(notas_secciones):\n",
    "    if posicion_nota<50:\n",
    "        print (f'Scrapeando nota {posicion_nota} / {len(link_nota)}')\n",
    "        data_set.append(scrape_nota(link_nota))"
   ]
  },
  {
   "cell_type": "code",
   "execution_count": 13,
   "metadata": {},
   "outputs": [],
   "source": [
    "# creamos nuestro data frame utilizando pandas data frame\n",
    "data_frame= pd.DataFrame(data_set)\n",
    "#podemos visualizar con las cabeceras\n",
    "data_frame.head()\n",
    "# pasamos nuestro conjunto de datos a un archivo csv\n",
    "data_frame.to_csv('Notas pagina12 DIC-22.csv')\n",
    "# pasamos nuestro conjunto de datos a un archivo excel\n",
    "data_frame.to_excel(\"Notas Paginas12 DIC-22.xlsx\", sheet_name=\"data frame\", index=True)"
   ]
  }
 ],
 "metadata": {
  "kernelspec": {
   "display_name": "entv",
   "language": "python",
   "name": "python3"
  },
  "language_info": {
   "codemirror_mode": {
    "name": "ipython",
    "version": 3
   },
   "file_extension": ".py",
   "mimetype": "text/x-python",
   "name": "python",
   "nbconvert_exporter": "python",
   "pygments_lexer": "ipython3",
   "version": "3.10.4"
  },
  "orig_nbformat": 4,
  "vscode": {
   "interpreter": {
    "hash": "3c9f14f62ae38687a43d3c4d4204d3209bda7dbcb4b892870ffb1d2057cbf93a"
   }
  }
 },
 "nbformat": 4,
 "nbformat_minor": 2
}
