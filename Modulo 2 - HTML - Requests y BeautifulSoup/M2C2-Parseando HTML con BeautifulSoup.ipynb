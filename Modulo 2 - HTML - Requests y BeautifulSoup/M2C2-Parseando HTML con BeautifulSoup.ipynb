{
 "cells": [
  {
   "cell_type": "markdown",
   "metadata": {},
   "source": [
    "### Parseando HTML con BeautifulSoup"
   ]
  },
  {
   "cell_type": "markdown",
   "metadata": {},
   "source": [
    " Primer ejercicio: obtener un listado de links a las distintas secciones del diario.\n",
    " DOM: estructura jerárquica, html\n",
    " Usar el inspector de elementos para ver dónde se encuentra la información. Ojo cuando la página es responsive"
   ]
  },
  {
   "cell_type": "code",
   "execution_count": null,
   "metadata": {},
   "outputs": [],
   "source": [
    "#importamos librerias\n",
    "import requests\n",
    "from bs4 import BeautifulSoup"
   ]
  },
  {
   "cell_type": "code",
   "execution_count": null,
   "metadata": {},
   "outputs": [],
   "source": [
    "# obtenemos la pagina web con el metodo requests.get\n",
    "link='https://www.pagina12.com.ar/'\n",
    "pagina= requests.get(link)"
   ]
  },
  {
   "cell_type": "code",
   "execution_count": null,
   "metadata": {},
   "outputs": [],
   "source": [
    "# parseamos la pagina web\n",
    "soup = BeautifulSoup(pagina.text, 'lxml')"
   ]
  },
  {
   "cell_type": "code",
   "execution_count": null,
   "metadata": {},
   "outputs": [],
   "source": [
    "# buscamos el primer elemento (find) div que corresponda a la clase -> p12-dropdown-column\n",
    "# una vez que encontramos, buscamos dentro del div todos los elementos (find_all) -> a\n",
    "secciones = soup.find('div',attrs={'class':'p12-dropdown-column'}).find_all('a')\n",
    "print(secciones)"
   ]
  }
 ],
 "metadata": {
  "kernelspec": {
   "display_name": "entv",
   "language": "python",
   "name": "python3"
  },
  "language_info": {
   "codemirror_mode": {
    "name": "ipython",
    "version": 3
   },
   "file_extension": ".py",
   "mimetype": "text/x-python",
   "name": "python",
   "nbconvert_exporter": "python",
   "pygments_lexer": "ipython3",
   "version": "3.10.4 (tags/v3.10.4:9d38120, Mar 23 2022, 23:13:41) [MSC v.1929 64 bit (AMD64)]"
  },
  "orig_nbformat": 4,
  "vscode": {
   "interpreter": {
    "hash": "3c9f14f62ae38687a43d3c4d4204d3209bda7dbcb4b892870ffb1d2057cbf93a"
   }
  }
 },
 "nbformat": 4,
 "nbformat_minor": 2
}
