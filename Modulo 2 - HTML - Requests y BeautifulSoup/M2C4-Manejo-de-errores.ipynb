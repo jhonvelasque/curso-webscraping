{
 "cells": [
  {
   "cell_type": "code",
   "execution_count": 1,
   "metadata": {},
   "outputs": [],
   "source": [
    "import requests\n",
    "from bs4 import BeautifulSoup"
   ]
  },
  {
   "cell_type": "code",
   "execution_count": 20,
   "metadata": {},
   "outputs": [],
   "source": [
    "# cargamos un link con error aproposito\n",
    "link_seccion='https://www.pagina13.com.ar/secciones/el-pais'"
   ]
  },
  {
   "cell_type": "code",
   "execution_count": 27,
   "metadata": {},
   "outputs": [],
   "source": [
    "def obtener_noticias(link_seccion):\n",
    "    # creamos una lista para guardar las URLs\n",
    "    lista_noticias=[]\n",
    "    try:\n",
    "        url=requests.get(link_seccion)\n",
    "        # preguntamos si nuestra peticion nos devuelve como resultado 200 entonces parseamos la web\n",
    "        if url.status_code== 200:\n",
    "            soup=BeautifulSoup(url.text, 'lxml')\n",
    "            \n",
    "            #obtener noticias promocionados\n",
    "            noticias_promocionadas=soup.find('div', attrs={'class':'article-item__content'})\n",
    "            if noticias_promocionadas:\n",
    "                lista_noticias.append(link_seccion+noticias_promocionadas.a.get('href'))\n",
    "\n",
    "            #obtener resto de noticias\n",
    "            resto_noticias=soup.find('section', attrs={'class':'list-content'})\n",
    "            for i in resto_noticias.find_all('div', attrs={'class':'article-item__header'}):\n",
    "                if i.a:\n",
    "                    lista_noticias.append(link_seccion+i.a.get('href'))\n",
    "    except Exception as e:\n",
    "            # en caso de que haya un error en la peticion, se activa el bloque EXCEPT\n",
    "            print('Error de respuesta del servidor')\n",
    "            print(e)\n",
    "            print ('\\n')\n",
    "            lista_noticias.append(e)\n",
    "\n",
    "    return lista_noticias"
   ]
  },
  {
   "cell_type": "code",
   "execution_count": 28,
   "metadata": {},
   "outputs": [
    {
     "name": "stdout",
     "output_type": "stream",
     "text": [
      "Error de respuesta del servidor\n",
      "HTTPSConnectionPool(host='www.pagina13.com.ar', port=443): Max retries exceeded with url: /secciones/el-pais (Caused by NewConnectionError('<urllib3.connection.HTTPSConnection object at 0x000001F4EC202C50>: Failed to establish a new connection: [Errno 11001] getaddrinfo failed'))\n",
      "\n",
      "\n"
     ]
    },
    {
     "data": {
      "text/plain": [
       "[requests.exceptions.ConnectionError(urllib3.exceptions.MaxRetryError(\"HTTPSConnectionPool(host='www.pagina13.com.ar', port=443): Max retries exceeded with url: /secciones/el-pais (Caused by NewConnectionError('<urllib3.connection.HTTPSConnection object at 0x000001F4EC202C50>: Failed to establish a new connection: [Errno 11001] getaddrinfo failed'))\"))]"
      ]
     },
     "execution_count": 28,
     "metadata": {},
     "output_type": "execute_result"
    }
   ],
   "source": [
    "lista_noticias = obtener_noticias(link_seccion)\n",
    "lista_noticias"
   ]
  }
 ],
 "metadata": {
  "kernelspec": {
   "display_name": "entv",
   "language": "python",
   "name": "python3"
  },
  "language_info": {
   "codemirror_mode": {
    "name": "ipython",
    "version": 3
   },
   "file_extension": ".py",
   "mimetype": "text/x-python",
   "name": "python",
   "nbconvert_exporter": "python",
   "pygments_lexer": "ipython3",
   "version": "3.10.4"
  },
  "orig_nbformat": 4,
  "vscode": {
   "interpreter": {
    "hash": "3c9f14f62ae38687a43d3c4d4204d3209bda7dbcb4b892870ffb1d2057cbf93a"
   }
  }
 },
 "nbformat": 4,
 "nbformat_minor": 2
}
