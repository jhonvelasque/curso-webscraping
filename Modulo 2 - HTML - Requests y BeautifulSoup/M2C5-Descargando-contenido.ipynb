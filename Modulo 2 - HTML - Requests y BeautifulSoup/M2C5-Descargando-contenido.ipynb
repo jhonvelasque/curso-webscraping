{
 "cells": [
  {
   "cell_type": "markdown",
   "metadata": {},
   "source": [
    "## RETO\n",
    "Obtener el resto de información de una nota:\n",
    "- Titulo\n",
    "- fecha\n",
    "- copete\n",
    "- volanta\n",
    "- cuerpo \n",
    "- autor\n"
   ]
  },
  {
   "cell_type": "code",
   "execution_count": null,
   "metadata": {},
   "outputs": [],
   "source": [
    "import requests\n",
    "from bs4 import BeautifulSoup"
   ]
  },
  {
   "cell_type": "code",
   "execution_count": null,
   "metadata": {},
   "outputs": [],
   "source": [
    "link_seccion='https://www.pagina12.com.ar/secciones/el-pais'\n",
    "url = requests.get(link_seccion)\n",
    "url.status_code\n",
    "soup=BeautifulSoup(url.text, 'lxml')"
   ]
  },
  {
   "cell_type": "code",
   "execution_count": null,
   "metadata": {},
   "outputs": [],
   "source": [
    "def obtener_noticias(soup):\n",
    "    lista_noticias=[]\n",
    "    #obtener noticias promocionados\n",
    "    noticias_promocionadas=soup.find('div', attrs={'class':'article-item__content'})\n",
    "    if noticias_promocionadas:\n",
    "        lista_noticias.append('https://pagina12.com.ar'+noticias_promocionadas.a.get('href'))\n",
    "\n",
    "    #obtener resto de noticias\n",
    "    resto_noticias=soup.find('section', attrs={'class':'list-content'})\n",
    "    for i in resto_noticias.find_all('div', attrs={'class':'article-item__header'}):\n",
    "        if i.a:\n",
    "            lista_noticias.append('https://pagina12.com.ar'+i.a.get('href'))\n",
    "    lista_noticias\n",
    "\n",
    "    return lista_noticias"
   ]
  },
  {
   "cell_type": "code",
   "execution_count": null,
   "metadata": {},
   "outputs": [],
   "source": [
    "lista_noticias = obtener_noticias(soup)\n",
    "lista_noticias"
   ]
  },
  {
   "cell_type": "code",
   "execution_count": null,
   "metadata": {},
   "outputs": [],
   "source": [
    "link_nota= lista_noticias[0]\n",
    "try:\n",
    "    nota=requests.get(link_nota)\n",
    "    #verificamos la respuesta del servidor sea 200\n",
    "    if nota.status_code==200:\n",
    "        #parseamos nuestra pagina web para analizar\n",
    "        soup_nota=BeautifulSoup(nota.text, 'lxml')\n",
    "        #extraemos el titulo de la nota\n",
    "        titulo = soup_nota.find('h1').text\n",
    "        print('Titulo: ',titulo)\n",
    "        #extraemos la fecha de la nota\n",
    "        fecha = soup_nota.find('time').get_text()\n",
    "        print('Fecha: ',fecha)\n",
    "        #extraemos el copete\n",
    "        copete= soup_nota.find('h4').get_text()\n",
    "        print('Copete: ',copete)\n",
    "        #extraemos la volanta\n",
    "        volanta= soup_nota.find('h3').get_text()\n",
    "        print('Volanta: ',volanta)\n",
    "        #extraemos el cuerpo de la nota\n",
    "        cuerpo= soup_nota.find('div', attrs={'class':'article-main-content article-text'}).find_all('p')\n",
    "        for c in cuerpo:\n",
    "                print (c.get_text())\n",
    "        #extraemos el autor de la nota\n",
    "        autor= soup_nota.find('div', attrs={'class':'author-name'}).get_text()\n",
    "        print ('autor: ', autor)\n",
    "        \n",
    "        # for a in autor.find('a'):\n",
    "        #     print('Autor: ',a.get_text())\n",
    "\n",
    "except Exception as e:\n",
    "    print ('Error')\n",
    "    print (e)\n",
    "    print ('\\n')"
   ]
  }
 ],
 "metadata": {
  "kernelspec": {
   "display_name": "entv",
   "language": "python",
   "name": "python3"
  },
  "language_info": {
   "codemirror_mode": {
    "name": "ipython",
    "version": 3
   },
   "file_extension": ".py",
   "mimetype": "text/x-python",
   "name": "python",
   "nbconvert_exporter": "python",
   "pygments_lexer": "ipython3",
   "version": "3.10.4"
  },
  "orig_nbformat": 4,
  "vscode": {
   "interpreter": {
    "hash": "3c9f14f62ae38687a43d3c4d4204d3209bda7dbcb4b892870ffb1d2057cbf93a"
   }
  }
 },
 "nbformat": 4,
 "nbformat_minor": 2
}
